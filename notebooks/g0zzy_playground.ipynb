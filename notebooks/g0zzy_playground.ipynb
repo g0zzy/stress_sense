{
 "cells": [
  {
   "cell_type": "markdown",
   "id": "0aae96a9",
   "metadata": {},
   "source": [
    "## My first playground (Copy this and do not work on a teammate's notebook)\n",
    "\n",
    "Always make sure that you copy and name the **notebook prefixed with your GitHub username**, eg. g0zzy_data_viz.ipynb, g0zzy_feature_eng.ipynb, etc.\n",
    "\n",
    "Create as many as needed per task, trying to keep the notebook coherent: Do not chuck all the tasks into one where you have the data cleaning, model, fastapi, frontend in one :D \n",
    "\n",
    "Always remove unnecessary things from your notebook so that you do not confuse teammates ;) "
   ]
  },
  {
   "cell_type": "code",
   "execution_count": null,
   "id": "80799d44",
   "metadata": {},
   "outputs": [],
   "source": []
  }
 ],
 "metadata": {
  "kernelspec": {
   "display_name": "stress_sense",
   "language": "python",
   "name": "python3"
  },
  "language_info": {
   "codemirror_mode": {
    "name": "ipython",
    "version": 3
   },
   "file_extension": ".py",
   "mimetype": "text/x-python",
   "name": "python",
   "nbconvert_exporter": "python",
   "pygments_lexer": "ipython3",
   "version": "3.10.6"
  }
 },
 "nbformat": 4,
 "nbformat_minor": 5
}
