{
 "cells": [
  {
   "cell_type": "markdown",
   "id": "6ab863e2",
   "metadata": {},
   "source": [
    "# Imports"
   ]
  },
  {
   "cell_type": "markdown",
   "id": "a5534d3d",
   "metadata": {},
   "source": [
    "## libraries"
   ]
  },
  {
   "cell_type": "code",
   "execution_count": 1,
   "id": "3c46da05",
   "metadata": {},
   "outputs": [
    {
     "ename": "ModuleNotFoundError",
     "evalue": "No module named 'nltk'",
     "output_type": "error",
     "traceback": [
      "\u001b[0;31m---------------------------------------------------------------------------\u001b[0m",
      "\u001b[0;31mModuleNotFoundError\u001b[0m                       Traceback (most recent call last)",
      "Cell \u001b[0;32mIn[1], line 1\u001b[0m\n\u001b[0;32m----> 1\u001b[0m \u001b[38;5;28;01mimport\u001b[39;00m\u001b[38;5;250m \u001b[39m\u001b[38;5;21;01mnltk\u001b[39;00m\n",
      "\u001b[0;31mModuleNotFoundError\u001b[0m: No module named 'nltk'"
     ]
    }
   ],
   "source": [
    "import nltk"
   ]
  },
  {
   "cell_type": "code",
   "execution_count": 1,
   "id": "8479e9e1",
   "metadata": {},
   "outputs": [],
   "source": [
    "import pandas as pd\n",
    "import matplotlib.pyplot as plt\n",
    "import seaborn as sns"
   ]
  },
  {
   "cell_type": "markdown",
   "id": "9b567b4c",
   "metadata": {},
   "source": [
    "## data"
   ]
  },
  {
   "cell_type": "code",
   "execution_count": 2,
   "id": "384fa4b0",
   "metadata": {},
   "outputs": [
    {
     "data": {
      "application/vnd.microsoft.datawrangler.viewer.v0+json": {
       "columns": [
        {
         "name": "index",
         "rawType": "int64",
         "type": "integer"
        },
        {
         "name": "statement",
         "rawType": "object",
         "type": "string"
        },
        {
         "name": "status",
         "rawType": "object",
         "type": "string"
        }
       ],
       "ref": "042c29cb-0633-4242-b6ff-b52fcb274f6b",
       "rows": [
        [
         "0",
         "oh my gosh",
         "Anxiety"
        ],
        [
         "1",
         "trouble sleeping, confused mind, restless heart. All out of tune",
         "Anxiety"
        ],
        [
         "2",
         "All wrong, back off dear, forward doubt. Stay in a restless and restless place",
         "Anxiety"
        ],
        [
         "3",
         "I've shifted my focus to something else but I'm still worried",
         "Anxiety"
        ],
        [
         "4",
         "I'm restless and restless, it's been a month now, boy. What do you mean?",
         "Anxiety"
        ]
       ],
       "shape": {
        "columns": 2,
        "rows": 5
       }
      },
      "text/html": [
       "<div>\n",
       "<style scoped>\n",
       "    .dataframe tbody tr th:only-of-type {\n",
       "        vertical-align: middle;\n",
       "    }\n",
       "\n",
       "    .dataframe tbody tr th {\n",
       "        vertical-align: top;\n",
       "    }\n",
       "\n",
       "    .dataframe thead th {\n",
       "        text-align: right;\n",
       "    }\n",
       "</style>\n",
       "<table border=\"1\" class=\"dataframe\">\n",
       "  <thead>\n",
       "    <tr style=\"text-align: right;\">\n",
       "      <th></th>\n",
       "      <th>statement</th>\n",
       "      <th>status</th>\n",
       "    </tr>\n",
       "  </thead>\n",
       "  <tbody>\n",
       "    <tr>\n",
       "      <th>0</th>\n",
       "      <td>oh my gosh</td>\n",
       "      <td>Anxiety</td>\n",
       "    </tr>\n",
       "    <tr>\n",
       "      <th>1</th>\n",
       "      <td>trouble sleeping, confused mind, restless hear...</td>\n",
       "      <td>Anxiety</td>\n",
       "    </tr>\n",
       "    <tr>\n",
       "      <th>2</th>\n",
       "      <td>All wrong, back off dear, forward doubt. Stay ...</td>\n",
       "      <td>Anxiety</td>\n",
       "    </tr>\n",
       "    <tr>\n",
       "      <th>3</th>\n",
       "      <td>I've shifted my focus to something else but I'...</td>\n",
       "      <td>Anxiety</td>\n",
       "    </tr>\n",
       "    <tr>\n",
       "      <th>4</th>\n",
       "      <td>I'm restless and restless, it's been a month n...</td>\n",
       "      <td>Anxiety</td>\n",
       "    </tr>\n",
       "  </tbody>\n",
       "</table>\n",
       "</div>"
      ],
      "text/plain": [
       "                                           statement   status\n",
       "0                                         oh my gosh  Anxiety\n",
       "1  trouble sleeping, confused mind, restless hear...  Anxiety\n",
       "2  All wrong, back off dear, forward doubt. Stay ...  Anxiety\n",
       "3  I've shifted my focus to something else but I'...  Anxiety\n",
       "4  I'm restless and restless, it's been a month n...  Anxiety"
      ]
     },
     "execution_count": 2,
     "metadata": {},
     "output_type": "execute_result"
    }
   ],
   "source": [
    "data_df = pd.read_csv('../data/Combined Data.csv', index_col=0)\n",
    "data_df.head()"
   ]
  },
  {
   "cell_type": "markdown",
   "id": "1f97f53f",
   "metadata": {},
   "source": [
    "# Data cleaning"
   ]
  },
  {
   "cell_type": "markdown",
   "id": "ea98722c",
   "metadata": {},
   "source": [
    "## check for null values"
   ]
  },
  {
   "cell_type": "code",
   "execution_count": 6,
   "id": "7633fc68",
   "metadata": {},
   "outputs": [
    {
     "name": "stdout",
     "output_type": "stream",
     "text": [
      "Missing values per column:\n",
      "statement    362\n",
      "status         0\n",
      "dtype: int64\n"
     ]
    }
   ],
   "source": [
    "print(\"Missing values per column:\")\n",
    "print(data_df.isna().sum())\n",
    "# print(data_df.isnull().sum())"
   ]
  },
  {
   "cell_type": "markdown",
   "id": "3603e85d",
   "metadata": {},
   "source": [
    "## Look at the labels"
   ]
  },
  {
   "cell_type": "code",
   "execution_count": 8,
   "id": "1ba2ea9e",
   "metadata": {},
   "outputs": [
    {
     "name": "stdout",
     "output_type": "stream",
     "text": [
      "\n",
      "Unique labels: ['Anxiety' 'Normal' 'Depression' 'Suicidal' 'Stress' 'Bipolar'\n",
      " 'Personality disorder']\n",
      "\n",
      "Label distribution:\n",
      "status\n",
      "Normal                  0.308259\n",
      "Depression              0.290406\n",
      "Suicidal                0.200837\n",
      "Anxiety                 0.073299\n",
      "Bipolar                 0.054239\n",
      "Stress                  0.050318\n",
      "Personality disorder    0.022642\n",
      "Name: proportion, dtype: float64\n"
     ]
    },
    {
     "data": {
      "image/png": "[encoded data removed]",
      "text/plain": [
       "<Figure size 1000x600 with 1 Axes>"
      ]
     },
     "metadata": {},
     "output_type": "display_data"
    }
   ],
   "source": [
    "print(f\"\\nUnique labels: {data_df['status'].unique()}\")\n",
    "print(f\"\\nLabel distribution:\")\n",
    "print(data_df['status'].value_counts(normalize=True))\n",
    "\n",
    "# Visualization\n",
    "plt.figure(figsize=(10, 6))\n",
    "data_df['status'].value_counts().plot(kind='bar')\n",
    "plt.xlabel('Mental Health Status')\n",
    "plt.ylabel('Number of Samples')\n",
    "plt.xticks(rotation=45)\n",
    "plt.show()"
   ]
  },
  {
   "cell_type": "markdown",
   "id": "7b7c4f4a",
   "metadata": {},
   "source": [
    "## drop null values"
   ]
  },
  {
   "cell_type": "code",
   "execution_count": 20,
   "id": "477ad73e",
   "metadata": {},
   "outputs": [
    {
     "name": "stdout",
     "output_type": "stream",
     "text": [
      "<class 'pandas.core.frame.DataFrame'>\n",
      "RangeIndex: 52681 entries, 0 to 52680\n",
      "Data columns (total 2 columns):\n",
      " #   Column     Non-Null Count  Dtype \n",
      "---  ------     --------------  ----- \n",
      " 0   statement  52681 non-null  object\n",
      " 1   status     52681 non-null  object\n",
      "dtypes: object(2)\n",
      "memory usage: 823.3+ KB\n"
     ]
    }
   ],
   "source": [
    "data_df = data_df.dropna(axis=0).reset_index(drop=True)\n",
    "data_df.info()"
   ]
  },
  {
   "cell_type": "code",
   "execution_count": 26,
   "id": "5d34e454",
   "metadata": {},
   "outputs": [
    {
     "data": {
      "text/plain": [
       "np.int64(1588)"
      ]
     },
     "execution_count": 26,
     "metadata": {},
     "output_type": "execute_result"
    }
   ],
   "source": [
    "data_df.duplicated().sum()"
   ]
  },
  {
   "cell_type": "code",
   "execution_count": 25,
   "id": "3d2c2ccc",
   "metadata": {},
   "outputs": [
    {
     "data": {
      "text/plain": [
       "51073"
      ]
     },
     "execution_count": 25,
     "metadata": {},
     "output_type": "execute_result"
    }
   ],
   "source": [
    "# data_df.duplicated().sum()\n",
    "# len(data_df.duplicated())\n",
    "data_df['statement'].nunique()"
   ]
  },
  {
   "cell_type": "code",
   "execution_count": 24,
   "id": "5cff378e",
   "metadata": {},
   "outputs": [
    {
     "data": {
      "text/plain": [
       "52681"
      ]
     },
     "execution_count": 24,
     "metadata": {},
     "output_type": "execute_result"
    }
   ],
   "source": [
    "# data_df.duplicated(keep=False).sum()\n",
    "len(data_df.duplicated(keep=False))"
   ]
  },
  {
   "cell_type": "code",
   "execution_count": 27,
   "id": "7d01f6cd",
   "metadata": {},
   "outputs": [
    {
     "name": "stdout",
     "output_type": "stream",
     "text": [
      "[(51720, 52666), (48401, 49217), (18, 97, 308, 451, 503), (48443, 49259), (9013, 18186, 19776, 20945, 22684, 23525, 23595, 23733), (27631, 29899), (28928, 29526), (47141, 48116), (51703, 52649), (51626, 52572), (47286, 48261), (48474, 49290), (51622, 52568), (48349, 49165), (47213, 48188), (51586, 52532), (48424, 49240), (4702, 4724), (27506, 28080, 28997), (48520, 49336), (36904, 37322), (47214, 48189), (48291, 49107), (49477, 50286), (51723, 52669), (48486, 49302), (49484, 50293), (51630, 52577), (50465, 51361), (36816, 37037), (5894, 6424), (49434, 50243), (51648, 52594), (48281, 49097), (50566, 51462), (48374, 49190), (51574, 52520), (51687, 52633), (47206, 48181), (50473, 51369), (47089, 48064), (49408, 50217), (2773, 4072, 6571), (50529, 51425), (47128, 48103), (47203, 48178), (49523, 50332), (48540, 49356), (48510, 49326), (51625, 52571), (48292, 49108), (50491, 51387), (48527, 49343), (51583, 52529), (51594, 52540), (50468, 51364), (48380, 49196), (50634, 51530), (49375, 50184), (49566, 50375), (49528, 50337), (51669, 52615), (51722, 52668), (51638, 52585), (51721, 52667), (48524, 49340), (50489, 51385), (51665, 52611), (49584, 50393), (51577, 52523), (51576, 52522), (51604, 52550), (51645, 52592), (48396, 49212), (51675, 52621), (50501, 51397), (51588, 52534), (50573, 51469), (51632, 52579), (49445, 50254), (50544, 51440), (50543, 51439), (50549, 51445), (50461, 51357), (50571, 51467), (50540, 51436), (50483, 51379), (51724, 52670), (51546, 52492), (50545, 51441), (49539, 50348), (50537, 51433), (50590, 51486), (49636, 50445), (50524, 51420), (51716, 52662), (51674, 52620), (47226, 48201), (49558, 50367), (47218, 48193), (49596, 50405), (49583, 50392), (4773, 6029), (3166, 3393), (51561, 52507), (49499, 50308), (50581, 51477), (50542, 51438), (50627, 51523), (51601, 52547), (49463, 50272), (49492, 50301), (50582, 51478), (48451, 49267), (36089, 36298), (48495, 49311), (48308, 49124), (48411, 49227), (47077, 48052), (50462, 51358), (48476, 49292), (48456, 49272), (50547, 51443), (51572, 52518), (49468, 50277), (47155, 48130), (49617, 50426), (49443, 50252), (48500, 49316), (51661, 52607), (49378, 50187), (49541, 50350), (49497, 50306), (49538, 50347), (49624, 50433), (3375, 3782), (51651, 52597), (48362, 49178), (50531, 51427), (49451, 50260), (49598, 50407), (47178, 48153), (48311, 49127), (50554, 51450), (51715, 52661), (51682, 52628), (51566, 52512), (49376, 50185), (47079, 48054), (48533, 49349), (51549, 52495), (48425, 49241), (50606, 51502), (49536, 50345), (47081, 48056), (49433, 50242), (49485, 50294), (49503, 50312), (47288, 48263), (48521, 49337), (48409, 49225), (51596, 52542), (27857, 29241), (47241, 48216), (51541, 52486), (49498, 50307), (50588, 51484), (47257, 48232), (48553, 49369), (47125, 48100), (48387, 49203), (49390, 50200), (49483, 50292), (49380, 50189), (48529, 49345), (49607, 50416), (48280, 49096), (48403, 49219), (49559, 50368), (51570, 52516), (49613, 50422), (48517, 49333), (51641, 52588), (48283, 49099), (50546, 51442), (51714, 52660), (47154, 48129), (49397, 50206), (48547, 49363), (47182, 48157), (50596, 51492), (50635, 51531), (51563, 52509), (47080, 48055), (50636, 51532), (51550, 52496), (50479, 51375), (48558, 49374), (50602, 51498), (51710, 52656), (50558, 51454), (1095, 1309), (51542, 52488), (49527, 50336), (50507, 51403), (48487, 49303), (49579, 50388), (48441, 49257), (48388, 49204), (49452, 50261), (48333, 49149), (48539, 49355), (49454, 50263), (47172, 48147), (47299, 48274), (47234, 48209), (51653, 52599), (50612, 51508), (48459, 49275), (49389, 50199), (50614, 51510), (47127, 48102), (49588, 50397), (49453, 50262), (49491, 50300), (48386, 49202), (49542, 50351), (51654, 52600), (195, 228), (49623, 50432), (50504, 51400), (48555, 49371), (49404, 50213), (49513, 50322), (50638, 51534), (49386, 50196), (49388, 50198), (50557, 51453), (50550, 51446), (50493, 51389), (48544, 49360), (49625, 50434), (51565, 52511), (50613, 51509), (50561, 51457), (51591, 52537), (51627, 52573), (48435, 49251), (51609, 52555), (51540, 52487), (48286, 49102), (51705, 52651), (48347, 49163), (50534, 51430), (49517, 50326), (50495, 51391), (50488, 51384), (47209, 48184), (49529, 50338), (48405, 49221), (51709, 52655), (47092, 48067), (51605, 52551), (48319, 49135), (47157, 48132), (47160, 48135), (47098, 48073), (48413, 49229), (49435, 50244), (50533, 51429), (47275, 48250), (47290, 48265), (49603, 50412), (48339, 49155), (50467, 51363), (48420, 49236), (51668, 52614), (49392, 50190), (47196, 48171), (50486, 51382), (47233, 48208), (49412, 50221), (51671, 52617), (47169, 48144), (47113, 48088), (50477, 51373), (47115, 48090), (48307, 49123), (51621, 52567), (47254, 48229), (50599, 51495), (49440, 50249), (50509, 51405), (49486, 50295), (50610, 51506), (47173, 48148), (49631, 50440), (49592, 50401), (48359, 49175), (51679, 52625), (47228, 48203), (48528, 49344), (50502, 51398), (49549, 50358), (49439, 50248), (47276, 48251), (48482, 49298), (50548, 51444), (49416, 50226), (48507, 49323), (49609, 50418), (48450, 49266), (51564, 52510), (48276, 49092), (51660, 52606), (49475, 50284), (49611, 50420), (50553, 51449), (47121, 48096), (49567, 50376), (47177, 48152), (51692, 52638), (49480, 50289), (5473, 6365), (1052, 36503), (49472, 50281), (47124, 48099), (48341, 49157), (47217, 48192), (51589, 52535), (48392, 49208), (49428, 50237), (48442, 49258), (49490, 50299), (49627, 50436), (51618, 52564), (49610, 50419), (50567, 51463), (47159, 48134), (51603, 52549), (49402, 50211), (47267, 48242), (49646, 50455), (48399, 49215), (51644, 52591), (51634, 52581), (48369, 49185), (47205, 48180), (27802, 29428, 29711, 29744), (28214, 29082), (48361, 49177), (48412, 49228), (48410, 49226), (47137, 48112), (49459, 50268), (47219, 48194), (47279, 48254), (48398, 49214), (47221, 48196), (51606, 52552), (48431, 49247), (51598, 52544), (48492, 49308), (47165, 48140), (47268, 48243), (47083, 48058), (47162, 48137), (50616, 51512), (51558, 52504), (48343, 49159), (49522, 50331), (49561, 50370), (48314, 49130), (51616, 52562), (50496, 51392), (47264, 48239), (50500, 51396), (47145, 48120), (48513, 49329), (49449, 50258), (49476, 50285), (48354, 49170), (47210, 48185), (48467, 49283), (48494, 49310), (48408, 49224), (49407, 50216), (49446, 50255), (47273, 48248), (50470, 51366), (49456, 50265), (50584, 51480), (49403, 50212), (49532, 50341), (49461, 50270), (48288, 49104), (48501, 49317), (51545, 52491), (47236, 48211), (48381, 49197), (47225, 48200), (50494, 51390), (49586, 50395), (48531, 49347), (49448, 50257), (48434, 49250), (50624, 51520), (48541, 49357), (50466, 51362), (50629, 51525), (48457, 49273), (48327, 49143), (47261, 48236), (49616, 50425), (48554, 49370), (49406, 50215), (49554, 50363), (49470, 50279), (48336, 49152), (50637, 51533), (51595, 52541), (48468, 49284), (51713, 52659), (48351, 49167), (51559, 52505), (50478, 51374), (49489, 50298), (47171, 48146), (51581, 52527), (47114, 48089), (49405, 50214), (16835, 17216), (14799, 15161), (51636, 52583), (21875, 22614), (51637, 52584), (50463, 51359), (49601, 50410), (49504, 50313), (47091, 48066), (51639, 52586), (48375, 49191), (47093, 48068), (51587, 52533), (47101, 48076), (48395, 49211), (50620, 51516), (49540, 50349), (50464, 51360), (51708, 52654), (47094, 48069), (50570, 51466), (50526, 51422), (48393, 49209), (47084, 48059), (48331, 49147), (49547, 50356), (47298, 48273), (49419, 50229), (51677, 52623), (50611, 51507), (49531, 50340), (48512, 49328), (50598, 51494), (47223, 48198), (48344, 49160), (47250, 48225), (50503, 51399), (48491, 49307), (50630, 51526), (49442, 50251), (47135, 48110), (50535, 51431), (50631, 51527), (49556, 50365), (47085, 48060), (49520, 50329), (48485, 49301), (47117, 48092), (47112, 48087), (50608, 51504), (47103, 48078), (48306, 49122), (47082, 48057), (50469, 51365), (47207, 48182), (48356, 49172), (48426, 49242), (15684, 16084), (47266, 48241), (49417, 50227), (51544, 52490), (50639, 51535), (49450, 50259), (47185, 48160), (47181, 48156), (47230, 48205), (51623, 52569), (48549, 49365), (49597, 50406), (48480, 49296), (47227, 48202), (48546, 49362), (49467, 50276), (50481, 51377), (47287, 48262), (51620, 52566), (51681, 52627), (51659, 52605), (49621, 50430), (49589, 50398), (36527, 37226), (47095, 48070), (50523, 51419), (47167, 48142), (49543, 50352), (50619, 51515), (51575, 52521), (47242, 48217), (47271, 48246), (49562, 50371), (49580, 50389), (51734, 52680), (50628, 51524), (47076, 48051), (48389, 49205), (49502, 50311), (49413, 50222), (47179, 48154), (50607, 51503), (10291, 10771), (47187, 48162), (48484, 49300), (49382, 50192), (47198, 48173), (51543, 52489), (50564, 51460), (47151, 48126), (50600, 51496), (47195, 48170), (50595, 51491), (51700, 52646), (49394, 50203), (48551, 49367), (47249, 48224), (49585, 50394), (47174, 48149), (47118, 48093), (47110, 48085), (48315, 49131), (51702, 52648), (50563, 51459), (49618, 50427), (50474, 51370), (48483, 49299), (49533, 50342), (47111, 48086), (50517, 51413), (48400, 49216), (50482, 51378), (47158, 48133), (51649, 52595), (47150, 48125), (49501, 50310), (51573, 52519), (50572, 51468), (132, 167, 366), (47259, 48234), (47244, 48219), (49573, 50382), (47123, 48098), (47265, 48240), (47282, 48257), (47129, 48104), (49384, 50193), (48376, 49192), (47148, 48123), (51725, 52671), (48285, 49101), (49526, 50335), (48345, 49161), (49379, 50188), (47078, 48053), (51717, 52663), (47161, 48136), (48318, 49134), (48302, 49118), (28706, 29208), (50556, 51452), (50487, 51383), (47193, 48168), (47184, 48159), (49377, 50186), (47132, 48107), (49615, 50424), (49604, 50413), (49544, 50353), (47163, 48138), (47255, 48230), (47144, 48119), (48506, 49322), (49553, 50362), (48282, 49098), (49512, 50321), (27755, 28556), (30020, 30119), (48407, 49223), (49638, 50447), (50518, 51414), (49430, 50239), (48475, 49291), (47280, 48255), (48337, 49153), (48284, 49100), (50623, 51519), (48462, 49278), (48449, 49265), (48390, 49206), (48301, 49117), (50592, 51488), (51647, 52575), (48422, 49238), (50513, 51409), (49515, 50324), (51683, 52629), (51650, 52596), (51696, 52642), (48556, 49372), (49633, 50442), (48458, 49274), (51691, 52637), (49424, 50233), (49629, 50438), (47131, 48106), (49551, 50360), (48323, 49139), (51732, 52678), (50626, 51522), (50460, 51356), (51690, 52636), (51624, 52570), (48432, 49248), (51662, 52608), (47197, 48172), (1286, 2993, 3598, 6139), (49626, 50435), (48438, 49254), (51613, 52559), (48346, 49162), (47216, 48191), (48522, 49338), (49516, 50325), (48465, 49281), (51610, 52556), (48324, 49140), (50559, 51455), (49644, 50453), (47297, 48272), (51547, 52493), (47140, 48115), (47212, 48187), (47176, 48151), (47188, 48163), (48348, 49164), (49409, 50218), (50593, 51489), (50475, 51371), (51552, 52498), (47130, 48105), (50472, 51368), (47146, 48121), (49521, 50330), (47274, 48249), (50597, 51493), (47258, 48233), (51539, 52485), (49600, 50409), (51560, 52506), (49465, 50274), (51678, 52624), (49576, 50385), (50530, 51426), (47295, 48270), (50586, 51482), (51602, 52548), (48370, 49186), (49546, 50355), (50578, 51474), (49418, 50228), (49396, 50205), (47200, 48175), (6327, 6504), (48557, 49373), (48313, 49129), (51652, 52598), (49557, 50366), (49548, 50357), (47090, 48065), (48340, 49156), (47283, 48258), (50536, 51432), (49482, 50291), (49393, 50202), (48543, 49359), (51680, 52626), (50618, 51514), (48481, 49297), (48391, 49207), (51729, 52675), (49423, 50232), (49479, 50288), (48382, 49198), (49410, 50219), (51695, 52641), (48377, 49193), (49426, 50235), (48428, 49244), (50562, 51458), (49411, 50220), (49455, 50264), (49441, 50250), (48477, 49293), (48298, 49114), (47294, 48269), (49628, 50437), (49493, 50302), (47232, 48207), (50609, 51505), (49587, 50396), (49642, 50451), (49478, 50287), (47194, 48169), (49510, 50319), (51538, 52484), (51646, 52593), (50538, 51434), (968, 1287, 1323, 2572, 5828), (51704, 52650), (3144, 6199), (47239, 48214), (47136, 48111), (51712, 52658), (51699, 52645), (49507, 50316), (47096, 48071), (49612, 50421), (47122, 48097), (50480, 51376), (50508, 51404), (49574, 50383), (47202, 48177), (50515, 51411), (49632, 50441), (51585, 52531), (51670, 52616), (50541, 51437), (47156, 48131), (47102, 48077), (48417, 49233), (47256, 48231), (48305, 49121), (51694, 52640), (48545, 49361), (48295, 49111), (48297, 49113), (51666, 52612), (49508, 50317), (50575, 51471), (48479, 49295), (51726, 52672), (49458, 50267), (48473, 49289), (48385, 49201), (50506, 51402), (51628, 52574), (48503, 49319), (49619, 50428), (49466, 50275), (47260, 48235), (50569, 51465), (48444, 49260), (51730, 52676), (47104, 48079), (48320, 49136), (47211, 48186), (51655, 52601), (47278, 48253), (47191, 48166), (51643, 52590), (50497, 51393), (50512, 51408), (50511, 51407), (50505, 51401), (49511, 50320), (49399, 50208), (49514, 50323), (51555, 52501), (47075, 48050), (50555, 51451), (48402, 49218), (51600, 52546), (48373, 49189), (51592, 52538), (51707, 52653), (49438, 50247), (51727, 52673), (51688, 52634), (51633, 52580), (51584, 52530), (48421, 49237), (51608, 52554), (50565, 51461), (47245, 48220), (47192, 48167), (51597, 52543), (48445, 49261), (48430, 49246), (51562, 52508), (47099, 48074), (50587, 51483), (51672, 52618), (51617, 52563), (49622, 50431), (48460, 49276), (47224, 48199), (48371, 49187), (49525, 50334), (48367, 49183), (48414, 49230), (49563, 50372), (51733, 52679), (49648, 50457), (47147, 48122), (50617, 51513), (51571, 52517), (51676, 52622), (36101, 36614), (36929, 37218), (36803, 36871), (49487, 50296), (49385, 50195), (51684, 52630), (47238, 48213), (49552, 50361), (49447, 50256), (49421, 50230), (48300, 49116), (48299, 49115), (51667, 52613), (47074, 48049), (35465, 35574), (50498, 51394), (50525, 51421), (155, 632, 728), (168, 303), (425, 545, 679), (51663, 52609), (49608, 50417), (49599, 50408), (49637, 50446), (51619, 52565), (51629, 52576), (48293, 49109), (47262, 48237), (47189, 48164), (50539, 51435), (51593, 52539), (47291, 48266), (48384, 49200), (48352, 49168), (47237, 48212), (51689, 52635), (51537, 52483), (49570, 50379), (48429, 49245), (48427, 49243), (48383, 49199), (47134, 48109), (49572, 50381), (48335, 49151), (47222, 48197), (48423, 49239), (48364, 49180), (1850, 5121), (49518, 50327), (47166, 48141), (48446, 49262), (49437, 50246), (49383, 50194), (49560, 50369), (50585, 51481), (50633, 51529), (51556, 52502), (51698, 52644), (47120, 48095), (49469, 50278), (51614, 52560), (47208, 48183), (47270, 48245), (51615, 52561), (49432, 50241), (49400, 50209), (49649, 50458), (49414, 50224), (48478, 49294), (49494, 50303), (47281, 48256), (51685, 52631), (47180, 48155), (48548, 49364), (850, 6577), (51656, 52602), (50490, 51386), (49496, 50305), (48290, 49106), (48440, 49256), (48447, 49263), (48394, 49210), (48534, 49350), (48508, 49324), (48328, 49144), (48296, 49112), (48436, 49252), (48289, 49105), (48355, 49171), (48350, 49166), (48509, 49325), (48360, 49176), (48309, 49125), (48453, 49269), (48497, 49313), (48317, 49133), (48278, 49094), (48379, 49195), (48511, 49327), (48353, 49169), (48505, 49321), (48472, 49288), (48532, 49348), (48454, 49270), (48287, 49103), (51567, 52513), (47201, 48176), (47229, 48204), (48415, 49231), (48363, 49179), (48416, 49232), (48496, 49312), (47190, 48165), (48516, 48519, 48523, 48526, 48530, 49332, 49335, 49339, 49342, 49346), (49639, 50448), (49645, 50454), (48342, 49158), (50568, 51464), (50532, 51428), (48419, 49235), (51579, 52525), (47220, 48195), (3371, 4019), (49524, 50333), (51693, 52639), (51568, 52514), (50615, 51511), (28939, 29435), (49519, 50328), (49509, 50318), (47183, 48158), (50527, 51423), (47168, 48143), (49564, 50373), (48452, 49268), (49634, 50443), (48404, 49220), (50528, 51424), (48366, 49182), (50580, 51476), (47088, 48063), (48471, 49287), (48493, 49309), (50499, 51395), (51657, 52603), (48277, 49093), (51631, 52578), (49530, 50339), (47235, 48210), (49436, 50245), (48498, 49314), (48515, 49331), (49505, 50314), (49537, 50346), (49401, 50210), (48316, 49132), (49495, 50304), (51697, 52643), (49577, 50386), (51611, 52557), (49387, 50197), (49565, 50374), (48437, 49253), (48321, 49137), (48279, 49095), (49391, 50201), (49473, 50282), (49444, 50253), (48332, 49148), (318, 567), (47097, 48072), (51578, 52524), (4119, 4781, 5002), (48538, 49354), (36796, 37507), (51718, 52664), (48490, 49306), (47100, 48075), (47243, 48218), (51590, 52536), (49464, 50273), (48330, 49146), (49595, 50404), (48338, 49154), (48329, 49145), (50589, 51485), (50516, 51412), (49431, 50240), (49620, 50429), (48463, 49279), (48504, 49320), (47284, 48259), (47087, 48062), (50484, 51380), (49422, 50231), (49545, 50354), (48365, 49181), (51548, 52494), (49640, 50449), (51582, 52528), (48552, 49368), (48535, 49351), (49578, 50387), (51706, 52652), (48397, 49213), (47272, 48247), (49641, 50450), (47251, 48226), (49602, 50411), (47119, 48094), (51607, 52553), (50552, 51448), (50485, 51381), (11918, 11919), (47263, 48238), (47293, 48268), (50476, 51372), (49650, 50459), (51658, 52604), (47105, 48080), (47277, 48252), (48514, 49330), (50520, 51416), (50632, 51528), (50574, 51470), (49506, 50315), (49481, 50290), (10308, 10664), (50522, 51418), (48537, 49353), (47175, 48150), (1480, 1953), (49488, 50297), (49571, 50380), (48502, 49318), (51569, 52515), (51612, 52558), (48455, 49271), (49534, 50343), (48499, 49315), (48518, 49334), (47269, 48244), (48464, 49280), (49594, 50403), (47142, 48117), (50594, 51490), (29545, 29791, 30040), (49398, 50207), (49590, 50399), (51686, 52632), (51711, 52657), (48439, 49255), (48312, 48334, 49128, 49150), (48294, 49110), (51719, 52665), (43400, 43422), (47215, 48190), (47186, 48161), (51701, 52647), (31757, 31793), (30417, 30770), (31310, 32016, 32839, 33449), (47138, 48113), (50622, 51518), (47289, 48264), (49591, 50400), (48325, 49141), (41395, 41397, 41399, 41400, 41401, 41403, 41404, 41406), (49605, 50414), (39, 138, 332, 662), (49575, 50384), (48358, 49174), (44951, 45228), (51551, 52497), (2156, 5382), (50601, 51497), (51642, 52589), (47133, 48108), (49500, 50309), (40846, 40851), (40944, 40967), (50640, 51536), (30596, 30648), (49569, 50378), (49582, 50391), (50577, 51473), (50591, 51487), (47248, 48223), (2673, 4979, 5348), (43151, 44849), (30685, 30814), (18894, 19336), (48550, 49366), (47143, 48118), (49420, 50223), (48406, 49222), (49429, 50238), (51580, 52526), (49535, 50344), (1008, 5217), (37990, 38398, 38837), (49635, 50444), (51640, 52587), (48304, 49120), (51599, 52545), (48488, 49304), (38567, 40359), (37780, 37910), (40745, 40815, 40856), (41839, 44479), (30253, 30268, 30806), (32134, 33747), (47139, 48114), (32982, 33229), (31469, 31539, 32412), (31490, 33119), (1525, 31741, 33329), (48461, 49277), (48525, 49341), (50471, 51367), (50510, 50519, 51406, 51415), (49462, 50271), (31432, 32919), (37747, 39737), (47164, 48139), (38147, 39985), (38082, 38970), (30420, 30485), (48368, 49184), (49581, 50390), (33032, 33362), (30630, 31853), (30581, 31479, 31760, 33691, 33764), (31912, 31923), (30803, 31279), (31447, 31772), (37811, 39789), (47116, 48091), (49460, 50269), (38442, 40200), (47253, 48228), (47149, 48124), (38313, 40135), (39349, 39375, 39474), (48469, 49285), (31274, 32000), (30415, 30639), (47285, 48260), (49614, 50423), (49555, 50364), (31959, 33766), (49395, 50204), (38243, 40196), (38444, 38986), (45214, 45225), (38056, 39882), (33030, 33085), (38309, 40178), (47199, 48174), (37711, 38631), (47204, 48179), (38976, 38977), (38308, 39017, 40091), (37871, 39760), (37693, 38119, 38159, 38257, 39696, 39987, 40020, 40060), (47108, 48083), (31014, 31018), (30754, 30829), (32023, 32276), (30860, 30890), (30757, 30810), (50579, 51475), (31024, 33146), (31110, 33063), (50551, 51447), (30746, 30821), (41720, 43631), (47240, 48215), (49593, 50402), (49427, 50236), (51635, 52582), (50576, 51472), (47252, 48227), (50583, 51479), (31711, 32747), (30406, 30759, 30779), (50603, 51499), (49568, 50377), (30720, 30763), (33053, 33504), (30555, 30562), (50625, 51521), (47231, 48206), (49415, 50225), (44826, 44835, 44842), (48378, 49194), (51554, 52500), (50604, 51500), (48357, 49173), (895, 43801), (5185, 6390), (49550, 50359), (30845, 31896, 32730, 33386, 33563, 33583, 33722), (48542, 49358), (41690, 41731), (31143, 31429, 31836, 32526, 33207, 33218, 33549), (47300, 48275), (48372, 49188), (49457, 50266), (1062, 1691, 2566), (49630, 50439), (47152, 48127), (49425, 50234), (47086, 48061), (47126, 48101), (48418, 49234), (37891, 39694), (47109, 48084), (38343, 38914), (48322, 49138), (41488, 43690), (51557, 52503), (47106, 48081), (1896, 2306, 2858), (1925, 2152, 2413, 2576, 2590, 3464, 3594, 4321, 4329, 5153, 5322), (1975, 2671, 2983, 3689, 4527), (4672, 6325), (48326, 49142), (48448, 49264), (30661, 30962), (30335, 30393, 31259), (32431, 33263), (31468, 32552), (47246, 48221), (48303, 49119), (48489, 49305), (30636, 30647), (31220, 31393, 31481, 31891, 32614, 33093), (30790, 32364), (50605, 51501), (48466, 49282), (213, 244), (49471, 50280), (30792, 31657), (49474, 50283), (49606, 50415), (50521, 51417), (42914, 43019), (30400, 31244, 31358, 32554), (49647, 50456), (427, 524), (48470, 49286), (51731, 52677), (4987, 4988), (31162, 31803, 32148, 32616, 32933, 33328), (38650, 38654), (39031, 39057, 39113), (39798, 39799), (3321, 5386), (31371, 33169), (31121, 33463, 33785, 33869), (47296, 48271), (51728, 52674), (48310, 49126), (5044, 6138), (51664, 52610), (50560, 51456), (1544, 6459), (30409, 30463), (30398, 31199, 32375, 32528, 33339, 33758), (47170, 48145), (30822, 32506), (33388, 33431), (31269, 31375, 31918, 32588, 32658), (30958, 33373), (32304, 33440), (31085, 31734), (31191, 31922), (33211, 33781), (30801, 31360), (30858, 32704), (32192, 32194), (40981, 41067, 41241), (40775, 40797, 40811, 40896, 40914, 40920), (40789, 40894), (40787, 40879), (40720, 40730, 40735, 40843), (40645, 40651), (40594, 40707), (40800, 40847, 40910), (40609, 40804), (40790, 40898), (40555, 40562, 40601), (40662, 40837, 40868), (47107, 48082), (40614, 41098), (30930, 30940), (50492, 51388), (47292, 48267), (4086, 4338), (49643, 50452), (49381, 50191), (38128, 38879), (47153, 48128), (974, 4829), (3061, 4194, 6021, 6256, 6608, 42108), (52347, 52393), (48433, 49249), (31264, 33039, 33411), (31519, 31704, 32111, 33319), (50621, 51517), (31095, 31726, 32259, 33163, 33779), (31283, 32493), (31088, 31206, 31367, 31512, 31596, 31665, 31778, 31872, 31971, 32012, 32074, 32168, 32213, 32357, 32475, 32968, 33102, 33114, 33380, 33451, 33636, 33880), (30617, 31057, 31216, 31478, 32124, 32462, 32768, 33033, 33088, 33405), (30688, 30696), (30527, 31321), (30762, 32379), (31818, 33846), (30766, 30776, 30830), (30980, 32198), (31300, 31499, 31642), (31715, 33461), (31343, 32420, 32539, 32805, 32836, 33867), (31582, 32631, 32949), (31461, 32221), (30787, 30808), (31063, 32673), (1864, 2596), (31266, 31759), (30874, 32507, 32637), (30985, 33416), (37962, 39916), (48536, 49352), (33242, 33435), (31465, 31627, 31957), (30242, 30522, 30793, 31055, 31484, 32166, 32671, 32867, 33005), (30782, 30795, 30927, 31022, 31888, 31913, 31924, 31985, 32037, 32097, 32277, 32410, 32473, 32544, 33359, 33561), (31669, 33180, 33617, 33625), (31127, 31332, 32790, 33185, 33695), (51673, 52619), (30976, 32064), (51553, 52499), (31099, 31286, 31863, 33383), (30457, 30914, 31748, 33746), (30239, 32224, 32757), (30977, 33526), (32759, 32761, 33044), (31365, 32608), (31154, 32904), (31956, 31978), (32929, 33465), (50514, 51410), (47247, 48222)]\n"
     ]
    },
    {
     "name": "stderr",
     "output_type": "stream",
     "text": [
      "/tmp/ipykernel_64045/1686977393.py:3: FutureWarning: DataFrameGroupBy.apply operated on the grouping columns. This behavior is deprecated, and in a future version of pandas the grouping columns will be excluded from the operation. Either pass `include_groups=False` to exclude the groupings or explicitly select the grouping columns after groupby to silence this warning.\n",
      "  df = df.groupby(list(df)).apply(lambda x: tuple(x.index)).tolist()\n"
     ]
    }
   ],
   "source": [
    "df = data_df[data_df.duplicated(keep=False)]\n",
    "\n",
    "df = df.groupby(list(df)).apply(lambda x: tuple(x.index)).tolist()\n",
    "# print (len(df))\n",
    "print(df)"
   ]
  },
  {
   "cell_type": "markdown",
   "id": "670baaae",
   "metadata": {},
   "source": [
    "## check for duplicates"
   ]
  },
  {
   "cell_type": "code",
   "execution_count": null,
   "id": "b2a83ffa",
   "metadata": {},
   "outputs": [],
   "source": [
    "subset_df = data_df.loc[31098:33600]"
   ]
  },
  {
   "cell_type": "code",
   "execution_count": 5,
   "id": "46ac711c",
   "metadata": {},
   "outputs": [
    {
     "data": {
      "text/plain": [
       "np.int64(1588)"
      ]
     },
     "execution_count": 5,
     "metadata": {},
     "output_type": "execute_result"
    }
   ],
   "source": [
    "data_df.duplicated().sum()"
   ]
  },
  {
   "cell_type": "markdown",
   "id": "03e13337",
   "metadata": {},
   "source": [
    "## remove duplicaes"
   ]
  },
  {
   "cell_type": "code",
   "execution_count": null,
   "id": "57d8341a",
   "metadata": {},
   "outputs": [],
   "source": [
    "data_df = data_df.drop_duplicates().reset_index(drop=True)\n",
    "data_df.info()"
   ]
  },
  {
   "cell_type": "markdown",
   "id": "c3ea0429",
   "metadata": {},
   "source": [
    "# EDA"
   ]
  },
  {
   "cell_type": "code",
   "execution_count": null,
   "id": "e7974095",
   "metadata": {},
   "outputs": [],
   "source": [
    "#histogram of targets\n",
    "fig,ax = plt.subplots(figsize = (10,8))\n",
    "sns.histplot(data=data_df,x='status', ax=ax,stat='percent');"
   ]
  },
  {
   "cell_type": "markdown",
   "id": "05a91487",
   "metadata": {},
   "source": []
  },
  {
   "cell_type": "markdown",
   "id": "c460b594",
   "metadata": {},
   "source": []
  },
  {
   "cell_type": "markdown",
   "id": "05d0fc30",
   "metadata": {},
   "source": []
  },
  {
   "cell_type": "markdown",
   "id": "1e821659",
   "metadata": {},
   "source": []
  },
  {
   "cell_type": "markdown",
   "id": "443022bf",
   "metadata": {},
   "source": []
  },
  {
   "cell_type": "markdown",
   "id": "93df62e7",
   "metadata": {},
   "source": []
  },
  {
   "cell_type": "markdown",
   "id": "f43dcddd",
   "metadata": {},
   "source": []
  }
 ],
 "metadata": {
  "kernelspec": {
   "display_name": "venv_stress_sense",
   "language": "python",
   "name": "python3"
  },
  "language_info": {
   "codemirror_mode": {
    "name": "ipython",
    "version": 3
   },
   "file_extension": ".py",
   "mimetype": "text/x-python",
   "name": "python",
   "nbconvert_exporter": "python",
   "pygments_lexer": "ipython3",
   "version": "3.10.6"
  }
 },
 "nbformat": 4,
 "nbformat_minor": 5
}
