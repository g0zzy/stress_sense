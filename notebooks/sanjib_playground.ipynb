{
 "cells": [
  {
   "cell_type": "markdown",
   "id": "6ab863e2",
   "metadata": {},
   "source": [
    "# Imports"
   ]
  },
  {
   "cell_type": "code",
   "execution_count": 1,
   "id": "3c46da05",
   "metadata": {},
   "outputs": [],
   "source": [
    "import string"
   ]
  },
  {
   "cell_type": "code",
   "execution_count": 2,
   "id": "8479e9e1",
   "metadata": {},
   "outputs": [],
   "source": [
    "import pandas as pd\n",
    "import matplotlib.pyplot as plt\n",
    "import seaborn as sns"
   ]
  },
  {
   "cell_type": "code",
   "execution_count": 3,
   "id": "ad27c5a5",
   "metadata": {},
   "outputs": [],
   "source": [
    "from nltk import word_tokenize\n",
    "from nltk.stem import WordNetLemmatizer"
   ]
  },
  {
   "cell_type": "code",
   "execution_count": 44,
   "id": "d69c221d",
   "metadata": {},
   "outputs": [],
   "source": [
    "from sklearn.model_selection import train_test_split\n",
    "from sklearn.preprocessing import StandardScaler\n",
    "\n",
    "from sklearn.svm import SVC\n",
    "from sklearn.feature_extraction.text import TfidfVectorizer\n",
    "from sklearn.metrics import classification_report\n",
    "from sklearn.tree import DecisionTreeClassifier\n",
    "from sklearn.linear_model import LogisticRegression\n",
    "\n",
    "from sklearn.ensemble import RandomForestClassifier\n",
    "\n",
    "from sklearn.naive_bayes import MultinomialNB, ComplementNB # complement naive bias is better for unblanced data"
   ]
  },
  {
   "cell_type": "markdown",
   "id": "9b567b4c",
   "metadata": {},
   "source": [
    "## data"
   ]
  },
  {
   "cell_type": "code",
   "execution_count": 5,
   "id": "384fa4b0",
   "metadata": {},
   "outputs": [
    {
     "data": {
      "application/vnd.microsoft.datawrangler.viewer.v0+json": {
       "columns": [
        {
         "name": "index",
         "rawType": "int64",
         "type": "integer"
        },
        {
         "name": "statement",
         "rawType": "object",
         "type": "string"
        },
        {
         "name": "status",
         "rawType": "object",
         "type": "string"
        }
       ],
       "ref": "77cfd09a-ca53-4184-82c0-cefc57845367",
       "rows": [
        [
         "0",
         "oh my gosh",
         "Anxiety"
        ],
        [
         "1",
         "trouble sleeping, confused mind, restless heart. All out of tune",
         "Anxiety"
        ],
        [
         "2",
         "All wrong, back off dear, forward doubt. Stay in a restless and restless place",
         "Anxiety"
        ],
        [
         "3",
         "I've shifted my focus to something else but I'm still worried",
         "Anxiety"
        ],
        [
         "4",
         "I'm restless and restless, it's been a month now, boy. What do you mean?",
         "Anxiety"
        ]
       ],
       "shape": {
        "columns": 2,
        "rows": 5
       }
      },
      "text/html": [
       "<div>\n",
       "<style scoped>\n",
       "    .dataframe tbody tr th:only-of-type {\n",
       "        vertical-align: middle;\n",
       "    }\n",
       "\n",
       "    .dataframe tbody tr th {\n",
       "        vertical-align: top;\n",
       "    }\n",
       "\n",
       "    .dataframe thead th {\n",
       "        text-align: right;\n",
       "    }\n",
       "</style>\n",
       "<table border=\"1\" class=\"dataframe\">\n",
       "  <thead>\n",
       "    <tr style=\"text-align: right;\">\n",
       "      <th></th>\n",
       "      <th>statement</th>\n",
       "      <th>status</th>\n",
       "    </tr>\n",
       "  </thead>\n",
       "  <tbody>\n",
       "    <tr>\n",
       "      <th>0</th>\n",
       "      <td>oh my gosh</td>\n",
       "      <td>Anxiety</td>\n",
       "    </tr>\n",
       "    <tr>\n",
       "      <th>1</th>\n",
       "      <td>trouble sleeping, confused mind, restless hear...</td>\n",
       "      <td>Anxiety</td>\n",
       "    </tr>\n",
       "    <tr>\n",
       "      <th>2</th>\n",
       "      <td>All wrong, back off dear, forward doubt. Stay ...</td>\n",
       "      <td>Anxiety</td>\n",
       "    </tr>\n",
       "    <tr>\n",
       "      <th>3</th>\n",
       "      <td>I've shifted my focus to something else but I'...</td>\n",
       "      <td>Anxiety</td>\n",
       "    </tr>\n",
       "    <tr>\n",
       "      <th>4</th>\n",
       "      <td>I'm restless and restless, it's been a month n...</td>\n",
       "      <td>Anxiety</td>\n",
       "    </tr>\n",
       "  </tbody>\n",
       "</table>\n",
       "</div>"
      ],
      "text/plain": [
       "                                           statement   status\n",
       "0                                         oh my gosh  Anxiety\n",
       "1  trouble sleeping, confused mind, restless hear...  Anxiety\n",
       "2  All wrong, back off dear, forward doubt. Stay ...  Anxiety\n",
       "3  I've shifted my focus to something else but I'...  Anxiety\n",
       "4  I'm restless and restless, it's been a month n...  Anxiety"
      ]
     },
     "execution_count": 5,
     "metadata": {},
     "output_type": "execute_result"
    }
   ],
   "source": [
    "data_df = pd.read_csv('../data/Combined Data.csv', index_col=0)\n",
    "data_df.head()"
   ]
  },
  {
   "cell_type": "markdown",
   "id": "1f97f53f",
   "metadata": {},
   "source": [
    "# Data cleaning"
   ]
  },
  {
   "cell_type": "markdown",
   "id": "ea98722c",
   "metadata": {},
   "source": [
    "## check for null values"
   ]
  },
  {
   "cell_type": "code",
   "execution_count": 6,
   "id": "7633fc68",
   "metadata": {},
   "outputs": [
    {
     "name": "stdout",
     "output_type": "stream",
     "text": [
      "Missing values per column:\n",
      "statement    362\n",
      "status         0\n",
      "dtype: int64\n"
     ]
    }
   ],
   "source": [
    "#not important\n",
    "print(\"Missing values per column:\")\n",
    "print(data_df.isna().sum())"
   ]
  },
  {
   "cell_type": "markdown",
   "id": "7b7c4f4a",
   "metadata": {},
   "source": [
    "## drop null values"
   ]
  },
  {
   "cell_type": "code",
   "execution_count": 7,
   "id": "477ad73e",
   "metadata": {},
   "outputs": [
    {
     "name": "stdout",
     "output_type": "stream",
     "text": [
      "<class 'pandas.core.frame.DataFrame'>\n",
      "RangeIndex: 52681 entries, 0 to 52680\n",
      "Data columns (total 2 columns):\n",
      " #   Column     Non-Null Count  Dtype \n",
      "---  ------     --------------  ----- \n",
      " 0   statement  52681 non-null  object\n",
      " 1   status     52681 non-null  object\n",
      "dtypes: object(2)\n",
      "memory usage: 823.3+ KB\n"
     ]
    }
   ],
   "source": [
    "data_df = data_df.dropna(axis=0).reset_index(drop=True)\n",
    "data_df.info()"
   ]
  },
  {
   "cell_type": "markdown",
   "id": "670baaae",
   "metadata": {},
   "source": [
    "## check for duplicates"
   ]
  },
  {
   "cell_type": "code",
   "execution_count": 8,
   "id": "5d34e454",
   "metadata": {},
   "outputs": [
    {
     "data": {
      "text/plain": [
       "1588"
      ]
     },
     "execution_count": 8,
     "metadata": {},
     "output_type": "execute_result"
    }
   ],
   "source": [
    "#not important\n",
    "data_df.duplicated().sum()"
   ]
  },
  {
   "cell_type": "markdown",
   "id": "03e13337",
   "metadata": {},
   "source": [
    "## remove duplicaes"
   ]
  },
  {
   "cell_type": "code",
   "execution_count": 9,
   "id": "57d8341a",
   "metadata": {},
   "outputs": [
    {
     "name": "stdout",
     "output_type": "stream",
     "text": [
      "<class 'pandas.core.frame.DataFrame'>\n",
      "RangeIndex: 51093 entries, 0 to 51092\n",
      "Data columns (total 2 columns):\n",
      " #   Column     Non-Null Count  Dtype \n",
      "---  ------     --------------  ----- \n",
      " 0   statement  51093 non-null  object\n",
      " 1   status     51093 non-null  object\n",
      "dtypes: object(2)\n",
      "memory usage: 798.5+ KB\n"
     ]
    }
   ],
   "source": [
    "data_df = data_df.drop_duplicates().reset_index(drop=True)\n",
    "data_df.info()"
   ]
  },
  {
   "cell_type": "markdown",
   "id": "c3ea0429",
   "metadata": {},
   "source": [
    "# EDA"
   ]
  },
  {
   "cell_type": "code",
   "execution_count": 10,
   "id": "e7974095",
   "metadata": {},
   "outputs": [
    {
     "name": "stdout",
     "output_type": "stream",
     "text": [
      "\n",
      "Unique labels: ['Anxiety' 'Normal' 'Depression' 'Suicidal' 'Stress' 'Bipolar'\n",
      " 'Personality disorder']\n",
      "\n",
      "Label distribution:\n",
      "status\n",
      "Normal                  0.313937\n",
      "Depression              0.295422\n",
      "Suicidal                0.208326\n",
      "Anxiety                 0.070910\n",
      "Bipolar                 0.048950\n",
      "Stress                  0.044938\n",
      "Personality disorder    0.017517\n",
      "Name: proportion, dtype: float64\n"
     ]
    },
    {
     "data": {
      "image/png": "[encoded data removed]",
      "text/plain": [
       "<Figure size 1000x600 with 1 Axes>"
      ]
     },
     "metadata": {},
     "output_type": "display_data"
    }
   ],
   "source": [
    "#not important\n",
    "print(f\"\\nUnique labels: {data_df['status'].unique()}\")\n",
    "print(f\"\\nLabel distribution:\")\n",
    "print(data_df['status'].value_counts(normalize=True))\n",
    "\n",
    "# Visualization\n",
    "plt.figure(figsize=(10, 6))\n",
    "data_df['status'].value_counts().plot(kind='bar')\n",
    "plt.xlabel('Mental Health Status')\n",
    "plt.ylabel('Number of Samples')\n",
    "plt.xticks(rotation=45)\n",
    "plt.show()"
   ]
  },
  {
   "cell_type": "markdown",
   "id": "7d8bdb6b",
   "metadata": {},
   "source": [
    "# Data preprocessing"
   ]
  },
  {
   "cell_type": "markdown",
   "id": "b0aa5d54",
   "metadata": {},
   "source": []
  },
  {
   "cell_type": "code",
   "execution_count": 11,
   "id": "10f06171",
   "metadata": {},
   "outputs": [],
   "source": [
    "def preprocessing(sentence):\n",
    "    # Removing whitespaces\n",
    "    sentence = sentence.strip()\n",
    "\n",
    "    # Lowercasing\n",
    "    sentence = sentence.lower()\n",
    "\n",
    "    # Removing numbers\n",
    "    sentence = ''.join(char for char in sentence if not char.isdigit())\n",
    "\n",
    "    # Removing punctuation\n",
    "    for punctuation in string.punctuation:\n",
    "        sentence = sentence.replace(punctuation, '')\n",
    "\n",
    "    # Tokenizing\n",
    "    tokenized = word_tokenize(sentence)\n",
    "\n",
    "    # Lemmatizing\n",
    "    lemmatizer = WordNetLemmatizer()\n",
    "    lemmatized = [lemmatizer.lemmatize(word) for word in tokenized]\n",
    "    cleaned_sentence = \" \".join(lemmatized)\n",
    "    return cleaned_sentence"
   ]
  },
  {
   "cell_type": "code",
   "execution_count": 12,
   "id": "64210a8f",
   "metadata": {},
   "outputs": [
    {
     "data": {
      "application/vnd.microsoft.datawrangler.viewer.v0+json": {
       "columns": [
        {
         "name": "index",
         "rawType": "int64",
         "type": "integer"
        },
        {
         "name": "statement",
         "rawType": "object",
         "type": "string"
        },
        {
         "name": "status",
         "rawType": "object",
         "type": "string"
        },
        {
         "name": "clean_statement",
         "rawType": "object",
         "type": "string"
        }
       ],
       "ref": "a3cbf875-c336-4051-9be3-f0ee3818a7c1",
       "rows": [
        [
         "0",
         "oh my gosh",
         "Anxiety",
         "oh my gosh"
        ],
        [
         "1",
         "trouble sleeping, confused mind, restless heart. All out of tune",
         "Anxiety",
         "trouble sleeping confused mind restless heart all out of tune"
        ],
        [
         "2",
         "All wrong, back off dear, forward doubt. Stay in a restless and restless place",
         "Anxiety",
         "all wrong back off dear forward doubt stay in a restless and restless place"
        ],
        [
         "3",
         "I've shifted my focus to something else but I'm still worried",
         "Anxiety",
         "ive shifted my focus to something else but im still worried"
        ],
        [
         "4",
         "I'm restless and restless, it's been a month now, boy. What do you mean?",
         "Anxiety",
         "im restless and restless it been a month now boy what do you mean"
        ]
       ],
       "shape": {
        "columns": 3,
        "rows": 5
       }
      },
      "text/html": [
       "<div>\n",
       "<style scoped>\n",
       "    .dataframe tbody tr th:only-of-type {\n",
       "        vertical-align: middle;\n",
       "    }\n",
       "\n",
       "    .dataframe tbody tr th {\n",
       "        vertical-align: top;\n",
       "    }\n",
       "\n",
       "    .dataframe thead th {\n",
       "        text-align: right;\n",
       "    }\n",
       "</style>\n",
       "<table border=\"1\" class=\"dataframe\">\n",
       "  <thead>\n",
       "    <tr style=\"text-align: right;\">\n",
       "      <th></th>\n",
       "      <th>statement</th>\n",
       "      <th>status</th>\n",
       "      <th>clean_statement</th>\n",
       "    </tr>\n",
       "  </thead>\n",
       "  <tbody>\n",
       "    <tr>\n",
       "      <th>0</th>\n",
       "      <td>oh my gosh</td>\n",
       "      <td>Anxiety</td>\n",
       "      <td>oh my gosh</td>\n",
       "    </tr>\n",
       "    <tr>\n",
       "      <th>1</th>\n",
       "      <td>trouble sleeping, confused mind, restless hear...</td>\n",
       "      <td>Anxiety</td>\n",
       "      <td>trouble sleeping confused mind restless heart ...</td>\n",
       "    </tr>\n",
       "    <tr>\n",
       "      <th>2</th>\n",
       "      <td>All wrong, back off dear, forward doubt. Stay ...</td>\n",
       "      <td>Anxiety</td>\n",
       "      <td>all wrong back off dear forward doubt stay in ...</td>\n",
       "    </tr>\n",
       "    <tr>\n",
       "      <th>3</th>\n",
       "      <td>I've shifted my focus to something else but I'...</td>\n",
       "      <td>Anxiety</td>\n",
       "      <td>ive shifted my focus to something else but im ...</td>\n",
       "    </tr>\n",
       "    <tr>\n",
       "      <th>4</th>\n",
       "      <td>I'm restless and restless, it's been a month n...</td>\n",
       "      <td>Anxiety</td>\n",
       "      <td>im restless and restless it been a month now b...</td>\n",
       "    </tr>\n",
       "  </tbody>\n",
       "</table>\n",
       "</div>"
      ],
      "text/plain": [
       "                                           statement   status  \\\n",
       "0                                         oh my gosh  Anxiety   \n",
       "1  trouble sleeping, confused mind, restless hear...  Anxiety   \n",
       "2  All wrong, back off dear, forward doubt. Stay ...  Anxiety   \n",
       "3  I've shifted my focus to something else but I'...  Anxiety   \n",
       "4  I'm restless and restless, it's been a month n...  Anxiety   \n",
       "\n",
       "                                     clean_statement  \n",
       "0                                         oh my gosh  \n",
       "1  trouble sleeping confused mind restless heart ...  \n",
       "2  all wrong back off dear forward doubt stay in ...  \n",
       "3  ive shifted my focus to something else but im ...  \n",
       "4  im restless and restless it been a month now b...  "
      ]
     },
     "execution_count": 12,
     "metadata": {},
     "output_type": "execute_result"
    }
   ],
   "source": [
    "data_df['clean_statement'] = data_df['statement'].apply(preprocessing)\n",
    "data_df.head()"
   ]
  },
  {
   "cell_type": "markdown",
   "id": "8876667a",
   "metadata": {},
   "source": [
    "# Modelling"
   ]
  },
  {
   "cell_type": "markdown",
   "id": "8ac37877",
   "metadata": {},
   "source": [
    "## test train"
   ]
  },
  {
   "cell_type": "code",
   "execution_count": 23,
   "id": "c443bd18",
   "metadata": {},
   "outputs": [],
   "source": [
    "test_size = 0.2\n",
    "X_train, X_test, y_train, y_test = train_test_split(\n",
    "    data_df[\"clean_statement\"], data_df[\"status\"], test_size=test_size, stratify=data_df[\"status\"], random_state=42\n",
    ")"
   ]
  },
  {
   "cell_type": "code",
   "execution_count": 14,
   "id": "86cb0340",
   "metadata": {},
   "outputs": [
    {
     "name": "stdout",
     "output_type": "stream",
     "text": [
      "Labeles in whole data -\n",
      "status\n",
      "Normal                  0.31\n",
      "Depression              0.30\n",
      "Suicidal                0.21\n",
      "Anxiety                 0.07\n",
      "Bipolar                 0.05\n",
      "Stress                  0.04\n",
      "Personality disorder    0.02\n",
      "Name: proportion, dtype: float64\n",
      "\n",
      "Labeles in train data -\n",
      "status\n",
      "Normal                  0.31\n",
      "Depression              0.30\n",
      "Suicidal                0.21\n",
      "Anxiety                 0.07\n",
      "Bipolar                 0.05\n",
      "Stress                  0.04\n",
      "Personality disorder    0.02\n",
      "Name: proportion, dtype: float64\n",
      "\n",
      "Labeles in test data -\n",
      "status\n",
      "Normal                  0.31\n",
      "Depression              0.30\n",
      "Suicidal                0.21\n",
      "Anxiety                 0.07\n",
      "Bipolar                 0.05\n",
      "Stress                  0.04\n",
      "Personality disorder    0.02\n",
      "Name: proportion, dtype: float64\n"
     ]
    }
   ],
   "source": [
    "#test if stratification worked\n",
    "print('Labeles in whole data -')\n",
    "print(round(data_df.status.value_counts(normalize=bool),2))\n",
    "print()\n",
    "print('Labeles in train data -')\n",
    "print(round(y_train.value_counts(normalize=bool),2))\n",
    "print()\n",
    "print('Labeles in test data -')\n",
    "print(round(y_train.value_counts(normalize=bool),2))"
   ]
  },
  {
   "cell_type": "markdown",
   "id": "f5b2d35b",
   "metadata": {},
   "source": [
    "## vectorizing"
   ]
  },
  {
   "cell_type": "code",
   "execution_count": 51,
   "id": "c08e4e8f",
   "metadata": {},
   "outputs": [],
   "source": [
    "vectorizer = TfidfVectorizer(max_features=5000, ngram_range=(1,2),stop_words='english')\n",
    "X_train_tfidf = vectorizer.fit_transform(X_train)\n",
    "X_test_tfidf = vectorizer.transform(X_test)"
   ]
  },
  {
   "cell_type": "markdown",
   "id": "a3b50476",
   "metadata": {},
   "source": [
    "## scaling (may be not needed)"
   ]
  },
  {
   "cell_type": "code",
   "execution_count": 52,
   "id": "1e578407",
   "metadata": {},
   "outputs": [],
   "source": [
    "scaler_obj = StandardScaler(with_mean=False)\n",
    "X_train_tfidf_scaled = scaler_obj.fit_transform(X_train_tfidf)\n",
    "X_test_tfidf_scaled = scaler_obj.transform(X_test_tfidf)"
   ]
  },
  {
   "cell_type": "markdown",
   "id": "2a85c5a5",
   "metadata": {},
   "source": [
    "## model 1 SVM"
   ]
  },
  {
   "cell_type": "markdown",
   "id": "63736ad8",
   "metadata": {},
   "source": [
    "scaling the x values gave better performance <br>\n",
    "tried with kernel 'rbf'... worse result <br>\n",
    "polynom kernel did not help <br>\n",
    "going from iteration =500 to iteration = 1000 did not have much improvement <br>"
   ]
  },
  {
   "cell_type": "code",
   "execution_count": null,
   "id": "2057a0bc",
   "metadata": {},
   "outputs": [
    {
     "name": "stderr",
     "output_type": "stream",
     "text": [
      "/home/sanju/.pyenv/versions/3.10.6/envs/venv_stress_sense1/lib/python3.10/site-packages/sklearn/svm/_base.py:305: ConvergenceWarning: Solver terminated early (max_iter=1000).  Consider pre-processing your data with StandardScaler or MinMaxScaler.\n",
      "  warnings.warn(\n"
     ]
    },
    {
     "name": "stdout",
     "output_type": "stream",
     "text": [
      "                      precision    recall  f1-score   support\n",
      "\n",
      "             Anxiety       0.55      0.70      0.62       725\n",
      "             Bipolar       0.53      0.66      0.59       500\n",
      "          Depression       0.54      0.60      0.56      3019\n",
      "              Normal       0.77      0.48      0.59      3208\n",
      "Personality disorder       0.43      0.33      0.37       179\n",
      "              Stress       0.18      0.29      0.22       459\n",
      "            Suicidal       0.37      0.42      0.39      2129\n",
      "\n",
      "            accuracy                           0.52     10219\n",
      "           macro avg       0.48      0.50      0.48     10219\n",
      "        weighted avg       0.56      0.52      0.52     10219\n",
      "\n"
     ]
    }
   ],
   "source": [
    "svm_clf = SVC(kernel='linear',class_weight='balanced',max_iter=1000)\n",
    "# svm_clf.fit(X_train_tfidf, y_train)\n",
    "svm_clf.fit(X_train_tfidf_scaled, y_train)\n",
    "#testing\n",
    "y_pred = svm_clf.predict(X_test_tfidf_scaled)\n",
    "print(classification_report(y_test, y_pred))"
   ]
  },
  {
   "cell_type": "markdown",
   "id": "edac6062",
   "metadata": {},
   "source": [
    "## Decision tree"
   ]
  },
  {
   "cell_type": "code",
   "execution_count": 54,
   "id": "449527ba",
   "metadata": {},
   "outputs": [
    {
     "name": "stdout",
     "output_type": "stream",
     "text": [
      "                      precision    recall  f1-score   support\n",
      "\n",
      "             Anxiety       0.56      0.53      0.54       725\n",
      "             Bipolar       0.53      0.48      0.50       500\n",
      "          Depression       0.58      0.57      0.57      3019\n",
      "              Normal       0.83      0.88      0.85      3208\n",
      "Personality disorder       0.36      0.28      0.32       179\n",
      "              Stress       0.36      0.31      0.33       459\n",
      "            Suicidal       0.52      0.53      0.53      2129\n",
      "\n",
      "            accuracy                           0.63     10219\n",
      "           macro avg       0.53      0.51      0.52     10219\n",
      "        weighted avg       0.63      0.63      0.63     10219\n",
      "\n"
     ]
    }
   ],
   "source": [
    "dt_clf = DecisionTreeClassifier(random_state=42)\n",
    "dt_clf.fit(X_train_tfidf, y_train)\n",
    "\n",
    "#testing\n",
    "y_pred = dt_clf.predict(X_test_tfidf)\n",
    "print(classification_report(y_test, y_pred))"
   ]
  },
  {
   "cell_type": "markdown",
   "id": "b5e8d680",
   "metadata": {},
   "source": [
    "## Random forest"
   ]
  },
  {
   "cell_type": "markdown",
   "id": "c9048f80",
   "metadata": {},
   "source": [
    "using scaled or unscaled x values does not make a lot of difference<br>"
   ]
  },
  {
   "cell_type": "code",
   "execution_count": 40,
   "id": "e4ce0fb0",
   "metadata": {},
   "outputs": [
    {
     "name": "stdout",
     "output_type": "stream",
     "text": [
      "                      precision    recall  f1-score   support\n",
      "\n",
      "             Anxiety       0.82      0.30      0.44       725\n",
      "             Bipolar       0.89      0.25      0.39       500\n",
      "          Depression       0.53      0.77      0.63      3019\n",
      "              Normal       0.73      0.96      0.83      3208\n",
      "Personality disorder       1.00      0.02      0.04       179\n",
      "              Stress       0.89      0.02      0.03       459\n",
      "            Suicidal       0.72      0.41      0.53      2129\n",
      "\n",
      "            accuracy                           0.65     10219\n",
      "           macro avg       0.80      0.39      0.41     10219\n",
      "        weighted avg       0.70      0.65      0.61     10219\n",
      "\n"
     ]
    }
   ],
   "source": [
    "RF_clf = RandomForestClassifier(random_state=42, n_estimators=100, max_depth=20)\n",
    "RF_clf.fit(X_train_tfidf_scaled, y_train)\n",
    "\n",
    "# Evaluate\n",
    "y_pred = RF_clf.predict(X_test_tfidf_scaled)\n",
    "print(classification_report(y_test, y_pred))"
   ]
  },
  {
   "cell_type": "markdown",
   "id": "aa307f1d",
   "metadata": {},
   "source": [
    "## Logistic regression"
   ]
  },
  {
   "cell_type": "markdown",
   "id": "ecbc4756",
   "metadata": {},
   "source": [
    "unscaled x values is better<br>"
   ]
  },
  {
   "cell_type": "code",
   "execution_count": 42,
   "id": "3fc3f274",
   "metadata": {},
   "outputs": [
    {
     "name": "stdout",
     "output_type": "stream",
     "text": [
      "                      precision    recall  f1-score   support\n",
      "\n",
      "             Anxiety       0.73      0.79      0.76       725\n",
      "             Bipolar       0.69      0.75      0.72       500\n",
      "          Depression       0.77      0.56      0.65      3019\n",
      "              Normal       0.90      0.92      0.91      3208\n",
      "Personality disorder       0.35      0.59      0.44       179\n",
      "              Stress       0.43      0.67      0.52       459\n",
      "            Suicidal       0.66      0.74      0.70      2129\n",
      "\n",
      "            accuracy                           0.74     10219\n",
      "           macro avg       0.65      0.72      0.67     10219\n",
      "        weighted avg       0.76      0.74      0.74     10219\n",
      "\n"
     ]
    }
   ],
   "source": [
    "log_clf = LogisticRegression(max_iter=500, class_weight=\"balanced\")\n",
    "log_clf.fit(X_train_tfidf, y_train)\n",
    "\n",
    "# Evaluate\n",
    "y_pred = log_clf.predict(X_test_tfidf)\n",
    "print(classification_report(y_test, y_pred))"
   ]
  },
  {
   "cell_type": "code",
   "execution_count": 45,
   "id": "72876664",
   "metadata": {},
   "outputs": [
    {
     "name": "stdout",
     "output_type": "stream",
     "text": [
      "                      precision    recall  f1-score   support\n",
      "\n",
      "             Anxiety       0.72      0.63      0.67       725\n",
      "             Bipolar       0.78      0.49      0.60       500\n",
      "          Depression       0.57      0.74      0.64      3019\n",
      "              Normal       0.82      0.87      0.85      3208\n",
      "Personality disorder       0.93      0.08      0.14       179\n",
      "              Stress       0.63      0.15      0.24       459\n",
      "            Suicidal       0.69      0.60      0.64      2129\n",
      "\n",
      "            accuracy                           0.69     10219\n",
      "           macro avg       0.74      0.51      0.54     10219\n",
      "        weighted avg       0.71      0.69      0.68     10219\n",
      "\n"
     ]
    }
   ],
   "source": [
    "NB_clf = MultinomialNB(alpha=0.5)\n",
    "NB_clf.fit(X_train_tfidf, y_train)\n",
    "\n",
    "# Evaluate\n",
    "y_pred = NB_clf.predict(X_test_tfidf)\n",
    "print(classification_report(y_test, y_pred))"
   ]
  },
  {
   "cell_type": "code",
   "execution_count": 50,
   "id": "83d2520d",
   "metadata": {},
   "outputs": [
    {
     "name": "stdout",
     "output_type": "stream",
     "text": [
      "                      precision    recall  f1-score   support\n",
      "\n",
      "             Anxiety       0.45      0.79      0.57       725\n",
      "             Bipolar       0.57      0.67      0.62       500\n",
      "          Depression       0.68      0.51      0.59      3019\n",
      "              Normal       0.76      0.76      0.76      3208\n",
      "Personality disorder       0.83      0.32      0.46       179\n",
      "              Stress       0.51      0.20      0.29       459\n",
      "            Suicidal       0.59      0.73      0.65      2129\n",
      "\n",
      "            accuracy                           0.65     10219\n",
      "           macro avg       0.63      0.57      0.56     10219\n",
      "        weighted avg       0.66      0.65      0.64     10219\n",
      "\n"
     ]
    }
   ],
   "source": [
    "C_NB_clf =ComplementNB(alpha=1)\n",
    "C_NB_clf.fit(X_train_tfidf_scaled, y_train)\n",
    "\n",
    "# Evaluate\n",
    "y_pred = C_NB_clf.predict(X_test_tfidf_scaled)\n",
    "print(classification_report(y_test, y_pred))"
   ]
  }
 ],
 "metadata": {
  "kernelspec": {
   "display_name": "Python 3",
   "language": "python",
   "name": "python3"
  },
  "language_info": {
   "codemirror_mode": {
    "name": "ipython",
    "version": 3
   },
   "file_extension": ".py",
   "mimetype": "text/x-python",
   "name": "python",
   "nbconvert_exporter": "python",
   "pygments_lexer": "ipython3",
   "version": "3.10.6"
  }
 },
 "nbformat": 4,
 "nbformat_minor": 5
}
