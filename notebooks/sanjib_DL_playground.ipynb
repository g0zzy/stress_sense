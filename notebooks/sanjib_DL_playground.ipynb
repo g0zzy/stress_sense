{
 "cells": [
  {
   "cell_type": "markdown",
   "id": "8e93a33b",
   "metadata": {},
   "source": [
    "# Simple codebase to use bertopic"
   ]
  },
  {
   "cell_type": "code",
   "execution_count": null,
   "id": "6f84ffbb",
   "metadata": {},
   "outputs": [],
   "source": [
    "from sentence_transformers import SentenceTransformer\n",
    "from bertopic import BERTopic\n",
    "import pandas as pd\n",
    "\n",
    "# Sample stress/anxiety texts (replace with your filtered data)\n",
    "texts = [\n",
    "    \"I'm so stressed about my work deadline, can't focus\",\n",
    "    \"Relationship problems keeping me awake at night\",\n",
    "    \"Exam anxiety is overwhelming, can't study properly\",\n",
    "    \"Family issues causing me constant worry\",\n",
    "    \"Financial stress from mounting bills and debt\",\n",
    "    \"My boss is demanding too much, work is killing me\",\n",
    "    \"Partner and I keep fighting, relationship falling apart\",\n",
    "    \"University pressure and grades stressing me out\",\n",
    "    \"Can't handle family drama and expectations anymore\",\n",
    "    \"Money problems affecting my sleep and mental health\"\n",
    "]\n",
    "\n",
    "# Step 1: Generate embeddings with Sentence-BERT\n",
    "sentence_model = SentenceTransformer('all-MiniLM-L6-v2')\n",
    "embeddings = sentence_model.encode(texts)\n",
    "\n",
    "# Step 2: Perform topic modeling with BERTopic\n",
    "topic_model = BERTopic(min_topic_size=2, verbose=True)\n",
    "topics, probabilities = topic_model.fit_transform(texts, embeddings)\n",
    "\n",
    "# Step 3: Get topic information\n",
    "print(\"Discovered Topics:\")\n",
    "topic_info = topic_model.get_topic_info()\n",
    "print(topic_info)\n",
    "\n",
    "print(\"\\nTopic Keywords:\")\n",
    "for topic_id in set(topics):\n",
    "    if topic_id != -1:  # Skip outliers\n",
    "        words = topic_model.get_topic(topic_id)[:5]  # Top 5 words\n",
    "        print(f\"Topic {topic_id}: {[word for word, score in words]}\")\n",
    "\n",
    "print(\"\\nDocument-Topic Assignment:\")\n",
    "for i, (text, topic) in enumerate(zip(texts, topics)):\n",
    "    print(f\"Doc {i}: Topic {topic} - {text[:50]}...\")\n",
    "\n",
    "# Step 4: Visualize topics\n",
    "# topic_model.visualize_topics().show()  # Interactive plot\n",
    "# topic_model.visualize_documents(texts, embeddings).show()  # Document clusters"
   ]
  }
 ],
 "metadata": {
  "kernelspec": {
   "display_name": "venv_stress_sense",
   "language": "python",
   "name": "python3"
  },
  "language_info": {
   "name": "python",
   "version": "3.10.6"
  }
 },
 "nbformat": 4,
 "nbformat_minor": 5
}
