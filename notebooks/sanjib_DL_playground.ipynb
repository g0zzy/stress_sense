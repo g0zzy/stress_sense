{
 "cells": [
  {
   "cell_type": "code",
   "execution_count": 26,
   "id": "6ff291a2",
   "metadata": {},
   "outputs": [],
   "source": [
    "from transformers import AutoModelForSequenceClassification, AutoTokenizer\n",
    "import torch\n",
    "import pandas as pd"
   ]
  },
  {
   "cell_type": "code",
   "execution_count": null,
   "id": "20d229d4",
   "metadata": {},
   "outputs": [
    {
     "data": {
      "application/vnd.microsoft.datawrangler.viewer.v0+json": {
       "columns": [
        {
         "name": "index",
         "rawType": "int64",
         "type": "integer"
        },
        {
         "name": "statement",
         "rawType": "object",
         "type": "unknown"
        },
        {
         "name": "status",
         "rawType": "object",
         "type": "string"
        }
       ],
       "ref": "52132997-a1b7-4564-bcc5-23092d3fc7e2",
       "rows": [
        [
         "0",
         "oh my gosh",
         "Anxiety"
        ],
        [
         "1",
         "trouble sleeping, confused mind, restless heart. All out of tune",
         "Anxiety"
        ],
        [
         "2",
         "All wrong, back off dear, forward doubt. Stay in a restless and restless place",
         "Anxiety"
        ],
        [
         "3",
         "I've shifted my focus to something else but I'm still worried",
         "Anxiety"
        ],
        [
         "4",
         "I'm restless and restless, it's been a month now, boy. What do you mean?",
         "Anxiety"
        ],
        [
         "5",
         "every break, you must be nervous, like something is wrong, but what the heck",
         "Anxiety"
        ],
        [
         "6",
         "I feel scared, anxious, what can I do? And may my family or us be protected :)",
         "Anxiety"
        ],
        [
         "7",
         "Have you ever felt nervous but didn't know why?",
         "Anxiety"
        ],
        [
         "8",
         "I haven't slept well for 2 days, it's like I'm restless. why huh :([].",
         "Anxiety"
        ],
        [
         "9",
         "I'm really worried, I want to cry.",
         "Anxiety"
        ],
        [
         "10",
         "always restless every night, even though I don't know why, what's wrong. strange.",
         "Anxiety"
        ],
        [
         "11",
         "I'm confused, I'm not feeling good lately. Every time I want to sleep, I always feel restless",
         "Anxiety"
        ],
        [
         "12",
         "sometimes what is needed when there is a problem is to laugh until you forget that there is a problem, when you remember it, you feel restless like that well, it turns out that I still have a sad burden blah blah blah",
         "Anxiety"
        ],
        [
         "13",
         "Because this worry is you.",
         "Anxiety"
        ],
        [
         "14",
         "Sometimes it's your own thoughts that make you anxious and afraid to close your eyes until you don't sleep",
         "Anxiety"
        ],
        [
         "15",
         "Every time I wake up, I'm definitely nervous and excited, until when are you going to try ™‚",
         "Anxiety"
        ],
        [
         "16",
         "I can only hope, even though I'm worried if it starts like this....",
         "Anxiety"
        ],
        [
         "17",
         "restive = restless, restless",
         "Anxiety"
        ],
        [
         "18",
         "\"No regrets or grudges/angry at things that have passed, and not worrying too much about the future, that's true serenity.\"",
         "Anxiety"
        ],
        [
         "19",
         "If the guy is sick, the girl actually feels sick indirectly. He must be feeling restless and restless. :')",
         "Anxiety"
        ],
        [
         "20",
         "I've been the most anxious person before I became the most sincere person, I've also been the most worried person before it all ended",
         "Anxiety"
        ],
        [
         "21",
         "Successfully online at 9am. Even sleeping in a state of restlessness what is wrong with me",
         "Anxiety"
        ],
        [
         "22",
         "Can't sleep. Just restless by nature",
         "Anxiety"
        ],
        [
         "23",
         "Already worried about picking up the phone",
         "Anxiety"
        ],
        [
         "24",
         "a little restless. a little restless. always feel guilty. sorry if i can't be the best as i've been :'",
         "Anxiety"
        ],
        [
         "25",
         "I've been so restless since this morning",
         "Anxiety"
        ],
        [
         "26",
         "it makes you feel restless",
         "Anxiety"
        ],
        [
         "27",
         "Sleepy but restless when you sleep",
         "Anxiety"
        ],
        [
         "28",
         "Why is this cave... I'm already in a bad mood and then my heart seems to be beating really fast... I'm really nervous. Is there something wrong???",
         "Anxiety"
        ],
        [
         "29",
         "He is very busy, He is restless, geez, what's going on?",
         "Anxiety"
        ],
        [
         "30",
         "I'm broken and fragile, I'm hurt, I can't stand the anxiety anymore, I can't stand the love. Until now I was ignored, not seen, even left far away. I'm not like what he wants, so I'll just step back.",
         "Anxiety"
        ],
        [
         "31",
         "# Suggest a song that makes you calm, don't know why suddenly this feeling of anger / restlessness appears. Thanks!",
         "Anxiety"
        ],
        [
         "32",
         "Terooosss nervous huuuu",
         "Anxiety"
        ],
        [
         "33",
         "why today's heart doesn't feel good..jealous?.anxious?.disappointed?.feeling failed?",
         "Anxiety"
        ],
        [
         "34",
         "It's a habit from elementary school if I think about something I'll get worried I can't sleep",
         "Anxiety"
        ],
        [
         "35",
         "Since yesterday yesterday, I have not been in the mood, very sensitive, feeling restless, always surprised and many surprises every day that almost make my brain explode, everyone is the target of ups and downs in mood. But today I feel very grateful that this lecture drama is over.",
         "Anxiety"
        ],
        [
         "36",
         "Tonight he continues to chatter about money, I'm so confused what to do. Once he said don't worry about money, but he kept blabbering about money.",
         "Anxiety"
        ],
        [
         "37",
         "Feeling so restless lately.",
         "Anxiety"
        ],
        [
         "38",
         "Oh god I'm restless",
         "Anxiety"
        ],
        [
         "39",
         "but my heart is still restless even though my mouth is talking",
         "Anxiety"
        ],
        [
         "40",
         "waiting for uncertainty, please be anxious",
         "Anxiety"
        ],
        [
         "41",
         "been the most anxious person, before becoming the most sincere person",
         "Anxiety"
        ],
        [
         "42",
         "Did you ever read it when you read it to RL, I mean the atmosphere, the taste. It's because I'm like this. when I read au, the topic was about mental illness ™ my days became restless....and now I'm scared.",
         "Anxiety"
        ],
        [
         "43",
         "Hi, I want to tell you... Lately I've been feeling restless, have trouble sleeping, I searched on google it says it's a mild symptom of depression, I used to tell my mom a psychologist friend \"don't think too much, it's not important you get depressed easily\" then I frequent irregular breathing.",
         "Anxiety"
        ],
        [
         "44",
         "I've been feeling restless for the past few days, now I'm nauseous, like someone...",
         "Anxiety"
        ],
        [
         "45",
         "Oh no I'm restless. The time will come. I walk with Jesus. Then my heart is calm.. Every time I sing a song I don't know, tomorrow in this section I always want to cry . Because I sing it but I don't do it . Sorry God I worry too much ️",
         "Anxiety"
        ],
        [
         "46",
         "Controlling anxiety is not as easy as it sounds.",
         "Anxiety"
        ],
        [
         "47",
         "Since the pandemic, I haven't opened my laptop for a day, I feel restless, I have a very heavy life load",
         "Anxiety"
        ],
        [
         "48",
         "People who are restless and afraid can be seen from the frequent touching of the face and ringing the fingers.",
         "Anxiety"
        ],
        [
         "49",
         "I don't know if my mind breaks down, but I don't want to think about it :( , why do I feel restless?",
         "Anxiety"
        ]
       ],
       "shape": {
        "columns": 2,
        "rows": 53043
       }
      },
      "text/html": [
       "<div>\n",
       "<style scoped>\n",
       "    .dataframe tbody tr th:only-of-type {\n",
       "        vertical-align: middle;\n",
       "    }\n",
       "\n",
       "    .dataframe tbody tr th {\n",
       "        vertical-align: top;\n",
       "    }\n",
       "\n",
       "    .dataframe thead th {\n",
       "        text-align: right;\n",
       "    }\n",
       "</style>\n",
       "<table border=\"1\" class=\"dataframe\">\n",
       "  <thead>\n",
       "    <tr style=\"text-align: right;\">\n",
       "      <th></th>\n",
       "      <th>statement</th>\n",
       "      <th>status</th>\n",
       "    </tr>\n",
       "  </thead>\n",
       "  <tbody>\n",
       "    <tr>\n",
       "      <th>0</th>\n",
       "      <td>oh my gosh</td>\n",
       "      <td>Anxiety</td>\n",
       "    </tr>\n",
       "    <tr>\n",
       "      <th>1</th>\n",
       "      <td>trouble sleeping, confused mind, restless hear...</td>\n",
       "      <td>Anxiety</td>\n",
       "    </tr>\n",
       "    <tr>\n",
       "      <th>2</th>\n",
       "      <td>All wrong, back off dear, forward doubt. Stay ...</td>\n",
       "      <td>Anxiety</td>\n",
       "    </tr>\n",
       "    <tr>\n",
       "      <th>3</th>\n",
       "      <td>I've shifted my focus to something else but I'...</td>\n",
       "      <td>Anxiety</td>\n",
       "    </tr>\n",
       "    <tr>\n",
       "      <th>4</th>\n",
       "      <td>I'm restless and restless, it's been a month n...</td>\n",
       "      <td>Anxiety</td>\n",
       "    </tr>\n",
       "    <tr>\n",
       "      <th>...</th>\n",
       "      <td>...</td>\n",
       "      <td>...</td>\n",
       "    </tr>\n",
       "    <tr>\n",
       "      <th>53038</th>\n",
       "      <td>Nobody takes me seriously I’ve (24M) dealt wit...</td>\n",
       "      <td>Anxiety</td>\n",
       "    </tr>\n",
       "    <tr>\n",
       "      <th>53039</th>\n",
       "      <td>selfishness  \"I don't feel very good, it's lik...</td>\n",
       "      <td>Anxiety</td>\n",
       "    </tr>\n",
       "    <tr>\n",
       "      <th>53040</th>\n",
       "      <td>Is there any way to sleep better? I can't slee...</td>\n",
       "      <td>Anxiety</td>\n",
       "    </tr>\n",
       "    <tr>\n",
       "      <th>53041</th>\n",
       "      <td>Public speaking tips? Hi, all. I have to give ...</td>\n",
       "      <td>Anxiety</td>\n",
       "    </tr>\n",
       "    <tr>\n",
       "      <th>53042</th>\n",
       "      <td>I have really bad door anxiety! It's not about...</td>\n",
       "      <td>Anxiety</td>\n",
       "    </tr>\n",
       "  </tbody>\n",
       "</table>\n",
       "<p>53043 rows × 2 columns</p>\n",
       "</div>"
      ],
      "text/plain": [
       "                                               statement   status\n",
       "0                                             oh my gosh  Anxiety\n",
       "1      trouble sleeping, confused mind, restless hear...  Anxiety\n",
       "2      All wrong, back off dear, forward doubt. Stay ...  Anxiety\n",
       "3      I've shifted my focus to something else but I'...  Anxiety\n",
       "4      I'm restless and restless, it's been a month n...  Anxiety\n",
       "...                                                  ...      ...\n",
       "53038  Nobody takes me seriously I’ve (24M) dealt wit...  Anxiety\n",
       "53039  selfishness  \"I don't feel very good, it's lik...  Anxiety\n",
       "53040  Is there any way to sleep better? I can't slee...  Anxiety\n",
       "53041  Public speaking tips? Hi, all. I have to give ...  Anxiety\n",
       "53042  I have really bad door anxiety! It's not about...  Anxiety\n",
       "\n",
       "[53043 rows x 2 columns]"
      ]
     },
     "execution_count": 27,
     "metadata": {},
     "output_type": "execute_result"
    }
   ],
   "source": [
    "path = '../raw_data/Combined Data.csv'\n",
    "df =  pd.read_csv(path, index_col=0)\n",
    "df"
   ]
  },
  {
   "cell_type": "code",
   "execution_count": null,
   "id": "0c7f6b8e",
   "metadata": {},
   "outputs": [],
   "source": [
    "def get_prediction(text, model, tokenizer, device):\n",
    "    inputs = tokenizer(text, return_tensors='pt', truncation=True, padding=True)\n",
    "    inputs = {k: v.to(device) for k, v in inputs.items()}\n",
    "    outputs = model(**inputs)\n",
    "    _, predicted = torch.max(outputs.logits, dim=1)\n",
    "    predictions = torch.nn.functional.softmax(outputs.logits, dim=-1)\n",
    "\n",
    "    print(f\"probabilities: \\n\\t{predictions}\")\n",
    "    print(f\"id2label: \\n\\t{model.config.id2label}\")\n",
    "    print(f\"predictions:\")\n",
    "    for _id, label in model.config.id2label.items():\n",
    "        print(f\"\\t{label:<7}:\\t{round(float(predictions[0][_id]), 3)}\")\n",
    "    return predicted.item(), predictions"
   ]
  },
  {
   "cell_type": "code",
   "execution_count": 28,
   "id": "b982b190",
   "metadata": {},
   "outputs": [
    {
     "data": {
      "application/vnd.microsoft.datawrangler.viewer.v0+json": {
       "columns": [
        {
         "name": "index",
         "rawType": "int64",
         "type": "integer"
        },
        {
         "name": "status",
         "rawType": "int64",
         "type": "integer"
        }
       ],
       "ref": "6cd1db58-b800-4385-aaf4-cbede6cd6648",
       "rows": [
        [
         "0",
         "0"
        ],
        [
         "1",
         "0"
        ],
        [
         "2",
         "0"
        ],
        [
         "3",
         "0"
        ],
        [
         "4",
         "0"
        ],
        [
         "5",
         "0"
        ],
        [
         "6",
         "0"
        ],
        [
         "7",
         "0"
        ],
        [
         "8",
         "0"
        ],
        [
         "9",
         "0"
        ],
        [
         "10",
         "0"
        ],
        [
         "11",
         "0"
        ],
        [
         "12",
         "0"
        ],
        [
         "13",
         "0"
        ],
        [
         "14",
         "0"
        ],
        [
         "15",
         "0"
        ],
        [
         "16",
         "0"
        ],
        [
         "17",
         "0"
        ],
        [
         "18",
         "0"
        ],
        [
         "19",
         "0"
        ],
        [
         "20",
         "0"
        ],
        [
         "21",
         "0"
        ],
        [
         "22",
         "0"
        ],
        [
         "23",
         "0"
        ],
        [
         "24",
         "0"
        ],
        [
         "25",
         "0"
        ],
        [
         "26",
         "0"
        ],
        [
         "27",
         "0"
        ],
        [
         "28",
         "0"
        ],
        [
         "29",
         "0"
        ],
        [
         "30",
         "0"
        ],
        [
         "31",
         "0"
        ],
        [
         "32",
         "0"
        ],
        [
         "33",
         "0"
        ],
        [
         "34",
         "0"
        ],
        [
         "35",
         "0"
        ],
        [
         "36",
         "0"
        ],
        [
         "37",
         "0"
        ],
        [
         "38",
         "0"
        ],
        [
         "39",
         "0"
        ],
        [
         "40",
         "0"
        ],
        [
         "41",
         "0"
        ],
        [
         "42",
         "0"
        ],
        [
         "43",
         "0"
        ],
        [
         "44",
         "0"
        ],
        [
         "45",
         "0"
        ],
        [
         "46",
         "0"
        ],
        [
         "47",
         "0"
        ],
        [
         "48",
         "0"
        ],
        [
         "49",
         "0"
        ]
       ],
       "shape": {
        "columns": 1,
        "rows": 53043
       }
      },
      "text/plain": [
       "0        0\n",
       "1        0\n",
       "2        0\n",
       "3        0\n",
       "4        0\n",
       "        ..\n",
       "53038    0\n",
       "53039    0\n",
       "53040    0\n",
       "53041    0\n",
       "53042    0\n",
       "Name: status, Length: 53043, dtype: int64"
      ]
     },
     "execution_count": 28,
     "metadata": {},
     "output_type": "execute_result"
    }
   ],
   "source": [
    "df['status'].map({'Anxiety': 0, 'Normal':1, 'Depression': 2, 'Suicidal': 3, 'Stress': 4,\n",
    " 'Bipolar': 5,'Personality disorder': 6})"
   ]
  },
  {
   "cell_type": "code",
   "execution_count": 29,
   "id": "c8275e6e",
   "metadata": {},
   "outputs": [
    {
     "ename": "SyntaxError",
     "evalue": "invalid syntax (2852749444.py, line 2)",
     "output_type": "error",
     "traceback": [
      "\u001b[0;36m  Cell \u001b[0;32mIn[29], line 2\u001b[0;36m\u001b[0m\n\u001b[0;31m    label_mapping =\u001b[0m\n\u001b[0m                   ^\u001b[0m\n\u001b[0;31mSyntaxError\u001b[0m\u001b[0;31m:\u001b[0m invalid syntax\n"
     ]
    }
   ],
   "source": [
    "label_mapping = {label: i for i, label in enumerate(df['status'].unique())}\n",
    "label_mapping ="
   ]
  },
  {
   "cell_type": "code",
   "execution_count": null,
   "id": "19b0b9a7",
   "metadata": {},
   "outputs": [],
   "source": [
    "#Load the model and tokenizer from the saved paths\n",
    "path_for_model = '../models/bert_classification_v2'\n",
    "model_loaded = AutoModelForSequenceClassification.from_pretrained(path_for_model)\n",
    "tokenizer_loaded = AutoTokenizer.from_pretrained(path_for_model)\n",
    "device = torch.device('cuda' if torch.cuda.is_available() else 'cpu')\n",
    "model_loaded.to(device)"
   ]
  },
  {
   "cell_type": "code",
   "execution_count": null,
   "id": "01d0d980",
   "metadata": {},
   "outputs": [],
   "source": [
    "example_sentence = \"I've been feeling overwhelmed with work lately, but I'm trying to stay positive.\"\n",
    "get_prediction(example_sentence,model_loaded,tokenizer_loaded,device)\n"
   ]
  }
 ],
 "metadata": {
  "kernelspec": {
   "display_name": "venv_stress_sense",
   "language": "python",
   "name": "python3"
  },
  "language_info": {
   "codemirror_mode": {
    "name": "ipython",
    "version": 3
   },
   "file_extension": ".py",
   "mimetype": "text/x-python",
   "name": "python",
   "nbconvert_exporter": "python",
   "pygments_lexer": "ipython3",
   "version": "3.10.6"
  }
 },
 "nbformat": 4,
 "nbformat_minor": 5
}
