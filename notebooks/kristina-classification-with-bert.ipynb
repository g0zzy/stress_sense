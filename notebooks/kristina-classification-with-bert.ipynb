{
 "cells": [
  {
   "cell_type": "markdown",
   "metadata": {},
   "source": [
    "# 🧠 BERT for Mental Health State Classification  \n",
    "\n",
    "## 🔎 Project Overview  \n",
    "The goal of this project is to classify mental health states based on short text statements. After preprocessing and balancing the dataset, the model predicts one of the following classes:\n",
    "\n",
    "- **Normal**  \n",
    "- **Depression**  \n",
    "- **Suicidal**  \n",
    "- **Anxiety**  \n",
    "- **Stress**  \n",
    "- **Bipolar**  \n",
    "- **Personality disorder**\n",
    "\n",
    "---\n",
    "\n",
    "## ⚙️ Data Preprocessing  \n",
    "- Dropped unnecessary columns (`Unnamed: 0`)  \n",
    "- Removed null values using `dropna`  \n",
    "- Performed text cleaning (lowercasing, removing special characters, stopword removal)  \n",
    "- Balanced the dataset using **RandomOverSampler** from `imblearn`  \n",
    "- Encoded class labels with **LabelEncoder**  \n",
    "- Tokenized text with **BERT tokenizer**  \n",
    "\n",
    "---\n",
    "\n",
    "## 🤖 Model Building  \n",
    "- Model: **BERT (bert-base-uncased)** fine-tuned for sequence classification  \n",
    "- Used **Hugging Face Trainer** with training arguments (learning rate, epochs, batch size, etc.)  \n",
    "- Evaluation performed with classification report and confusion matrix  \n",
    "\n",
    "---\n",
    "\n",
    "## 📊 Results  \n",
    "The model provides predictions across all 7 classes and performance is evaluated with standard metrics (precision, recall, F1-score) and confusion matrix visualization.  \n",
    " "
   ]
  },
  {
   "cell_type": "markdown",
   "metadata": {},
   "source": [
    "## Import Libraries"
   ]
  },
  {
   "cell_type": "code",
   "execution_count": 2,
   "metadata": {
    "_cell_guid": "b1076dfc-b9ad-4769-8c92-a6c4dae69d19",
    "_uuid": "8f2839f25d086af736a60e9eeb907d3b93b6e0e5",
    "execution": {
     "iopub.execute_input": "2025-08-29T16:01:34.499541Z",
     "iopub.status.busy": "2025-08-29T16:01:34.498426Z",
     "iopub.status.idle": "2025-08-29T16:01:52.459612Z",
     "shell.execute_reply": "2025-08-29T16:01:52.458922Z",
     "shell.execute_reply.started": "2025-08-29T16:01:34.499502Z"
    },
    "trusted": true
   },
   "outputs": [
    {
     "name": "stderr",
     "output_type": "stream",
     "text": [
      "/home/kristina/.pyenv/versions/3.10.6/envs/stress_sense/lib/python3.10/site-packages/tqdm/auto.py:21: TqdmWarning: IProgress not found. Please update jupyter and ipywidgets. See https://ipywidgets.readthedocs.io/en/stable/user_install.html\n",
      "  from .autonotebook import tqdm as notebook_tqdm\n"
     ]
    }
   ],
   "source": [
    "#%pip uninstall -y scikit-learn imbalanced-learn\n",
    "#%pip install scikit-learn==1.3.2 imbalanced-learn==0.11.0\n",
    "\n",
    "import pandas as pd\n",
    "import numpy as np\n",
    "import transformers\n",
    "from sklearn.model_selection import train_test_split\n",
    "from sklearn.preprocessing import LabelEncoder\n",
    "from transformers import BertTokenizer, BertForSequenceClassification, Trainer, TrainingArguments\n",
    "import torch\n",
    "from torch.utils.data import DataLoader\n",
    "from datasets import Dataset\n",
    "from sklearn.metrics import classification_report, confusion_matrix\n",
    "import matplotlib.pyplot as plt\n",
    "import seaborn as sns\n",
    "import re\n",
    "import nltk\n",
    "from nltk.corpus import stopwords\n",
    "from imblearn.over_sampling import RandomOverSampler\n",
    "import warnings\n",
    "warnings.filterwarnings(\"ignore\")"
   ]
  },
  {
   "cell_type": "markdown",
   "metadata": {},
   "source": [
    "## Load Data"
   ]
  },
  {
   "cell_type": "code",
   "execution_count": 4,
   "metadata": {
    "execution": {
     "iopub.execute_input": "2025-08-29T16:01:52.461992Z",
     "iopub.status.busy": "2025-08-29T16:01:52.46114Z",
     "iopub.status.idle": "2025-08-29T16:01:52.896793Z",
     "shell.execute_reply": "2025-08-29T16:01:52.895856Z",
     "shell.execute_reply.started": "2025-08-29T16:01:52.461965Z"
    },
    "trusted": true
   },
   "outputs": [],
   "source": [
    "df = pd.read_csv('/home/kristina/code/g0zzy/stress_sense/raw_data/CombinedData.csv', index_col=0)"
   ]
  },
  {
   "cell_type": "code",
   "execution_count": 5,
   "metadata": {
    "execution": {
     "iopub.execute_input": "2025-08-29T16:01:52.898039Z",
     "iopub.status.busy": "2025-08-29T16:01:52.897776Z",
     "iopub.status.idle": "2025-08-29T16:01:52.910607Z",
     "shell.execute_reply": "2025-08-29T16:01:52.909762Z",
     "shell.execute_reply.started": "2025-08-29T16:01:52.898019Z"
    },
    "trusted": true
   },
   "outputs": [
    {
     "data": {
      "text/html": [
       "<div>\n",
       "<style scoped>\n",
       "    .dataframe tbody tr th:only-of-type {\n",
       "        vertical-align: middle;\n",
       "    }\n",
       "\n",
       "    .dataframe tbody tr th {\n",
       "        vertical-align: top;\n",
       "    }\n",
       "\n",
       "    .dataframe thead th {\n",
       "        text-align: right;\n",
       "    }\n",
       "</style>\n",
       "<table border=\"1\" class=\"dataframe\">\n",
       "  <thead>\n",
       "    <tr style=\"text-align: right;\">\n",
       "      <th></th>\n",
       "      <th>statement</th>\n",
       "      <th>status</th>\n",
       "    </tr>\n",
       "  </thead>\n",
       "  <tbody>\n",
       "    <tr>\n",
       "      <th>0</th>\n",
       "      <td>oh my gosh</td>\n",
       "      <td>Anxiety</td>\n",
       "    </tr>\n",
       "    <tr>\n",
       "      <th>1</th>\n",
       "      <td>trouble sleeping, confused mind, restless hear...</td>\n",
       "      <td>Anxiety</td>\n",
       "    </tr>\n",
       "    <tr>\n",
       "      <th>2</th>\n",
       "      <td>All wrong, back off dear, forward doubt. Stay ...</td>\n",
       "      <td>Anxiety</td>\n",
       "    </tr>\n",
       "    <tr>\n",
       "      <th>3</th>\n",
       "      <td>I've shifted my focus to something else but I'...</td>\n",
       "      <td>Anxiety</td>\n",
       "    </tr>\n",
       "    <tr>\n",
       "      <th>4</th>\n",
       "      <td>I'm restless and restless, it's been a month n...</td>\n",
       "      <td>Anxiety</td>\n",
       "    </tr>\n",
       "  </tbody>\n",
       "</table>\n",
       "</div>"
      ],
      "text/plain": [
       "                                           statement   status\n",
       "0                                         oh my gosh  Anxiety\n",
       "1  trouble sleeping, confused mind, restless hear...  Anxiety\n",
       "2  All wrong, back off dear, forward doubt. Stay ...  Anxiety\n",
       "3  I've shifted my focus to something else but I'...  Anxiety\n",
       "4  I'm restless and restless, it's been a month n...  Anxiety"
      ]
     },
     "execution_count": 5,
     "metadata": {},
     "output_type": "execute_result"
    }
   ],
   "source": [
    "df.head()"
   ]
  },
  {
   "cell_type": "code",
   "execution_count": null,
   "metadata": {
    "execution": {
     "iopub.execute_input": "2025-08-29T16:01:52.912887Z",
     "iopub.status.busy": "2025-08-29T16:01:52.912631Z",
     "iopub.status.idle": "2025-08-29T16:01:52.92916Z",
     "shell.execute_reply": "2025-08-29T16:01:52.928447Z",
     "shell.execute_reply.started": "2025-08-29T16:01:52.912868Z"
    },
    "trusted": true
   },
   "outputs": [],
   "source": [
    "df.head()"
   ]
  },
  {
   "cell_type": "code",
   "execution_count": 6,
   "metadata": {
    "execution": {
     "iopub.execute_input": "2025-08-29T16:01:52.930267Z",
     "iopub.status.busy": "2025-08-29T16:01:52.930011Z",
     "iopub.status.idle": "2025-08-29T16:01:52.944547Z",
     "shell.execute_reply": "2025-08-29T16:01:52.943757Z",
     "shell.execute_reply.started": "2025-08-29T16:01:52.930248Z"
    },
    "trusted": true
   },
   "outputs": [
    {
     "data": {
      "text/plain": [
       "(53043, 2)"
      ]
     },
     "execution_count": 6,
     "metadata": {},
     "output_type": "execute_result"
    }
   ],
   "source": [
    "df.shape"
   ]
  },
  {
   "cell_type": "code",
   "execution_count": 7,
   "metadata": {
    "execution": {
     "iopub.execute_input": "2025-08-29T16:01:52.94562Z",
     "iopub.status.busy": "2025-08-29T16:01:52.94539Z",
     "iopub.status.idle": "2025-08-29T16:01:52.974273Z",
     "shell.execute_reply": "2025-08-29T16:01:52.973309Z",
     "shell.execute_reply.started": "2025-08-29T16:01:52.945602Z"
    },
    "trusted": true
   },
   "outputs": [
    {
     "name": "stdout",
     "output_type": "stream",
     "text": [
      "<class 'pandas.core.frame.DataFrame'>\n",
      "Index: 53043 entries, 0 to 53042\n",
      "Data columns (total 2 columns):\n",
      " #   Column     Non-Null Count  Dtype \n",
      "---  ------     --------------  ----- \n",
      " 0   statement  52681 non-null  object\n",
      " 1   status     53043 non-null  object\n",
      "dtypes: object(2)\n",
      "memory usage: 1.2+ MB\n"
     ]
    }
   ],
   "source": [
    "df.info()"
   ]
  },
  {
   "cell_type": "code",
   "execution_count": 8,
   "metadata": {
    "execution": {
     "iopub.execute_input": "2025-08-29T16:01:52.975603Z",
     "iopub.status.busy": "2025-08-29T16:01:52.975361Z",
     "iopub.status.idle": "2025-08-29T16:01:52.988597Z",
     "shell.execute_reply": "2025-08-29T16:01:52.987942Z",
     "shell.execute_reply.started": "2025-08-29T16:01:52.975586Z"
    },
    "trusted": true
   },
   "outputs": [
    {
     "data": {
      "text/html": [
       "<div>\n",
       "<style scoped>\n",
       "    .dataframe tbody tr th:only-of-type {\n",
       "        vertical-align: middle;\n",
       "    }\n",
       "\n",
       "    .dataframe tbody tr th {\n",
       "        vertical-align: top;\n",
       "    }\n",
       "\n",
       "    .dataframe thead th {\n",
       "        text-align: right;\n",
       "    }\n",
       "</style>\n",
       "<table border=\"1\" class=\"dataframe\">\n",
       "  <thead>\n",
       "    <tr style=\"text-align: right;\">\n",
       "      <th></th>\n",
       "      <th>statement</th>\n",
       "      <th>status</th>\n",
       "    </tr>\n",
       "  </thead>\n",
       "  <tbody>\n",
       "    <tr>\n",
       "      <th>count</th>\n",
       "      <td>52681</td>\n",
       "      <td>53043</td>\n",
       "    </tr>\n",
       "    <tr>\n",
       "      <th>unique</th>\n",
       "      <td>51073</td>\n",
       "      <td>7</td>\n",
       "    </tr>\n",
       "    <tr>\n",
       "      <th>top</th>\n",
       "      <td>what do you mean?</td>\n",
       "      <td>Normal</td>\n",
       "    </tr>\n",
       "    <tr>\n",
       "      <th>freq</th>\n",
       "      <td>22</td>\n",
       "      <td>16351</td>\n",
       "    </tr>\n",
       "  </tbody>\n",
       "</table>\n",
       "</div>"
      ],
      "text/plain": [
       "                statement  status\n",
       "count               52681   53043\n",
       "unique              51073       7\n",
       "top     what do you mean?  Normal\n",
       "freq                   22   16351"
      ]
     },
     "execution_count": 8,
     "metadata": {},
     "output_type": "execute_result"
    }
   ],
   "source": [
    "df.describe()"
   ]
  },
  {
   "cell_type": "markdown",
   "metadata": {},
   "source": [
    "## Handling Null Values"
   ]
  },
  {
   "cell_type": "code",
   "execution_count": 9,
   "metadata": {
    "execution": {
     "iopub.execute_input": "2025-08-29T16:01:52.989749Z",
     "iopub.status.busy": "2025-08-29T16:01:52.989449Z",
     "iopub.status.idle": "2025-08-29T16:01:53.004879Z",
     "shell.execute_reply": "2025-08-29T16:01:53.004107Z",
     "shell.execute_reply.started": "2025-08-29T16:01:52.989717Z"
    },
    "trusted": true
   },
   "outputs": [
    {
     "data": {
      "text/plain": [
       "statement    362\n",
       "status         0\n",
       "dtype: int64"
      ]
     },
     "execution_count": 9,
     "metadata": {},
     "output_type": "execute_result"
    }
   ],
   "source": [
    "df.isna().sum()"
   ]
  },
  {
   "cell_type": "code",
   "execution_count": 10,
   "metadata": {
    "execution": {
     "iopub.execute_input": "2025-08-29T16:01:53.005857Z",
     "iopub.status.busy": "2025-08-29T16:01:53.005679Z",
     "iopub.status.idle": "2025-08-29T16:01:53.032743Z",
     "shell.execute_reply": "2025-08-29T16:01:53.031882Z",
     "shell.execute_reply.started": "2025-08-29T16:01:53.005843Z"
    },
    "trusted": true
   },
   "outputs": [],
   "source": [
    "df.dropna(inplace=True)"
   ]
  },
  {
   "cell_type": "code",
   "execution_count": 11,
   "metadata": {
    "execution": {
     "iopub.execute_input": "2025-08-29T16:01:53.036611Z",
     "iopub.status.busy": "2025-08-29T16:01:53.036305Z",
     "iopub.status.idle": "2025-08-29T16:01:53.043859Z",
     "shell.execute_reply": "2025-08-29T16:01:53.042929Z",
     "shell.execute_reply.started": "2025-08-29T16:01:53.036588Z"
    },
    "trusted": true
   },
   "outputs": [],
   "source": [
    "#df.drop(columns=['Unnamed: 0'], inplace=True)"
   ]
  },
  {
   "cell_type": "code",
   "execution_count": 11,
   "metadata": {
    "execution": {
     "iopub.execute_input": "2025-08-29T16:01:53.044914Z",
     "iopub.status.busy": "2025-08-29T16:01:53.044664Z",
     "iopub.status.idle": "2025-08-29T16:01:53.062455Z",
     "shell.execute_reply": "2025-08-29T16:01:53.061539Z",
     "shell.execute_reply.started": "2025-08-29T16:01:53.044896Z"
    },
    "trusted": true
   },
   "outputs": [],
   "source": [
    "df = df.sample(n=6000, random_state=42).reset_index(drop=True)"
   ]
  },
  {
   "cell_type": "code",
   "execution_count": 12,
   "metadata": {
    "execution": {
     "iopub.execute_input": "2025-08-29T16:01:53.063766Z",
     "iopub.status.busy": "2025-08-29T16:01:53.063443Z",
     "iopub.status.idle": "2025-08-29T16:01:53.083278Z",
     "shell.execute_reply": "2025-08-29T16:01:53.082501Z",
     "shell.execute_reply.started": "2025-08-29T16:01:53.063741Z"
    },
    "trusted": true
   },
   "outputs": [
    {
     "data": {
      "text/html": [
       "<div>\n",
       "<style scoped>\n",
       "    .dataframe tbody tr th:only-of-type {\n",
       "        vertical-align: middle;\n",
       "    }\n",
       "\n",
       "    .dataframe tbody tr th {\n",
       "        vertical-align: top;\n",
       "    }\n",
       "\n",
       "    .dataframe thead th {\n",
       "        text-align: right;\n",
       "    }\n",
       "</style>\n",
       "<table border=\"1\" class=\"dataframe\">\n",
       "  <thead>\n",
       "    <tr style=\"text-align: right;\">\n",
       "      <th></th>\n",
       "      <th>statement</th>\n",
       "      <th>status</th>\n",
       "    </tr>\n",
       "  </thead>\n",
       "  <tbody>\n",
       "    <tr>\n",
       "      <th>0</th>\n",
       "      <td>I'm lazy to complain about it ba ihh</td>\n",
       "      <td>Normal</td>\n",
       "    </tr>\n",
       "    <tr>\n",
       "      <th>1</th>\n",
       "      <td>i think the wifi on my iphone is broken it wil...</td>\n",
       "      <td>Normal</td>\n",
       "    </tr>\n",
       "    <tr>\n",
       "      <th>2</th>\n",
       "      <td>Good tracking apps? I've been trying to find a...</td>\n",
       "      <td>Bipolar</td>\n",
       "    </tr>\n",
       "    <tr>\n",
       "      <th>3</th>\n",
       "      <td>I have recently looked into reddit and found t...</td>\n",
       "      <td>Depression</td>\n",
       "    </tr>\n",
       "    <tr>\n",
       "      <th>4</th>\n",
       "      <td>that's your favorite thing to do?</td>\n",
       "      <td>Normal</td>\n",
       "    </tr>\n",
       "    <tr>\n",
       "      <th>...</th>\n",
       "      <td>...</td>\n",
       "      <td>...</td>\n",
       "    </tr>\n",
       "    <tr>\n",
       "      <th>5995</th>\n",
       "      <td>What is around you right now? A photo? A comfo...</td>\n",
       "      <td>Depression</td>\n",
       "    </tr>\n",
       "    <tr>\n",
       "      <th>5996</th>\n",
       "      <td>I am tired. I am ready for everything to be ov...</td>\n",
       "      <td>Suicidal</td>\n",
       "    </tr>\n",
       "    <tr>\n",
       "      <th>5997</th>\n",
       "      <td>? What if I am at a friends party and a man wh...</td>\n",
       "      <td>Stress</td>\n",
       "    </tr>\n",
       "    <tr>\n",
       "      <th>5998</th>\n",
       "      <td>if it add any kind of info m almost the thing ...</td>\n",
       "      <td>Depression</td>\n",
       "    </tr>\n",
       "    <tr>\n",
       "      <th>5999</th>\n",
       "      <td>A poem to me, by my bi-polar father. My dad di...</td>\n",
       "      <td>Bipolar</td>\n",
       "    </tr>\n",
       "  </tbody>\n",
       "</table>\n",
       "<p>6000 rows × 2 columns</p>\n",
       "</div>"
      ],
      "text/plain": [
       "                                              statement      status\n",
       "0                  I'm lazy to complain about it ba ihh      Normal\n",
       "1     i think the wifi on my iphone is broken it wil...      Normal\n",
       "2     Good tracking apps? I've been trying to find a...     Bipolar\n",
       "3     I have recently looked into reddit and found t...  Depression\n",
       "4                     that's your favorite thing to do?      Normal\n",
       "...                                                 ...         ...\n",
       "5995  What is around you right now? A photo? A comfo...  Depression\n",
       "5996  I am tired. I am ready for everything to be ov...    Suicidal\n",
       "5997  ? What if I am at a friends party and a man wh...      Stress\n",
       "5998  if it add any kind of info m almost the thing ...  Depression\n",
       "5999  A poem to me, by my bi-polar father. My dad di...     Bipolar\n",
       "\n",
       "[6000 rows x 2 columns]"
      ]
     },
     "execution_count": 12,
     "metadata": {},
     "output_type": "execute_result"
    }
   ],
   "source": [
    "df"
   ]
  },
  {
   "cell_type": "markdown",
   "metadata": {},
   "source": [
    "## Data Preprocessing"
   ]
  },
  {
   "cell_type": "markdown",
   "metadata": {},
   "source": [
    "### Text Cleaning"
   ]
  },
  {
   "cell_type": "code",
   "execution_count": 13,
   "metadata": {
    "execution": {
     "iopub.execute_input": "2025-08-29T16:01:53.084349Z",
     "iopub.status.busy": "2025-08-29T16:01:53.084077Z",
     "iopub.status.idle": "2025-08-29T16:01:53.31599Z",
     "shell.execute_reply": "2025-08-29T16:01:53.315009Z",
     "shell.execute_reply.started": "2025-08-29T16:01:53.084321Z"
    },
    "trusted": true
   },
   "outputs": [
    {
     "name": "stderr",
     "output_type": "stream",
     "text": [
      "[nltk_data] Downloading package stopwords to\n",
      "[nltk_data]     /home/kristina/nltk_data...\n",
      "[nltk_data]   Package stopwords is already up-to-date!\n"
     ]
    }
   ],
   "source": [
    "nltk.download('stopwords')\n",
    "stopwordss = set(stopwords.words(\"english\"))\n",
    "\n",
    "def clean_text(text):\n",
    "    text = text.lower()\n",
    "    text = re.sub(r\"[^a-zA-Z\\s]\", '', text)\n",
    "    words = text.split()\n",
    "    wordss = [word for word in words if word not in stopwordss]\n",
    "    return \" \".join(words)\n",
    "\n",
    "df['statement'] = df['statement'].apply(clean_text)"
   ]
  },
  {
   "cell_type": "markdown",
   "metadata": {},
   "source": [
    "### Resampling Data"
   ]
  },
  {
   "cell_type": "code",
   "execution_count": 14,
   "metadata": {
    "execution": {
     "iopub.execute_input": "2025-08-29T16:01:53.317175Z",
     "iopub.status.busy": "2025-08-29T16:01:53.316923Z",
     "iopub.status.idle": "2025-08-29T16:01:53.325077Z",
     "shell.execute_reply": "2025-08-29T16:01:53.324034Z",
     "shell.execute_reply.started": "2025-08-29T16:01:53.317155Z"
    },
    "trusted": true
   },
   "outputs": [
    {
     "data": {
      "text/plain": [
       "status\n",
       "Normal                  1894\n",
       "Depression              1730\n",
       "Suicidal                1219\n",
       "Anxiety                  429\n",
       "Stress                   304\n",
       "Bipolar                  293\n",
       "Personality disorder     131\n",
       "Name: count, dtype: int64"
      ]
     },
     "execution_count": 14,
     "metadata": {},
     "output_type": "execute_result"
    }
   ],
   "source": [
    "df['status'].value_counts()"
   ]
  },
  {
   "cell_type": "code",
   "execution_count": 15,
   "metadata": {
    "execution": {
     "iopub.execute_input": "2025-08-29T16:01:53.326135Z",
     "iopub.status.busy": "2025-08-29T16:01:53.32593Z",
     "iopub.status.idle": "2025-08-29T16:01:53.364083Z",
     "shell.execute_reply": "2025-08-29T16:01:53.363242Z",
     "shell.execute_reply.started": "2025-08-29T16:01:53.32612Z"
    },
    "trusted": true
   },
   "outputs": [
    {
     "name": "stdout",
     "output_type": "stream",
     "text": [
      "status\n",
      "Normal                  1894\n",
      "Bipolar                 1894\n",
      "Depression              1894\n",
      "Suicidal                1894\n",
      "Stress                  1894\n",
      "Personality disorder    1894\n",
      "Anxiety                 1894\n",
      "Name: count, dtype: int64\n"
     ]
    }
   ],
   "source": [
    "ros = RandomOverSampler(sampling_strategy='auto', random_state=42)\n",
    "X = df.drop(columns=['status'])\n",
    "y = df['status']\n",
    "\n",
    "X_resampled, y_resampled = ros.fit_resample(X,y)\n",
    "\n",
    "df = pd.concat([X_resampled, y_resampled], axis=1)\n",
    "\n",
    "print(df['status'].value_counts())"
   ]
  },
  {
   "cell_type": "markdown",
   "metadata": {},
   "source": [
    "### Encoding"
   ]
  },
  {
   "cell_type": "code",
   "execution_count": 16,
   "metadata": {
    "execution": {
     "iopub.execute_input": "2025-08-29T16:01:53.365336Z",
     "iopub.status.busy": "2025-08-29T16:01:53.365024Z",
     "iopub.status.idle": "2025-08-29T16:01:53.372916Z",
     "shell.execute_reply": "2025-08-29T16:01:53.372141Z",
     "shell.execute_reply.started": "2025-08-29T16:01:53.365316Z"
    },
    "trusted": true
   },
   "outputs": [],
   "source": [
    "le = LabelEncoder()\n",
    "df['label'] = le.fit_transform(df['status'])"
   ]
  },
  {
   "cell_type": "markdown",
   "metadata": {},
   "source": [
    "## Splitting Data"
   ]
  },
  {
   "cell_type": "code",
   "execution_count": 17,
   "metadata": {
    "execution": {
     "iopub.execute_input": "2025-08-29T16:01:53.374235Z",
     "iopub.status.busy": "2025-08-29T16:01:53.373686Z",
     "iopub.status.idle": "2025-08-29T16:01:53.394272Z",
     "shell.execute_reply": "2025-08-29T16:01:53.393541Z",
     "shell.execute_reply.started": "2025-08-29T16:01:53.374214Z"
    },
    "trusted": true
   },
   "outputs": [],
   "source": [
    "X_train, X_test, y_train, y_test = train_test_split(df['statement'], df['label'], test_size=0.2, random_state=42)"
   ]
  },
  {
   "cell_type": "markdown",
   "metadata": {},
   "source": [
    "## Tokenization"
   ]
  },
  {
   "cell_type": "code",
   "execution_count": 18,
   "metadata": {
    "execution": {
     "iopub.execute_input": "2025-08-29T16:01:53.395794Z",
     "iopub.status.busy": "2025-08-29T16:01:53.395435Z",
     "iopub.status.idle": "2025-08-29T16:02:21.199146Z",
     "shell.execute_reply": "2025-08-29T16:02:21.198245Z",
     "shell.execute_reply.started": "2025-08-29T16:01:53.395767Z"
    },
    "trusted": true
   },
   "outputs": [],
   "source": [
    "tokenizer =  BertTokenizer.from_pretrained('bert-base-uncased')\n",
    "\n",
    "X_train_tokenize = tokenizer(list(X_train), padding=True, truncation=True, max_length=200)\n",
    "X_test_tokenize = tokenizer(list(X_test), padding=True, truncation=True, max_length=200)"
   ]
  },
  {
   "cell_type": "code",
   "execution_count": 19,
   "metadata": {
    "execution": {
     "iopub.execute_input": "2025-08-29T16:02:21.20106Z",
     "iopub.status.busy": "2025-08-29T16:02:21.200359Z",
     "iopub.status.idle": "2025-08-29T16:02:21.206427Z",
     "shell.execute_reply": "2025-08-29T16:02:21.205432Z",
     "shell.execute_reply.started": "2025-08-29T16:02:21.201031Z"
    },
    "trusted": true
   },
   "outputs": [
    {
     "name": "stdout",
     "output_type": "stream",
     "text": [
      "[101, 2074, 10657, 2360, 2651, 2001, 2428, 7823, 1045, 3728, 2288, 5086, 2012, 1037, 3435, 2833, 4825, 1998, 2651, 2001, 2026, 2353, 2154, 1997, 2731, 2096, 2026, 10365, 2001, 2183, 2058, 2070, 2477, 1045, 2288, 2023, 3255, 4218, 2026, 3244, 6085, 2008, 2371, 2428, 4629, 2043, 1045, 8726, 1999, 1045, 2318, 16058, 6634, 6834, 5191, 2242, 2001, 3308, 1998, 1045, 2001, 6069, 6752, 2039, 2012, 2026, 2047, 3105, 2138, 1045, 2134, 2102, 2215, 2000, 2681, 2220, 2030, 2191, 3087, 4737, 1998, 1045, 2134, 2102, 2215, 2000, 3280, 1999, 1996, 5723, 4385, 1045, 2371, 1037, 6634, 2886, 3225, 2026, 3108, 2371, 3082, 1998, 1045, 2371, 2061, 6015, 1045, 2001, 6427, 2242, 2001, 3308, 2007, 2026, 8948, 2144, 2009, 2001, 2524, 2000, 7200, 2004, 2092, 1045, 3266, 2000, 2562, 2870, 2013, 2383, 1037, 6634, 2886, 1998, 3724, 2083, 2026, 5670, 2130, 2295, 1045, 2288, 1037, 2919, 14978, 2005, 1996, 2197, 3178, 1997, 2009, 1045, 2288, 2188, 9069, 10047, 2145, 6015, 2008, 2242, 2003, 3308, 2007, 2026, 8948, 2740, 10089, 2003, 2061, 11757, 15095, 2075, 1045, 5223, 12447, 2039, 2296, 2154, 15366, 2055, 5996, 2049, 2061, 2524, 2074, 2000, 2147, 2012, 2023, 6263, 11897, 3105, 2049, 2074, 2428, 14841, 4892, 1045, 2514, 102]\n",
      "[1, 1, 1, 1, 1, 1, 1, 1, 1, 1, 1, 1, 1, 1, 1, 1, 1, 1, 1, 1, 1, 1, 1, 1, 1, 1, 1, 1, 1, 1, 1, 1, 1, 1, 1, 1, 1, 1, 1, 1, 1, 1, 1, 1, 1, 1, 1, 1, 1, 1, 1, 1, 1, 1, 1, 1, 1, 1, 1, 1, 1, 1, 1, 1, 1, 1, 1, 1, 1, 1, 1, 1, 1, 1, 1, 1, 1, 1, 1, 1, 1, 1, 1, 1, 1, 1, 1, 1, 1, 1, 1, 1, 1, 1, 1, 1, 1, 1, 1, 1, 1, 1, 1, 1, 1, 1, 1, 1, 1, 1, 1, 1, 1, 1, 1, 1, 1, 1, 1, 1, 1, 1, 1, 1, 1, 1, 1, 1, 1, 1, 1, 1, 1, 1, 1, 1, 1, 1, 1, 1, 1, 1, 1, 1, 1, 1, 1, 1, 1, 1, 1, 1, 1, 1, 1, 1, 1, 1, 1, 1, 1, 1, 1, 1, 1, 1, 1, 1, 1, 1, 1, 1, 1, 1, 1, 1, 1, 1, 1, 1, 1, 1, 1, 1, 1, 1, 1, 1, 1, 1, 1, 1, 1, 1, 1, 1, 1, 1, 1, 1]\n",
      "[0, 0, 0, 0, 0, 0, 0, 0, 0, 0, 0, 0, 0, 0, 0, 0, 0, 0, 0, 0, 0, 0, 0, 0, 0, 0, 0, 0, 0, 0, 0, 0, 0, 0, 0, 0, 0, 0, 0, 0, 0, 0, 0, 0, 0, 0, 0, 0, 0, 0, 0, 0, 0, 0, 0, 0, 0, 0, 0, 0, 0, 0, 0, 0, 0, 0, 0, 0, 0, 0, 0, 0, 0, 0, 0, 0, 0, 0, 0, 0, 0, 0, 0, 0, 0, 0, 0, 0, 0, 0, 0, 0, 0, 0, 0, 0, 0, 0, 0, 0, 0, 0, 0, 0, 0, 0, 0, 0, 0, 0, 0, 0, 0, 0, 0, 0, 0, 0, 0, 0, 0, 0, 0, 0, 0, 0, 0, 0, 0, 0, 0, 0, 0, 0, 0, 0, 0, 0, 0, 0, 0, 0, 0, 0, 0, 0, 0, 0, 0, 0, 0, 0, 0, 0, 0, 0, 0, 0, 0, 0, 0, 0, 0, 0, 0, 0, 0, 0, 0, 0, 0, 0, 0, 0, 0, 0, 0, 0, 0, 0, 0, 0, 0, 0, 0, 0, 0, 0, 0, 0, 0, 0, 0, 0, 0, 0, 0, 0, 0, 0]\n"
     ]
    }
   ],
   "source": [
    "print(X_train_tokenize['input_ids'][1])       # first sentence input_ids\n",
    "print(X_train_tokenize['attention_mask'][0] )  # first sentence attention_mask\n",
    "print(X_train_tokenize['token_type_ids'][0])   # first sentence token_type_ids\n"
   ]
  },
  {
   "cell_type": "code",
   "execution_count": 20,
   "metadata": {
    "execution": {
     "iopub.execute_input": "2025-08-29T16:02:21.207735Z",
     "iopub.status.busy": "2025-08-29T16:02:21.207379Z",
     "iopub.status.idle": "2025-08-29T16:02:22.212053Z",
     "shell.execute_reply": "2025-08-29T16:02:22.211403Z",
     "shell.execute_reply.started": "2025-08-29T16:02:21.207705Z"
    },
    "trusted": true
   },
   "outputs": [],
   "source": [
    "train_dataset = Dataset.from_dict({\n",
    "    'input_ids': X_train_tokenize['input_ids'],\n",
    "    'attention_mask': X_train_tokenize['attention_mask'],\n",
    "    'labels': list(y_train)\n",
    "})\n",
    "\n",
    "test_dataset = Dataset.from_dict({\n",
    "    'input_ids': X_test_tokenize['input_ids'],\n",
    "    'attention_mask': X_test_tokenize['attention_mask'],\n",
    "    'labels': list(y_test)\n",
    "})"
   ]
  },
  {
   "cell_type": "markdown",
   "metadata": {},
   "source": [
    "## Model Building"
   ]
  },
  {
   "cell_type": "code",
   "execution_count": 21,
   "metadata": {
    "execution": {
     "iopub.execute_input": "2025-08-29T16:02:22.234592Z",
     "iopub.status.busy": "2025-08-29T16:02:22.234275Z",
     "iopub.status.idle": "2025-08-29T16:02:22.590558Z",
     "shell.execute_reply": "2025-08-29T16:02:22.589686Z",
     "shell.execute_reply.started": "2025-08-29T16:02:22.23457Z"
    },
    "trusted": true
   },
   "outputs": [
    {
     "name": "stderr",
     "output_type": "stream",
     "text": [
      "Some weights of BertForSequenceClassification were not initialized from the model checkpoint at bert-base-uncased and are newly initialized: ['classifier.bias', 'classifier.weight']\n",
      "You should probably TRAIN this model on a down-stream task to be able to use it for predictions and inference.\n"
     ]
    }
   ],
   "source": [
    "model = BertForSequenceClassification.from_pretrained('bert-base-uncased', num_labels = len(le.classes_))\n",
    "training_args = TrainingArguments(\n",
    "    output_dir=\"./results\",\n",
    "    eval_strategy=\"epoch\",\n",
    "    save_strategy=\"epoch\",\n",
    "    learning_rate=2e-5,\n",
    "    per_device_train_batch_size=16,\n",
    "    per_device_eval_batch_size=16,\n",
    "    num_train_epochs=5,\n",
    "    weight_decay=0.01,\n",
    "    logging_dir=\"./logs\",\n",
    "    logging_steps=10,\n",
    "    lr_scheduler_type=\"linear\",\n",
    "    warmup_steps=500,\n",
    "    load_best_model_at_end=True,\n",
    "    metric_for_best_model=\"eval_loss\",\n",
    "    save_total_limit=3,\n",
    "    gradient_accumulation_steps=2\n",
    ")\n"
   ]
  },
  {
   "cell_type": "code",
   "execution_count": 22,
   "metadata": {
    "execution": {
     "iopub.execute_input": "2025-08-29T16:02:22.59187Z",
     "iopub.status.busy": "2025-08-29T16:02:22.59156Z",
     "iopub.status.idle": "2025-08-29T16:02:24.852196Z",
     "shell.execute_reply": "2025-08-29T16:02:24.851635Z",
     "shell.execute_reply.started": "2025-08-29T16:02:22.591835Z"
    },
    "trusted": true
   },
   "outputs": [],
   "source": [
    "trainer = Trainer(\n",
    "    model = model,\n",
    "    args=training_args,\n",
    "    train_dataset=train_dataset,\n",
    "    eval_dataset=test_dataset\n",
    ")\n"
   ]
  },
  {
   "cell_type": "code",
   "execution_count": 23,
   "metadata": {
    "execution": {
     "iopub.execute_input": "2025-08-29T16:14:42.856206Z",
     "iopub.status.busy": "2025-08-29T16:14:42.855612Z",
     "iopub.status.idle": "2025-08-29T16:14:50.046398Z",
     "shell.execute_reply": "2025-08-29T16:14:50.045694Z",
     "shell.execute_reply.started": "2025-08-29T16:14:42.856181Z"
    },
    "trusted": true
   },
   "outputs": [
    {
     "ename": "ModuleNotFoundError",
     "evalue": "No module named 'wandb'",
     "output_type": "error",
     "traceback": [
      "\u001b[0;31m---------------------------------------------------------------------------\u001b[0m",
      "\u001b[0;31mModuleNotFoundError\u001b[0m                       Traceback (most recent call last)",
      "Cell \u001b[0;32mIn[23], line 1\u001b[0m\n\u001b[0;32m----> 1\u001b[0m \u001b[38;5;28;01mimport\u001b[39;00m\u001b[38;5;250m \u001b[39m\u001b[38;5;21;01mwandb\u001b[39;00m\n\u001b[1;32m      2\u001b[0m wandb\u001b[38;5;241m.\u001b[39minit(project\u001b[38;5;241m=\u001b[39m\u001b[38;5;124m\"\u001b[39m\u001b[38;5;124mMental Healt State\u001b[39m\u001b[38;5;124m\"\u001b[39m, entity\u001b[38;5;241m=\u001b[39m\u001b[38;5;124m\"\u001b[39m\u001b[38;5;124mshivamshukla8112005\u001b[39m\u001b[38;5;124m\"\u001b[39m, mode\u001b[38;5;241m=\u001b[39m\u001b[38;5;124m\"\u001b[39m\u001b[38;5;124moffline\u001b[39m\u001b[38;5;124m\"\u001b[39m)\n",
      "\u001b[0;31mModuleNotFoundError\u001b[0m: No module named 'wandb'"
     ]
    }
   ],
   "source": [
    "import wandb\n",
    "wandb.init(project=\"Mental Healt State\", entity=\"shivamshukla8112005\", mode=\"offline\")"
   ]
  },
  {
   "cell_type": "code",
   "execution_count": 24,
   "metadata": {
    "execution": {
     "iopub.execute_input": "2025-08-29T16:14:58.890995Z",
     "iopub.status.busy": "2025-08-29T16:14:58.890312Z",
     "iopub.status.idle": "2025-08-29T16:36:44.035399Z",
     "shell.execute_reply": "2025-08-29T16:36:44.034775Z",
     "shell.execute_reply.started": "2025-08-29T16:14:58.890969Z"
    },
    "trusted": true
   },
   "outputs": [
    {
     "data": {
      "text/html": [
       "\n",
       "    <div>\n",
       "      \n",
       "      <progress value='1660' max='1660' style='width:300px; height:20px; vertical-align: middle;'></progress>\n",
       "      [1660/1660 12:31:57, Epoch 5/5]\n",
       "    </div>\n",
       "    <table border=\"1\" class=\"dataframe\">\n",
       "  <thead>\n",
       " <tr style=\"text-align: left;\">\n",
       "      <th>Epoch</th>\n",
       "      <th>Training Loss</th>\n",
       "      <th>Validation Loss</th>\n",
       "    </tr>\n",
       "  </thead>\n",
       "  <tbody>\n",
       "    <tr>\n",
       "      <td>1</td>\n",
       "      <td>1.072200</td>\n",
       "      <td>0.969654</td>\n",
       "    </tr>\n",
       "    <tr>\n",
       "      <td>2</td>\n",
       "      <td>0.345100</td>\n",
       "      <td>0.318570</td>\n",
       "    </tr>\n",
       "    <tr>\n",
       "      <td>3</td>\n",
       "      <td>0.247400</td>\n",
       "      <td>0.213883</td>\n",
       "    </tr>\n",
       "    <tr>\n",
       "      <td>4</td>\n",
       "      <td>0.095400</td>\n",
       "      <td>0.210123</td>\n",
       "    </tr>\n",
       "    <tr>\n",
       "      <td>5</td>\n",
       "      <td>0.077500</td>\n",
       "      <td>0.225651</td>\n",
       "    </tr>\n",
       "  </tbody>\n",
       "</table><p>"
      ],
      "text/plain": [
       "<IPython.core.display.HTML object>"
      ]
     },
     "metadata": {},
     "output_type": "display_data"
    },
    {
     "data": {
      "text/plain": [
       "TrainOutput(global_step=1660, training_loss=0.5064255246376417, metrics={'train_runtime': 45126.2875, 'train_samples_per_second': 1.175, 'train_steps_per_second': 0.037, 'total_flos': 5450549081100000.0, 'train_loss': 0.5064255246376417, 'epoch': 5.0})"
      ]
     },
     "execution_count": 24,
     "metadata": {},
     "output_type": "execute_result"
    }
   ],
   "source": [
    "trainer.train()"
   ]
  },
  {
   "cell_type": "markdown",
   "metadata": {},
   "source": [
    "## Evaluation"
   ]
  },
  {
   "cell_type": "code",
   "execution_count": 25,
   "metadata": {
    "execution": {
     "iopub.execute_input": "2025-08-29T16:50:11.219295Z",
     "iopub.status.busy": "2025-08-29T16:50:11.219015Z",
     "iopub.status.idle": "2025-08-29T16:50:33.251294Z",
     "shell.execute_reply": "2025-08-29T16:50:33.250292Z",
     "shell.execute_reply.started": "2025-08-29T16:50:11.21928Z"
    },
    "trusted": true
   },
   "outputs": [
    {
     "data": {
      "text/html": [],
      "text/plain": [
       "<IPython.core.display.HTML object>"
      ]
     },
     "metadata": {},
     "output_type": "display_data"
    },
    {
     "name": "stdout",
     "output_type": "stream",
     "text": [
      "                      precision    recall  f1-score   support\n",
      "\n",
      "             Anxiety       0.97      1.00      0.99       342\n",
      "             Bipolar       0.99      1.00      0.99       397\n",
      "          Depression       0.86      0.66      0.75       369\n",
      "              Normal       0.96      0.94      0.95       401\n",
      "Personality disorder       1.00      1.00      1.00       386\n",
      "              Stress       0.97      1.00      0.98       361\n",
      "            Suicidal       0.77      0.89      0.82       396\n",
      "\n",
      "            accuracy                           0.93      2652\n",
      "           macro avg       0.93      0.93      0.93      2652\n",
      "        weighted avg       0.93      0.93      0.93      2652\n",
      "\n"
     ]
    },
    {
     "data": {
      "image/png": "[encoded data removed]",
      "text/plain": [
       "<Figure size 1200x800 with 2 Axes>"
      ]
     },
     "metadata": {},
     "output_type": "display_data"
    }
   ],
   "source": [
    "pred, labels, _ = trainer.predict(test_dataset)\n",
    "\n",
    "predicted_labels = np.argmax(pred, axis=1)\n",
    "\n",
    "print(classification_report(y_test, predicted_labels, target_names=le.classes_))\n",
    "\n",
    "cm = confusion_matrix(y_test, predicted_labels)\n",
    "\n",
    "plt.figure(figsize=(12,8))\n",
    "sns.heatmap(cm, annot=True, fmt='d')\n",
    "plt.xlabel('predicted')\n",
    "plt.ylabel('True')\n",
    "plt.show()"
   ]
  }
 ],
 "metadata": {
  "kaggle": {
   "accelerator": "nvidiaTeslaT4",
   "dataSources": [
    {
     "datasetId": 5338273,
     "sourceId": 8870083,
     "sourceType": "datasetVersion"
    }
   ],
   "dockerImageVersionId": 31089,
   "isGpuEnabled": true,
   "isInternetEnabled": false,
   "language": "python",
   "sourceType": "notebook"
  },
  "kernelspec": {
   "display_name": "stress_sense",
   "language": "python",
   "name": "python3"
  },
  "language_info": {
   "codemirror_mode": {
    "name": "ipython",
    "version": 3
   },
   "file_extension": ".py",
   "mimetype": "text/x-python",
   "name": "python",
   "nbconvert_exporter": "python",
   "pygments_lexer": "ipython3",
   "version": "3.10.6"
  }
 },
 "nbformat": 4,
 "nbformat_minor": 4
}
