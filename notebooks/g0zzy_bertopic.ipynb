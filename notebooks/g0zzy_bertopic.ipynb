{
 "cells": [
  {
   "cell_type": "code",
   "execution_count": 107,
   "id": "923bb65d",
   "metadata": {},
   "outputs": [],
   "source": [
    "import pandas as pd\n",
    "\n",
    "# Loading the dataset\n",
    "path = \"/Users/gozde/code/g0zzy/stress_sense/raw_data/Data.csv\"\n",
    "data = pd.read_csv(path)\n",
    "\n",
    "data.drop(columns=[\"Unnamed: 0\"], inplace=True)\n",
    "data.dropna(inplace=True)\n",
    "data.drop_duplicates(inplace=True)"
   ]
  },
  {
   "cell_type": "code",
   "execution_count": 108,
   "id": "4f33e59d",
   "metadata": {},
   "outputs": [],
   "source": [
    "import re\n",
    "\n",
    "def strip_urls(text: str) -> str:\n",
    "    \"\"\"\n",
    "    Remove URLs (http, https, www, youtu links) from a string.\n",
    "    \"\"\"\n",
    "    # remove http/https URLs\n",
    "    text = re.sub(r\"http\\S+\", \"\", text)\n",
    "    # remove www.* URLs\n",
    "    text = re.sub(r\"www\\.\\S+\", \"\", text)\n",
    "    # remove youtube short links\n",
    "    text = re.sub(r\"youtu\\.be\\S+\", \"\", text)\n",
    "    return text.strip()"
   ]
  },
  {
   "cell_type": "markdown",
   "id": "a51f1218",
   "metadata": {},
   "source": [
    "* Do not do any other preprocessing steps such as lowercasing,  removing stopwords, lemmatization, stemming, etc. as they might remove important context for the model to learn from. Just have to remove the URLs etc from data. \n",
    "\n",
    "* **Transformers are trained on raw(ish) text**"
   ]
  },
  {
   "cell_type": "code",
   "execution_count": 109,
   "id": "0209dc6e",
   "metadata": {},
   "outputs": [],
   "source": [
    "data.statement = data.statement.apply(lambda x: x.strip())"
   ]
  },
  {
   "cell_type": "code",
   "execution_count": 110,
   "id": "626428c9",
   "metadata": {},
   "outputs": [],
   "source": [
    "data.statement = data.statement.apply(strip_urls)"
   ]
  },
  {
   "cell_type": "code",
   "execution_count": 111,
   "id": "a7261d6b",
   "metadata": {},
   "outputs": [
    {
     "data": {
      "text/html": [
       "<div>\n",
       "<style scoped>\n",
       "    .dataframe tbody tr th:only-of-type {\n",
       "        vertical-align: middle;\n",
       "    }\n",
       "\n",
       "    .dataframe tbody tr th {\n",
       "        vertical-align: top;\n",
       "    }\n",
       "\n",
       "    .dataframe thead th {\n",
       "        text-align: right;\n",
       "    }\n",
       "</style>\n",
       "<table border=\"1\" class=\"dataframe\">\n",
       "  <thead>\n",
       "    <tr style=\"text-align: right;\">\n",
       "      <th></th>\n",
       "      <th>statement</th>\n",
       "      <th>status</th>\n",
       "    </tr>\n",
       "  </thead>\n",
       "  <tbody>\n",
       "    <tr>\n",
       "      <th>0</th>\n",
       "      <td>oh my gosh</td>\n",
       "      <td>Anxiety</td>\n",
       "    </tr>\n",
       "    <tr>\n",
       "      <th>1</th>\n",
       "      <td>trouble sleeping, confused mind, restless hear...</td>\n",
       "      <td>Anxiety</td>\n",
       "    </tr>\n",
       "    <tr>\n",
       "      <th>2</th>\n",
       "      <td>All wrong, back off dear, forward doubt. Stay ...</td>\n",
       "      <td>Anxiety</td>\n",
       "    </tr>\n",
       "    <tr>\n",
       "      <th>3</th>\n",
       "      <td>I've shifted my focus to something else but I'...</td>\n",
       "      <td>Anxiety</td>\n",
       "    </tr>\n",
       "    <tr>\n",
       "      <th>4</th>\n",
       "      <td>I'm restless and restless, it's been a month n...</td>\n",
       "      <td>Anxiety</td>\n",
       "    </tr>\n",
       "    <tr>\n",
       "      <th>5</th>\n",
       "      <td>every break, you must be nervous, like somethi...</td>\n",
       "      <td>Anxiety</td>\n",
       "    </tr>\n",
       "    <tr>\n",
       "      <th>6</th>\n",
       "      <td>I feel scared, anxious, what can I do? And may...</td>\n",
       "      <td>Anxiety</td>\n",
       "    </tr>\n",
       "    <tr>\n",
       "      <th>7</th>\n",
       "      <td>Have you ever felt nervous but didn't know why?</td>\n",
       "      <td>Anxiety</td>\n",
       "    </tr>\n",
       "    <tr>\n",
       "      <th>8</th>\n",
       "      <td>I haven't slept well for 2 days, it's like I'm...</td>\n",
       "      <td>Anxiety</td>\n",
       "    </tr>\n",
       "    <tr>\n",
       "      <th>9</th>\n",
       "      <td>I'm really worried, I want to cry.</td>\n",
       "      <td>Anxiety</td>\n",
       "    </tr>\n",
       "  </tbody>\n",
       "</table>\n",
       "</div>"
      ],
      "text/plain": [
       "                                           statement   status\n",
       "0                                         oh my gosh  Anxiety\n",
       "1  trouble sleeping, confused mind, restless hear...  Anxiety\n",
       "2  All wrong, back off dear, forward doubt. Stay ...  Anxiety\n",
       "3  I've shifted my focus to something else but I'...  Anxiety\n",
       "4  I'm restless and restless, it's been a month n...  Anxiety\n",
       "5  every break, you must be nervous, like somethi...  Anxiety\n",
       "6  I feel scared, anxious, what can I do? And may...  Anxiety\n",
       "7    Have you ever felt nervous but didn't know why?  Anxiety\n",
       "8  I haven't slept well for 2 days, it's like I'm...  Anxiety\n",
       "9                 I'm really worried, I want to cry.  Anxiety"
      ]
     },
     "execution_count": 111,
     "metadata": {},
     "output_type": "execute_result"
    }
   ],
   "source": [
    "data.head(10)"
   ]
  },
  {
   "cell_type": "code",
   "execution_count": 112,
   "id": "1d5f55f7",
   "metadata": {},
   "outputs": [
    {
     "data": {
      "text/plain": [
       "(51093, 2)"
      ]
     },
     "execution_count": 112,
     "metadata": {},
     "output_type": "execute_result"
    }
   ],
   "source": [
    "data.shape"
   ]
  },
  {
   "cell_type": "code",
   "execution_count": 140,
   "id": "1c5d4dfa",
   "metadata": {},
   "outputs": [
    {
     "data": {
      "text/plain": [
       "[\"I am so exhausted of this. Just when I think I can finally rest, just when I think maybe things are starting to settle, another hurdle comes flying at me. This month alone we found out my mum could be dying, my girlfriend left me, my parents revealed that they wanted a divorce, my grandad was hospitalised again and just now my little sister's been rushed to A&amp;E with possible brain damage. If there is a god up there they must fucking hate me. it is like life is trying to get me to kill myself and honestly I think I would be better off dead. I attempted when I was 12 but I was stupid and there was no way I could cut deep enough. Now I am 15 and everything is so much worse than it ever has been and I just cannot hold on much longer -- it is going to take a miracle to get me through this. I feel so alone. I feel like the world hates me and I have no idea what I did wrong to deserve this. I thought I was getting better. I was doing so well and now everything's just come crashing down again. I was thinking about carbon monoxide poisoning but I highly doubt there is any way for me to get that. it is looking like I will overdose but that is unreliable as fuck and surviving sounds like hell so idk. Just got to stick around long enough to make sure my sister's alright. I have already contacted one of my ex's friends to make sure they are looked after when I am gone. I do not think there is long left for me. Sorry. I have posted on this subreddit too many times in the span of a week and that is probably really annoying I just have absolutely no idea what to do anymore. I feel sick. If my sister dies then I really cannot do this anymore. It all hurts. Life is really fucking trying me\",\n",
       " \"I am 20 year old with some good friends but I am just tired a had a problem with bullying when I was little and that hit me hard but the thing that annoys me the most is like all my friends succeeding in life without even trying like the relationship part without even wanting one and I just feel fucking jealous.. I am just fucking ugly and all I want is to find a person to love..I feel disgusted by myself that I am jealous of my friends and I just want to end it all but I just see my family's faces and I do not want to put them through this.. I feel I am playing my life on hard mode while everyone is on easy mode.. I just cannot do this anymore I am just tired.\",\n",
       " 'it is looming around the corner again. It always comes back. Like a wave, like the moon. I can hear the silence, feel the breeze, see the cold light. Death. I try and try and try. I choose and i survive. Then it hits again and everything goes dark. Suicide. Singing to me peace, quiet, end of everything. Resisting is difficult, so very difficult. Just a bright white piece of string and it would be over. Peace, quiet, end. I live with death, it is always there. it is looming around the corner.',\n",
       " 'there is.....foodAnd other things I will be judged for and for having weird views because maybe I am delusional I want to go to jail. Life would be better there I am not joking. Maybe suicide would not even cross my mind in jail',\n",
       " 'I am on zoloft and focalin and it is changed my life over the past four years for the better. But this week I have been feeling like I am regressing a lot. I do not have any interest in any activities I normally like. My brain feels like there is a fog around it and I love my new job but I do not have the energy to perform as well. My fiancee went out of town on Tuesday as well which just made things worse. I feel useless and tired and just like shit in general. I think it is hitting extra hard because I have been doing so well for so long. I would talk to my fiancee but she is been through so much with me that I cannot bear to put this on her. I am just lost... what am I doing wrong? I just want to get back in my routine but idk shit sucks. it is getting worse again...']"
      ]
     },
     "execution_count": 140,
     "metadata": {},
     "output_type": "execute_result"
    }
   ],
   "source": [
    "suicidal = data[data['status'].isin(['Suicidal'])].copy()\n",
    "suicidal['statement'].to_list()[:5]\n"
   ]
  },
  {
   "cell_type": "code",
   "execution_count": null,
   "id": "20694939",
   "metadata": {},
   "outputs": [],
   "source": [
    "new_df = data[data['status'].isin(['Stress', 'Anxiety'])].copy()\n",
    "stressed_posts = new_df['statement'].to_list()"
   ]
  },
  {
   "cell_type": "code",
   "execution_count": 114,
   "id": "5351e585",
   "metadata": {},
   "outputs": [
    {
     "data": {
      "text/html": [
       "<div>\n",
       "<style scoped>\n",
       "    .dataframe tbody tr th:only-of-type {\n",
       "        vertical-align: middle;\n",
       "    }\n",
       "\n",
       "    .dataframe tbody tr th {\n",
       "        vertical-align: top;\n",
       "    }\n",
       "\n",
       "    .dataframe thead th {\n",
       "        text-align: right;\n",
       "    }\n",
       "</style>\n",
       "<table border=\"1\" class=\"dataframe\">\n",
       "  <thead>\n",
       "    <tr style=\"text-align: right;\">\n",
       "      <th></th>\n",
       "      <th>statement</th>\n",
       "      <th>status</th>\n",
       "    </tr>\n",
       "  </thead>\n",
       "  <tbody>\n",
       "    <tr>\n",
       "      <th>0</th>\n",
       "      <td>oh my gosh</td>\n",
       "      <td>Anxiety</td>\n",
       "    </tr>\n",
       "    <tr>\n",
       "      <th>1</th>\n",
       "      <td>trouble sleeping, confused mind, restless hear...</td>\n",
       "      <td>Anxiety</td>\n",
       "    </tr>\n",
       "    <tr>\n",
       "      <th>2</th>\n",
       "      <td>All wrong, back off dear, forward doubt. Stay ...</td>\n",
       "      <td>Anxiety</td>\n",
       "    </tr>\n",
       "    <tr>\n",
       "      <th>3</th>\n",
       "      <td>I've shifted my focus to something else but I'...</td>\n",
       "      <td>Anxiety</td>\n",
       "    </tr>\n",
       "    <tr>\n",
       "      <th>4</th>\n",
       "      <td>I'm restless and restless, it's been a month n...</td>\n",
       "      <td>Anxiety</td>\n",
       "    </tr>\n",
       "    <tr>\n",
       "      <th>5</th>\n",
       "      <td>every break, you must be nervous, like somethi...</td>\n",
       "      <td>Anxiety</td>\n",
       "    </tr>\n",
       "    <tr>\n",
       "      <th>6</th>\n",
       "      <td>I feel scared, anxious, what can I do? And may...</td>\n",
       "      <td>Anxiety</td>\n",
       "    </tr>\n",
       "    <tr>\n",
       "      <th>7</th>\n",
       "      <td>Have you ever felt nervous but didn't know why?</td>\n",
       "      <td>Anxiety</td>\n",
       "    </tr>\n",
       "    <tr>\n",
       "      <th>8</th>\n",
       "      <td>I haven't slept well for 2 days, it's like I'm...</td>\n",
       "      <td>Anxiety</td>\n",
       "    </tr>\n",
       "    <tr>\n",
       "      <th>9</th>\n",
       "      <td>I'm really worried, I want to cry.</td>\n",
       "      <td>Anxiety</td>\n",
       "    </tr>\n",
       "  </tbody>\n",
       "</table>\n",
       "</div>"
      ],
      "text/plain": [
       "                                           statement   status\n",
       "0                                         oh my gosh  Anxiety\n",
       "1  trouble sleeping, confused mind, restless hear...  Anxiety\n",
       "2  All wrong, back off dear, forward doubt. Stay ...  Anxiety\n",
       "3  I've shifted my focus to something else but I'...  Anxiety\n",
       "4  I'm restless and restless, it's been a month n...  Anxiety\n",
       "5  every break, you must be nervous, like somethi...  Anxiety\n",
       "6  I feel scared, anxious, what can I do? And may...  Anxiety\n",
       "7    Have you ever felt nervous but didn't know why?  Anxiety\n",
       "8  I haven't slept well for 2 days, it's like I'm...  Anxiety\n",
       "9                 I'm really worried, I want to cry.  Anxiety"
      ]
     },
     "execution_count": 114,
     "metadata": {},
     "output_type": "execute_result"
    }
   ],
   "source": [
    "new_df.head(10)"
   ]
  },
  {
   "cell_type": "code",
   "execution_count": 115,
   "id": "af377be0",
   "metadata": {},
   "outputs": [
    {
     "data": {
      "text/plain": [
       "(5919, 2)"
      ]
     },
     "execution_count": 115,
     "metadata": {},
     "output_type": "execute_result"
    }
   ],
   "source": [
    "new_df.shape"
   ]
  },
  {
   "cell_type": "code",
   "execution_count": 116,
   "id": "99ba088f",
   "metadata": {},
   "outputs": [
    {
     "name": "stderr",
     "output_type": "stream",
     "text": [
      "huggingface/tokenizers: The current process just got forked, after parallelism has already been used. Disabling parallelism to avoid deadlocks...\n",
      "To disable this warning, you can either:\n",
      "\t- Avoid using `tokenizers` before the fork if possible\n",
      "\t- Explicitly set the environment variable TOKENIZERS_PARALLELISM=(true | false)\n"
     ]
    },
    {
     "name": "stdout",
     "output_type": "stream",
     "text": [
      "Requirement already satisfied: sentence-transformers in /Users/gozde/.pyenv/versions/3.10.6/envs/stress_sense/lib/python3.10/site-packages (5.1.0)\n",
      "Requirement already satisfied: transformers<5.0.0,>=4.41.0 in /Users/gozde/.pyenv/versions/3.10.6/envs/stress_sense/lib/python3.10/site-packages (from sentence-transformers) (4.56.0)\n",
      "Requirement already satisfied: tqdm in /Users/gozde/.pyenv/versions/3.10.6/envs/stress_sense/lib/python3.10/site-packages (from sentence-transformers) (4.67.1)\n",
      "Requirement already satisfied: torch>=1.11.0 in /Users/gozde/.pyenv/versions/3.10.6/envs/stress_sense/lib/python3.10/site-packages (from sentence-transformers) (2.8.0)\n",
      "Requirement already satisfied: scikit-learn in /Users/gozde/.pyenv/versions/3.10.6/envs/stress_sense/lib/python3.10/site-packages (from sentence-transformers) (1.7.1)\n",
      "Requirement already satisfied: scipy in /Users/gozde/.pyenv/versions/3.10.6/envs/stress_sense/lib/python3.10/site-packages (from sentence-transformers) (1.15.3)\n",
      "Requirement already satisfied: huggingface-hub>=0.20.0 in /Users/gozde/.pyenv/versions/3.10.6/envs/stress_sense/lib/python3.10/site-packages (from sentence-transformers) (0.34.4)\n",
      "Requirement already satisfied: Pillow in /Users/gozde/.pyenv/versions/3.10.6/envs/stress_sense/lib/python3.10/site-packages (from sentence-transformers) (11.3.0)\n",
      "Requirement already satisfied: typing_extensions>=4.5.0 in /Users/gozde/.pyenv/versions/3.10.6/envs/stress_sense/lib/python3.10/site-packages (from sentence-transformers) (4.15.0)\n",
      "Requirement already satisfied: filelock in /Users/gozde/.pyenv/versions/3.10.6/envs/stress_sense/lib/python3.10/site-packages (from transformers<5.0.0,>=4.41.0->sentence-transformers) (3.19.1)\n",
      "Requirement already satisfied: numpy>=1.17 in /Users/gozde/.pyenv/versions/3.10.6/envs/stress_sense/lib/python3.10/site-packages (from transformers<5.0.0,>=4.41.0->sentence-transformers) (2.2.6)\n",
      "Requirement already satisfied: packaging>=20.0 in /Users/gozde/.pyenv/versions/3.10.6/envs/stress_sense/lib/python3.10/site-packages (from transformers<5.0.0,>=4.41.0->sentence-transformers) (25.0)\n",
      "Requirement already satisfied: pyyaml>=5.1 in /Users/gozde/.pyenv/versions/3.10.6/envs/stress_sense/lib/python3.10/site-packages (from transformers<5.0.0,>=4.41.0->sentence-transformers) (6.0.2)\n",
      "Requirement already satisfied: regex!=2019.12.17 in /Users/gozde/.pyenv/versions/3.10.6/envs/stress_sense/lib/python3.10/site-packages (from transformers<5.0.0,>=4.41.0->sentence-transformers) (2025.8.29)\n",
      "Requirement already satisfied: requests in /Users/gozde/.pyenv/versions/3.10.6/envs/stress_sense/lib/python3.10/site-packages (from transformers<5.0.0,>=4.41.0->sentence-transformers) (2.32.5)\n",
      "Requirement already satisfied: tokenizers<=0.23.0,>=0.22.0 in /Users/gozde/.pyenv/versions/3.10.6/envs/stress_sense/lib/python3.10/site-packages (from transformers<5.0.0,>=4.41.0->sentence-transformers) (0.22.0)\n",
      "Requirement already satisfied: safetensors>=0.4.3 in /Users/gozde/.pyenv/versions/3.10.6/envs/stress_sense/lib/python3.10/site-packages (from transformers<5.0.0,>=4.41.0->sentence-transformers) (0.6.2)\n",
      "Requirement already satisfied: fsspec>=2023.5.0 in /Users/gozde/.pyenv/versions/3.10.6/envs/stress_sense/lib/python3.10/site-packages (from huggingface-hub>=0.20.0->sentence-transformers) (2025.9.0)\n",
      "Requirement already satisfied: hf-xet<2.0.0,>=1.1.3 in /Users/gozde/.pyenv/versions/3.10.6/envs/stress_sense/lib/python3.10/site-packages (from huggingface-hub>=0.20.0->sentence-transformers) (1.1.9)\n",
      "Requirement already satisfied: sympy>=1.13.3 in /Users/gozde/.pyenv/versions/3.10.6/envs/stress_sense/lib/python3.10/site-packages (from torch>=1.11.0->sentence-transformers) (1.14.0)\n",
      "Requirement already satisfied: networkx in /Users/gozde/.pyenv/versions/3.10.6/envs/stress_sense/lib/python3.10/site-packages (from torch>=1.11.0->sentence-transformers) (3.4.2)\n",
      "Requirement already satisfied: jinja2 in /Users/gozde/.pyenv/versions/3.10.6/envs/stress_sense/lib/python3.10/site-packages (from torch>=1.11.0->sentence-transformers) (3.1.6)\n",
      "Requirement already satisfied: mpmath<1.4,>=1.1.0 in /Users/gozde/.pyenv/versions/3.10.6/envs/stress_sense/lib/python3.10/site-packages (from sympy>=1.13.3->torch>=1.11.0->sentence-transformers) (1.3.0)\n",
      "Requirement already satisfied: MarkupSafe>=2.0 in /Users/gozde/.pyenv/versions/3.10.6/envs/stress_sense/lib/python3.10/site-packages (from jinja2->torch>=1.11.0->sentence-transformers) (3.0.2)\n",
      "Requirement already satisfied: charset_normalizer<4,>=2 in /Users/gozde/.pyenv/versions/3.10.6/envs/stress_sense/lib/python3.10/site-packages (from requests->transformers<5.0.0,>=4.41.0->sentence-transformers) (3.4.3)\n",
      "Requirement already satisfied: idna<4,>=2.5 in /Users/gozde/.pyenv/versions/3.10.6/envs/stress_sense/lib/python3.10/site-packages (from requests->transformers<5.0.0,>=4.41.0->sentence-transformers) (3.10)\n",
      "Requirement already satisfied: urllib3<3,>=1.21.1 in /Users/gozde/.pyenv/versions/3.10.6/envs/stress_sense/lib/python3.10/site-packages (from requests->transformers<5.0.0,>=4.41.0->sentence-transformers) (2.5.0)\n",
      "Requirement already satisfied: certifi>=2017.4.17 in /Users/gozde/.pyenv/versions/3.10.6/envs/stress_sense/lib/python3.10/site-packages (from requests->transformers<5.0.0,>=4.41.0->sentence-transformers) (2025.8.3)\n",
      "Requirement already satisfied: joblib>=1.2.0 in /Users/gozde/.pyenv/versions/3.10.6/envs/stress_sense/lib/python3.10/site-packages (from scikit-learn->sentence-transformers) (1.5.2)\n",
      "Requirement already satisfied: threadpoolctl>=3.1.0 in /Users/gozde/.pyenv/versions/3.10.6/envs/stress_sense/lib/python3.10/site-packages (from scikit-learn->sentence-transformers) (3.6.0)\n",
      "Note: you may need to restart the kernel to use updated packages.\n"
     ]
    }
   ],
   "source": [
    "%pip install sentence-transformers"
   ]
  },
  {
   "cell_type": "code",
   "execution_count": 117,
   "id": "0b53f64d",
   "metadata": {},
   "outputs": [
    {
     "name": "stderr",
     "output_type": "stream",
     "text": [
      "Batches: 100%|██████████| 185/185 [00:12<00:00, 14.55it/s]\n"
     ]
    }
   ],
   "source": [
    "from sentence_transformers import SentenceTransformer\n",
    "\n",
    "sbert = SentenceTransformer(\"all-MiniLM-L6-v2\")\n",
    "embeddings = sbert.encode(stressed_posts, normalize_embeddings=True, show_progress_bar=True)"
   ]
  },
  {
   "cell_type": "code",
   "execution_count": 118,
   "id": "89d7c375",
   "metadata": {},
   "outputs": [
    {
     "data": {
      "text/plain": [
       "array([[ 0.03366001, -0.03712323,  0.01179676, ..., -0.05401971,\n",
       "         0.04482312, -0.03369883],\n",
       "       [ 0.01052009, -0.04578955,  0.04768023, ...,  0.01939357,\n",
       "        -0.06008147, -0.02400911],\n",
       "       [ 0.05667384, -0.06692987,  0.0137174 , ...,  0.01170356,\n",
       "        -0.11973175, -0.05436602],\n",
       "       ...,\n",
       "       [ 0.07792854, -0.05168048,  0.05081963, ...,  0.04558662,\n",
       "        -0.08271255,  0.00072075],\n",
       "       [ 0.0443574 , -0.108092  ,  0.03242296, ..., -0.00546338,\n",
       "        -0.0618789 , -0.00842193],\n",
       "       [ 0.0619358 ,  0.0029512 ,  0.0452257 , ...,  0.00549195,\n",
       "        -0.07962377,  0.04503339]], shape=(5919, 384), dtype=float32)"
      ]
     },
     "execution_count": 118,
     "metadata": {},
     "output_type": "execute_result"
    }
   ],
   "source": [
    "embeddings"
   ]
  },
  {
   "cell_type": "code",
   "execution_count": 119,
   "id": "7e50ee88",
   "metadata": {},
   "outputs": [
    {
     "name": "stderr",
     "output_type": "stream",
     "text": [
      "huggingface/tokenizers: The current process just got forked, after parallelism has already been used. Disabling parallelism to avoid deadlocks...\n",
      "To disable this warning, you can either:\n",
      "\t- Avoid using `tokenizers` before the fork if possible\n",
      "\t- Explicitly set the environment variable TOKENIZERS_PARALLELISM=(true | false)\n"
     ]
    },
    {
     "name": "stdout",
     "output_type": "stream",
     "text": [
      "Requirement already satisfied: bertopic in /Users/gozde/.pyenv/versions/3.10.6/envs/stress_sense/lib/python3.10/site-packages (0.17.3)\n",
      "Requirement already satisfied: hdbscan>=0.8.29 in /Users/gozde/.pyenv/versions/3.10.6/envs/stress_sense/lib/python3.10/site-packages (from bertopic) (0.8.40)\n",
      "Requirement already satisfied: umap-learn>=0.5.0 in /Users/gozde/.pyenv/versions/3.10.6/envs/stress_sense/lib/python3.10/site-packages (from bertopic) (0.5.9.post2)\n",
      "Requirement already satisfied: numpy>=1.20.0 in /Users/gozde/.pyenv/versions/3.10.6/envs/stress_sense/lib/python3.10/site-packages (from bertopic) (2.2.6)\n",
      "Requirement already satisfied: pandas>=1.1.5 in /Users/gozde/.pyenv/versions/3.10.6/envs/stress_sense/lib/python3.10/site-packages (from bertopic) (2.3.2)\n",
      "Requirement already satisfied: plotly>=4.7.0 in /Users/gozde/.pyenv/versions/3.10.6/envs/stress_sense/lib/python3.10/site-packages (from bertopic) (6.3.0)\n",
      "Requirement already satisfied: scikit-learn>=1.0 in /Users/gozde/.pyenv/versions/3.10.6/envs/stress_sense/lib/python3.10/site-packages (from bertopic) (1.7.1)\n",
      "Requirement already satisfied: sentence-transformers>=0.4.1 in /Users/gozde/.pyenv/versions/3.10.6/envs/stress_sense/lib/python3.10/site-packages (from bertopic) (5.1.0)\n",
      "Requirement already satisfied: tqdm>=4.41.1 in /Users/gozde/.pyenv/versions/3.10.6/envs/stress_sense/lib/python3.10/site-packages (from bertopic) (4.67.1)\n",
      "Requirement already satisfied: llvmlite>0.36.0 in /Users/gozde/.pyenv/versions/3.10.6/envs/stress_sense/lib/python3.10/site-packages (from bertopic) (0.44.0)\n",
      "Requirement already satisfied: scipy>=1.0 in /Users/gozde/.pyenv/versions/3.10.6/envs/stress_sense/lib/python3.10/site-packages (from hdbscan>=0.8.29->bertopic) (1.15.3)\n",
      "Requirement already satisfied: joblib>=1.0 in /Users/gozde/.pyenv/versions/3.10.6/envs/stress_sense/lib/python3.10/site-packages (from hdbscan>=0.8.29->bertopic) (1.5.2)\n",
      "Requirement already satisfied: python-dateutil>=2.8.2 in /Users/gozde/.pyenv/versions/3.10.6/envs/stress_sense/lib/python3.10/site-packages (from pandas>=1.1.5->bertopic) (2.9.0.post0)\n",
      "Requirement already satisfied: pytz>=2020.1 in /Users/gozde/.pyenv/versions/3.10.6/envs/stress_sense/lib/python3.10/site-packages (from pandas>=1.1.5->bertopic) (2025.2)\n",
      "Requirement already satisfied: tzdata>=2022.7 in /Users/gozde/.pyenv/versions/3.10.6/envs/stress_sense/lib/python3.10/site-packages (from pandas>=1.1.5->bertopic) (2025.2)\n",
      "Requirement already satisfied: narwhals>=1.15.1 in /Users/gozde/.pyenv/versions/3.10.6/envs/stress_sense/lib/python3.10/site-packages (from plotly>=4.7.0->bertopic) (2.3.0)\n",
      "Requirement already satisfied: packaging in /Users/gozde/.pyenv/versions/3.10.6/envs/stress_sense/lib/python3.10/site-packages (from plotly>=4.7.0->bertopic) (25.0)\n",
      "Requirement already satisfied: six>=1.5 in /Users/gozde/.pyenv/versions/3.10.6/envs/stress_sense/lib/python3.10/site-packages (from python-dateutil>=2.8.2->pandas>=1.1.5->bertopic) (1.17.0)\n",
      "Requirement already satisfied: threadpoolctl>=3.1.0 in /Users/gozde/.pyenv/versions/3.10.6/envs/stress_sense/lib/python3.10/site-packages (from scikit-learn>=1.0->bertopic) (3.6.0)\n",
      "Requirement already satisfied: transformers<5.0.0,>=4.41.0 in /Users/gozde/.pyenv/versions/3.10.6/envs/stress_sense/lib/python3.10/site-packages (from sentence-transformers>=0.4.1->bertopic) (4.56.0)\n",
      "Requirement already satisfied: torch>=1.11.0 in /Users/gozde/.pyenv/versions/3.10.6/envs/stress_sense/lib/python3.10/site-packages (from sentence-transformers>=0.4.1->bertopic) (2.8.0)\n",
      "Requirement already satisfied: huggingface-hub>=0.20.0 in /Users/gozde/.pyenv/versions/3.10.6/envs/stress_sense/lib/python3.10/site-packages (from sentence-transformers>=0.4.1->bertopic) (0.34.4)\n",
      "Requirement already satisfied: Pillow in /Users/gozde/.pyenv/versions/3.10.6/envs/stress_sense/lib/python3.10/site-packages (from sentence-transformers>=0.4.1->bertopic) (11.3.0)\n",
      "Requirement already satisfied: typing_extensions>=4.5.0 in /Users/gozde/.pyenv/versions/3.10.6/envs/stress_sense/lib/python3.10/site-packages (from sentence-transformers>=0.4.1->bertopic) (4.15.0)\n",
      "Requirement already satisfied: filelock in /Users/gozde/.pyenv/versions/3.10.6/envs/stress_sense/lib/python3.10/site-packages (from transformers<5.0.0,>=4.41.0->sentence-transformers>=0.4.1->bertopic) (3.19.1)\n",
      "Requirement already satisfied: pyyaml>=5.1 in /Users/gozde/.pyenv/versions/3.10.6/envs/stress_sense/lib/python3.10/site-packages (from transformers<5.0.0,>=4.41.0->sentence-transformers>=0.4.1->bertopic) (6.0.2)\n",
      "Requirement already satisfied: regex!=2019.12.17 in /Users/gozde/.pyenv/versions/3.10.6/envs/stress_sense/lib/python3.10/site-packages (from transformers<5.0.0,>=4.41.0->sentence-transformers>=0.4.1->bertopic) (2025.8.29)\n",
      "Requirement already satisfied: requests in /Users/gozde/.pyenv/versions/3.10.6/envs/stress_sense/lib/python3.10/site-packages (from transformers<5.0.0,>=4.41.0->sentence-transformers>=0.4.1->bertopic) (2.32.5)\n",
      "Requirement already satisfied: tokenizers<=0.23.0,>=0.22.0 in /Users/gozde/.pyenv/versions/3.10.6/envs/stress_sense/lib/python3.10/site-packages (from transformers<5.0.0,>=4.41.0->sentence-transformers>=0.4.1->bertopic) (0.22.0)\n",
      "Requirement already satisfied: safetensors>=0.4.3 in /Users/gozde/.pyenv/versions/3.10.6/envs/stress_sense/lib/python3.10/site-packages (from transformers<5.0.0,>=4.41.0->sentence-transformers>=0.4.1->bertopic) (0.6.2)\n",
      "Requirement already satisfied: fsspec>=2023.5.0 in /Users/gozde/.pyenv/versions/3.10.6/envs/stress_sense/lib/python3.10/site-packages (from huggingface-hub>=0.20.0->sentence-transformers>=0.4.1->bertopic) (2025.9.0)\n",
      "Requirement already satisfied: hf-xet<2.0.0,>=1.1.3 in /Users/gozde/.pyenv/versions/3.10.6/envs/stress_sense/lib/python3.10/site-packages (from huggingface-hub>=0.20.0->sentence-transformers>=0.4.1->bertopic) (1.1.9)\n",
      "Requirement already satisfied: sympy>=1.13.3 in /Users/gozde/.pyenv/versions/3.10.6/envs/stress_sense/lib/python3.10/site-packages (from torch>=1.11.0->sentence-transformers>=0.4.1->bertopic) (1.14.0)\n",
      "Requirement already satisfied: networkx in /Users/gozde/.pyenv/versions/3.10.6/envs/stress_sense/lib/python3.10/site-packages (from torch>=1.11.0->sentence-transformers>=0.4.1->bertopic) (3.4.2)\n",
      "Requirement already satisfied: jinja2 in /Users/gozde/.pyenv/versions/3.10.6/envs/stress_sense/lib/python3.10/site-packages (from torch>=1.11.0->sentence-transformers>=0.4.1->bertopic) (3.1.6)\n",
      "Requirement already satisfied: mpmath<1.4,>=1.1.0 in /Users/gozde/.pyenv/versions/3.10.6/envs/stress_sense/lib/python3.10/site-packages (from sympy>=1.13.3->torch>=1.11.0->sentence-transformers>=0.4.1->bertopic) (1.3.0)\n",
      "Requirement already satisfied: numba>=0.51.2 in /Users/gozde/.pyenv/versions/3.10.6/envs/stress_sense/lib/python3.10/site-packages (from umap-learn>=0.5.0->bertopic) (0.61.2)\n",
      "Requirement already satisfied: pynndescent>=0.5 in /Users/gozde/.pyenv/versions/3.10.6/envs/stress_sense/lib/python3.10/site-packages (from umap-learn>=0.5.0->bertopic) (0.5.13)\n",
      "Requirement already satisfied: MarkupSafe>=2.0 in /Users/gozde/.pyenv/versions/3.10.6/envs/stress_sense/lib/python3.10/site-packages (from jinja2->torch>=1.11.0->sentence-transformers>=0.4.1->bertopic) (3.0.2)\n",
      "Requirement already satisfied: charset_normalizer<4,>=2 in /Users/gozde/.pyenv/versions/3.10.6/envs/stress_sense/lib/python3.10/site-packages (from requests->transformers<5.0.0,>=4.41.0->sentence-transformers>=0.4.1->bertopic) (3.4.3)\n",
      "Requirement already satisfied: idna<4,>=2.5 in /Users/gozde/.pyenv/versions/3.10.6/envs/stress_sense/lib/python3.10/site-packages (from requests->transformers<5.0.0,>=4.41.0->sentence-transformers>=0.4.1->bertopic) (3.10)\n",
      "Requirement already satisfied: urllib3<3,>=1.21.1 in /Users/gozde/.pyenv/versions/3.10.6/envs/stress_sense/lib/python3.10/site-packages (from requests->transformers<5.0.0,>=4.41.0->sentence-transformers>=0.4.1->bertopic) (2.5.0)\n",
      "Requirement already satisfied: certifi>=2017.4.17 in /Users/gozde/.pyenv/versions/3.10.6/envs/stress_sense/lib/python3.10/site-packages (from requests->transformers<5.0.0,>=4.41.0->sentence-transformers>=0.4.1->bertopic) (2025.8.3)\n",
      "Note: you may need to restart the kernel to use updated packages.\n"
     ]
    }
   ],
   "source": [
    "%pip install bertopic"
   ]
  },
  {
   "cell_type": "code",
   "execution_count": 120,
   "id": "880eff18",
   "metadata": {},
   "outputs": [
    {
     "name": "stderr",
     "output_type": "stream",
     "text": [
      "2025-09-03 19:22:52,175 - BERTopic - Dimensionality - Fitting the dimensionality reduction algorithm\n",
      "2025-09-03 19:22:53,423 - BERTopic - Dimensionality - Completed ✓\n",
      "2025-09-03 19:22:53,423 - BERTopic - Cluster - Start clustering the reduced embeddings\n",
      "2025-09-03 19:22:53,621 - BERTopic - Cluster - Completed ✓\n",
      "2025-09-03 19:22:53,623 - BERTopic - Representation - Fine-tuning topics using representation models.\n",
      "2025-09-03 19:22:54,420 - BERTopic - Representation - Completed ✓\n"
     ]
    },
    {
     "data": {
      "text/html": [
       "<div>\n",
       "<style scoped>\n",
       "    .dataframe tbody tr th:only-of-type {\n",
       "        vertical-align: middle;\n",
       "    }\n",
       "\n",
       "    .dataframe tbody tr th {\n",
       "        vertical-align: top;\n",
       "    }\n",
       "\n",
       "    .dataframe thead th {\n",
       "        text-align: right;\n",
       "    }\n",
       "</style>\n",
       "<table border=\"1\" class=\"dataframe\">\n",
       "  <thead>\n",
       "    <tr style=\"text-align: right;\">\n",
       "      <th></th>\n",
       "      <th>Topic</th>\n",
       "      <th>Count</th>\n",
       "      <th>Name</th>\n",
       "      <th>Representation</th>\n",
       "      <th>Representative_Docs</th>\n",
       "    </tr>\n",
       "  </thead>\n",
       "  <tbody>\n",
       "    <tr>\n",
       "      <th>0</th>\n",
       "      <td>-1</td>\n",
       "      <td>242</td>\n",
       "      <td>-1_the_and_my_to</td>\n",
       "      <td>[the, and, my, to, it, of, was, that, in, but]</td>\n",
       "      <td>[I've been making a fool of myself for the pas...</td>\n",
       "    </tr>\n",
       "    <tr>\n",
       "      <th>1</th>\n",
       "      <td>0</td>\n",
       "      <td>5356</td>\n",
       "      <td>0_and_to_the_my</td>\n",
       "      <td>[and, to, the, my, of, it, in, that, im, me]</td>\n",
       "      <td>[I'm mad and sulking over a single bad date. I...</td>\n",
       "    </tr>\n",
       "    <tr>\n",
       "      <th>2</th>\n",
       "      <td>1</td>\n",
       "      <td>321</td>\n",
       "      <td>1_restless_is_sleep_the</td>\n",
       "      <td>[restless, is, sleep, the, to, im, why, you, r...</td>\n",
       "      <td>[restless and restless, want to be angry, Rest...</td>\n",
       "    </tr>\n",
       "  </tbody>\n",
       "</table>\n",
       "</div>"
      ],
      "text/plain": [
       "   Topic  Count                     Name  \\\n",
       "0     -1    242         -1_the_and_my_to   \n",
       "1      0   5356          0_and_to_the_my   \n",
       "2      1    321  1_restless_is_sleep_the   \n",
       "\n",
       "                                      Representation  \\\n",
       "0     [the, and, my, to, it, of, was, that, in, but]   \n",
       "1       [and, to, the, my, of, it, in, that, im, me]   \n",
       "2  [restless, is, sleep, the, to, im, why, you, r...   \n",
       "\n",
       "                                 Representative_Docs  \n",
       "0  [I've been making a fool of myself for the pas...  \n",
       "1  [I'm mad and sulking over a single bad date. I...  \n",
       "2  [restless and restless, want to be angry, Rest...  "
      ]
     },
     "execution_count": 120,
     "metadata": {},
     "output_type": "execute_result"
    }
   ],
   "source": [
    "from bertopic import BERTopic\n",
    "\n",
    "topic_model = BERTopic(\n",
    "    min_topic_size=100,      # try 50, 80, 100; pick the one that gives 8–12 coherent topics\n",
    "    n_gram_range=(1, 2),\n",
    "    calculate_probabilities=True,\n",
    "    verbose=True\n",
    ")\n",
    "\n",
    "topics, probs = topic_model.fit_transform(stressed_posts, embeddings)  # pass precomputed embeddings!\n",
    "topic_info = topic_model.get_topic_info()\n",
    "topic_info.head(10)"
   ]
  },
  {
   "cell_type": "code",
   "execution_count": 121,
   "id": "3b8acb87",
   "metadata": {},
   "outputs": [
    {
     "name": "stdout",
     "output_type": "stream",
     "text": [
      "Topic 0 [('and', np.float64(0.0526925385143319)), ('to', np.float64(0.04894260017416556)), ('the', np.float64(0.04240761654491774)), ('my', np.float64(0.04052513037214601)), ('of', np.float64(0.0309790192657049)), ('it', np.float64(0.029104722976379113)), ('in', np.float64(0.024203234403244303)), ('that', np.float64(0.0238967856497673)), ('im', np.float64(0.02336078525772959)), ('me', np.float64(0.02270074327011312))]\n",
      "Topic 1 [('restless', np.float64(0.21458831386464486)), ('is', np.float64(0.05232389159246527)), ('sleep', np.float64(0.04685726006492148)), ('the', np.float64(0.04220056505689587)), ('to', np.float64(0.03874799912409774)), ('im', np.float64(0.03719313784059267)), ('why', np.float64(0.0367177579103352)), ('you', np.float64(0.03517788178999008)), ('restlessness', np.float64(0.031701143938705885)), ('and', np.float64(0.031101837843728625))]\n"
     ]
    }
   ],
   "source": [
    "# Top words per topic\n",
    "for tid in topic_info[\"Topic\"].head(10):\n",
    "    if tid == -1:\n",
    "        continue\n",
    "    print(\"Topic\", tid, topic_model.get_topic(tid)[:10])  # list of (word, score)\n",
    "\n",
    "# Sample 5 docs from a topic\n",
    "import numpy as np\n",
    "def sample_topic(tid, k=5):\n",
    "    idx = np.where(np.array(topics) == tid)[0]\n",
    "    for i in np.random.choice(idx, size=min(k, len(idx)), replace=False):\n",
    "        print(\"-\", stressed_posts[i][:200], \"...\\n\")"
   ]
  },
  {
   "cell_type": "code",
   "execution_count": 122,
   "id": "1018f119",
   "metadata": {},
   "outputs": [],
   "source": [
    "from sklearn.feature_extraction.text import CountVectorizer\n",
    "from nltk.corpus import stopwords\n",
    "\n",
    "stop_words = stopwords.words(\"english\")\n",
    "vectorizer = CountVectorizer(stop_words=stop_words, ngram_range=(1,2))"
   ]
  },
  {
   "cell_type": "code",
   "execution_count": 123,
   "id": "c7ca5ee3",
   "metadata": {},
   "outputs": [
    {
     "name": "stderr",
     "output_type": "stream",
     "text": [
      "2025-09-03 19:22:54,517 - BERTopic - Dimensionality - Fitting the dimensionality reduction algorithm\n",
      "2025-09-03 19:22:55,717 - BERTopic - Dimensionality - Completed ✓\n",
      "2025-09-03 19:22:55,718 - BERTopic - Cluster - Start clustering the reduced embeddings\n",
      "2025-09-03 19:22:55,909 - BERTopic - Cluster - Completed ✓\n",
      "2025-09-03 19:22:55,910 - BERTopic - Representation - Fine-tuning topics using representation models.\n",
      "2025-09-03 19:22:56,572 - BERTopic - Representation - Completed ✓\n"
     ]
    },
    {
     "data": {
      "text/html": [
       "<div>\n",
       "<style scoped>\n",
       "    .dataframe tbody tr th:only-of-type {\n",
       "        vertical-align: middle;\n",
       "    }\n",
       "\n",
       "    .dataframe tbody tr th {\n",
       "        vertical-align: top;\n",
       "    }\n",
       "\n",
       "    .dataframe thead th {\n",
       "        text-align: right;\n",
       "    }\n",
       "</style>\n",
       "<table border=\"1\" class=\"dataframe\">\n",
       "  <thead>\n",
       "    <tr style=\"text-align: right;\">\n",
       "      <th></th>\n",
       "      <th>Topic</th>\n",
       "      <th>Count</th>\n",
       "      <th>Name</th>\n",
       "      <th>Representation</th>\n",
       "      <th>Representative_Docs</th>\n",
       "    </tr>\n",
       "  </thead>\n",
       "  <tbody>\n",
       "    <tr>\n",
       "      <th>0</th>\n",
       "      <td>-1</td>\n",
       "      <td>127</td>\n",
       "      <td>-1_rabies_im_hiv_anxiety</td>\n",
       "      <td>[rabies, im, hiv, anxiety, got, cat, get, wate...</td>\n",
       "      <td>[Anxious about Rabies even though there's no r...</td>\n",
       "    </tr>\n",
       "    <tr>\n",
       "      <th>1</th>\n",
       "      <td>0</td>\n",
       "      <td>5481</td>\n",
       "      <td>0_im_like_anxiety_ive</td>\n",
       "      <td>[im, like, anxiety, ive, feel, dont, get, know...</td>\n",
       "      <td>[I’ve been reading this vape study I’m getting...</td>\n",
       "    </tr>\n",
       "    <tr>\n",
       "      <th>2</th>\n",
       "      <td>1</td>\n",
       "      <td>311</td>\n",
       "      <td>1_restless_sleep_im_restlessness</td>\n",
       "      <td>[restless, sleep, im, restlessness, restless r...</td>\n",
       "      <td>[I'm so restless, why isn't it, very restless,...</td>\n",
       "    </tr>\n",
       "  </tbody>\n",
       "</table>\n",
       "</div>"
      ],
      "text/plain": [
       "   Topic  Count                              Name  \\\n",
       "0     -1    127          -1_rabies_im_hiv_anxiety   \n",
       "1      0   5481             0_im_like_anxiety_ive   \n",
       "2      1    311  1_restless_sleep_im_restlessness   \n",
       "\n",
       "                                      Representation  \\\n",
       "0  [rabies, im, hiv, anxiety, got, cat, get, wate...   \n",
       "1  [im, like, anxiety, ive, feel, dont, get, know...   \n",
       "2  [restless, sleep, im, restlessness, restless r...   \n",
       "\n",
       "                                 Representative_Docs  \n",
       "0  [Anxious about Rabies even though there's no r...  \n",
       "1  [I’ve been reading this vape study I’m getting...  \n",
       "2  [I'm so restless, why isn't it, very restless,...  "
      ]
     },
     "execution_count": 123,
     "metadata": {},
     "output_type": "execute_result"
    }
   ],
   "source": [
    "from bertopic import BERTopic\n",
    "\n",
    "topic_model = BERTopic(\n",
    "    vectorizer_model=vectorizer,\n",
    "    min_topic_size=100,      # try 50, 80, 100; pick the one that gives 8–12 coherent topics\n",
    "    n_gram_range=(1, 2),\n",
    "    calculate_probabilities=True,\n",
    "    verbose=True\n",
    ")\n",
    "\n",
    "topics, probs = topic_model.fit_transform(stressed_posts, embeddings)  # pass precomputed embeddings!\n",
    "topic_info = topic_model.get_topic_info()\n",
    "topic_info.head(10)"
   ]
  },
  {
   "cell_type": "code",
   "execution_count": 124,
   "id": "48a33ab3",
   "metadata": {},
   "outputs": [
    {
     "name": "stdout",
     "output_type": "stream",
     "text": [
      "Topic 0 [('im', np.float64(0.03703890823211782)), ('like', np.float64(0.024042901550566233)), ('anxiety', np.float64(0.021954514716800714)), ('ive', np.float64(0.019534611416293396)), ('feel', np.float64(0.01890170824998638)), ('dont', np.float64(0.017705148411988378)), ('get', np.float64(0.016986607527659323)), ('know', np.float64(0.015678192051054227)), ('time', np.float64(0.01468359990259021)), ('really', np.float64(0.013580544984070641))]\n",
      "Topic 1 [('restless', np.float64(0.3457944175257168)), ('sleep', np.float64(0.06618405209307118)), ('im', np.float64(0.0546628484411642)), ('restlessness', np.float64(0.050685034909206596)), ('restless restless', np.float64(0.047223158835553496)), ('dont', np.float64(0.04350419834262731)), ('heart', np.float64(0.042593844660329956)), ('feeling', np.float64(0.04127415130743989)), ('im restless', np.float64(0.03725186725427661)), ('like', np.float64(0.03676644734586805))]\n"
     ]
    }
   ],
   "source": [
    "# Top words per topic\n",
    "for tid in topic_info[\"Topic\"].head(10):\n",
    "    if tid == -1:\n",
    "        continue\n",
    "    print(\"Topic\", tid, topic_model.get_topic(tid)[:10])  # list of (word, score)"
   ]
  },
  {
   "cell_type": "markdown",
   "id": "2a6d9d2e",
   "metadata": {},
   "source": [
    "## Not great performance. Try a better performing model. "
   ]
  },
  {
   "cell_type": "code",
   "execution_count": 125,
   "id": "a977ece4",
   "metadata": {},
   "outputs": [
    {
     "name": "stderr",
     "output_type": "stream",
     "text": [
      "Batches: 100%|██████████| 185/185 [01:31<00:00,  2.03it/s]\n"
     ]
    }
   ],
   "source": [
    "from sentence_transformers import SentenceTransformer\n",
    "\n",
    "sbert = SentenceTransformer(\"all-mpnet-base-v2\")\n",
    "embeddings = sbert.encode(stressed_posts, normalize_embeddings=True, show_progress_bar=True)"
   ]
  },
  {
   "cell_type": "code",
   "execution_count": 126,
   "id": "7bdfb851",
   "metadata": {},
   "outputs": [
    {
     "name": "stderr",
     "output_type": "stream",
     "text": [
      "2025-09-03 19:24:30,538 - BERTopic - Dimensionality - Fitting the dimensionality reduction algorithm\n",
      "2025-09-03 19:24:32,251 - BERTopic - Dimensionality - Completed ✓\n",
      "2025-09-03 19:24:32,252 - BERTopic - Cluster - Start clustering the reduced embeddings\n",
      "2025-09-03 19:24:32,469 - BERTopic - Cluster - Completed ✓\n",
      "2025-09-03 19:24:32,471 - BERTopic - Representation - Fine-tuning topics using representation models.\n",
      "2025-09-03 19:24:33,436 - BERTopic - Representation - Completed ✓\n"
     ]
    },
    {
     "data": {
      "text/html": [
       "<div>\n",
       "<style scoped>\n",
       "    .dataframe tbody tr th:only-of-type {\n",
       "        vertical-align: middle;\n",
       "    }\n",
       "\n",
       "    .dataframe tbody tr th {\n",
       "        vertical-align: top;\n",
       "    }\n",
       "\n",
       "    .dataframe thead th {\n",
       "        text-align: right;\n",
       "    }\n",
       "</style>\n",
       "<table border=\"1\" class=\"dataframe\">\n",
       "  <thead>\n",
       "    <tr style=\"text-align: right;\">\n",
       "      <th></th>\n",
       "      <th>Topic</th>\n",
       "      <th>Count</th>\n",
       "      <th>Name</th>\n",
       "      <th>Representation</th>\n",
       "      <th>Representative_Docs</th>\n",
       "    </tr>\n",
       "  </thead>\n",
       "  <tbody>\n",
       "    <tr>\n",
       "      <th>0</th>\n",
       "      <td>-1</td>\n",
       "      <td>194</td>\n",
       "      <td>-1_the_and_to_my</td>\n",
       "      <td>[the, and, to, my, it, of, in, was, that, but]</td>\n",
       "      <td>[Uncontrollable HIV anxiety New to Reddit so I...</td>\n",
       "    </tr>\n",
       "    <tr>\n",
       "      <th>1</th>\n",
       "      <td>0</td>\n",
       "      <td>5129</td>\n",
       "      <td>0_and_to_the_my</td>\n",
       "      <td>[and, to, the, my, of, it, in, that, im, me]</td>\n",
       "      <td>[Pressure on head likely due to stress and anx...</td>\n",
       "    </tr>\n",
       "    <tr>\n",
       "      <th>2</th>\n",
       "      <td>1</td>\n",
       "      <td>596</td>\n",
       "      <td>1_restless_you_im_nervous</td>\n",
       "      <td>[restless, you, im, nervous, the, is, why, to,...</td>\n",
       "      <td>[wake up restless, want to sleep restless, I'm...</td>\n",
       "    </tr>\n",
       "  </tbody>\n",
       "</table>\n",
       "</div>"
      ],
      "text/plain": [
       "   Topic  Count                       Name  \\\n",
       "0     -1    194           -1_the_and_to_my   \n",
       "1      0   5129            0_and_to_the_my   \n",
       "2      1    596  1_restless_you_im_nervous   \n",
       "\n",
       "                                      Representation  \\\n",
       "0     [the, and, to, my, it, of, in, was, that, but]   \n",
       "1       [and, to, the, my, of, it, in, that, im, me]   \n",
       "2  [restless, you, im, nervous, the, is, why, to,...   \n",
       "\n",
       "                                 Representative_Docs  \n",
       "0  [Uncontrollable HIV anxiety New to Reddit so I...  \n",
       "1  [Pressure on head likely due to stress and anx...  \n",
       "2  [wake up restless, want to sleep restless, I'm...  "
      ]
     },
     "execution_count": 126,
     "metadata": {},
     "output_type": "execute_result"
    }
   ],
   "source": [
    "topic_model = BERTopic(\n",
    "    min_topic_size=100,      # try 50, 80, 100; pick the one that gives 8–12 coherent topics\n",
    "    n_gram_range=(1, 2),\n",
    "    calculate_probabilities=True,\n",
    "    verbose=True\n",
    ")\n",
    "\n",
    "topics, probs = topic_model.fit_transform(stressed_posts, embeddings)  # pass precomputed embeddings!\n",
    "topic_info = topic_model.get_topic_info()\n",
    "topic_info.head(10)"
   ]
  },
  {
   "cell_type": "markdown",
   "id": "683b135e",
   "metadata": {},
   "source": [
    "UMAP: squashes high-dimensional embeddings (384 or 768 dims) down to a smaller space (like 5–10 dims). This makes clustering easier and can emphasize local structure.\n",
    "\n",
    "HDBSCAN: does the actual clustering on that reduced space."
   ]
  },
  {
   "cell_type": "markdown",
   "id": "d97b7d1d",
   "metadata": {},
   "source": []
  },
  {
   "cell_type": "code",
   "execution_count": 127,
   "id": "0298670b",
   "metadata": {},
   "outputs": [
    {
     "name": "stderr",
     "output_type": "stream",
     "text": [
      "2025-09-03 19:24:33,550 - BERTopic - Dimensionality - Fitting the dimensionality reduction algorithm\n",
      "2025-09-03 19:24:38,275 - BERTopic - Dimensionality - Completed ✓\n",
      "2025-09-03 19:24:38,276 - BERTopic - Cluster - Start clustering the reduced embeddings\n",
      "2025-09-03 19:24:38,448 - BERTopic - Cluster - Completed ✓\n",
      "2025-09-03 19:24:38,450 - BERTopic - Representation - Fine-tuning topics using representation models.\n",
      "2025-09-03 19:24:38,837 - BERTopic - Representation - Completed ✓\n"
     ]
    },
    {
     "name": "stdout",
     "output_type": "stream",
     "text": [
      "Topic 0 [('restless', np.float64(0.3881834339601408)), ('restlessness', np.float64(0.06889082193107779)), ('restless restless', np.float64(0.06784374448406616)), ('feeling restless', np.float64(0.048282579205958714)), ('feel restless', np.float64(0.04389381906339793)), ('heart restless', np.float64(0.030808897346353486)), ('sleep restless', np.float64(0.030808897346353486)), ('don worry', np.float64(0.030614793668932362)), ('oh god', np.float64(0.03004738913126938)), ('nervous don', np.float64(0.027665081501363743))]\n",
      "Topic 1 [('lymph', np.float64(0.031781539706695755)), ('flu', np.float64(0.0265896843300256)), ('swollen', np.float64(0.024162704057952622)), ('lump', np.float64(0.02238521680119616)), ('node', np.float64(0.021611693168892762)), ('nodes', np.float64(0.019862489175609708)), ('lymph node', np.float64(0.019502312205036572)), ('lymph nodes', np.float64(0.017684686008414913)), ('fever', np.float64(0.015378807966367041)), ('cough', np.float64(0.014664437133846943))]\n",
      "Topic 2 [('police', np.float64(0.022194247935315676)), ('abuse', np.float64(0.021710408898212734)), ('ex', np.float64(0.021336858526379152)), ('bf', np.float64(0.016465239210736556)), ('door', np.float64(0.01614802254831376)), ('loves', np.float64(0.014005766360406756)), ('met', np.float64(0.011891561652198623)), ('violence', np.float64(0.011848062681497691)), ('domestic', np.float64(0.010097207806600403)), ('court', np.float64(0.00955672867465481))]\n",
      "Topic 3 [('cardiologist', np.float64(0.02484621040382392)), ('pulse', np.float64(0.020013784640363186)), ('beats', np.float64(0.018620989339803214)), ('ecg', np.float64(0.017491220527122486)), ('shortness breath', np.float64(0.015824508897632258)), ('shortness', np.float64(0.015717035307700546)), ('monitor', np.float64(0.014872214666653763)), ('bp', np.float64(0.013102262887860695)), ('left chest', np.float64(0.012641739622782165)), ('bpm', np.float64(0.011471402369221635))]\n",
      "Topic 4 [('survey', np.float64(0.05095969079691501)), ('app', np.float64(0.03985506946181977)), ('meditation', np.float64(0.03752585152719117)), ('mindfulness', np.float64(0.031161840024653692)), ('relaxation', np.float64(0.030222362173833676)), ('management', np.float64(0.028970744436115203)), ('reduce', np.float64(0.02793816910852183)), ('stress management', np.float64(0.027566243098732113)), ('stress relief', np.float64(0.026081352193559382)), ('participate', np.float64(0.025349560676318942))]\n",
      "Topic 5 [('brain tumor', np.float64(0.03737019703542168)), ('ear', np.float64(0.02666992202813556)), ('aneurysm', np.float64(0.0260691220458609)), ('tinnitus', np.float64(0.02050300321804666)), ('ears', np.float64(0.018354069974583442)), ('sneeze', np.float64(0.015733309806053395)), ('floaters', np.float64(0.015190745811331625)), ('glasses', np.float64(0.0131110915050445)), ('left eye', np.float64(0.0131110915050445)), ('left ear', np.float64(0.011815024519924597))]\n",
      "Topic 6 [('grades', np.float64(0.02309376055813373)), ('studying', np.float64(0.02142545975693349)), ('classes', np.float64(0.014302699239519719)), ('motivation', np.float64(0.011368356673829908)), ('physics', np.float64(0.009584245288475415)), ('feel stressed', np.float64(0.009548440464243465)), ('uni', np.float64(0.009408335683688603)), ('homework', np.float64(0.0093702690896963)), ('math', np.float64(0.009300114614068171)), ('chronic stress', np.float64(0.009300114614068171))]\n",
      "Topic 7 [('rent', np.float64(0.047055981370906566)), ('homeless', np.float64(0.03853343569250301)), ('bills', np.float64(0.027006227750472435)), ('paid', np.float64(0.02426179284342782)), ('assistance', np.float64(0.023544645830842117)), ('income', np.float64(0.021709048397238338)), ('loans', np.float64(0.021128415851428203)), ('loan', np.float64(0.019158380720378745)), ('save', np.float64(0.01895498969861673)), ('cost', np.float64(0.018835716664673693))]\n",
      "Topic 8 [('mg', np.float64(0.03519921335309846)), ('zoloft', np.float64(0.034048367672734926)), ('lexapro', np.float64(0.030790110191050202)), ('dose', np.float64(0.02933717028892963)), ('buspar', np.float64(0.022745097622136005)), ('pill', np.float64(0.0201950812528476)), ('ssri', np.float64(0.01809211766081257)), ('ssris', np.float64(0.016603950991806213)), ('dosage', np.float64(0.016479638502587927)), ('benzos', np.float64(0.014876607368076139))]\n",
      "Topic 9 [('team', np.float64(0.016295696518046725)), ('boss', np.float64(0.01617504184623468)), ('manager', np.float64(0.013817576153362139)), ('fired', np.float64(0.009597287085055068)), ('staff', np.float64(0.009183133317126209)), ('shift', np.float64(0.009116169152795622)), ('mistakes', np.float64(0.00898240711244607)), ('role', np.float64(0.008563446774981626)), ('tasks', np.float64(0.008502102531154812)), ('quit job', np.float64(0.007778916268567874))]\n",
      "Topic 10 [('dating', np.float64(0.01802284368110753)), ('ex', np.float64(0.017072156953178107)), ('gift', np.float64(0.01400365170127397)), ('cheated', np.float64(0.013545683861998694)), ('friendship', np.float64(0.013164621807199895)), ('gf', np.float64(0.012360520475515387)), ('hanging', np.float64(0.012240641720849868)), ('messages', np.float64(0.011551679140731078)), ('text', np.float64(0.011542814254106729)), ('asks', np.float64(0.010239150294488806))]\n",
      "Topic 11 [('abuse', np.float64(0.048674513717746955)), ('abused', np.float64(0.03987958684550972)), ('memories', np.float64(0.032780942783038385)), ('flashbacks', np.float64(0.026706144266267107)), ('sexual', np.float64(0.0246845896657878)), ('sexually', np.float64(0.024161361532871583)), ('sexual abuse', np.float64(0.023450057269761595)), ('childhood', np.float64(0.022528360713552)), ('abuser', np.float64(0.01594302443710382)), ('nightmares', np.float64(0.015476652325097569))]\n",
      "Topic 12 [('ultrasound', np.float64(0.013652834364758953)), ('radiation', np.float64(0.01228416789144833)), ('blood test', np.float64(0.012178108899233715)), ('pcos', np.float64(0.011208845151756859)), ('ct scan', np.float64(0.010869315181650026)), ('breast', np.float64(0.010692425089510106)), ('pregnancy', np.float64(0.009810629905167179)), ('ovarian', np.float64(0.008774405636748807)), ('breast cancer', np.float64(0.008764095625407947)), ('brain tumor', np.float64(0.008708649894501291))]\n",
      "Topic 13 [('module', np.float64(0.012965333681578017)), ('discord', np.float64(0.012659559100383886)), ('thread', np.float64(0.010456457260358668)), ('stop googling', np.float64(0.009458733395871537)), ('reassure', np.float64(0.009149400102813834)), ('iud', np.float64(0.008884717849372375)), ('searching', np.float64(0.00862115827499543)), ('illnesses', np.float64(0.008478982590257885)), ('search', np.float64(0.008307863153958856)), ('sensations', np.float64(0.008301925115719588))]\n",
      "Topic 14 [('als', np.float64(0.05428917556199514)), ('ms', np.float64(0.0535848192815809)), ('twitches', np.float64(0.025818342929693396)), ('weakness', np.float64(0.023424611839394927)), ('numbness', np.float64(0.015339573151697535)), ('left hand', np.float64(0.014685711223216697)), ('thumb', np.float64(0.01439466021738717)), ('neurological', np.float64(0.014298772361969853)), ('pins needles', np.float64(0.013692076165011311)), ('twitch', np.float64(0.013593199882699917))]\n",
      "Topic 15 [('suicidal', np.float64(0.01799916272103877)), ('suicide', np.float64(0.017760613755696552)), ('2022', np.float64(0.010381800637038483)), ('feeling way', np.float64(0.009418495916653755)), ('math', np.float64(0.008551985093411868)), ('sessions', np.float64(0.008215719724604525)), ('want feel', np.float64(0.007943119912239277)), ('attempted', np.float64(0.007914000266465684)), ('struggled', np.float64(0.007713926880445187)), ('counseling', np.float64(0.007492345580041929))]\n",
      "Topic 16 [('stool', np.float64(0.04654395646285316)), ('colon', np.float64(0.04138068992745937)), ('colon cancer', np.float64(0.036758410221590584)), ('bowel', np.float64(0.03248798703185691)), ('diarrhea', np.float64(0.025352695195734333)), ('ibs', np.float64(0.02360086830963079)), ('constipation', np.float64(0.02299477658449442)), ('ulcer', np.float64(0.021509486258776366)), ('gas', np.float64(0.020241702586435685)), ('gi', np.float64(0.019893379482952823))]\n",
      "Topic 17 [('amoeba', np.float64(0.05897316231615264)), ('hantavirus', np.float64(0.04594845854119091)), ('mouse', np.float64(0.03675084159524335)), ('brain eating', np.float64(0.034086555394772816)), ('tap', np.float64(0.0339619041391411)), ('eating amoeba', np.float64(0.03226909018416284)), ('asbestos', np.float64(0.0225030504128538)), ('taste', np.float64(0.019977590670083003)), ('dust', np.float64(0.01917368740955971)), ('exposure', np.float64(0.01660506363097358))]\n",
      "Topic 18 [('falling asleep', np.float64(0.036840027193640705)), ('dreams', np.float64(0.032911666641249566)), ('wake feeling', np.float64(0.02468392172865849)), ('morning anxiety', np.float64(0.022622690767387807)), ('sleeping pills', np.float64(0.019546957686765454)), ('melatonin', np.float64(0.018852242306156505)), ('alarm', np.float64(0.017262564385551047)), ('better sleep', np.float64(0.01638184481504673)), ('pills', np.float64(0.01634407203351463)), ('nap', np.float64(0.01614333533385391))]\n",
      "Topic 19 [('dementia', np.float64(0.019970779397459466)), ('vehicle', np.float64(0.013862200673988375)), ('anxiety attacks', np.float64(0.013479519891102238)), ('adrenaline', np.float64(0.010337090337174823)), ('foggy', np.float64(0.009814310129242708)), ('feel body', np.float64(0.009341053407411428)), ('train', np.float64(0.009247466850530251)), ('numb feel', np.float64(0.009141728253635763)), ('rush', np.float64(0.009077626998845212)), ('faint', np.float64(0.009024783238371607))]\n"
     ]
    }
   ],
   "source": [
    "from sklearn.feature_extraction.text import CountVectorizer\n",
    "from bertopic import BERTopic\n",
    "\n",
    "from umap import UMAP\n",
    "umap_model = UMAP(\n",
    "    n_neighbors=10,       # more local clusters\n",
    "    n_components=10,     # preserve more info\n",
    "    min_dist=0.05,\n",
    "    metric=\"cosine\",\n",
    "    random_state=42\n",
    ")\n",
    "\n",
    "import hdbscan\n",
    "hdbscan_model = hdbscan.HDBSCAN(\n",
    "    min_cluster_size=80,   # increase when you need fewer topics\n",
    "    min_samples=10,\n",
    "    metric=\"euclidean\",\n",
    "    cluster_selection_method=\"eom\",\n",
    "    prediction_data=True   # REQUIRED for probabilities\n",
    ")\n",
    "\n",
    "vectorizer = CountVectorizer(stop_words=\"english\", ngram_range=(1,2), min_df=2, max_df=0.5)\n",
    "\n",
    "topic_model = BERTopic(\n",
    "    embedding_model=sbert,\n",
    "    umap_model=umap_model,\n",
    "    hdbscan_model=hdbscan_model,\n",
    "    vectorizer_model=vectorizer,\n",
    "    calculate_probabilities=True,\n",
    "    verbose=True\n",
    ")\n",
    "topics, probs = topic_model.fit_transform(stressed_posts, embeddings)  # pass precomputed embeddings!\n",
    "topic_info = topic_model.get_topic_info()\n",
    "topic_info.head(20)\n",
    "\n",
    "# Top words per topic\n",
    "for tid in topic_info[\"Topic\"]:\n",
    "    if tid == -1:\n",
    "        continue\n",
    "    print(\"Topic\", tid, topic_model.get_topic(tid)[:])  # list of (word, score)"
   ]
  },
  {
   "cell_type": "code",
   "execution_count": 128,
   "id": "6b7e85bc",
   "metadata": {},
   "outputs": [
    {
     "data": {
      "text/html": [
       "<div>\n",
       "<style scoped>\n",
       "    .dataframe tbody tr th:only-of-type {\n",
       "        vertical-align: middle;\n",
       "    }\n",
       "\n",
       "    .dataframe tbody tr th {\n",
       "        vertical-align: top;\n",
       "    }\n",
       "\n",
       "    .dataframe thead th {\n",
       "        text-align: right;\n",
       "    }\n",
       "</style>\n",
       "<table border=\"1\" class=\"dataframe\">\n",
       "  <thead>\n",
       "    <tr style=\"text-align: right;\">\n",
       "      <th></th>\n",
       "      <th>Topic</th>\n",
       "      <th>Count</th>\n",
       "      <th>Name</th>\n",
       "      <th>Representation</th>\n",
       "      <th>Representative_Docs</th>\n",
       "    </tr>\n",
       "  </thead>\n",
       "  <tbody>\n",
       "    <tr>\n",
       "      <th>0</th>\n",
       "      <td>-1</td>\n",
       "      <td>2048</td>\n",
       "      <td>-1_rabies_hiv_social anxiety_reaction</td>\n",
       "      <td>[rabies, hiv, social anxiety, reaction, smoked...</td>\n",
       "      <td>[Having anxiety and PTSD over being excluded f...</td>\n",
       "    </tr>\n",
       "    <tr>\n",
       "      <th>1</th>\n",
       "      <td>0</td>\n",
       "      <td>590</td>\n",
       "      <td>0_restless_restlessness_restless restless_feel...</td>\n",
       "      <td>[restless, restlessness, restless restless, fe...</td>\n",
       "      <td>[Why are you so restless, why are you always r...</td>\n",
       "    </tr>\n",
       "    <tr>\n",
       "      <th>2</th>\n",
       "      <td>1</td>\n",
       "      <td>424</td>\n",
       "      <td>1_lymph_flu_swollen_lump</td>\n",
       "      <td>[lymph, flu, swollen, lump, node, nodes, lymph...</td>\n",
       "      <td>[Swollen lymph node in neck and groin for mont...</td>\n",
       "    </tr>\n",
       "    <tr>\n",
       "      <th>3</th>\n",
       "      <td>2</td>\n",
       "      <td>286</td>\n",
       "      <td>2_police_abuse_ex_bf</td>\n",
       "      <td>[police, abuse, ex, bf, door, loves, met, viol...</td>\n",
       "      <td>[He's been violent pretty much since 6months i...</td>\n",
       "    </tr>\n",
       "    <tr>\n",
       "      <th>4</th>\n",
       "      <td>3</td>\n",
       "      <td>247</td>\n",
       "      <td>3_cardiologist_pulse_beats_ecg</td>\n",
       "      <td>[cardiologist, pulse, beats, ecg, shortness br...</td>\n",
       "      <td>[Those of you that Beat Cardiophobia, I Could ...</td>\n",
       "    </tr>\n",
       "    <tr>\n",
       "      <th>5</th>\n",
       "      <td>4</td>\n",
       "      <td>207</td>\n",
       "      <td>4_survey_app_meditation_mindfulness</td>\n",
       "      <td>[survey, app, meditation, mindfulness, relaxat...</td>\n",
       "      <td>[[Repost] The Effectiveness of a 4-Week Online...</td>\n",
       "    </tr>\n",
       "    <tr>\n",
       "      <th>6</th>\n",
       "      <td>5</td>\n",
       "      <td>187</td>\n",
       "      <td>5_brain tumor_ear_aneurysm_tinnitus</td>\n",
       "      <td>[brain tumor, ear, aneurysm, tinnitus, ears, s...</td>\n",
       "      <td>[Fear of Brain Aneurysm presenting as Headache...</td>\n",
       "    </tr>\n",
       "    <tr>\n",
       "      <th>7</th>\n",
       "      <td>6</td>\n",
       "      <td>182</td>\n",
       "      <td>6_grades_studying_classes_motivation</td>\n",
       "      <td>[grades, studying, classes, motivation, physic...</td>\n",
       "      <td>[My physics class is wringing me out The more ...</td>\n",
       "    </tr>\n",
       "    <tr>\n",
       "      <th>8</th>\n",
       "      <td>7</td>\n",
       "      <td>182</td>\n",
       "      <td>7_rent_homeless_bills_paid</td>\n",
       "      <td>[rent, homeless, bills, paid, assistance, inco...</td>\n",
       "      <td>[Long story short, the alternator + module + r...</td>\n",
       "    </tr>\n",
       "    <tr>\n",
       "      <th>9</th>\n",
       "      <td>8</td>\n",
       "      <td>180</td>\n",
       "      <td>8_mg_zoloft_lexapro_dose</td>\n",
       "      <td>[mg, zoloft, lexapro, dose, buspar, pill, ssri...</td>\n",
       "      <td>[Zoloft and Buspar Is anyone else on this comb...</td>\n",
       "    </tr>\n",
       "    <tr>\n",
       "      <th>10</th>\n",
       "      <td>9</td>\n",
       "      <td>175</td>\n",
       "      <td>9_team_boss_manager_fired</td>\n",
       "      <td>[team, boss, manager, fired, staff, shift, mis...</td>\n",
       "      <td>[How can I change my current ( most of my life...</td>\n",
       "    </tr>\n",
       "    <tr>\n",
       "      <th>11</th>\n",
       "      <td>10</td>\n",
       "      <td>165</td>\n",
       "      <td>10_dating_ex_gift_cheated</td>\n",
       "      <td>[dating, ex, gift, cheated, friendship, gf, ha...</td>\n",
       "      <td>[I’m Afraid My Mom Might Hurt Me So the prefac...</td>\n",
       "    </tr>\n",
       "    <tr>\n",
       "      <th>12</th>\n",
       "      <td>11</td>\n",
       "      <td>159</td>\n",
       "      <td>11_abuse_abused_memories_flashbacks</td>\n",
       "      <td>[abuse, abused, memories, flashbacks, sexual, ...</td>\n",
       "      <td>[I was physically and sexually abused by my mo...</td>\n",
       "    </tr>\n",
       "    <tr>\n",
       "      <th>13</th>\n",
       "      <td>12</td>\n",
       "      <td>146</td>\n",
       "      <td>12_ultrasound_radiation_blood test_pcos</td>\n",
       "      <td>[ultrasound, radiation, blood test, pcos, ct s...</td>\n",
       "      <td>[Proud of Myself Hi everyone! It's been a whil...</td>\n",
       "    </tr>\n",
       "    <tr>\n",
       "      <th>14</th>\n",
       "      <td>13</td>\n",
       "      <td>126</td>\n",
       "      <td>13_module_discord_thread_stop googling</td>\n",
       "      <td>[module, discord, thread, stop googling, reass...</td>\n",
       "      <td>[Overcoming personal anxiety by helping others...</td>\n",
       "    </tr>\n",
       "    <tr>\n",
       "      <th>15</th>\n",
       "      <td>14</td>\n",
       "      <td>126</td>\n",
       "      <td>14_als_ms_twitches_weakness</td>\n",
       "      <td>[als, ms, twitches, weakness, numbness, left h...</td>\n",
       "      <td>[Convinced I have MS Hey. I can't seem to calm...</td>\n",
       "    </tr>\n",
       "    <tr>\n",
       "      <th>16</th>\n",
       "      <td>15</td>\n",
       "      <td>122</td>\n",
       "      <td>15_suicidal_suicide_2022_feeling way</td>\n",
       "      <td>[suicidal, suicide, 2022, feeling way, math, s...</td>\n",
       "      <td>[My progress, how I learned to live and progre...</td>\n",
       "    </tr>\n",
       "    <tr>\n",
       "      <th>17</th>\n",
       "      <td>16</td>\n",
       "      <td>115</td>\n",
       "      <td>16_stool_colon_colon cancer_bowel</td>\n",
       "      <td>[stool, colon, colon cancer, bowel, diarrhea, ...</td>\n",
       "      <td>[Flat Stool and Dull Stomach Pain. Could it be...</td>\n",
       "    </tr>\n",
       "    <tr>\n",
       "      <th>18</th>\n",
       "      <td>17</td>\n",
       "      <td>86</td>\n",
       "      <td>17_amoeba_hantavirus_mouse_brain eating</td>\n",
       "      <td>[amoeba, hantavirus, mouse, brain eating, tap,...</td>\n",
       "      <td>[Brain amoeba First of all, thanks to everyone...</td>\n",
       "    </tr>\n",
       "    <tr>\n",
       "      <th>19</th>\n",
       "      <td>18</td>\n",
       "      <td>84</td>\n",
       "      <td>18_falling asleep_dreams_wake feeling_morning ...</td>\n",
       "      <td>[falling asleep, dreams, wake feeling, morning...</td>\n",
       "      <td>[Bizzare Dreams I used to smoke weed for about...</td>\n",
       "    </tr>\n",
       "  </tbody>\n",
       "</table>\n",
       "</div>"
      ],
      "text/plain": [
       "    Topic  Count                                               Name  \\\n",
       "0      -1   2048              -1_rabies_hiv_social anxiety_reaction   \n",
       "1       0    590  0_restless_restlessness_restless restless_feel...   \n",
       "2       1    424                           1_lymph_flu_swollen_lump   \n",
       "3       2    286                               2_police_abuse_ex_bf   \n",
       "4       3    247                     3_cardiologist_pulse_beats_ecg   \n",
       "5       4    207                4_survey_app_meditation_mindfulness   \n",
       "6       5    187                5_brain tumor_ear_aneurysm_tinnitus   \n",
       "7       6    182               6_grades_studying_classes_motivation   \n",
       "8       7    182                         7_rent_homeless_bills_paid   \n",
       "9       8    180                           8_mg_zoloft_lexapro_dose   \n",
       "10      9    175                          9_team_boss_manager_fired   \n",
       "11     10    165                          10_dating_ex_gift_cheated   \n",
       "12     11    159                11_abuse_abused_memories_flashbacks   \n",
       "13     12    146            12_ultrasound_radiation_blood test_pcos   \n",
       "14     13    126             13_module_discord_thread_stop googling   \n",
       "15     14    126                        14_als_ms_twitches_weakness   \n",
       "16     15    122               15_suicidal_suicide_2022_feeling way   \n",
       "17     16    115                  16_stool_colon_colon cancer_bowel   \n",
       "18     17     86            17_amoeba_hantavirus_mouse_brain eating   \n",
       "19     18     84  18_falling asleep_dreams_wake feeling_morning ...   \n",
       "\n",
       "                                       Representation  \\\n",
       "0   [rabies, hiv, social anxiety, reaction, smoked...   \n",
       "1   [restless, restlessness, restless restless, fe...   \n",
       "2   [lymph, flu, swollen, lump, node, nodes, lymph...   \n",
       "3   [police, abuse, ex, bf, door, loves, met, viol...   \n",
       "4   [cardiologist, pulse, beats, ecg, shortness br...   \n",
       "5   [survey, app, meditation, mindfulness, relaxat...   \n",
       "6   [brain tumor, ear, aneurysm, tinnitus, ears, s...   \n",
       "7   [grades, studying, classes, motivation, physic...   \n",
       "8   [rent, homeless, bills, paid, assistance, inco...   \n",
       "9   [mg, zoloft, lexapro, dose, buspar, pill, ssri...   \n",
       "10  [team, boss, manager, fired, staff, shift, mis...   \n",
       "11  [dating, ex, gift, cheated, friendship, gf, ha...   \n",
       "12  [abuse, abused, memories, flashbacks, sexual, ...   \n",
       "13  [ultrasound, radiation, blood test, pcos, ct s...   \n",
       "14  [module, discord, thread, stop googling, reass...   \n",
       "15  [als, ms, twitches, weakness, numbness, left h...   \n",
       "16  [suicidal, suicide, 2022, feeling way, math, s...   \n",
       "17  [stool, colon, colon cancer, bowel, diarrhea, ...   \n",
       "18  [amoeba, hantavirus, mouse, brain eating, tap,...   \n",
       "19  [falling asleep, dreams, wake feeling, morning...   \n",
       "\n",
       "                                  Representative_Docs  \n",
       "0   [Having anxiety and PTSD over being excluded f...  \n",
       "1   [Why are you so restless, why are you always r...  \n",
       "2   [Swollen lymph node in neck and groin for mont...  \n",
       "3   [He's been violent pretty much since 6months i...  \n",
       "4   [Those of you that Beat Cardiophobia, I Could ...  \n",
       "5   [[Repost] The Effectiveness of a 4-Week Online...  \n",
       "6   [Fear of Brain Aneurysm presenting as Headache...  \n",
       "7   [My physics class is wringing me out The more ...  \n",
       "8   [Long story short, the alternator + module + r...  \n",
       "9   [Zoloft and Buspar Is anyone else on this comb...  \n",
       "10  [How can I change my current ( most of my life...  \n",
       "11  [I’m Afraid My Mom Might Hurt Me So the prefac...  \n",
       "12  [I was physically and sexually abused by my mo...  \n",
       "13  [Proud of Myself Hi everyone! It's been a whil...  \n",
       "14  [Overcoming personal anxiety by helping others...  \n",
       "15  [Convinced I have MS Hey. I can't seem to calm...  \n",
       "16  [My progress, how I learned to live and progre...  \n",
       "17  [Flat Stool and Dull Stomach Pain. Could it be...  \n",
       "18  [Brain amoeba First of all, thanks to everyone...  \n",
       "19  [Bizzare Dreams I used to smoke weed for about...  "
      ]
     },
     "execution_count": 128,
     "metadata": {},
     "output_type": "execute_result"
    }
   ],
   "source": [
    "topic_info.head(20)"
   ]
  },
  {
   "cell_type": "code",
   "execution_count": 129,
   "id": "496df5c5",
   "metadata": {},
   "outputs": [
    {
     "name": "stdout",
     "output_type": "stream",
     "text": [
      "    Topic  Count                                               Name\n",
      "0      -1   2048              -1_rabies_hiv_social anxiety_reaction\n",
      "1       0    590  0_restless_restlessness_restless restless_feel...\n",
      "2       1    424                           1_lymph_flu_swollen_lump\n",
      "3       2    286                               2_police_abuse_ex_bf\n",
      "4       3    247                     3_cardiologist_pulse_beats_ecg\n",
      "5       4    207                4_survey_app_meditation_mindfulness\n",
      "6       5    187                5_brain tumor_ear_aneurysm_tinnitus\n",
      "7       6    182               6_grades_studying_classes_motivation\n",
      "8       7    182                         7_rent_homeless_bills_paid\n",
      "9       8    180                           8_mg_zoloft_lexapro_dose\n",
      "10      9    175                          9_team_boss_manager_fired\n",
      "11     10    165                          10_dating_ex_gift_cheated\n",
      "12     11    159                11_abuse_abused_memories_flashbacks\n",
      "13     12    146            12_ultrasound_radiation_blood test_pcos\n",
      "14     13    126             13_module_discord_thread_stop googling\n",
      "15     14    126                        14_als_ms_twitches_weakness\n",
      "16     15    122               15_suicidal_suicide_2022_feeling way\n",
      "17     16    115                  16_stool_colon_colon cancer_bowel\n",
      "18     17     86            17_amoeba_hantavirus_mouse_brain eating\n",
      "19     18     84  18_falling asleep_dreams_wake feeling_morning ...\n",
      "Topic 0: restless, restlessness, restless restless, feeling restless, feel restless, heart restless, sleep restless, don worry, oh god, nervous don\n",
      "Topic 1: lymph, flu, swollen, lump, node, nodes, lymph node, lymph nodes, fever, cough\n",
      "Topic 2: police, abuse, ex, bf, door, loves, met, violence, domestic, court\n",
      "Topic 3: cardiologist, pulse, beats, ecg, shortness breath, shortness, monitor, bp, left chest, bpm\n",
      "Topic 4: survey, app, meditation, mindfulness, relaxation, management, reduce, stress management, stress relief, participate\n",
      "Topic 5: brain tumor, ear, aneurysm, tinnitus, ears, sneeze, floaters, glasses, left eye, left ear\n",
      "Topic 6: grades, studying, classes, motivation, physics, feel stressed, uni, homework, math, chronic stress\n",
      "Topic 7: rent, homeless, bills, paid, assistance, income, loans, loan, save, cost\n",
      "Topic 8: mg, zoloft, lexapro, dose, buspar, pill, ssri, ssris, dosage, benzos\n",
      "Topic 9: team, boss, manager, fired, staff, shift, mistakes, role, tasks, quit job\n",
      "Topic 10: dating, ex, gift, cheated, friendship, gf, hanging, messages, text, asks\n",
      "Topic 11: abuse, abused, memories, flashbacks, sexual, sexually, sexual abuse, childhood, abuser, nightmares\n",
      "Topic 12: ultrasound, radiation, blood test, pcos, ct scan, breast, pregnancy, ovarian, breast cancer, brain tumor\n",
      "Topic 13: module, discord, thread, stop googling, reassure, iud, searching, illnesses, search, sensations\n",
      "Topic 14: als, ms, twitches, weakness, numbness, left hand, thumb, neurological, pins needles, twitch\n",
      "Topic 15: suicidal, suicide, 2022, feeling way, math, sessions, want feel, attempted, struggled, counseling\n",
      "Topic 16: stool, colon, colon cancer, bowel, diarrhea, ibs, constipation, ulcer, gas, gi\n",
      "Topic 17: amoeba, hantavirus, mouse, brain eating, tap, eating amoeba, asbestos, taste, dust, exposure\n",
      "Topic 18: falling asleep, dreams, wake feeling, morning anxiety, sleeping pills, melatonin, alarm, better sleep, pills, nap\n",
      "Topic 19: dementia, vehicle, anxiety attacks, adrenaline, foggy, feel body, train, numb feel, rush, faint\n"
     ]
    }
   ],
   "source": [
    "info = topic_model.get_topic_info()\n",
    "print(info[[\"Topic\", \"Count\", \"Name\"]].head(20))\n",
    "\n",
    "# Peek at top words for specific topics to decide merges\n",
    "def show_top_words(tid, k=10):\n",
    "    print(f\"Topic {tid}:\",\n",
    "        \", \".join([w for w, _ in topic_model.get_topic(tid)[:k]]))\n",
    "\n",
    "for tid in info[\"Topic\"].tolist()[:]:\n",
    "    if tid != -1:\n",
    "        show_top_words(tid)"
   ]
  },
  {
   "cell_type": "code",
   "execution_count": 130,
   "id": "de05ee3d",
   "metadata": {},
   "outputs": [],
   "source": [
    "health_help_groups = [[1, 3, 5, 8, 12, 14, 16, 17, 19]]"
   ]
  },
  {
   "cell_type": "code",
   "execution_count": 131,
   "id": "e5956ce9",
   "metadata": {},
   "outputs": [
    {
     "name": "stdout",
     "output_type": "stream",
     "text": [
      "    Topic  Count                                               Name\n",
      "0      -1   2048                     -1_rabies_hiv_amp x200b_throat\n",
      "1       0   1593                      0_throat_lymph_heart rate_flu\n",
      "2       1    590  1_restlessness_restless restless_feeling restl...\n",
      "3       2    286                   2_violence_domestic_court_dating\n",
      "4       3    207                3_survey_app_mindfulness_relaxation\n",
      "5       4    182               4_feel stressed_physics_uni_homework\n",
      "6       5    182                 5_homeless_assistance_income_loans\n",
      "7       6    175                         6_boss_manager_fired_staff\n",
      "8       7    165                     7_dating_gift_cheated_messages\n",
      "9       8    159              8_abused_memories_flashbacks_sexually\n",
      "10      9    126                9_ha_reassurance_googling_amp x200b\n",
      "11     10    122          10_math_attempted_struggled_anxiety years\n",
      "12     11     84  11_falling asleep_wake feeling_morning anxiety...\n"
     ]
    }
   ],
   "source": [
    "# Merge them one by one\n",
    "topic_model.merge_topics(stressed_posts, health_help_groups)\n",
    "# Inspect new topic distribution\n",
    "info = topic_model.get_topic_info()\n",
    "print(info[[\"Topic\",\"Count\",\"Name\"]].head(20))"
   ]
  },
  {
   "cell_type": "code",
   "execution_count": 132,
   "id": "9c2183fd",
   "metadata": {},
   "outputs": [
    {
     "name": "stdout",
     "output_type": "stream",
     "text": [
      "Topic 0: throat, lymph, heart rate, flu, lump, swollen, tumor, blood pressure, vision, infection\n",
      "Topic 1: restlessness, restless restless, feeling restless, feel restless, don worry, heart restless, sleep restless, oh god, nervous don, anxious restless\n",
      "Topic 2: violence, domestic, court, dating, charges, jewish, yelling, dr boyfriend, threw, abusive relationship\n",
      "Topic 3: survey, app, mindfulness, relaxation, reduce, stress management, stress relief, participate, relieve, participants\n",
      "Topic 4: feel stressed, physics, uni, homework, chronic stress, math, boring, soccer, hair loss, professor\n",
      "Topic 5: homeless, assistance, income, loans, loan, url, save money, shelter, housing, savings\n",
      "Topic 6: boss, manager, fired, staff, shift, tasks, role, quit job, covid, bob\n",
      "Topic 7: dating, gift, cheated, messages, started dating, marriage, threatened, phone number, texts, blocked\n",
      "Topic 8: abused, memories, flashbacks, sexually, sexual abuse, abuser, nightmares, assault, rape, molested\n",
      "Topic 9: ha, reassurance, googling, amp x200b, module, discord, stories, stop googling, reassure, iud\n",
      "Topic 10: math, attempted, struggled, anxiety years, anxiety gotten, commit suicide, want die, choose, want kill, assistance\n",
      "Topic 11: falling asleep, wake feeling, morning anxiety, sleeping pills, melatonin, alarm, pills, better sleep, nap, asleep wake\n"
     ]
    }
   ],
   "source": [
    "for tid in info[\"Topic\"].tolist()[:]:\n",
    "    if tid != -1:\n",
    "        show_top_words(tid)"
   ]
  },
  {
   "cell_type": "code",
   "execution_count": 133,
   "id": "25bd160d",
   "metadata": {},
   "outputs": [],
   "source": [
    "trauma_groups = [[2, 8]]\n"
   ]
  },
  {
   "cell_type": "code",
   "execution_count": 134,
   "id": "383df09c",
   "metadata": {},
   "outputs": [
    {
     "name": "stdout",
     "output_type": "stream",
     "text": [
      "    Topic  Count                                               Name\n",
      "0      -1   2048                     -1_rabies_hiv_amp x200b_throat\n",
      "1       0   1593                      0_throat_lymph_heart rate_flu\n",
      "2       1    590  1_restlessness_restless restless_feeling restl...\n",
      "3       2    445                            2_ptsd_abused_ex_police\n",
      "4       3    207                3_survey_app_mindfulness_relaxation\n",
      "5       4    182               4_feel stressed_uni_physics_homework\n",
      "6       5    182                 5_homeless_assistance_income_loans\n",
      "7       6    175                         6_boss_manager_fired_shift\n",
      "8       7    165                           7_dating_ex_gift_cheated\n",
      "9       8    126                8_ha_reassurance_googling_amp x200b\n",
      "10      9    122           9_math_attempted_struggled_anxiety years\n",
      "11     10     84  10_falling asleep_wake feeling_morning anxiety...\n",
      "Topic 0: throat, lymph, heart rate, flu, lump, swollen, tumor, blood pressure, vision, infection\n",
      "Topic 1: restlessness, restless restless, feeling restless, feel restless, don worry, sleep restless, heart restless, oh god, nervous don, anxious restless\n",
      "Topic 2: ptsd, abused, ex, police, memories, trauma, sexually, sexual, flashbacks, violence\n",
      "Topic 3: survey, app, mindfulness, relaxation, reduce, stress management, stress relief, participate, relieve, participants\n",
      "Topic 4: feel stressed, uni, physics, homework, chronic stress, math, boring, hair loss, soccer, professor\n",
      "Topic 5: homeless, assistance, income, loans, loan, url, save money, shelter, housing, savings\n",
      "Topic 6: boss, manager, fired, shift, staff, tasks, role, quit job, covid, bob\n",
      "Topic 7: dating, ex, gift, cheated, messages, started dating, marriage, threatened, phone number, texts\n",
      "Topic 8: ha, reassurance, googling, amp x200b, module, discord, stories, stop googling, reassure, iud\n",
      "Topic 9: math, attempted, struggled, anxiety years, counseling, ptsd, anxiety gotten, tired feeling, commit suicide, want die\n",
      "Topic 10: falling asleep, wake feeling, morning anxiety, sleeping pills, melatonin, alarm, pills, nap, better sleep, asleep wake\n"
     ]
    }
   ],
   "source": [
    "\n",
    "topic_model.merge_topics(stressed_posts, trauma_groups)\n",
    "\n",
    "info = topic_model.get_topic_info()\n",
    "print(info[[\"Topic\",\"Count\",\"Name\"]].head(20))\n",
    "for tid in info[\"Topic\"].tolist()[:]:\n",
    "    if tid != -1:\n",
    "        show_top_words(tid)"
   ]
  },
  {
   "cell_type": "code",
   "execution_count": 135,
   "id": "490f802f",
   "metadata": {},
   "outputs": [],
   "source": [
    "sleep_groups = [[1,9]]\n",
    "\n",
    "topic_model.merge_topics(stressed_posts, sleep_groups)\n",
    "\n",
    "# Inspect new topic distribution\n",
    "topic_info = topic_model.get_topic_info()"
   ]
  },
  {
   "cell_type": "code",
   "execution_count": 136,
   "id": "f2d8a64e",
   "metadata": {},
   "outputs": [
    {
     "name": "stdout",
     "output_type": "stream",
     "text": [
      "Topic 0 [('lymph', np.float64(0.011991598651887795)), ('heart rate', np.float64(0.011971441547386545)), ('flu', np.float64(0.010809776288831806)), ('lump', np.float64(0.009931959177136199)), ('swollen', np.float64(0.009774134380559806)), ('tumor', np.float64(0.009295749237480557)), ('blood pressure', np.float64(0.009250535758297526)), ('vision', np.float64(0.008721652237448073)), ('infection', np.float64(0.008666693550674419)), ('node', np.float64(0.008084904012726535))]\n",
      "Topic 1 [('restlessness', np.float64(0.03377140080095969)), ('restless restless', np.float64(0.03310918042486818)), ('feeling restless', np.float64(0.023473107975496135)), ('feel restless', np.float64(0.02131294934592358)), ('sleep restless', np.float64(0.014868636231943903)), ('heart restless', np.float64(0.014868636231943903)), ('nervous don', np.float64(0.014699697244312316)), ('lazy', np.float64(0.011306879117966207)), ('anxious restless', np.float64(0.01125520929883891)), ('prayer', np.float64(0.01109344649423921))]\n",
      "Topic 2 [('abused', np.float64(0.025943810215799647)), ('memories', np.float64(0.01914188046893245)), ('sexually', np.float64(0.016443550186073456)), ('flashbacks', np.float64(0.015290764196974714)), ('violence', np.float64(0.013941054730318266)), ('sexual abuse', np.float64(0.01368725580524105)), ('abuser', np.float64(0.011665339028386705)), ('rape', np.float64(0.010856375337468542)), ('domestic', np.float64(0.010856375337468542)), ('dating', np.float64(0.009884496185139055))]\n",
      "Topic 3 [('survey', np.float64(0.07095193682874125)), ('relaxation', np.float64(0.04182253735122141)), ('stress management', np.float64(0.03804849793055273)), ('stress relief', np.float64(0.03589385206940771)), ('participate', np.float64(0.03482986713022412)), ('relieve', np.float64(0.03423975757323077)), ('participants', np.float64(0.03330990073358907)), ('reduce stress', np.float64(0.03224603684374045)), ('relieve stress', np.float64(0.030693542975897836)), ('manage stress', np.float64(0.026468520299514943))]\n",
      "Topic 4 [('feel stressed', np.float64(0.0126198240681366)), ('physics', np.float64(0.012448146733019161)), ('homework', np.float64(0.01229732436452707)), ('math', np.float64(0.012212488311706694)), ('chronic stress', np.float64(0.012212488311706694)), ('boring', np.float64(0.012053372090016605)), ('soccer', np.float64(0.011959680058659442)), ('hair loss', np.float64(0.011959680058659442)), ('professor', np.float64(0.01136844628309571)), ('free time', np.float64(0.011009879255051012))]\n",
      "Topic 5 [('homeless', np.float64(0.0526963055690096)), ('loans', np.float64(0.028408255698796105)), ('loan', np.float64(0.025780200497326964)), ('url', np.float64(0.024887126317782365)), ('save money', np.float64(0.023006639056402423)), ('shelter', np.float64(0.021968666885035577)), ('housing', np.float64(0.02052930123134096)), ('savings', np.float64(0.01914250932878185)), ('dollars', np.float64(0.01840531124512194)), ('payments', np.float64(0.017634161095829586))]\n",
      "Topic 6 [('fired', np.float64(0.01278283827515177)), ('staff', np.float64(0.012189576425102227)), ('role', np.float64(0.011344698702228971)), ('quit job', np.float64(0.010298097441152117)), ('dollar', np.float64(0.009748876281165804)), ('bob', np.float64(0.009748876281165804)), ('project', np.float64(0.00967095402689928)), ('employees', np.float64(0.009629925383302318)), ('supervisor', np.float64(0.009236712360720739)), ('leave job', np.float64(0.008770333584175206))]\n",
      "Topic 7 [('dating', np.float64(0.024374760111760763)), ('gift', np.float64(0.01864434977537149)), ('cheated', np.float64(0.01808113776021032)), ('messages', np.float64(0.015470689217789652)), ('started dating', np.float64(0.013529881924305959)), ('marriage', np.float64(0.012429566516914329)), ('threatened', np.float64(0.012141125437097165)), ('phone number', np.float64(0.012072111145747572)), ('texts', np.float64(0.011970933785449743)), ('blocked', np.float64(0.011891321282561212))]\n",
      "Topic 8 [('googling', np.float64(0.026473941700214703)), ('module', np.float64(0.015472507432997003)), ('discord', np.float64(0.015133953512231145)), ('stop googling', np.float64(0.011341650541854655)), ('reassure', np.float64(0.010999039834917063)), ('iud', np.float64(0.01058199363009958)), ('hypochondria', np.float64(0.010459520964480593)), ('searching', np.float64(0.01041379056330105)), ('sensations', np.float64(0.010181313705991209)), ('search', np.float64(0.010066547068166835))]\n",
      "Topic 9 [('wake feeling', np.float64(0.03149664776714017)), ('morning anxiety', np.float64(0.0287283700093403)), ('sleeping pills', np.float64(0.024761119163986503)), ('melatonin', np.float64(0.023940308341116916)), ('alarm', np.float64(0.02206170636157441)), ('better sleep', np.float64(0.02068817872655326)), ('asleep wake', np.float64(0.020211712360096064)), ('mirtazapine', np.float64(0.019808895331189198)), ('just wake', np.float64(0.019459984921497562)), ('sheets', np.float64(0.01887698558676587))]\n"
     ]
    }
   ],
   "source": [
    "for tid in topic_info[\"Topic\"]:\n",
    "    if tid == -1:\n",
    "        continue\n",
    "    print(\"Topic\", tid, topic_model.get_topic(tid)[:])  # list of (word, score)"
   ]
  },
  {
   "cell_type": "code",
   "execution_count": null,
   "id": "0b10d630",
   "metadata": {},
   "outputs": [],
   "source": [
    "topic_to_theme_dict = {\n",
    "  1: \"sleep_issues\",\n",
    "  7: \"financial_stress\",\n",
    "  8: \"work_stress\",\n",
    "  10: \"academic_stress\",\n",
    "  0: \"relationships\",\n",
    "  3: \"health_anxiety\", \n",
    "  # fallback:\n",
    "  -1: \"general_stress\"\n",
    "}"
   ]
  }
 ],
 "metadata": {
  "kernelspec": {
   "display_name": "stress_sense",
   "language": "python",
   "name": "python3"
  },
  "language_info": {
   "codemirror_mode": {
    "name": "ipython",
    "version": 3
   },
   "file_extension": ".py",
   "mimetype": "text/x-python",
   "name": "python",
   "nbconvert_exporter": "python",
   "pygments_lexer": "ipython3",
   "version": "3.10.6"
  }
 },
 "nbformat": 4,
 "nbformat_minor": 5
}
