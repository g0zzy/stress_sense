{
 "cells": [
  {
   "cell_type": "code",
   "execution_count": 192,
   "id": "923bb65d",
   "metadata": {},
   "outputs": [],
   "source": [
    "import pandas as pd\n",
    "\n",
    "# Loading the dataset\n",
    "path = \"/Users/gozde/code/g0zzy/stress_sense/raw_data/Data.csv\"\n",
    "data = pd.read_csv(path)\n",
    "\n",
    "data.drop(columns=[\"Unnamed: 0\"], inplace=True)\n",
    "data.dropna(inplace=True)\n",
    "data.drop_duplicates(inplace=True)"
   ]
  },
  {
   "cell_type": "code",
   "execution_count": 193,
   "id": "4f33e59d",
   "metadata": {},
   "outputs": [],
   "source": [
    "import re\n",
    "\n",
    "def strip_urls(text: str) -> str:\n",
    "    \"\"\"\n",
    "    Remove URLs (http, https, www, youtu links) from a string.\n",
    "    \"\"\"\n",
    "    # remove http/https URLs\n",
    "    text = re.sub(r\"http\\S+\", \"\", text)\n",
    "    # remove www.* URLs\n",
    "    text = re.sub(r\"www\\.\\S+\", \"\", text)\n",
    "    # remove youtube short links\n",
    "    text = re.sub(r\"youtu\\.be\\S+\", \"\", text)\n",
    "    return text.strip()"
   ]
  },
  {
   "cell_type": "code",
   "execution_count": 194,
   "id": "38f37204",
   "metadata": {},
   "outputs": [],
   "source": [
    "META_TOKENS = {\n",
    "    # search/meta\n",
    "    \"googling\",\"google\",\"search\",\"searching\",\"searched\",\"searches\",\n",
    "    \"stop googling\",\"reassure\",\"reassurance\",\"module\",\"thread\",\"post\",\"comment\",\n",
    "    \"discord\",\"reddit\",\"subreddit\",\"dm\",\"pm\",\"chat\",\"server\",\n",
    "    # link/platform\n",
    "    \"http\",\"https\",\"www\",\"url\",\"link\",\"links\",\"imgur\",\"tiktok\",\"instagram\",\n",
    "    \"youtube\",\"youtu\",\"yt\",\"twitter\",\"xcom\",\"fb\",\"facebook\",\"app\",\"apps\",\n",
    "}\n",
    "\n",
    "_meta_regex = re.compile(\n",
    "    r\"(http\\S+|www\\.\\S+|youtu\\.be/\\S+|youtube\\.com/\\S+)\", flags=re.IGNORECASE\n",
    ")\n",
    "\n",
    "def clean_text(s: str) -> str:\n",
    "    s = s.lower().strip()\n",
    "    # remove urls\n",
    "    s = _meta_regex.sub(\"\", s)\n",
    "    s = re.sub(r\"\\s+\", \" \", s)\n",
    "    return s.strip()\n",
    "\n",
    "def is_meta_heavy(s: str, threshold=2) -> bool:\n",
    "    \"\"\"Flag texts that are mostly meta/search/platform chatter.\"\"\"\n",
    "    low = s.lower()\n",
    "    hits = sum(tok in low for tok in META_TOKENS)\n",
    "    return hits >= threshold"
   ]
  },
  {
   "cell_type": "markdown",
   "id": "a51f1218",
   "metadata": {},
   "source": [
    "* Do not do any other preprocessing steps such as lowercasing,  removing stopwords, lemmatization, stemming, etc. as they might remove important context for the model to learn from. Just have to remove the URLs etc from data. \n",
    "\n",
    "* **Transformers are trained on raw(ish) text**"
   ]
  },
  {
   "cell_type": "code",
   "execution_count": 195,
   "id": "0209dc6e",
   "metadata": {},
   "outputs": [],
   "source": [
    "#data.statement = data.statement.apply(lambda x: x.strip())"
   ]
  },
  {
   "cell_type": "code",
   "execution_count": 196,
   "id": "626428c9",
   "metadata": {},
   "outputs": [],
   "source": [
    "#data.statement = data.statement.apply(strip_urls)"
   ]
  },
  {
   "cell_type": "code",
   "execution_count": 197,
   "id": "e17bf3d5",
   "metadata": {},
   "outputs": [
    {
     "name": "stdout",
     "output_type": "stream",
     "text": [
      "51093 → 48342 after meta filtering\n"
     ]
    }
   ],
   "source": [
    "cleaned_docs = []\n",
    "for statement in data.statement.to_list():\n",
    "    cleaned_text = clean_text(statement)\n",
    "    if not is_meta_heavy(cleaned_text, threshold=3):   # drop very meta-heavy posts\n",
    "        cleaned_docs.append(cleaned_text)\n",
    "\n",
    "print(len(data.statement.to_list()), \"→\", len(cleaned_docs), \"after meta filtering\")"
   ]
  },
  {
   "cell_type": "code",
   "execution_count": 198,
   "id": "a7261d6b",
   "metadata": {},
   "outputs": [
    {
     "data": {
      "text/html": [
       "<div>\n",
       "<style scoped>\n",
       "    .dataframe tbody tr th:only-of-type {\n",
       "        vertical-align: middle;\n",
       "    }\n",
       "\n",
       "    .dataframe tbody tr th {\n",
       "        vertical-align: top;\n",
       "    }\n",
       "\n",
       "    .dataframe thead th {\n",
       "        text-align: right;\n",
       "    }\n",
       "</style>\n",
       "<table border=\"1\" class=\"dataframe\">\n",
       "  <thead>\n",
       "    <tr style=\"text-align: right;\">\n",
       "      <th></th>\n",
       "      <th>statement</th>\n",
       "      <th>status</th>\n",
       "    </tr>\n",
       "  </thead>\n",
       "  <tbody>\n",
       "    <tr>\n",
       "      <th>0</th>\n",
       "      <td>oh my gosh</td>\n",
       "      <td>Anxiety</td>\n",
       "    </tr>\n",
       "    <tr>\n",
       "      <th>1</th>\n",
       "      <td>trouble sleeping, confused mind, restless hear...</td>\n",
       "      <td>Anxiety</td>\n",
       "    </tr>\n",
       "    <tr>\n",
       "      <th>2</th>\n",
       "      <td>All wrong, back off dear, forward doubt. Stay ...</td>\n",
       "      <td>Anxiety</td>\n",
       "    </tr>\n",
       "    <tr>\n",
       "      <th>3</th>\n",
       "      <td>I've shifted my focus to something else but I'...</td>\n",
       "      <td>Anxiety</td>\n",
       "    </tr>\n",
       "    <tr>\n",
       "      <th>4</th>\n",
       "      <td>I'm restless and restless, it's been a month n...</td>\n",
       "      <td>Anxiety</td>\n",
       "    </tr>\n",
       "    <tr>\n",
       "      <th>5</th>\n",
       "      <td>every break, you must be nervous, like somethi...</td>\n",
       "      <td>Anxiety</td>\n",
       "    </tr>\n",
       "    <tr>\n",
       "      <th>6</th>\n",
       "      <td>I feel scared, anxious, what can I do? And may...</td>\n",
       "      <td>Anxiety</td>\n",
       "    </tr>\n",
       "    <tr>\n",
       "      <th>7</th>\n",
       "      <td>Have you ever felt nervous but didn't know why?</td>\n",
       "      <td>Anxiety</td>\n",
       "    </tr>\n",
       "    <tr>\n",
       "      <th>8</th>\n",
       "      <td>I haven't slept well for 2 days, it's like I'm...</td>\n",
       "      <td>Anxiety</td>\n",
       "    </tr>\n",
       "    <tr>\n",
       "      <th>9</th>\n",
       "      <td>I'm really worried, I want to cry.</td>\n",
       "      <td>Anxiety</td>\n",
       "    </tr>\n",
       "  </tbody>\n",
       "</table>\n",
       "</div>"
      ],
      "text/plain": [
       "                                           statement   status\n",
       "0                                         oh my gosh  Anxiety\n",
       "1  trouble sleeping, confused mind, restless hear...  Anxiety\n",
       "2  All wrong, back off dear, forward doubt. Stay ...  Anxiety\n",
       "3  I've shifted my focus to something else but I'...  Anxiety\n",
       "4  I'm restless and restless, it's been a month n...  Anxiety\n",
       "5  every break, you must be nervous, like somethi...  Anxiety\n",
       "6  I feel scared, anxious, what can I do? And may...  Anxiety\n",
       "7    Have you ever felt nervous but didn't know why?  Anxiety\n",
       "8  I haven't slept well for 2 days, it's like I'm...  Anxiety\n",
       "9                 I'm really worried, I want to cry.  Anxiety"
      ]
     },
     "execution_count": 198,
     "metadata": {},
     "output_type": "execute_result"
    }
   ],
   "source": [
    "data.head(10)"
   ]
  },
  {
   "cell_type": "code",
   "execution_count": 199,
   "id": "1d5f55f7",
   "metadata": {},
   "outputs": [
    {
     "data": {
      "text/plain": [
       "(51093, 2)"
      ]
     },
     "execution_count": 199,
     "metadata": {},
     "output_type": "execute_result"
    }
   ],
   "source": [
    "data.shape"
   ]
  },
  {
   "cell_type": "code",
   "execution_count": 200,
   "id": "1c5d4dfa",
   "metadata": {},
   "outputs": [
    {
     "data": {
      "text/plain": [
       "[\"I am so exhausted of this. Just when I think I can finally rest, just when I think maybe things are starting to settle, another hurdle comes flying at me. This month alone we found out my mum could be dying, my girlfriend left me, my parents revealed that they wanted a divorce, my grandad was hospitalised again and just now my little sister's been rushed to A&amp;E with possible brain damage. If there is a god up there they must fucking hate me. it is like life is trying to get me to kill myself and honestly I think I would be better off dead. I attempted when I was 12 but I was stupid and there was no way I could cut deep enough. Now I am 15 and everything is so much worse than it ever has been and I just cannot hold on much longer -- it is going to take a miracle to get me through this. I feel so alone. I feel like the world hates me and I have no idea what I did wrong to deserve this. I thought I was getting better. I was doing so well and now everything's just come crashing down again. I was thinking about carbon monoxide poisoning but I highly doubt there is any way for me to get that. it is looking like I will overdose but that is unreliable as fuck and surviving sounds like hell so idk. Just got to stick around long enough to make sure my sister's alright. I have already contacted one of my ex's friends to make sure they are looked after when I am gone. I do not think there is long left for me. Sorry. I have posted on this subreddit too many times in the span of a week and that is probably really annoying I just have absolutely no idea what to do anymore. I feel sick. If my sister dies then I really cannot do this anymore. It all hurts. Life is really fucking trying me\",\n",
       " \"I am 20 year old with some good friends but I am just tired a had a problem with bullying when I was little and that hit me hard but the thing that annoys me the most is like all my friends succeeding in life without even trying like the relationship part without even wanting one and I just feel fucking jealous.. I am just fucking ugly and all I want is to find a person to love..I feel disgusted by myself that I am jealous of my friends and I just want to end it all but I just see my family's faces and I do not want to put them through this.. I feel I am playing my life on hard mode while everyone is on easy mode.. I just cannot do this anymore I am just tired.\",\n",
       " 'it is looming around the corner again. It always comes back. Like a wave, like the moon. I can hear the silence, feel the breeze, see the cold light. Death. I try and try and try. I choose and i survive. Then it hits again and everything goes dark. Suicide. Singing to me peace, quiet, end of everything. Resisting is difficult, so very difficult. Just a bright white piece of string and it would be over. Peace, quiet, end. I live with death, it is always there. it is looming around the corner.',\n",
       " 'there is.....foodAnd other things I will be judged for and for having weird views because maybe I am delusional I want to go to jail. Life would be better there I am not joking. Maybe suicide would not even cross my mind in jail',\n",
       " 'I am on zoloft and focalin and it is changed my life over the past four years for the better. But this week I have been feeling like I am regressing a lot. I do not have any interest in any activities I normally like. My brain feels like there is a fog around it and I love my new job but I do not have the energy to perform as well. My fiancee went out of town on Tuesday as well which just made things worse. I feel useless and tired and just like shit in general. I think it is hitting extra hard because I have been doing so well for so long. I would talk to my fiancee but she is been through so much with me that I cannot bear to put this on her. I am just lost... what am I doing wrong? I just want to get back in my routine but idk shit sucks. it is getting worse again...']"
      ]
     },
     "execution_count": 200,
     "metadata": {},
     "output_type": "execute_result"
    }
   ],
   "source": [
    "suicidal = data[data['status'].isin(['Suicidal'])].copy()\n",
    "suicidal['statement'].to_list()[:5]\n"
   ]
  },
  {
   "cell_type": "code",
   "execution_count": 201,
   "id": "20694939",
   "metadata": {},
   "outputs": [],
   "source": [
    "new_df = data[data['status'].isin(['Stress', 'Anxiety'])].copy()\n",
    "stressed_posts = new_df['statement'].to_list()"
   ]
  },
  {
   "cell_type": "code",
   "execution_count": 202,
   "id": "5351e585",
   "metadata": {},
   "outputs": [
    {
     "data": {
      "text/html": [
       "<div>\n",
       "<style scoped>\n",
       "    .dataframe tbody tr th:only-of-type {\n",
       "        vertical-align: middle;\n",
       "    }\n",
       "\n",
       "    .dataframe tbody tr th {\n",
       "        vertical-align: top;\n",
       "    }\n",
       "\n",
       "    .dataframe thead th {\n",
       "        text-align: right;\n",
       "    }\n",
       "</style>\n",
       "<table border=\"1\" class=\"dataframe\">\n",
       "  <thead>\n",
       "    <tr style=\"text-align: right;\">\n",
       "      <th></th>\n",
       "      <th>statement</th>\n",
       "      <th>status</th>\n",
       "    </tr>\n",
       "  </thead>\n",
       "  <tbody>\n",
       "    <tr>\n",
       "      <th>0</th>\n",
       "      <td>oh my gosh</td>\n",
       "      <td>Anxiety</td>\n",
       "    </tr>\n",
       "    <tr>\n",
       "      <th>1</th>\n",
       "      <td>trouble sleeping, confused mind, restless hear...</td>\n",
       "      <td>Anxiety</td>\n",
       "    </tr>\n",
       "    <tr>\n",
       "      <th>2</th>\n",
       "      <td>All wrong, back off dear, forward doubt. Stay ...</td>\n",
       "      <td>Anxiety</td>\n",
       "    </tr>\n",
       "    <tr>\n",
       "      <th>3</th>\n",
       "      <td>I've shifted my focus to something else but I'...</td>\n",
       "      <td>Anxiety</td>\n",
       "    </tr>\n",
       "    <tr>\n",
       "      <th>4</th>\n",
       "      <td>I'm restless and restless, it's been a month n...</td>\n",
       "      <td>Anxiety</td>\n",
       "    </tr>\n",
       "    <tr>\n",
       "      <th>5</th>\n",
       "      <td>every break, you must be nervous, like somethi...</td>\n",
       "      <td>Anxiety</td>\n",
       "    </tr>\n",
       "    <tr>\n",
       "      <th>6</th>\n",
       "      <td>I feel scared, anxious, what can I do? And may...</td>\n",
       "      <td>Anxiety</td>\n",
       "    </tr>\n",
       "    <tr>\n",
       "      <th>7</th>\n",
       "      <td>Have you ever felt nervous but didn't know why?</td>\n",
       "      <td>Anxiety</td>\n",
       "    </tr>\n",
       "    <tr>\n",
       "      <th>8</th>\n",
       "      <td>I haven't slept well for 2 days, it's like I'm...</td>\n",
       "      <td>Anxiety</td>\n",
       "    </tr>\n",
       "    <tr>\n",
       "      <th>9</th>\n",
       "      <td>I'm really worried, I want to cry.</td>\n",
       "      <td>Anxiety</td>\n",
       "    </tr>\n",
       "  </tbody>\n",
       "</table>\n",
       "</div>"
      ],
      "text/plain": [
       "                                           statement   status\n",
       "0                                         oh my gosh  Anxiety\n",
       "1  trouble sleeping, confused mind, restless hear...  Anxiety\n",
       "2  All wrong, back off dear, forward doubt. Stay ...  Anxiety\n",
       "3  I've shifted my focus to something else but I'...  Anxiety\n",
       "4  I'm restless and restless, it's been a month n...  Anxiety\n",
       "5  every break, you must be nervous, like somethi...  Anxiety\n",
       "6  I feel scared, anxious, what can I do? And may...  Anxiety\n",
       "7    Have you ever felt nervous but didn't know why?  Anxiety\n",
       "8  I haven't slept well for 2 days, it's like I'm...  Anxiety\n",
       "9                 I'm really worried, I want to cry.  Anxiety"
      ]
     },
     "execution_count": 202,
     "metadata": {},
     "output_type": "execute_result"
    }
   ],
   "source": [
    "new_df.head(10)"
   ]
  },
  {
   "cell_type": "code",
   "execution_count": 203,
   "id": "af377be0",
   "metadata": {},
   "outputs": [
    {
     "data": {
      "text/plain": [
       "(5919, 2)"
      ]
     },
     "execution_count": 203,
     "metadata": {},
     "output_type": "execute_result"
    }
   ],
   "source": [
    "new_df.shape"
   ]
  },
  {
   "cell_type": "code",
   "execution_count": 204,
   "id": "99ba088f",
   "metadata": {},
   "outputs": [
    {
     "name": "stderr",
     "output_type": "stream",
     "text": [
      "huggingface/tokenizers: The current process just got forked, after parallelism has already been used. Disabling parallelism to avoid deadlocks...\n",
      "To disable this warning, you can either:\n",
      "\t- Avoid using `tokenizers` before the fork if possible\n",
      "\t- Explicitly set the environment variable TOKENIZERS_PARALLELISM=(true | false)\n"
     ]
    },
    {
     "name": "stdout",
     "output_type": "stream",
     "text": [
      "Requirement already satisfied: sentence-transformers in /Users/gozde/.pyenv/versions/3.10.6/envs/stress_sense/lib/python3.10/site-packages (5.1.0)\n",
      "Requirement already satisfied: transformers<5.0.0,>=4.41.0 in /Users/gozde/.pyenv/versions/3.10.6/envs/stress_sense/lib/python3.10/site-packages (from sentence-transformers) (4.56.0)\n",
      "Requirement already satisfied: tqdm in /Users/gozde/.pyenv/versions/3.10.6/envs/stress_sense/lib/python3.10/site-packages (from sentence-transformers) (4.67.1)\n",
      "Requirement already satisfied: torch>=1.11.0 in /Users/gozde/.pyenv/versions/3.10.6/envs/stress_sense/lib/python3.10/site-packages (from sentence-transformers) (2.8.0)\n",
      "Requirement already satisfied: scikit-learn in /Users/gozde/.pyenv/versions/3.10.6/envs/stress_sense/lib/python3.10/site-packages (from sentence-transformers) (1.7.1)\n",
      "Requirement already satisfied: scipy in /Users/gozde/.pyenv/versions/3.10.6/envs/stress_sense/lib/python3.10/site-packages (from sentence-transformers) (1.15.3)\n",
      "Requirement already satisfied: huggingface-hub>=0.20.0 in /Users/gozde/.pyenv/versions/3.10.6/envs/stress_sense/lib/python3.10/site-packages (from sentence-transformers) (0.34.4)\n",
      "Requirement already satisfied: Pillow in /Users/gozde/.pyenv/versions/3.10.6/envs/stress_sense/lib/python3.10/site-packages (from sentence-transformers) (11.3.0)\n",
      "Requirement already satisfied: typing_extensions>=4.5.0 in /Users/gozde/.pyenv/versions/3.10.6/envs/stress_sense/lib/python3.10/site-packages (from sentence-transformers) (4.15.0)\n",
      "Requirement already satisfied: filelock in /Users/gozde/.pyenv/versions/3.10.6/envs/stress_sense/lib/python3.10/site-packages (from transformers<5.0.0,>=4.41.0->sentence-transformers) (3.19.1)\n",
      "Requirement already satisfied: numpy>=1.17 in /Users/gozde/.pyenv/versions/3.10.6/envs/stress_sense/lib/python3.10/site-packages (from transformers<5.0.0,>=4.41.0->sentence-transformers) (2.2.6)\n",
      "Requirement already satisfied: packaging>=20.0 in /Users/gozde/.pyenv/versions/3.10.6/envs/stress_sense/lib/python3.10/site-packages (from transformers<5.0.0,>=4.41.0->sentence-transformers) (25.0)\n",
      "Requirement already satisfied: pyyaml>=5.1 in /Users/gozde/.pyenv/versions/3.10.6/envs/stress_sense/lib/python3.10/site-packages (from transformers<5.0.0,>=4.41.0->sentence-transformers) (6.0.2)\n",
      "Requirement already satisfied: regex!=2019.12.17 in /Users/gozde/.pyenv/versions/3.10.6/envs/stress_sense/lib/python3.10/site-packages (from transformers<5.0.0,>=4.41.0->sentence-transformers) (2025.8.29)\n",
      "Requirement already satisfied: requests in /Users/gozde/.pyenv/versions/3.10.6/envs/stress_sense/lib/python3.10/site-packages (from transformers<5.0.0,>=4.41.0->sentence-transformers) (2.32.5)\n",
      "Requirement already satisfied: tokenizers<=0.23.0,>=0.22.0 in /Users/gozde/.pyenv/versions/3.10.6/envs/stress_sense/lib/python3.10/site-packages (from transformers<5.0.0,>=4.41.0->sentence-transformers) (0.22.0)\n",
      "Requirement already satisfied: safetensors>=0.4.3 in /Users/gozde/.pyenv/versions/3.10.6/envs/stress_sense/lib/python3.10/site-packages (from transformers<5.0.0,>=4.41.0->sentence-transformers) (0.6.2)\n",
      "Requirement already satisfied: fsspec>=2023.5.0 in /Users/gozde/.pyenv/versions/3.10.6/envs/stress_sense/lib/python3.10/site-packages (from huggingface-hub>=0.20.0->sentence-transformers) (2025.9.0)\n",
      "Requirement already satisfied: hf-xet<2.0.0,>=1.1.3 in /Users/gozde/.pyenv/versions/3.10.6/envs/stress_sense/lib/python3.10/site-packages (from huggingface-hub>=0.20.0->sentence-transformers) (1.1.9)\n",
      "Requirement already satisfied: sympy>=1.13.3 in /Users/gozde/.pyenv/versions/3.10.6/envs/stress_sense/lib/python3.10/site-packages (from torch>=1.11.0->sentence-transformers) (1.14.0)\n",
      "Requirement already satisfied: networkx in /Users/gozde/.pyenv/versions/3.10.6/envs/stress_sense/lib/python3.10/site-packages (from torch>=1.11.0->sentence-transformers) (3.4.2)\n",
      "Requirement already satisfied: jinja2 in /Users/gozde/.pyenv/versions/3.10.6/envs/stress_sense/lib/python3.10/site-packages (from torch>=1.11.0->sentence-transformers) (3.1.6)\n",
      "Requirement already satisfied: mpmath<1.4,>=1.1.0 in /Users/gozde/.pyenv/versions/3.10.6/envs/stress_sense/lib/python3.10/site-packages (from sympy>=1.13.3->torch>=1.11.0->sentence-transformers) (1.3.0)\n",
      "Requirement already satisfied: MarkupSafe>=2.0 in /Users/gozde/.pyenv/versions/3.10.6/envs/stress_sense/lib/python3.10/site-packages (from jinja2->torch>=1.11.0->sentence-transformers) (3.0.2)\n",
      "Requirement already satisfied: charset_normalizer<4,>=2 in /Users/gozde/.pyenv/versions/3.10.6/envs/stress_sense/lib/python3.10/site-packages (from requests->transformers<5.0.0,>=4.41.0->sentence-transformers) (3.4.3)\n",
      "Requirement already satisfied: idna<4,>=2.5 in /Users/gozde/.pyenv/versions/3.10.6/envs/stress_sense/lib/python3.10/site-packages (from requests->transformers<5.0.0,>=4.41.0->sentence-transformers) (3.10)\n",
      "Requirement already satisfied: urllib3<3,>=1.21.1 in /Users/gozde/.pyenv/versions/3.10.6/envs/stress_sense/lib/python3.10/site-packages (from requests->transformers<5.0.0,>=4.41.0->sentence-transformers) (2.5.0)\n",
      "Requirement already satisfied: certifi>=2017.4.17 in /Users/gozde/.pyenv/versions/3.10.6/envs/stress_sense/lib/python3.10/site-packages (from requests->transformers<5.0.0,>=4.41.0->sentence-transformers) (2025.8.3)\n",
      "Requirement already satisfied: joblib>=1.2.0 in /Users/gozde/.pyenv/versions/3.10.6/envs/stress_sense/lib/python3.10/site-packages (from scikit-learn->sentence-transformers) (1.5.2)\n",
      "Requirement already satisfied: threadpoolctl>=3.1.0 in /Users/gozde/.pyenv/versions/3.10.6/envs/stress_sense/lib/python3.10/site-packages (from scikit-learn->sentence-transformers) (3.6.0)\n",
      "Note: you may need to restart the kernel to use updated packages.\n"
     ]
    }
   ],
   "source": [
    "%pip install sentence-transformers"
   ]
  },
  {
   "cell_type": "code",
   "execution_count": 205,
   "id": "0b53f64d",
   "metadata": {},
   "outputs": [
    {
     "name": "stderr",
     "output_type": "stream",
     "text": [
      "Batches: 100%|██████████| 185/185 [00:17<00:00, 10.88it/s]\n"
     ]
    }
   ],
   "source": [
    "from sentence_transformers import SentenceTransformer\n",
    "\n",
    "sbert = SentenceTransformer(\"all-MiniLM-L6-v2\")\n",
    "embeddings = sbert.encode(stressed_posts, normalize_embeddings=True, show_progress_bar=True)"
   ]
  },
  {
   "cell_type": "code",
   "execution_count": 206,
   "id": "89d7c375",
   "metadata": {},
   "outputs": [
    {
     "data": {
      "text/plain": [
       "array([[ 0.03366001, -0.03712323,  0.01179676, ..., -0.05401971,\n",
       "         0.04482312, -0.03369883],\n",
       "       [ 0.01052009, -0.04578955,  0.04768023, ...,  0.01939357,\n",
       "        -0.06008147, -0.02400911],\n",
       "       [ 0.05667384, -0.06692987,  0.0137174 , ...,  0.01170356,\n",
       "        -0.11973175, -0.05436602],\n",
       "       ...,\n",
       "       [ 0.07792854, -0.05168048,  0.05081963, ...,  0.04558662,\n",
       "        -0.08271255,  0.00072075],\n",
       "       [ 0.0443574 , -0.108092  ,  0.03242296, ..., -0.00546338,\n",
       "        -0.0618789 , -0.00842193],\n",
       "       [ 0.0619358 ,  0.0029512 ,  0.0452257 , ...,  0.00549195,\n",
       "        -0.07962377,  0.04503339]], shape=(5919, 384), dtype=float32)"
      ]
     },
     "execution_count": 206,
     "metadata": {},
     "output_type": "execute_result"
    }
   ],
   "source": [
    "embeddings"
   ]
  },
  {
   "cell_type": "code",
   "execution_count": 207,
   "id": "7e50ee88",
   "metadata": {},
   "outputs": [
    {
     "name": "stderr",
     "output_type": "stream",
     "text": [
      "huggingface/tokenizers: The current process just got forked, after parallelism has already been used. Disabling parallelism to avoid deadlocks...\n",
      "To disable this warning, you can either:\n",
      "\t- Avoid using `tokenizers` before the fork if possible\n",
      "\t- Explicitly set the environment variable TOKENIZERS_PARALLELISM=(true | false)\n"
     ]
    },
    {
     "name": "stdout",
     "output_type": "stream",
     "text": [
      "Requirement already satisfied: bertopic in /Users/gozde/.pyenv/versions/3.10.6/envs/stress_sense/lib/python3.10/site-packages (0.17.3)\n",
      "Requirement already satisfied: hdbscan>=0.8.29 in /Users/gozde/.pyenv/versions/3.10.6/envs/stress_sense/lib/python3.10/site-packages (from bertopic) (0.8.40)\n",
      "Requirement already satisfied: umap-learn>=0.5.0 in /Users/gozde/.pyenv/versions/3.10.6/envs/stress_sense/lib/python3.10/site-packages (from bertopic) (0.5.9.post2)\n",
      "Requirement already satisfied: numpy>=1.20.0 in /Users/gozde/.pyenv/versions/3.10.6/envs/stress_sense/lib/python3.10/site-packages (from bertopic) (2.2.6)\n",
      "Requirement already satisfied: pandas>=1.1.5 in /Users/gozde/.pyenv/versions/3.10.6/envs/stress_sense/lib/python3.10/site-packages (from bertopic) (2.3.2)\n",
      "Requirement already satisfied: plotly>=4.7.0 in /Users/gozde/.pyenv/versions/3.10.6/envs/stress_sense/lib/python3.10/site-packages (from bertopic) (6.3.0)\n",
      "Requirement already satisfied: scikit-learn>=1.0 in /Users/gozde/.pyenv/versions/3.10.6/envs/stress_sense/lib/python3.10/site-packages (from bertopic) (1.7.1)\n",
      "Requirement already satisfied: sentence-transformers>=0.4.1 in /Users/gozde/.pyenv/versions/3.10.6/envs/stress_sense/lib/python3.10/site-packages (from bertopic) (5.1.0)\n",
      "Requirement already satisfied: tqdm>=4.41.1 in /Users/gozde/.pyenv/versions/3.10.6/envs/stress_sense/lib/python3.10/site-packages (from bertopic) (4.67.1)\n",
      "Requirement already satisfied: llvmlite>0.36.0 in /Users/gozde/.pyenv/versions/3.10.6/envs/stress_sense/lib/python3.10/site-packages (from bertopic) (0.44.0)\n",
      "Requirement already satisfied: scipy>=1.0 in /Users/gozde/.pyenv/versions/3.10.6/envs/stress_sense/lib/python3.10/site-packages (from hdbscan>=0.8.29->bertopic) (1.15.3)\n",
      "Requirement already satisfied: joblib>=1.0 in /Users/gozde/.pyenv/versions/3.10.6/envs/stress_sense/lib/python3.10/site-packages (from hdbscan>=0.8.29->bertopic) (1.5.2)\n",
      "Requirement already satisfied: python-dateutil>=2.8.2 in /Users/gozde/.pyenv/versions/3.10.6/envs/stress_sense/lib/python3.10/site-packages (from pandas>=1.1.5->bertopic) (2.9.0.post0)\n",
      "Requirement already satisfied: pytz>=2020.1 in /Users/gozde/.pyenv/versions/3.10.6/envs/stress_sense/lib/python3.10/site-packages (from pandas>=1.1.5->bertopic) (2025.2)\n",
      "Requirement already satisfied: tzdata>=2022.7 in /Users/gozde/.pyenv/versions/3.10.6/envs/stress_sense/lib/python3.10/site-packages (from pandas>=1.1.5->bertopic) (2025.2)\n",
      "Requirement already satisfied: narwhals>=1.15.1 in /Users/gozde/.pyenv/versions/3.10.6/envs/stress_sense/lib/python3.10/site-packages (from plotly>=4.7.0->bertopic) (2.3.0)\n",
      "Requirement already satisfied: packaging in /Users/gozde/.pyenv/versions/3.10.6/envs/stress_sense/lib/python3.10/site-packages (from plotly>=4.7.0->bertopic) (25.0)\n",
      "Requirement already satisfied: six>=1.5 in /Users/gozde/.pyenv/versions/3.10.6/envs/stress_sense/lib/python3.10/site-packages (from python-dateutil>=2.8.2->pandas>=1.1.5->bertopic) (1.17.0)\n",
      "Requirement already satisfied: threadpoolctl>=3.1.0 in /Users/gozde/.pyenv/versions/3.10.6/envs/stress_sense/lib/python3.10/site-packages (from scikit-learn>=1.0->bertopic) (3.6.0)\n",
      "Requirement already satisfied: transformers<5.0.0,>=4.41.0 in /Users/gozde/.pyenv/versions/3.10.6/envs/stress_sense/lib/python3.10/site-packages (from sentence-transformers>=0.4.1->bertopic) (4.56.0)\n",
      "Requirement already satisfied: torch>=1.11.0 in /Users/gozde/.pyenv/versions/3.10.6/envs/stress_sense/lib/python3.10/site-packages (from sentence-transformers>=0.4.1->bertopic) (2.8.0)\n",
      "Requirement already satisfied: huggingface-hub>=0.20.0 in /Users/gozde/.pyenv/versions/3.10.6/envs/stress_sense/lib/python3.10/site-packages (from sentence-transformers>=0.4.1->bertopic) (0.34.4)\n",
      "Requirement already satisfied: Pillow in /Users/gozde/.pyenv/versions/3.10.6/envs/stress_sense/lib/python3.10/site-packages (from sentence-transformers>=0.4.1->bertopic) (11.3.0)\n",
      "Requirement already satisfied: typing_extensions>=4.5.0 in /Users/gozde/.pyenv/versions/3.10.6/envs/stress_sense/lib/python3.10/site-packages (from sentence-transformers>=0.4.1->bertopic) (4.15.0)\n",
      "Requirement already satisfied: filelock in /Users/gozde/.pyenv/versions/3.10.6/envs/stress_sense/lib/python3.10/site-packages (from transformers<5.0.0,>=4.41.0->sentence-transformers>=0.4.1->bertopic) (3.19.1)\n",
      "Requirement already satisfied: pyyaml>=5.1 in /Users/gozde/.pyenv/versions/3.10.6/envs/stress_sense/lib/python3.10/site-packages (from transformers<5.0.0,>=4.41.0->sentence-transformers>=0.4.1->bertopic) (6.0.2)\n",
      "Requirement already satisfied: regex!=2019.12.17 in /Users/gozde/.pyenv/versions/3.10.6/envs/stress_sense/lib/python3.10/site-packages (from transformers<5.0.0,>=4.41.0->sentence-transformers>=0.4.1->bertopic) (2025.8.29)\n",
      "Requirement already satisfied: requests in /Users/gozde/.pyenv/versions/3.10.6/envs/stress_sense/lib/python3.10/site-packages (from transformers<5.0.0,>=4.41.0->sentence-transformers>=0.4.1->bertopic) (2.32.5)\n",
      "Requirement already satisfied: tokenizers<=0.23.0,>=0.22.0 in /Users/gozde/.pyenv/versions/3.10.6/envs/stress_sense/lib/python3.10/site-packages (from transformers<5.0.0,>=4.41.0->sentence-transformers>=0.4.1->bertopic) (0.22.0)\n",
      "Requirement already satisfied: safetensors>=0.4.3 in /Users/gozde/.pyenv/versions/3.10.6/envs/stress_sense/lib/python3.10/site-packages (from transformers<5.0.0,>=4.41.0->sentence-transformers>=0.4.1->bertopic) (0.6.2)\n",
      "Requirement already satisfied: fsspec>=2023.5.0 in /Users/gozde/.pyenv/versions/3.10.6/envs/stress_sense/lib/python3.10/site-packages (from huggingface-hub>=0.20.0->sentence-transformers>=0.4.1->bertopic) (2025.9.0)\n",
      "Requirement already satisfied: hf-xet<2.0.0,>=1.1.3 in /Users/gozde/.pyenv/versions/3.10.6/envs/stress_sense/lib/python3.10/site-packages (from huggingface-hub>=0.20.0->sentence-transformers>=0.4.1->bertopic) (1.1.9)\n",
      "Requirement already satisfied: sympy>=1.13.3 in /Users/gozde/.pyenv/versions/3.10.6/envs/stress_sense/lib/python3.10/site-packages (from torch>=1.11.0->sentence-transformers>=0.4.1->bertopic) (1.14.0)\n",
      "Requirement already satisfied: networkx in /Users/gozde/.pyenv/versions/3.10.6/envs/stress_sense/lib/python3.10/site-packages (from torch>=1.11.0->sentence-transformers>=0.4.1->bertopic) (3.4.2)\n",
      "Requirement already satisfied: jinja2 in /Users/gozde/.pyenv/versions/3.10.6/envs/stress_sense/lib/python3.10/site-packages (from torch>=1.11.0->sentence-transformers>=0.4.1->bertopic) (3.1.6)\n",
      "Requirement already satisfied: mpmath<1.4,>=1.1.0 in /Users/gozde/.pyenv/versions/3.10.6/envs/stress_sense/lib/python3.10/site-packages (from sympy>=1.13.3->torch>=1.11.0->sentence-transformers>=0.4.1->bertopic) (1.3.0)\n",
      "Requirement already satisfied: numba>=0.51.2 in /Users/gozde/.pyenv/versions/3.10.6/envs/stress_sense/lib/python3.10/site-packages (from umap-learn>=0.5.0->bertopic) (0.61.2)\n",
      "Requirement already satisfied: pynndescent>=0.5 in /Users/gozde/.pyenv/versions/3.10.6/envs/stress_sense/lib/python3.10/site-packages (from umap-learn>=0.5.0->bertopic) (0.5.13)\n",
      "Requirement already satisfied: MarkupSafe>=2.0 in /Users/gozde/.pyenv/versions/3.10.6/envs/stress_sense/lib/python3.10/site-packages (from jinja2->torch>=1.11.0->sentence-transformers>=0.4.1->bertopic) (3.0.2)\n",
      "Requirement already satisfied: charset_normalizer<4,>=2 in /Users/gozde/.pyenv/versions/3.10.6/envs/stress_sense/lib/python3.10/site-packages (from requests->transformers<5.0.0,>=4.41.0->sentence-transformers>=0.4.1->bertopic) (3.4.3)\n",
      "Requirement already satisfied: idna<4,>=2.5 in /Users/gozde/.pyenv/versions/3.10.6/envs/stress_sense/lib/python3.10/site-packages (from requests->transformers<5.0.0,>=4.41.0->sentence-transformers>=0.4.1->bertopic) (3.10)\n",
      "Requirement already satisfied: urllib3<3,>=1.21.1 in /Users/gozde/.pyenv/versions/3.10.6/envs/stress_sense/lib/python3.10/site-packages (from requests->transformers<5.0.0,>=4.41.0->sentence-transformers>=0.4.1->bertopic) (2.5.0)\n",
      "Requirement already satisfied: certifi>=2017.4.17 in /Users/gozde/.pyenv/versions/3.10.6/envs/stress_sense/lib/python3.10/site-packages (from requests->transformers<5.0.0,>=4.41.0->sentence-transformers>=0.4.1->bertopic) (2025.8.3)\n",
      "Note: you may need to restart the kernel to use updated packages.\n"
     ]
    }
   ],
   "source": [
    "%pip install bertopic"
   ]
  },
  {
   "cell_type": "code",
   "execution_count": 208,
   "id": "880eff18",
   "metadata": {},
   "outputs": [
    {
     "name": "stderr",
     "output_type": "stream",
     "text": [
      "2025-09-04 15:52:35,933 - BERTopic - Dimensionality - Fitting the dimensionality reduction algorithm\n",
      "2025-09-04 15:52:37,401 - BERTopic - Dimensionality - Completed ✓\n",
      "2025-09-04 15:52:37,402 - BERTopic - Cluster - Start clustering the reduced embeddings\n",
      "2025-09-04 15:52:37,559 - BERTopic - Cluster - Completed ✓\n",
      "2025-09-04 15:52:37,561 - BERTopic - Representation - Fine-tuning topics using representation models.\n",
      "2025-09-04 15:52:38,417 - BERTopic - Representation - Completed ✓\n"
     ]
    },
    {
     "data": {
      "text/html": [
       "<div>\n",
       "<style scoped>\n",
       "    .dataframe tbody tr th:only-of-type {\n",
       "        vertical-align: middle;\n",
       "    }\n",
       "\n",
       "    .dataframe tbody tr th {\n",
       "        vertical-align: top;\n",
       "    }\n",
       "\n",
       "    .dataframe thead th {\n",
       "        text-align: right;\n",
       "    }\n",
       "</style>\n",
       "<table border=\"1\" class=\"dataframe\">\n",
       "  <thead>\n",
       "    <tr style=\"text-align: right;\">\n",
       "      <th></th>\n",
       "      <th>Topic</th>\n",
       "      <th>Count</th>\n",
       "      <th>Name</th>\n",
       "      <th>Representation</th>\n",
       "      <th>Representative_Docs</th>\n",
       "    </tr>\n",
       "  </thead>\n",
       "  <tbody>\n",
       "    <tr>\n",
       "      <th>0</th>\n",
       "      <td>-1</td>\n",
       "      <td>80</td>\n",
       "      <td>-1_the_and_to_my</td>\n",
       "      <td>[the, and, to, my, it, of, that, was, in, hiv]</td>\n",
       "      <td>[Ridiculously anxious about my teeth it’s maki...</td>\n",
       "    </tr>\n",
       "    <tr>\n",
       "      <th>1</th>\n",
       "      <td>0</td>\n",
       "      <td>5466</td>\n",
       "      <td>0_and_to_the_my</td>\n",
       "      <td>[and, to, the, my, of, it, in, that, im, me]</td>\n",
       "      <td>[I am literally at my breaking point. I seriou...</td>\n",
       "    </tr>\n",
       "    <tr>\n",
       "      <th>2</th>\n",
       "      <td>1</td>\n",
       "      <td>314</td>\n",
       "      <td>1_restless_is_sleep_the</td>\n",
       "      <td>[restless, is, sleep, the, to, why, im, you, r...</td>\n",
       "      <td>[Restless, Restless, Restless, Restless.. and....</td>\n",
       "    </tr>\n",
       "    <tr>\n",
       "      <th>3</th>\n",
       "      <td>2</td>\n",
       "      <td>59</td>\n",
       "      <td>2_the_and_my_rabies</td>\n",
       "      <td>[the, and, my, rabies, to, of, it, was, in, that]</td>\n",
       "      <td>[I believe Someone really has put a curse on m...</td>\n",
       "    </tr>\n",
       "  </tbody>\n",
       "</table>\n",
       "</div>"
      ],
      "text/plain": [
       "   Topic  Count                     Name  \\\n",
       "0     -1     80         -1_the_and_to_my   \n",
       "1      0   5466          0_and_to_the_my   \n",
       "2      1    314  1_restless_is_sleep_the   \n",
       "3      2     59      2_the_and_my_rabies   \n",
       "\n",
       "                                      Representation  \\\n",
       "0     [the, and, to, my, it, of, that, was, in, hiv]   \n",
       "1       [and, to, the, my, of, it, in, that, im, me]   \n",
       "2  [restless, is, sleep, the, to, why, im, you, r...   \n",
       "3  [the, and, my, rabies, to, of, it, was, in, that]   \n",
       "\n",
       "                                 Representative_Docs  \n",
       "0  [Ridiculously anxious about my teeth it’s maki...  \n",
       "1  [I am literally at my breaking point. I seriou...  \n",
       "2  [Restless, Restless, Restless, Restless.. and....  \n",
       "3  [I believe Someone really has put a curse on m...  "
      ]
     },
     "execution_count": 208,
     "metadata": {},
     "output_type": "execute_result"
    }
   ],
   "source": [
    "from bertopic import BERTopic\n",
    "\n",
    "topic_model = BERTopic(\n",
    "    min_topic_size=50,      # try 50, 80, 100; pick the one that gives 8–12 coherent topics\n",
    "    n_gram_range=(1, 2),\n",
    "    calculate_probabilities=True,\n",
    "    verbose=True\n",
    ")\n",
    "\n",
    "topics, probs = topic_model.fit_transform(stressed_posts, embeddings)  # pass precomputed embeddings!\n",
    "topic_info = topic_model.get_topic_info()\n",
    "topic_info.head(10)"
   ]
  },
  {
   "cell_type": "code",
   "execution_count": 209,
   "id": "3b8acb87",
   "metadata": {},
   "outputs": [
    {
     "name": "stdout",
     "output_type": "stream",
     "text": [
      "Topic 0 [('and', np.float64(0.0478869893267478)), ('to', np.float64(0.04452461659268595)), ('the', np.float64(0.038862091178274966)), ('my', np.float64(0.03732715126261726)), ('of', np.float64(0.02864385321832984)), ('it', np.float64(0.027087122731897926)), ('in', np.float64(0.022526029556623202)), ('that', np.float64(0.022228361107371187)), ('im', np.float64(0.02176874575035048)), ('me', np.float64(0.021070882687500205))]\n",
      "Topic 1 [('restless', np.float64(0.2113458310535256)), ('is', np.float64(0.048502355714489125)), ('sleep', np.float64(0.04139400346864417)), ('the', np.float64(0.03912077984257763)), ('to', np.float64(0.03636324873717884)), ('why', np.float64(0.03543248140155975)), ('im', np.float64(0.03479912101805159)), ('you', np.float64(0.03412982270795422)), ('restlessness', np.float64(0.031618917845023964)), ('restless and', np.float64(0.0314374657477079))]\n",
      "Topic 2 [('the', np.float64(0.04994318745471983)), ('and', np.float64(0.04563111863818871)), ('my', np.float64(0.03878379947960807)), ('rabies', np.float64(0.03676659625543874)), ('to', np.float64(0.033259274818907135)), ('of', np.float64(0.03015311157436766)), ('it', np.float64(0.029236265481987746)), ('was', np.float64(0.0275588825563388)), ('in', np.float64(0.02672734265227276)), ('that', np.float64(0.02621900038956329))]\n"
     ]
    }
   ],
   "source": [
    "# Top words per topic\n",
    "for tid in topic_info[\"Topic\"].head(10):\n",
    "    if tid == -1:\n",
    "        continue\n",
    "    print(\"Topic\", tid, topic_model.get_topic(tid)[:10])  # list of (word, score)\n",
    "\n",
    "# Sample 5 docs from a topic\n",
    "import numpy as np\n",
    "def sample_topic(tid, k=5):\n",
    "    idx = np.where(np.array(topics) == tid)[0]\n",
    "    for i in np.random.choice(idx, size=min(k, len(idx)), replace=False):\n",
    "        print(\"-\", stressed_posts[i][:200], \"...\\n\")"
   ]
  },
  {
   "cell_type": "code",
   "execution_count": 210,
   "id": "1018f119",
   "metadata": {},
   "outputs": [],
   "source": [
    "from sklearn.feature_extraction.text import CountVectorizer\n",
    "from nltk.corpus import stopwords\n",
    "\n",
    "stop_words = stopwords.words(\"english\")\n",
    "extra_stop_words = [\n",
    "    # meta/search/platform\n",
    "    \"googling\",\"google\",\"search\",\"searching\",\"searched\",\"reassure\",\"reassurance\",\n",
    "    \"module\",\"thread\",\"discord\",\"reddit\",\"subreddit\",\"comment\",\"post\",\"posts\",\n",
    "    \"link\",\"links\",\"url\",\"http\",\"https\",\"www\",\"imgur\",\"youtube\",\"youtu\",\"tiktok\",\n",
    "    \"instagram\",\"facebook\",\"fb\",\"app\",\"apps\",\n",
    "    # generic filler seen\n",
    "    \"dont\",\"im\",\"ive\"\n",
    "]\n",
    "\n",
    "merged_stop_words = stop_words + extra_stop_words\n",
    "\n",
    "vectorizer = CountVectorizer(\n",
    "    stop_words=merged_stop_words,\n",
    "    ngram_range=(1,2),\n",
    "    min_df=0.02,     # appear in ≥ 10 docs\n",
    "    max_df=0.5,    # appear in ≤ 50% of docs\n",
    "    #If you see topics dominated by rare weird words, raise min_df\n",
    "    #If you see topics dominated by generic words (feel, want, people, time), lower max_df\n",
    "    token_pattern=r\"(?u)\\b[a-z][a-z]+\\b\"\n",
    ")"
   ]
  },
  {
   "cell_type": "code",
   "execution_count": 211,
   "id": "c7ca5ee3",
   "metadata": {},
   "outputs": [
    {
     "name": "stderr",
     "output_type": "stream",
     "text": [
      "2025-09-04 15:52:38,526 - BERTopic - Dimensionality - Fitting the dimensionality reduction algorithm\n",
      "2025-09-04 15:52:39,735 - BERTopic - Dimensionality - Completed ✓\n",
      "2025-09-04 15:52:39,736 - BERTopic - Cluster - Start clustering the reduced embeddings\n",
      "2025-09-04 15:52:39,917 - BERTopic - Cluster - Completed ✓\n",
      "2025-09-04 15:52:39,918 - BERTopic - Representation - Fine-tuning topics using representation models.\n",
      "2025-09-04 15:52:40,594 - BERTopic - Representation - Completed ✓\n"
     ]
    },
    {
     "data": {
      "text/html": [
       "<div>\n",
       "<style scoped>\n",
       "    .dataframe tbody tr th:only-of-type {\n",
       "        vertical-align: middle;\n",
       "    }\n",
       "\n",
       "    .dataframe tbody tr th {\n",
       "        vertical-align: top;\n",
       "    }\n",
       "\n",
       "    .dataframe thead th {\n",
       "        text-align: right;\n",
       "    }\n",
       "</style>\n",
       "<table border=\"1\" class=\"dataframe\">\n",
       "  <thead>\n",
       "    <tr style=\"text-align: right;\">\n",
       "      <th></th>\n",
       "      <th>Topic</th>\n",
       "      <th>Count</th>\n",
       "      <th>Name</th>\n",
       "      <th>Representation</th>\n",
       "      <th>Representative_Docs</th>\n",
       "    </tr>\n",
       "  </thead>\n",
       "  <tbody>\n",
       "    <tr>\n",
       "      <th>0</th>\n",
       "      <td>-1</td>\n",
       "      <td>100</td>\n",
       "      <td>-1_hantavirus_mice_droppings_bats</td>\n",
       "      <td>[hantavirus, mice, droppings, bats, incubation...</td>\n",
       "      <td>[Hantavirus - freaking out - vacuumed large am...</td>\n",
       "    </tr>\n",
       "    <tr>\n",
       "      <th>1</th>\n",
       "      <td>0</td>\n",
       "      <td>5506</td>\n",
       "      <td>0_panic attack_medication_eye_experienced</td>\n",
       "      <td>[panic attack, medication, eye, experienced, h...</td>\n",
       "      <td>[Having anxiety and PTSD over being excluded f...</td>\n",
       "    </tr>\n",
       "    <tr>\n",
       "      <th>2</th>\n",
       "      <td>1</td>\n",
       "      <td>313</td>\n",
       "      <td>1_restless restless_restless heart_allah_calm ...</td>\n",
       "      <td>[restless restless, restless heart, allah, cal...</td>\n",
       "      <td>[Restless, restless, anxious. Please be anxiou...</td>\n",
       "    </tr>\n",
       "  </tbody>\n",
       "</table>\n",
       "</div>"
      ],
      "text/plain": [
       "   Topic  Count                                               Name  \\\n",
       "0     -1    100                  -1_hantavirus_mice_droppings_bats   \n",
       "1      0   5506          0_panic attack_medication_eye_experienced   \n",
       "2      1    313  1_restless restless_restless heart_allah_calm ...   \n",
       "\n",
       "                                      Representation  \\\n",
       "0  [hantavirus, mice, droppings, bats, incubation...   \n",
       "1  [panic attack, medication, eye, experienced, h...   \n",
       "2  [restless restless, restless heart, allah, cal...   \n",
       "\n",
       "                                 Representative_Docs  \n",
       "0  [Hantavirus - freaking out - vacuumed large am...  \n",
       "1  [Having anxiety and PTSD over being excluded f...  \n",
       "2  [Restless, restless, anxious. Please be anxiou...  "
      ]
     },
     "execution_count": 211,
     "metadata": {},
     "output_type": "execute_result"
    }
   ],
   "source": [
    "from bertopic import BERTopic\n",
    "\n",
    "topic_model = BERTopic(\n",
    "    vectorizer_model=vectorizer,\n",
    "    min_topic_size=80,      # try 50, 80, 100; pick the one that gives 8–12 coherent topics\n",
    "    n_gram_range=(1, 2),\n",
    "    calculate_probabilities=True,\n",
    "    verbose=True\n",
    ")\n",
    "\n",
    "topics, probs = topic_model.fit_transform(stressed_posts, embeddings)  # pass precomputed embeddings!\n",
    "topic_info = topic_model.get_topic_info()\n",
    "topic_info.head(10)"
   ]
  },
  {
   "cell_type": "code",
   "execution_count": 212,
   "id": "48a33ab3",
   "metadata": {},
   "outputs": [
    {
     "name": "stdout",
     "output_type": "stream",
     "text": [
      "Topic 0 [('panic attack', np.float64(0.004457919903704992)), ('medication', np.float64(0.003607007866384821)), ('eye', np.float64(0.0034400655059576408)), ('experienced', np.float64(0.003129337570735564)), ('heart rate', np.float64(0.003100771515115259)), ('social', np.float64(0.0030864677232975406)), ('lump', np.float64(0.0026504954387945247)), ('exercise', np.float64(0.0025764458990417873)), ('effects', np.float64(0.0024420596330937084)), ('losing', np.float64(0.002411997239379119))]\n",
      "Topic 1 [('restless restless', np.float64(0.14463960845940668)), ('restless heart', np.float64(0.06416690399619415)), ('allah', np.float64(0.04463986519832602)), ('calm restless', np.float64(0.03959643038625072)), ('restless cant', np.float64(0.03959643038625072)), ('restless want', np.float64(0.03447071540782703)), ('restless since', np.float64(0.03447071540782703)), ('restless every', np.float64(0.03447071540782703)), ('restless know', np.float64(0.03447071540782703)), ('like restless', np.float64(0.02924888564042616))]\n"
     ]
    }
   ],
   "source": [
    "# Top words per topic\n",
    "for tid in topic_info[\"Topic\"].head(10):\n",
    "    if tid == -1:\n",
    "        continue\n",
    "    print(\"Topic\", tid, topic_model.get_topic(tid)[:10])  # list of (word, score)"
   ]
  },
  {
   "cell_type": "markdown",
   "id": "2a6d9d2e",
   "metadata": {},
   "source": [
    "## Not great performance. Try a better performing model. "
   ]
  },
  {
   "cell_type": "code",
   "execution_count": 213,
   "id": "a977ece4",
   "metadata": {},
   "outputs": [
    {
     "name": "stderr",
     "output_type": "stream",
     "text": [
      "Batches: 100%|██████████| 185/185 [01:39<00:00,  1.86it/s]\n"
     ]
    }
   ],
   "source": [
    "from sentence_transformers import SentenceTransformer\n",
    "\n",
    "sbert = SentenceTransformer(\"all-mpnet-base-v2\") # better model than all-MiniLM-L6-v2 but slower\n",
    "embeddings = sbert.encode(stressed_posts, normalize_embeddings=True, show_progress_bar=True)"
   ]
  },
  {
   "cell_type": "code",
   "execution_count": 214,
   "id": "7bdfb851",
   "metadata": {},
   "outputs": [
    {
     "name": "stderr",
     "output_type": "stream",
     "text": [
      "2025-09-04 15:54:23,367 - BERTopic - Dimensionality - Fitting the dimensionality reduction algorithm\n",
      "2025-09-04 15:54:25,063 - BERTopic - Dimensionality - Completed ✓\n",
      "2025-09-04 15:54:25,068 - BERTopic - Cluster - Start clustering the reduced embeddings\n",
      "2025-09-04 15:54:25,261 - BERTopic - Cluster - Completed ✓\n",
      "2025-09-04 15:54:25,264 - BERTopic - Representation - Fine-tuning topics using representation models.\n",
      "2025-09-04 15:54:26,240 - BERTopic - Representation - Completed ✓\n"
     ]
    },
    {
     "data": {
      "text/html": [
       "<div>\n",
       "<style scoped>\n",
       "    .dataframe tbody tr th:only-of-type {\n",
       "        vertical-align: middle;\n",
       "    }\n",
       "\n",
       "    .dataframe tbody tr th {\n",
       "        vertical-align: top;\n",
       "    }\n",
       "\n",
       "    .dataframe thead th {\n",
       "        text-align: right;\n",
       "    }\n",
       "</style>\n",
       "<table border=\"1\" class=\"dataframe\">\n",
       "  <thead>\n",
       "    <tr style=\"text-align: right;\">\n",
       "      <th></th>\n",
       "      <th>Topic</th>\n",
       "      <th>Count</th>\n",
       "      <th>Name</th>\n",
       "      <th>Representation</th>\n",
       "      <th>Representative_Docs</th>\n",
       "    </tr>\n",
       "  </thead>\n",
       "  <tbody>\n",
       "    <tr>\n",
       "      <th>0</th>\n",
       "      <td>-1</td>\n",
       "      <td>234</td>\n",
       "      <td>-1_and_the_to_my</td>\n",
       "      <td>[and, the, to, my, it, of, that, in, was, but]</td>\n",
       "      <td>[My story of HIV anxiety Hi there,\\n\\nFor the ...</td>\n",
       "    </tr>\n",
       "    <tr>\n",
       "      <th>1</th>\n",
       "      <td>0</td>\n",
       "      <td>5107</td>\n",
       "      <td>0_and_to_the_my</td>\n",
       "      <td>[and, to, the, my, of, it, in, that, im, me]</td>\n",
       "      <td>[A story about my anxiety in the recent past, ...</td>\n",
       "    </tr>\n",
       "    <tr>\n",
       "      <th>2</th>\n",
       "      <td>1</td>\n",
       "      <td>578</td>\n",
       "      <td>1_restless_im_nervous_you</td>\n",
       "      <td>[restless, im, nervous, you, why, the, is, to,...</td>\n",
       "      <td>[Restless, Restless, Restless, Why are you so ...</td>\n",
       "    </tr>\n",
       "  </tbody>\n",
       "</table>\n",
       "</div>"
      ],
      "text/plain": [
       "   Topic  Count                       Name  \\\n",
       "0     -1    234           -1_and_the_to_my   \n",
       "1      0   5107            0_and_to_the_my   \n",
       "2      1    578  1_restless_im_nervous_you   \n",
       "\n",
       "                                      Representation  \\\n",
       "0     [and, the, to, my, it, of, that, in, was, but]   \n",
       "1       [and, to, the, my, of, it, in, that, im, me]   \n",
       "2  [restless, im, nervous, you, why, the, is, to,...   \n",
       "\n",
       "                                 Representative_Docs  \n",
       "0  [My story of HIV anxiety Hi there,\\n\\nFor the ...  \n",
       "1  [A story about my anxiety in the recent past, ...  \n",
       "2  [Restless, Restless, Restless, Why are you so ...  "
      ]
     },
     "execution_count": 214,
     "metadata": {},
     "output_type": "execute_result"
    }
   ],
   "source": [
    "topic_model = BERTopic(\n",
    "    min_topic_size=60,      # try 50, 80, 100; pick the one that gives 8–12 coherent topics\n",
    "    n_gram_range=(1, 2),\n",
    "    calculate_probabilities=True,\n",
    "    verbose=True\n",
    ")\n",
    "\n",
    "topics, probs = topic_model.fit_transform(stressed_posts, embeddings)  # pass precomputed embeddings!\n",
    "topic_info = topic_model.get_topic_info()\n",
    "topic_info.head(10)"
   ]
  },
  {
   "cell_type": "markdown",
   "id": "683b135e",
   "metadata": {},
   "source": [
    "UMAP: squashes high-dimensional embeddings (384 or 768 dims) down to a smaller space (like 5–10 dims). This makes clustering easier and can emphasize local structure.\n",
    "\n",
    "HDBSCAN: does the actual clustering on that reduced space."
   ]
  },
  {
   "cell_type": "markdown",
   "id": "d97b7d1d",
   "metadata": {},
   "source": []
  },
  {
   "cell_type": "code",
   "execution_count": 215,
   "id": "ea6b4081",
   "metadata": {},
   "outputs": [],
   "source": [
    "from sklearn.feature_extraction.text import CountVectorizer\n",
    "from nltk.corpus import stopwords\n",
    "\n",
    "stop_words = stopwords.words(\"english\")\n",
    "extra_stop_words = [\n",
    "    # meta/search/platform\n",
    "    \"googling\",\"google\",\"search\",\"searching\",\"searched\",\"reassure\",\"reassurance\",\n",
    "    \"module\",\"thread\",\"discord\",\"reddit\",\"subreddit\",\"comment\",\"post\",\"posts\",\n",
    "    \"link\",\"links\",\"url\",\"http\",\"https\",\"www\",\"imgur\",\"youtube\",\"youtu\",\"tiktok\",\n",
    "    \"instagram\",\"facebook\",\"fb\",\"app\",\"apps\",\n",
    "    # generic filler seen\n",
    "    \"dont\",\"im\",\"ive\"\n",
    "]\n",
    "\n",
    "merged_stop_words = stop_words + extra_stop_words\n",
    "\n",
    "vectorizer = CountVectorizer(\n",
    "    stop_words=merged_stop_words,\n",
    "    ngram_range=(1,2),\n",
    "    min_df=0.02,     # appear in ≥ 2% docs\n",
    "    max_df=0.5,    # appear in ≤ 50% of docs\n",
    "    #If you see topics dominated by rare weird words, raise min_df\n",
    "    #If you see topics dominated by generic words (feel, want, people, time), lower max_df\n",
    "    token_pattern=r\"(?u)\\b[a-z][a-z]+\\b\"\n",
    ")"
   ]
  },
  {
   "cell_type": "code",
   "execution_count": 226,
   "id": "0298670b",
   "metadata": {},
   "outputs": [
    {
     "name": "stderr",
     "output_type": "stream",
     "text": [
      "2025-09-04 15:57:56,790 - BERTopic - Dimensionality - Fitting the dimensionality reduction algorithm\n",
      "2025-09-04 15:58:01,056 - BERTopic - Dimensionality - Completed ✓\n",
      "2025-09-04 15:58:01,056 - BERTopic - Cluster - Start clustering the reduced embeddings\n",
      "2025-09-04 15:58:01,221 - BERTopic - Cluster - Completed ✓\n",
      "2025-09-04 15:58:01,222 - BERTopic - Representation - Fine-tuning topics using representation models.\n",
      "2025-09-04 15:58:01,901 - BERTopic - Representation - Completed ✓\n"
     ]
    },
    {
     "name": "stdout",
     "output_type": "stream",
     "text": [
      "Topic -1 [('rabies', np.float64(0.0031039746872374677)), ('hiv', np.float64(0.002862695539161277)), ('infection', np.float64(0.0024127165432952283)), ('range', np.float64(0.0018019129313513636)), ('diabetes', np.float64(0.0017238729349380807)), ('appetite', np.float64(0.0016365145375209138)), ('fever', np.float64(0.0016017505104125936)), ('back pain', np.float64(0.0015656832877593897)), ('lump', np.float64(0.0015244158777571574)), ('dry', np.float64(0.00140176555089786))]\n",
      "Topic 0 [('restless', np.float64(0.41270491105956775)), ('restless restless', np.float64(0.07327062845363908)), ('restlessness', np.float64(0.06868786108390416)), ('feeling restless', np.float64(0.0464796866032355)), ('feel restless', np.float64(0.044502388730168464)), ('sleep restless', np.float64(0.03815290255235048)), ('restless heart', np.float64(0.030893977819277132)), ('restless sleep', np.float64(0.02624397370377709)), ('heart restless', np.float64(0.025889774814537147)), ('want sleep', np.float64(0.025656104876479232))]\n",
      "Topic 1 [('lymph', np.float64(0.026872098964657084)), ('flu', np.float64(0.02115934218896179)), ('swollen', np.float64(0.01873579299170441)), ('node', np.float64(0.01799687541866478)), ('nodes', np.float64(0.016341716369015147)), ('lymph node', np.float64(0.01599244675240631)), ('lump', np.float64(0.015293867748386335)), ('lymph nodes', np.float64(0.014509883032699246)), ('cough', np.float64(0.011553458779541259)), ('lymphoma', np.float64(0.010538566278206206))]\n",
      "Topic 2 [('cardiologist', np.float64(0.013857882621611736)), ('pulse', np.float64(0.011395178855611312)), ('beats', np.float64(0.010473389326135221)), ('ekg', np.float64(0.01031147063493431)), ('ecg', np.float64(0.009807346130348303)), ('shortness breath', np.float64(0.008931585522431285)), ('shortness', np.float64(0.00888076507666022)), ('monitor', np.float64(0.008349477603892642)), ('bp', np.float64(0.0073368466535776306)), ('left side', np.float64(0.006870611291588546))]\n",
      "Topic 3 [('abuse', np.float64(0.011198575594410698)), ('ex', np.float64(0.009902961066825675)), ('police', np.float64(0.009844812817399618)), ('loves', np.float64(0.008182763119644465)), ('bf', np.float64(0.007587357274447668)), ('court', np.float64(0.0061494992790292625)), ('screaming', np.float64(0.005819329347948374)), ('door', np.float64(0.0056068412723160295)), ('dr boyfriend', np.float64(0.0049526210235556)), ('charges', np.float64(0.004672338029985666))]\n",
      "Topic 4 [('zoloft', np.float64(0.014789486650591661)), ('side effects', np.float64(0.014049905107168185)), ('dose', np.float64(0.013685112363387103)), ('mg', np.float64(0.013512193383143186)), ('xanax', np.float64(0.01006614198888429)), ('buspar', np.float64(0.008488464023581194)), ('ssri', np.float64(0.0068272788435300505)), ('ssris', np.float64(0.006589169867109453)), ('gad', np.float64(0.006471091278568472)), ('pill', np.float64(0.0062117528009769715))]\n",
      "Topic 5 [('survey', np.float64(0.02371731814850328)), ('meditation', np.float64(0.019024351469692585)), ('management', np.float64(0.015272922410675335)), ('stress management', np.float64(0.014710277715872484)), ('relaxation', np.float64(0.014123632120284526)), ('mindfulness', np.float64(0.013089059268409765)), ('reduce', np.float64(0.012809158399383503)), ('music', np.float64(0.012490584270593127)), ('stress relief', np.float64(0.011308766842461761)), ('participants', np.float64(0.01130812462594958))]\n",
      "Topic 6 [('nervous nervous', np.float64(0.04196307535051569)), ('tbtb', np.float64(0.03308446836389747)), ('nervous worried', np.float64(0.02983114647814464)), ('like nervous', np.float64(0.0287859933455951)), ('really nervous', np.float64(0.025644267035821275)), ('worried know', np.float64(0.020869561405918047)), ('sincere', np.float64(0.020869561405918047)), ('oh god', np.float64(0.020663414297312603)), ('yo', np.float64(0.020663414297312603)), ('swear', np.float64(0.02053992354585516))]\n",
      "Topic 7 [('tumor', np.float64(0.006278973604710501)), ('ultrasound', np.float64(0.005817041645575397)), ('blood test', np.float64(0.005152807477812341)), ('radiation', np.float64(0.004990184723522172)), ('hypochondria', np.float64(0.004810550757144695)), ('pcos', np.float64(0.0044367579021645995)), ('docs', np.float64(0.004065269837437911)), ('pregnancy', np.float64(0.004026625646141141)), ('brain tumor', np.float64(0.003975038178651521)), ('breast', np.float64(0.003967090962945341))]\n",
      "Topic 8 [('team', np.float64(0.00865900487098644)), ('boss', np.float64(0.007856857064380126)), ('manager', np.float64(0.007251521792162809)), ('business', np.float64(0.0057818104518075055)), ('staff', np.float64(0.004760841292664069)), ('mistakes', np.float64(0.004732083565127061)), ('fired', np.float64(0.004589033562337911)), ('role', np.float64(0.004423859478563973)), ('shift', np.float64(0.004392429647008951)), ('covid', np.float64(0.0040667156130359166))]\n",
      "Topic 9 [('tumor', np.float64(0.024622454636206784)), ('brain tumor', np.float64(0.023381655201801833)), ('aneurysm', np.float64(0.015099785660751272)), ('floaters', np.float64(0.010172817119493735)), ('sneeze', np.float64(0.009434851046822287)), ('tinnitus', np.float64(0.007906167052081666)), ('glasses', np.float64(0.007862375872351904)), ('left eye', np.float64(0.007862375872351904)), ('side head', np.float64(0.007672503286073786)), ('blurry', np.float64(0.006786845605965564))]\n",
      "Topic 10 [('suicidal', np.float64(0.005994101333883245)), ('suicide', np.float64(0.0049390977636683715)), ('feeling way', np.float64(0.004672464891777063)), ('bpd', np.float64(0.004634302837174853)), ('causes symptoms', np.float64(0.004404370549620602)), ('understanding anxiety', np.float64(0.003912242659100548)), ('anxiety anxiety', np.float64(0.0037939006916203315)), ('perhaps', np.float64(0.0035243165594037837)), ('couldnt', np.float64(0.003251914878531713)), ('anxiety disorder', np.float64(0.0031998501253038547))]\n",
      "Topic 11 [('grades', np.float64(0.01325568050883012)), ('studying', np.float64(0.0114506497969856)), ('classes', np.float64(0.009225016190577773)), ('grade', np.float64(0.00792416759730091)), ('motivation', np.float64(0.006076014316638285)), ('physics', np.float64(0.005303794855569337)), ('homework', np.float64(0.005283757066705956)), ('math', np.float64(0.005249801443034204)), ('boring', np.float64(0.005186112556803089)), ('hair loss', np.float64(0.005108351565266739))]\n",
      "Topic 12 [('rent', np.float64(0.02514894879753247)), ('homeless', np.float64(0.019146980625212955)), ('assistance', np.float64(0.012634270829917957)), ('income', np.float64(0.012503738934791075)), ('loans', np.float64(0.011953887368887353)), ('loan', np.float64(0.010855101870587558)), ('cost', np.float64(0.009926927080649824)), ('save', np.float64(0.0093243376542913)), ('credit', np.float64(0.00876211921255697)), ('shelter', np.float64(0.008361321107511853))]\n",
      "Topic 13 [('dating', np.float64(0.008964649616190985)), ('ex', np.float64(0.008712687216434674)), ('gf', np.float64(0.007282945512693856)), ('hanging', np.float64(0.006500750354041646)), ('cheated', np.float64(0.006299696934486012)), ('friendship', np.float64(0.006147562291073017)), ('messages', np.float64(0.006080082144605207)), ('asks', np.float64(0.00537911700468889)), ('insecure', np.float64(0.005349046932216532)), ('door', np.float64(0.005125126331406247))]\n",
      "Topic 14 [('dementia', np.float64(0.00770886249741503)), ('doom', np.float64(0.006814757207318179)), ('impending', np.float64(0.005578631065942617)), ('vehicle', np.float64(0.005284910318461575)), ('anxiety attacks', np.float64(0.0052816565510147495)), ('fear death', np.float64(0.005244758160490311)), ('impending doom', np.float64(0.005170437794927769)), ('cant feel', np.float64(0.004454668352375417)), ('train', np.float64(0.004271870293680799)), ('get fear', np.float64(0.004205216519216528))]\n",
      "Topic 15 [('twitching', np.float64(0.03005686906399134)), ('als', np.float64(0.029803978163703154)), ('ms', np.float64(0.02975652299363157)), ('twitches', np.float64(0.013972326177467938)), ('weakness', np.float64(0.01277427242199952)), ('left side', np.float64(0.008839556593510812)), ('numbness', np.float64(0.008355262918967168)), ('left hand', np.float64(0.007745783114338053)), ('neurological', np.float64(0.007673061884884801)), ('thumb', np.float64(0.007612939342482113))]\n",
      "Topic 16 [('abuse', np.float64(0.027915673389872428)), ('abused', np.float64(0.024577718901847904)), ('sexually', np.float64(0.015371015433225457)), ('flashbacks', np.float64(0.013731940966617175)), ('memories', np.float64(0.012472194708595669)), ('sexual', np.float64(0.01220451258386925)), ('abuser', np.float64(0.011116016823183396)), ('sexual abuse', np.float64(0.010161978815142123)), ('sexually abused', np.float64(0.009982288387644929)), ('door', np.float64(0.009741312601193052))]\n",
      "Topic 17 [('stool', np.float64(0.026173686515743123)), ('colon', np.float64(0.02314558658931397)), ('colon cancer', np.float64(0.020438181355654693)), ('bowel', np.float64(0.016649367739230488)), ('diarrhea', np.float64(0.014089005742130914)), ('ibs', np.float64(0.013064943540965391)), ('constipation', np.float64(0.01210640450798618)), ('ulcer', np.float64(0.011741828577486181)), ('gas', np.float64(0.011224350143987998)), ('stools', np.float64(0.010748202032416356))]\n"
     ]
    }
   ],
   "source": [
    "from sklearn.feature_extraction.text import CountVectorizer\n",
    "from bertopic import BERTopic\n",
    "\n",
    "from umap import UMAP\n",
    "umap_model = UMAP(\n",
    "    n_neighbors=10,       # more local clusters\n",
    "    n_components=10,     # preserve more info\n",
    "    min_dist=0.05,\n",
    "    metric=\"cosine\",\n",
    "    random_state=42\n",
    ")\n",
    "\n",
    "import hdbscan\n",
    "hdbscan_model = hdbscan.HDBSCAN(\n",
    "    min_cluster_size=80,   # increase when you need fewer topics\n",
    "    min_samples=10,\n",
    "    metric=\"euclidean\",\n",
    "    cluster_selection_method=\"eom\",\n",
    "    prediction_data=True   # REQUIRED for probabilities\n",
    ")\n",
    "\n",
    "topic_model = BERTopic(\n",
    "    embedding_model=sbert,\n",
    "    umap_model=umap_model,\n",
    "    hdbscan_model=hdbscan_model,\n",
    "    vectorizer_model=vectorizer,\n",
    "    calculate_probabilities=True,\n",
    "    verbose=True\n",
    ")\n",
    "topics, probs = topic_model.fit_transform(stressed_posts, embeddings)  # pass precomputed embeddings!\n",
    "topic_info = topic_model.get_topic_info()\n",
    "topic_info.head(20)\n",
    "\n",
    "# Top words per topic\n",
    "for tid in topic_info[\"Topic\"]:\n",
    "    print(\"Topic\", tid, topic_model.get_topic(tid)[:])  # list of (word, score)"
   ]
  },
  {
   "cell_type": "code",
   "execution_count": 217,
   "id": "6b7e85bc",
   "metadata": {},
   "outputs": [
    {
     "data": {
      "text/html": [
       "<div>\n",
       "<style scoped>\n",
       "    .dataframe tbody tr th:only-of-type {\n",
       "        vertical-align: middle;\n",
       "    }\n",
       "\n",
       "    .dataframe tbody tr th {\n",
       "        vertical-align: top;\n",
       "    }\n",
       "\n",
       "    .dataframe thead th {\n",
       "        text-align: right;\n",
       "    }\n",
       "</style>\n",
       "<table border=\"1\" class=\"dataframe\">\n",
       "  <thead>\n",
       "    <tr style=\"text-align: right;\">\n",
       "      <th></th>\n",
       "      <th>Topic</th>\n",
       "      <th>Count</th>\n",
       "      <th>Name</th>\n",
       "      <th>Representation</th>\n",
       "      <th>Representative_Docs</th>\n",
       "    </tr>\n",
       "  </thead>\n",
       "  <tbody>\n",
       "    <tr>\n",
       "      <th>0</th>\n",
       "      <td>-1</td>\n",
       "      <td>2614</td>\n",
       "      <td>-1_rabies_hiv_infection_range</td>\n",
       "      <td>[rabies, hiv, infection, range, diabetes, appe...</td>\n",
       "      <td>[Ex-Smoker, Fear, and Excessive Research Hi ev...</td>\n",
       "    </tr>\n",
       "    <tr>\n",
       "      <th>1</th>\n",
       "      <td>0</td>\n",
       "      <td>287</td>\n",
       "      <td>0_restless_restless restless_restlessness_feel...</td>\n",
       "      <td>[restless, restless restless, restlessness, fe...</td>\n",
       "      <td>[Why are you so restless, very restless, I'm s...</td>\n",
       "    </tr>\n",
       "    <tr>\n",
       "      <th>2</th>\n",
       "      <td>1</td>\n",
       "      <td>269</td>\n",
       "      <td>1_lymph_flu_swollen_node</td>\n",
       "      <td>[lymph, flu, swollen, node, nodes, lymph node,...</td>\n",
       "      <td>[Swollen lymph node, rash, dermatits and surpr...</td>\n",
       "    </tr>\n",
       "    <tr>\n",
       "      <th>3</th>\n",
       "      <td>2</td>\n",
       "      <td>243</td>\n",
       "      <td>2_cardiologist_pulse_beats_ekg</td>\n",
       "      <td>[cardiologist, pulse, beats, ekg, ecg, shortne...</td>\n",
       "      <td>[Mitral valve prolapse, anxiety or something e...</td>\n",
       "    </tr>\n",
       "    <tr>\n",
       "      <th>4</th>\n",
       "      <td>3</td>\n",
       "      <td>232</td>\n",
       "      <td>3_abuse_ex_police_loves</td>\n",
       "      <td>[abuse, ex, police, loves, bf, court, screamin...</td>\n",
       "      <td>[I obsess about this in my head 24/7 and even ...</td>\n",
       "    </tr>\n",
       "    <tr>\n",
       "      <th>5</th>\n",
       "      <td>4</td>\n",
       "      <td>231</td>\n",
       "      <td>4_zoloft_side effects_dose_mg</td>\n",
       "      <td>[zoloft, side effects, dose, mg, xanax, buspar...</td>\n",
       "      <td>[Anxiety med. that's not an antidepressant? He...</td>\n",
       "    </tr>\n",
       "    <tr>\n",
       "      <th>6</th>\n",
       "      <td>5</td>\n",
       "      <td>228</td>\n",
       "      <td>5_survey_meditation_management_stress management</td>\n",
       "      <td>[survey, meditation, management, stress manage...</td>\n",
       "      <td>[[Repost] The Effectiveness of a 4-Week Online...</td>\n",
       "    </tr>\n",
       "    <tr>\n",
       "      <th>7</th>\n",
       "      <td>6</td>\n",
       "      <td>227</td>\n",
       "      <td>6_nervous nervous_tbtb_nervous worried_like ne...</td>\n",
       "      <td>[nervous nervous, tbtb, nervous worried, like ...</td>\n",
       "      <td>[Ado is nervous because he failed to damage th...</td>\n",
       "    </tr>\n",
       "    <tr>\n",
       "      <th>8</th>\n",
       "      <td>7</td>\n",
       "      <td>205</td>\n",
       "      <td>7_tumor_ultrasound_blood test_radiation</td>\n",
       "      <td>[tumor, ultrasound, blood test, radiation, hyp...</td>\n",
       "      <td>[How I overcame health anxiety (read this is y...</td>\n",
       "    </tr>\n",
       "    <tr>\n",
       "      <th>9</th>\n",
       "      <td>8</td>\n",
       "      <td>162</td>\n",
       "      <td>8_team_boss_manager_business</td>\n",
       "      <td>[team, boss, manager, business, staff, mistake...</td>\n",
       "      <td>[My Workplace Makes Me Anxious So I’m not too ...</td>\n",
       "    </tr>\n",
       "    <tr>\n",
       "      <th>10</th>\n",
       "      <td>9</td>\n",
       "      <td>162</td>\n",
       "      <td>9_tumor_brain tumor_aneurysm_floaters</td>\n",
       "      <td>[tumor, brain tumor, aneurysm, floaters, sneez...</td>\n",
       "      <td>[Should I see a neurologist? Worried about Bra...</td>\n",
       "    </tr>\n",
       "    <tr>\n",
       "      <th>11</th>\n",
       "      <td>10</td>\n",
       "      <td>151</td>\n",
       "      <td>10_suicidal_suicide_feeling way_bpd</td>\n",
       "      <td>[suicidal, suicide, feeling way, bpd, causes s...</td>\n",
       "      <td>[(TW: mention of suicidal behaviour) anyone wi...</td>\n",
       "    </tr>\n",
       "    <tr>\n",
       "      <th>12</th>\n",
       "      <td>11</td>\n",
       "      <td>148</td>\n",
       "      <td>11_grades_studying_classes_grade</td>\n",
       "      <td>[grades, studying, classes, grade, motivation,...</td>\n",
       "      <td>[Creating the Time You Need to Do the Things Y...</td>\n",
       "    </tr>\n",
       "    <tr>\n",
       "      <th>13</th>\n",
       "      <td>12</td>\n",
       "      <td>143</td>\n",
       "      <td>12_rent_homeless_assistance_income</td>\n",
       "      <td>[rent, homeless, assistance, income, loans, lo...</td>\n",
       "      <td>[I might be homeless soon, I have about 500 do...</td>\n",
       "    </tr>\n",
       "    <tr>\n",
       "      <th>14</th>\n",
       "      <td>13</td>\n",
       "      <td>142</td>\n",
       "      <td>13_dating_ex_gf_hanging</td>\n",
       "      <td>[dating, ex, gf, hanging, cheated, friendship,...</td>\n",
       "      <td>[Is my (30s F) anxiety screwing with me or am ...</td>\n",
       "    </tr>\n",
       "    <tr>\n",
       "      <th>15</th>\n",
       "      <td>14</td>\n",
       "      <td>126</td>\n",
       "      <td>14_dementia_doom_impending_vehicle</td>\n",
       "      <td>[dementia, doom, impending, vehicle, anxiety a...</td>\n",
       "      <td>[Did I have a panic attack? About a month ago ...</td>\n",
       "    </tr>\n",
       "    <tr>\n",
       "      <th>16</th>\n",
       "      <td>15</td>\n",
       "      <td>121</td>\n",
       "      <td>15_twitching_als_ms_twitches</td>\n",
       "      <td>[twitching, als, ms, twitches, weakness, left ...</td>\n",
       "      <td>[Hand cramps and twitching - ALS? My left hand...</td>\n",
       "    </tr>\n",
       "    <tr>\n",
       "      <th>17</th>\n",
       "      <td>16</td>\n",
       "      <td>116</td>\n",
       "      <td>16_abuse_abused_sexually_flashbacks</td>\n",
       "      <td>[abuse, abused, sexually, flashbacks, memories...</td>\n",
       "      <td>[I was severely neglected as a child by my mot...</td>\n",
       "    </tr>\n",
       "    <tr>\n",
       "      <th>18</th>\n",
       "      <td>17</td>\n",
       "      <td>112</td>\n",
       "      <td>17_stool_colon_colon cancer_bowel</td>\n",
       "      <td>[stool, colon, colon cancer, bowel, diarrhea, ...</td>\n",
       "      <td>[Flat Stool and Dull Stomach Pain. Could it be...</td>\n",
       "    </tr>\n",
       "  </tbody>\n",
       "</table>\n",
       "</div>"
      ],
      "text/plain": [
       "    Topic  Count                                               Name  \\\n",
       "0      -1   2614                      -1_rabies_hiv_infection_range   \n",
       "1       0    287  0_restless_restless restless_restlessness_feel...   \n",
       "2       1    269                           1_lymph_flu_swollen_node   \n",
       "3       2    243                     2_cardiologist_pulse_beats_ekg   \n",
       "4       3    232                            3_abuse_ex_police_loves   \n",
       "5       4    231                      4_zoloft_side effects_dose_mg   \n",
       "6       5    228   5_survey_meditation_management_stress management   \n",
       "7       6    227  6_nervous nervous_tbtb_nervous worried_like ne...   \n",
       "8       7    205            7_tumor_ultrasound_blood test_radiation   \n",
       "9       8    162                       8_team_boss_manager_business   \n",
       "10      9    162              9_tumor_brain tumor_aneurysm_floaters   \n",
       "11     10    151                10_suicidal_suicide_feeling way_bpd   \n",
       "12     11    148                   11_grades_studying_classes_grade   \n",
       "13     12    143                 12_rent_homeless_assistance_income   \n",
       "14     13    142                            13_dating_ex_gf_hanging   \n",
       "15     14    126                 14_dementia_doom_impending_vehicle   \n",
       "16     15    121                       15_twitching_als_ms_twitches   \n",
       "17     16    116                16_abuse_abused_sexually_flashbacks   \n",
       "18     17    112                  17_stool_colon_colon cancer_bowel   \n",
       "\n",
       "                                       Representation  \\\n",
       "0   [rabies, hiv, infection, range, diabetes, appe...   \n",
       "1   [restless, restless restless, restlessness, fe...   \n",
       "2   [lymph, flu, swollen, node, nodes, lymph node,...   \n",
       "3   [cardiologist, pulse, beats, ekg, ecg, shortne...   \n",
       "4   [abuse, ex, police, loves, bf, court, screamin...   \n",
       "5   [zoloft, side effects, dose, mg, xanax, buspar...   \n",
       "6   [survey, meditation, management, stress manage...   \n",
       "7   [nervous nervous, tbtb, nervous worried, like ...   \n",
       "8   [tumor, ultrasound, blood test, radiation, hyp...   \n",
       "9   [team, boss, manager, business, staff, mistake...   \n",
       "10  [tumor, brain tumor, aneurysm, floaters, sneez...   \n",
       "11  [suicidal, suicide, feeling way, bpd, causes s...   \n",
       "12  [grades, studying, classes, grade, motivation,...   \n",
       "13  [rent, homeless, assistance, income, loans, lo...   \n",
       "14  [dating, ex, gf, hanging, cheated, friendship,...   \n",
       "15  [dementia, doom, impending, vehicle, anxiety a...   \n",
       "16  [twitching, als, ms, twitches, weakness, left ...   \n",
       "17  [abuse, abused, sexually, flashbacks, memories...   \n",
       "18  [stool, colon, colon cancer, bowel, diarrhea, ...   \n",
       "\n",
       "                                  Representative_Docs  \n",
       "0   [Ex-Smoker, Fear, and Excessive Research Hi ev...  \n",
       "1   [Why are you so restless, very restless, I'm s...  \n",
       "2   [Swollen lymph node, rash, dermatits and surpr...  \n",
       "3   [Mitral valve prolapse, anxiety or something e...  \n",
       "4   [I obsess about this in my head 24/7 and even ...  \n",
       "5   [Anxiety med. that's not an antidepressant? He...  \n",
       "6   [[Repost] The Effectiveness of a 4-Week Online...  \n",
       "7   [Ado is nervous because he failed to damage th...  \n",
       "8   [How I overcame health anxiety (read this is y...  \n",
       "9   [My Workplace Makes Me Anxious So I’m not too ...  \n",
       "10  [Should I see a neurologist? Worried about Bra...  \n",
       "11  [(TW: mention of suicidal behaviour) anyone wi...  \n",
       "12  [Creating the Time You Need to Do the Things Y...  \n",
       "13  [I might be homeless soon, I have about 500 do...  \n",
       "14  [Is my (30s F) anxiety screwing with me or am ...  \n",
       "15  [Did I have a panic attack? About a month ago ...  \n",
       "16  [Hand cramps and twitching - ALS? My left hand...  \n",
       "17  [I was severely neglected as a child by my mot...  \n",
       "18  [Flat Stool and Dull Stomach Pain. Could it be...  "
      ]
     },
     "execution_count": 217,
     "metadata": {},
     "output_type": "execute_result"
    }
   ],
   "source": [
    "topic_info.head(20)"
   ]
  },
  {
   "cell_type": "code",
   "execution_count": 218,
   "id": "496df5c5",
   "metadata": {},
   "outputs": [
    {
     "name": "stdout",
     "output_type": "stream",
     "text": [
      "    Topic  Count                                               Name\n",
      "0      -1   2614                      -1_rabies_hiv_infection_range\n",
      "1       0    287  0_restless_restless restless_restlessness_feel...\n",
      "2       1    269                           1_lymph_flu_swollen_node\n",
      "3       2    243                     2_cardiologist_pulse_beats_ekg\n",
      "4       3    232                            3_abuse_ex_police_loves\n",
      "5       4    231                      4_zoloft_side effects_dose_mg\n",
      "6       5    228   5_survey_meditation_management_stress management\n",
      "7       6    227  6_nervous nervous_tbtb_nervous worried_like ne...\n",
      "8       7    205            7_tumor_ultrasound_blood test_radiation\n",
      "9       8    162                       8_team_boss_manager_business\n",
      "10      9    162              9_tumor_brain tumor_aneurysm_floaters\n",
      "11     10    151                10_suicidal_suicide_feeling way_bpd\n",
      "12     11    148                   11_grades_studying_classes_grade\n",
      "13     12    143                 12_rent_homeless_assistance_income\n",
      "14     13    142                            13_dating_ex_gf_hanging\n",
      "15     14    126                 14_dementia_doom_impending_vehicle\n",
      "16     15    121                       15_twitching_als_ms_twitches\n",
      "17     16    116                16_abuse_abused_sexually_flashbacks\n",
      "18     17    112                  17_stool_colon_colon cancer_bowel\n",
      "Topic 0: restless, restless restless, restlessness, feeling restless, feel restless, sleep restless, restless heart, restless sleep, heart restless, want sleep\n",
      "Topic 1: lymph, flu, swollen, node, nodes, lymph node, lump, lymph nodes, cough, lymphoma\n",
      "Topic 2: cardiologist, pulse, beats, ekg, ecg, shortness breath, shortness, monitor, bp, left side\n",
      "Topic 3: abuse, ex, police, loves, bf, court, screaming, door, dr boyfriend, charges\n",
      "Topic 4: zoloft, side effects, dose, mg, xanax, buspar, ssri, ssris, gad, pill\n",
      "Topic 5: survey, meditation, management, stress management, relaxation, mindfulness, reduce, music, stress relief, participants\n",
      "Topic 6: nervous nervous, tbtb, nervous worried, like nervous, really nervous, worried know, sincere, oh god, yo, swear\n",
      "Topic 7: tumor, ultrasound, blood test, radiation, hypochondria, pcos, docs, pregnancy, brain tumor, breast\n",
      "Topic 8: team, boss, manager, business, staff, mistakes, fired, role, shift, covid\n",
      "Topic 9: tumor, brain tumor, aneurysm, floaters, sneeze, tinnitus, glasses, left eye, side head, blurry\n",
      "Topic 10: suicidal, suicide, feeling way, bpd, causes symptoms, understanding anxiety, anxiety anxiety, perhaps, couldnt, anxiety disorder\n",
      "Topic 11: grades, studying, classes, grade, motivation, physics, homework, math, boring, hair loss\n",
      "Topic 12: rent, homeless, assistance, income, loans, loan, cost, save, credit, shelter\n",
      "Topic 13: dating, ex, gf, hanging, cheated, friendship, messages, asks, insecure, door\n",
      "Topic 14: dementia, doom, impending, vehicle, anxiety attacks, fear death, impending doom, cant feel, train, get fear\n",
      "Topic 15: twitching, als, ms, twitches, weakness, left side, numbness, left hand, neurological, thumb\n",
      "Topic 16: abuse, abused, sexually, flashbacks, memories, sexual, abuser, sexual abuse, sexually abused, door\n",
      "Topic 17: stool, colon, colon cancer, bowel, diarrhea, ibs, constipation, ulcer, gas, stools\n"
     ]
    }
   ],
   "source": [
    "info = topic_model.get_topic_info()\n",
    "print(info[[\"Topic\", \"Count\", \"Name\"]].head(20))\n",
    "\n",
    "# Peek at top words for specific topics to decide merges\n",
    "def show_top_words(tid, k=10):\n",
    "    print(f\"Topic {tid}:\",\n",
    "        \", \".join([w for w, _ in topic_model.get_topic(tid)[:k]]))\n",
    "\n",
    "for tid in info[\"Topic\"].tolist()[:]:\n",
    "    if tid != -1:\n",
    "        show_top_words(tid)"
   ]
  },
  {
   "cell_type": "code",
   "execution_count": 219,
   "id": "de05ee3d",
   "metadata": {},
   "outputs": [],
   "source": [
    "health_help_groups = [[1, 3, 5, 8, 12, 13, 14, 16, 17]]"
   ]
  },
  {
   "cell_type": "code",
   "execution_count": 220,
   "id": "e5956ce9",
   "metadata": {},
   "outputs": [
    {
     "name": "stdout",
     "output_type": "stream",
     "text": [
      "    Topic  Count                                               Name\n",
      "0      -1   2614                        -1_rabies_hiv_boyfriend_sex\n",
      "1       0   1530                      0_lymph_node_nodes_lymph node\n",
      "2       1    287  1_restless restless_restlessness_feeling restl...\n",
      "3       2    243                       2_cardiologist_beats_ecg_bpm\n",
      "4       3    231                       3_buspar_ssris_dosage_prozac\n",
      "5       4    227  4_nervous nervous_tbtb_nervous worried_like ne...\n",
      "6       5    205                    5_radiation_pcos_docs_pregnancy\n",
      "7       6    162                 6_floaters_sneeze_glasses_left eye\n",
      "8       7    151          7_suicide_feeling way_bpd_causes symptoms\n",
      "9       8    148                  8_grades_classes_grade_motivation\n",
      "10      9    121                 9_als_left hand_thumb_pins needles\n"
     ]
    }
   ],
   "source": [
    "# Merge them one by one\n",
    "topic_model.merge_topics(stressed_posts, health_help_groups)\n",
    "# Inspect new topic distribution\n",
    "info = topic_model.get_topic_info()\n",
    "print(info[[\"Topic\",\"Count\",\"Name\"]].head(20))"
   ]
  },
  {
   "cell_type": "code",
   "execution_count": 221,
   "id": "9c2183fd",
   "metadata": {},
   "outputs": [
    {
     "name": "stdout",
     "output_type": "stream",
     "text": [
      "Topic 0: lymph, node, nodes, lymph node, abuse, lymph nodes, boyfriend, colon, survey, colon cancer\n",
      "Topic 1: restless restless, restlessness, feeling restless, feel restless, sleep restless, restless heart, restless sleep, heart restless, want sleep, getting restless\n",
      "Topic 2: cardiologist, beats, ecg, bpm, side chest, holter, stress test, like heart, resting, anxiety heart\n",
      "Topic 3: buspar, ssris, dosage, prozac, benzos, lorazepam, propranolol, pills, ibuprofen, hydroxyzine\n",
      "Topic 4: nervous nervous, tbtb, nervous worried, like nervous, oh god, sincere, worried know, nervous like, anxiously, worried worried\n",
      "Topic 5: radiation, pcos, docs, pregnancy, gov au, health wa, wa gov, cci, cci health, au\n",
      "Topic 6: floaters, sneeze, glasses, left eye, side head, head pain, blind, screen, visual, double vision\n",
      "Topic 7: suicide, feeling way, bpd, causes symptoms, understanding anxiety, anxiety anxiety, showering, years later, stop feeling, commit suicide\n",
      "Topic 8: grades, classes, grade, motivation, homework, physics, math, boring, soccer, hair loss\n",
      "Topic 9: als, left hand, thumb, pins needles, foot, pins, thigh, side face, pinky, crawling\n"
     ]
    }
   ],
   "source": [
    "for tid in info[\"Topic\"].tolist()[:]:\n",
    "    if tid != -1:\n",
    "        show_top_words(tid)"
   ]
  },
  {
   "cell_type": "code",
   "execution_count": 222,
   "id": "25bd160d",
   "metadata": {},
   "outputs": [],
   "source": [
    "trauma_groups = [[2, 8]]\n"
   ]
  },
  {
   "cell_type": "code",
   "execution_count": 223,
   "id": "383df09c",
   "metadata": {},
   "outputs": [
    {
     "name": "stdout",
     "output_type": "stream",
     "text": [
      "   Topic  Count                                               Name\n",
      "0     -1   2614                      -1_rabies_hiv_boyfriend_range\n",
      "1      0   1530                      0_lymph_node_nodes_lymph node\n",
      "2      1    391                   1_cardiologist_beats_ecg_monitor\n",
      "3      2    287  2_restless restless_restlessness_feeling restl...\n",
      "4      3    231                       3_buspar_ssris_dosage_prozac\n",
      "5      4    227  4_nervous nervous_tbtb_nervous worried_like ne...\n",
      "6      5    205                     5_radiation_pregnant_pcos_docs\n",
      "7      6    162                 6_floaters_sneeze_glasses_left eye\n",
      "8      7    151          7_suicide_feeling way_bpd_causes symptoms\n",
      "9      8    121                 8_als_left hand_thumb_pins needles\n",
      "Topic 0: lymph, node, nodes, lymph node, abuse, lymph nodes, boyfriend, colon, survey, colon cancer\n",
      "Topic 1: cardiologist, beats, ecg, monitor, grades, bpm, side chest, holter, stress test, classes\n",
      "Topic 2: restless restless, restlessness, feeling restless, feel restless, sleep restless, restless heart, restless sleep, heart restless, want sleep, getting restless\n",
      "Topic 3: buspar, ssris, dosage, prozac, benzos, lorazepam, propranolol, pills, ibuprofen, hydroxyzine\n",
      "Topic 4: nervous nervous, tbtb, nervous worried, like nervous, oh god, worried know, sincere, nervous like, anxiously, worried worried\n",
      "Topic 5: radiation, pregnant, pcos, docs, pregnancy, cci, health wa, cci health, gov au, wa gov\n",
      "Topic 6: floaters, sneeze, glasses, left eye, side head, head pain, blind, screen, visual, double vision\n",
      "Topic 7: suicide, feeling way, bpd, causes symptoms, understanding anxiety, anxiety anxiety, tldr, showering, years later, stop feeling\n",
      "Topic 8: als, left hand, thumb, pins needles, foot, pins, thigh, side face, pinky, crawling\n"
     ]
    }
   ],
   "source": [
    "\n",
    "topic_model.merge_topics(stressed_posts, trauma_groups)\n",
    "\n",
    "info = topic_model.get_topic_info()\n",
    "print(info[[\"Topic\",\"Count\",\"Name\"]].head(20))\n",
    "for tid in info[\"Topic\"].tolist()[:]:\n",
    "    if tid != -1:\n",
    "        show_top_words(tid)"
   ]
  },
  {
   "cell_type": "code",
   "execution_count": 224,
   "id": "490f802f",
   "metadata": {},
   "outputs": [
    {
     "ename": "IndexError",
     "evalue": "index 10 is out of bounds for axis 0 with size 10",
     "output_type": "error",
     "traceback": [
      "\u001b[0;31m---------------------------------------------------------------------------\u001b[0m",
      "\u001b[0;31mIndexError\u001b[0m                                Traceback (most recent call last)",
      "Cell \u001b[0;32mIn[224], line 3\u001b[0m\n\u001b[1;32m      1\u001b[0m sleep_groups \u001b[38;5;241m=\u001b[39m [[\u001b[38;5;241m1\u001b[39m,\u001b[38;5;241m9\u001b[39m]]\n\u001b[0;32m----> 3\u001b[0m \u001b[43mtopic_model\u001b[49m\u001b[38;5;241;43m.\u001b[39;49m\u001b[43mmerge_topics\u001b[49m\u001b[43m(\u001b[49m\u001b[43mstressed_posts\u001b[49m\u001b[43m,\u001b[49m\u001b[43m \u001b[49m\u001b[43msleep_groups\u001b[49m\u001b[43m)\u001b[49m\n\u001b[1;32m      5\u001b[0m \u001b[38;5;66;03m# Inspect new topic distribution\u001b[39;00m\n\u001b[1;32m      6\u001b[0m topic_info \u001b[38;5;241m=\u001b[39m topic_model\u001b[38;5;241m.\u001b[39mget_topic_info()\n",
      "File \u001b[0;32m~/.pyenv/versions/3.10.6/envs/stress_sense/lib/python3.10/site-packages/bertopic/_bertopic.py:2166\u001b[0m, in \u001b[0;36mBERTopic.merge_topics\u001b[0;34m(self, docs, topics_to_merge, images)\u001b[0m\n\u001b[1;32m   2164\u001b[0m \u001b[38;5;28mself\u001b[39m\u001b[38;5;241m.\u001b[39mtopic_mapper_\u001b[38;5;241m.\u001b[39madd_mappings(mapping, topic_model\u001b[38;5;241m=\u001b[39m\u001b[38;5;28mself\u001b[39m)\n\u001b[1;32m   2165\u001b[0m documents \u001b[38;5;241m=\u001b[39m \u001b[38;5;28mself\u001b[39m\u001b[38;5;241m.\u001b[39m_sort_mappings_by_frequency(documents)\n\u001b[0;32m-> 2166\u001b[0m \u001b[38;5;28;43mself\u001b[39;49m\u001b[38;5;241;43m.\u001b[39;49m\u001b[43m_extract_topics\u001b[49m\u001b[43m(\u001b[49m\u001b[43mdocuments\u001b[49m\u001b[43m,\u001b[49m\u001b[43m \u001b[49m\u001b[43mmappings\u001b[49m\u001b[38;5;241;43m=\u001b[39;49m\u001b[43mmappings\u001b[49m\u001b[43m)\u001b[49m\n\u001b[1;32m   2167\u001b[0m \u001b[38;5;28mself\u001b[39m\u001b[38;5;241m.\u001b[39m_update_topic_size(documents)\n\u001b[1;32m   2168\u001b[0m \u001b[38;5;28mself\u001b[39m\u001b[38;5;241m.\u001b[39m_save_representative_docs(documents)\n",
      "File \u001b[0;32m~/.pyenv/versions/3.10.6/envs/stress_sense/lib/python3.10/site-packages/bertopic/_bertopic.py:4056\u001b[0m, in \u001b[0;36mBERTopic._extract_topics\u001b[0;34m(self, documents, embeddings, mappings, verbose, fine_tune_representation)\u001b[0m\n\u001b[1;32m   4048\u001b[0m \u001b[38;5;28mself\u001b[39m\u001b[38;5;241m.\u001b[39mc_tf_idf_, words \u001b[38;5;241m=\u001b[39m \u001b[38;5;28mself\u001b[39m\u001b[38;5;241m.\u001b[39m_c_tf_idf(documents_per_topic)\n\u001b[1;32m   4049\u001b[0m \u001b[38;5;28mself\u001b[39m\u001b[38;5;241m.\u001b[39mtopic_representations_ \u001b[38;5;241m=\u001b[39m \u001b[38;5;28mself\u001b[39m\u001b[38;5;241m.\u001b[39m_extract_words_per_topic(\n\u001b[1;32m   4050\u001b[0m     words,\n\u001b[1;32m   4051\u001b[0m     documents,\n\u001b[0;32m   (...)\u001b[0m\n\u001b[1;32m   4054\u001b[0m     embeddings\u001b[38;5;241m=\u001b[39membeddings,\n\u001b[1;32m   4055\u001b[0m )\n\u001b[0;32m-> 4056\u001b[0m \u001b[38;5;28;43mself\u001b[39;49m\u001b[38;5;241;43m.\u001b[39;49m\u001b[43m_create_topic_vectors\u001b[49m\u001b[43m(\u001b[49m\u001b[43mdocuments\u001b[49m\u001b[38;5;241;43m=\u001b[39;49m\u001b[43mdocuments\u001b[49m\u001b[43m,\u001b[49m\u001b[43m \u001b[49m\u001b[43membeddings\u001b[49m\u001b[38;5;241;43m=\u001b[39;49m\u001b[43membeddings\u001b[49m\u001b[43m,\u001b[49m\u001b[43m \u001b[49m\u001b[43mmappings\u001b[49m\u001b[38;5;241;43m=\u001b[39;49m\u001b[43mmappings\u001b[49m\u001b[43m)\u001b[49m\n\u001b[1;32m   4058\u001b[0m \u001b[38;5;28;01mif\u001b[39;00m verbose:\n\u001b[1;32m   4059\u001b[0m     logger\u001b[38;5;241m.\u001b[39minfo(\u001b[38;5;124m\"\u001b[39m\u001b[38;5;124mRepresentation - Completed \u001b[39m\u001b[38;5;130;01m\\u2713\u001b[39;00m\u001b[38;5;124m\"\u001b[39m)\n",
      "File \u001b[0;32m~/.pyenv/versions/3.10.6/envs/stress_sense/lib/python3.10/site-packages/bertopic/_bertopic.py:4196\u001b[0m, in \u001b[0;36mBERTopic._create_topic_vectors\u001b[0;34m(self, documents, embeddings, mappings)\u001b[0m\n\u001b[1;32m   4194\u001b[0m topic_sizes \u001b[38;5;241m=\u001b[39m topics_from[\u001b[38;5;124m\"\u001b[39m\u001b[38;5;124mtopic_sizes\u001b[39m\u001b[38;5;124m\"\u001b[39m]\n\u001b[1;32m   4195\u001b[0m \u001b[38;5;28;01mif\u001b[39;00m topic_ids:\n\u001b[0;32m-> 4196\u001b[0m     embds \u001b[38;5;241m=\u001b[39m \u001b[43mnp\u001b[49m\u001b[38;5;241;43m.\u001b[39;49m\u001b[43marray\u001b[49m\u001b[43m(\u001b[49m\u001b[38;5;28;43mself\u001b[39;49m\u001b[38;5;241;43m.\u001b[39;49m\u001b[43mtopic_embeddings_\u001b[49m\u001b[43m)\u001b[49m\u001b[43m[\u001b[49m\u001b[43mnp\u001b[49m\u001b[38;5;241;43m.\u001b[39;49m\u001b[43marray\u001b[49m\u001b[43m(\u001b[49m\u001b[43mtopic_ids\u001b[49m\u001b[43m)\u001b[49m\u001b[43m \u001b[49m\u001b[38;5;241;43m+\u001b[39;49m\u001b[43m \u001b[49m\u001b[38;5;28;43mself\u001b[39;49m\u001b[38;5;241;43m.\u001b[39;49m\u001b[43m_outliers\u001b[49m\u001b[43m]\u001b[49m\n\u001b[1;32m   4197\u001b[0m     topic_embedding \u001b[38;5;241m=\u001b[39m np\u001b[38;5;241m.\u001b[39maverage(embds, axis\u001b[38;5;241m=\u001b[39m\u001b[38;5;241m0\u001b[39m, weights\u001b[38;5;241m=\u001b[39mtopic_sizes)\n\u001b[1;32m   4198\u001b[0m     topic_embeddings_dict[topic_to] \u001b[38;5;241m=\u001b[39m topic_embedding\n",
      "\u001b[0;31mIndexError\u001b[0m: index 10 is out of bounds for axis 0 with size 10"
     ]
    }
   ],
   "source": [
    "sleep_groups = [[1,9]]\n",
    "\n",
    "topic_model.merge_topics(stressed_posts, sleep_groups)\n",
    "\n",
    "# Inspect new topic distribution\n",
    "topic_info = topic_model.get_topic_info()"
   ]
  },
  {
   "cell_type": "code",
   "execution_count": null,
   "id": "f2d8a64e",
   "metadata": {},
   "outputs": [
    {
     "name": "stdout",
     "output_type": "stream",
     "text": [
      "Topic 0 [('ha', np.float64(0.006488729250713299)), ('lymph', np.float64(0.005710478748406089)), ('heart rate', np.float64(0.005468879929905738)), ('flu', np.float64(0.005082835045853778)), ('lump', np.float64(0.004646079169779355)), ('swollen', np.float64(0.004590839339444098)), ('tumor', np.float64(0.004520149935529683)), ('blood pressure', np.float64(0.00424892128765092)), ('red', np.float64(0.004118251117690768)), ('infection', np.float64(0.004065827508212995))]\n",
      "Topic 1 [('restlessness', np.float64(0.018060195461820458)), ('restless restless', np.float64(0.014889907924740067)), ('feeling restless', np.float64(0.011994490648297287)), ('feel restless', np.float64(0.011509174592726497)), ('sleep restless', np.float64(0.008706753362553383)), ('oh god', np.float64(0.007486630750168906)), ('restless heart', np.float64(0.006983866231717633)), ('dementia', np.float64(0.006653927123022298)), ('nervous restless', np.float64(0.006366187785901057)), ('tbtb', np.float64(0.006366187785901057))]\n",
      "Topic 2 [('abused', np.float64(0.010464096725395368)), ('sexually', np.float64(0.006590472677213645)), ('sexual', np.float64(0.006381114469944496)), ('flashbacks', np.float64(0.0061010826040700855)), ('violence', np.float64(0.005543700262979076)), ('sexual abuse', np.float64(0.005410247243103301)), ('abuser', np.float64(0.004620944046098536)), ('met', np.float64(0.0045703999391478135)), ('rape', np.float64(0.004295970439694639)), ('domestic', np.float64(0.004295970439694639))]\n",
      "Topic 3 [('survey', np.float64(0.02877508605873932)), ('mindfulness', np.float64(0.017215345503076948)), ('relaxation', np.float64(0.016805490157613023)), ('reduce', np.float64(0.015669389616937184)), ('stress management', np.float64(0.015228959483491147)), ('stress relief', np.float64(0.014302419817617212)), ('participate', np.float64(0.013843702149095428)), ('relieve', np.float64(0.013732272235479723)), ('participants', np.float64(0.01322784770350857)), ('reduce stress', np.float64(0.012142052486540971))]\n",
      "Topic 4 [('homework', np.float64(0.005449178034552391)), ('physics', np.float64(0.005427342150599698)), ('chronic stress', np.float64(0.005416531708016172)), ('math', np.float64(0.005416531708016172)), ('boring', np.float64(0.005355296965093396)), ('soccer', np.float64(0.005239475770393617)), ('hair loss', np.float64(0.005239475770393617)), ('feel stressed', np.float64(0.005197337887224328)), ('professor', np.float64(0.005012043857381629)), ('get done', np.float64(0.0048146948515699305))]\n",
      "Topic 5 [('homeless', np.float64(0.021110039670174396)), ('bill', np.float64(0.01129506721979327)), ('loans', np.float64(0.011087930286393674)), ('loan', np.float64(0.010074833384491624)), ('shelter', np.float64(0.008657148204013528)), ('save money', np.float64(0.008243045496402238)), ('housing', np.float64(0.008050403379459482)), ('pay back', np.float64(0.0075367465069310115)), ('savings', np.float64(0.007461561791603083)), ('dollars', np.float64(0.007209596091302892))]\n",
      "Topic 6 [('fired', np.float64(0.00546764950969491)), ('staff', np.float64(0.005186587252462478)), ('role', np.float64(0.004812437028100265)), ('project', np.float64(0.004193158366496403)), ('dollar', np.float64(0.004098814014208299)), ('bob', np.float64(0.004098814014208299)), ('employees', np.float64(0.0040548410590844)), ('supervisor', np.float64(0.003909464715625579)), ('quit job', np.float64(0.003878831034524665)), ('leave job', np.float64(0.0036752023319807387))]\n",
      "Topic 7 [('dating', np.float64(0.00987947869707944)), ('gift', np.float64(0.007377947725803879)), ('cheated', np.float64(0.007183647297003566)), ('messages', np.float64(0.006177931117235165)), ('started dating', np.float64(0.005298115786292055)), ('marriage', np.float64(0.004918631817202586)), ('threatened', np.float64(0.0048191257424533935)), ('texts', np.float64(0.004760406446219882)), ('blocked', np.float64(0.004732936748734337)), ('phone number', np.float64(0.0046899706073779196))]\n",
      "Topic 8 [('math', np.float64(0.005178474928030762)), ('struggled', np.float64(0.004772677240884383)), ('attempted', np.float64(0.004696125567916469)), ('anxiety years', np.float64(0.004691928359918933)), ('anxiety gotten', np.float64(0.004458829974806013)), ('want die', np.float64(0.004290493988655541)), ('choose', np.float64(0.004243662620020024)), ('commit suicide', np.float64(0.00416686630710531)), ('want kill', np.float64(0.004081482617568232)), ('end life', np.float64(0.0038916076884305912))]\n",
      "Topic 9 [('wake feeling', np.float64(0.01572468739943283)), ('morning anxiety', np.float64(0.014102261524411845)), ('sleeping pills', np.float64(0.012107273108293615)), ('go sleep', np.float64(0.01205971886131206)), ('melatonin', np.float64(0.011751884603676538)), ('alarm', np.float64(0.010938344965483519)), ('get bed', np.float64(0.010252016626583028)), ('better sleep', np.float64(0.01006648890033362)), ('mirtazapine', np.float64(0.009685818486634893)), ('sheets', np.float64(0.009282318841047278))]\n"
     ]
    }
   ],
   "source": [
    "for tid in topic_info[\"Topic\"]:\n",
    "    if tid == -1:\n",
    "        continue\n",
    "    print(\"Topic\", tid, topic_model.get_topic(tid)[:])  # list of (word, score)"
   ]
  },
  {
   "cell_type": "code",
   "execution_count": null,
   "id": "0b10d630",
   "metadata": {},
   "outputs": [],
   "source": [
    "topic_to_theme_dict = {\n",
    "    1: \"sleep_issues\",\n",
    "    7: \"financial_stress\",\n",
    "    8: \"work_stress\",\n",
    "    10: \"academic_stress\",\n",
    "    0: \"relationships\",\n",
    "    3: \"health_anxiety\",\n",
    "    # fallback:\n",
    "    -1: \"general_stress\"\n",
    "}"
   ]
  }
 ],
 "metadata": {
  "kernelspec": {
   "display_name": "stress_sense",
   "language": "python",
   "name": "python3"
  },
  "language_info": {
   "codemirror_mode": {
    "name": "ipython",
    "version": 3
   },
   "file_extension": ".py",
   "mimetype": "text/x-python",
   "name": "python",
   "nbconvert_exporter": "python",
   "pygments_lexer": "ipython3",
   "version": "3.10.6"
  }
 },
 "nbformat": 4,
 "nbformat_minor": 5
}
