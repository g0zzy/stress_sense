{
  "cells": [
    {
      "cell_type": "code",
      "execution_count": 3,
      "metadata": {},
      "outputs": [],
      "source": [
        "import pandas as pd\n",
        "import torch\n",
        "from transformers import AutoTokenizer, AutoModelForSequenceClassification\n",
        "from sklearn.model_selection import train_test_split\n",
        "from torch.utils.data import Dataset, DataLoader\n",
        "import torch.nn as nn"
      ]
    },
    {
      "cell_type": "code",
      "execution_count": 4,
      "metadata": {},
      "outputs": [],
      "source": [
        "df = pd.read_csv('/home/kristina/code/g0zzy/stress_sense/raw_data/CombinedData.csv', index_col=0)"
      ]
    },
    {
      "cell_type": "code",
      "execution_count": 5,
      "metadata": {
        "execution": {
          "iopub.execute_input": "2024-09-27T06:19:14.964978Z",
          "iopub.status.busy": "2024-09-27T06:19:14.964648Z",
          "iopub.status.idle": "2024-09-27T06:19:14.972133Z",
          "shell.execute_reply": "2024-09-27T06:19:14.971036Z",
          "shell.execute_reply.started": "2024-09-27T06:19:14.964943Z"
        },
        "id": "RCSkbS8cfKt1",
        "trusted": true
      },
      "outputs": [],
      "source": [
        "def get_df_info(df):\n",
        "    print(\"\\n\\033[1mShape of DataFrame:\\033[0m \", df.shape)\n",
        "    print(\"\\n\\033[1mColumns in DataFrame:\\033[0m \", df.columns.to_list())\n",
        "    print(\"\\n\\033[1mData types of columns:\\033[0m\\n\", df.dtypes)\n",
        "\n",
        "    print(\"\\n\\033[1mInformation about DataFrame:\\033[0m\")\n",
        "    df.info()\n",
        "\n",
        "    print(\"\\n\\033[1mNumber of unique values in each column:\\033[0m\")\n",
        "    for col in df.columns:\n",
        "        print(f\"\\033[1m{col}\\033[0m: {df[col].nunique()}\")\n",
        "\n",
        "    print(\"\\n\\033[1mNumber of null values in each column:\\033[0m\\n\", df.isnull().sum())\n",
        "\n",
        "    print(\"\\n\\033[1mNumber of duplicate rows:\\033[0m \", df.duplicated().sum())\n",
        "\n",
        "    print(\"\\n\\033[1mDescriptive statistics of DataFrame:\\033[0m\\n\",)\n",
        "\n",
        "    return df.describe().transpose()\n"
      ]
    },
    {
      "cell_type": "code",
      "execution_count": 22,
      "metadata": {
        "colab": {
          "base_uri": "https://localhost:8080/",
          "height": 720
        },
        "execution": {
          "iopub.execute_input": "2024-09-27T06:19:14.973672Z",
          "iopub.status.busy": "2024-09-27T06:19:14.973283Z",
          "iopub.status.idle": "2024-09-27T06:19:15.117896Z",
          "shell.execute_reply": "2024-09-27T06:19:15.11687Z",
          "shell.execute_reply.started": "2024-09-27T06:19:14.973632Z"
        },
        "id": "ZyInZQSXfKt1",
        "outputId": "05bfec7d-853b-4841-8066-5c272a6d1bd2",
        "trusted": true
      },
      "outputs": [
        {
          "name": "stdout",
          "output_type": "stream",
          "text": [
            "\n",
            "\u001b[1mShape of DataFrame:\u001b[0m  (53043, 2)\n",
            "\n",
            "\u001b[1mColumns in DataFrame:\u001b[0m  ['statement', 'status']\n",
            "\n",
            "\u001b[1mData types of columns:\u001b[0m\n",
            " statement    object\n",
            "status       object\n",
            "dtype: object\n",
            "\n",
            "\u001b[1mInformation about DataFrame:\u001b[0m\n",
            "<class 'pandas.core.frame.DataFrame'>\n",
            "Index: 53043 entries, 0 to 53042\n",
            "Data columns (total 2 columns):\n",
            " #   Column     Non-Null Count  Dtype \n",
            "---  ------     --------------  ----- \n",
            " 0   statement  52681 non-null  object\n",
            " 1   status     53043 non-null  object\n",
            "dtypes: object(2)\n",
            "memory usage: 1.2+ MB\n",
            "\n",
            "\u001b[1mNumber of unique values in each column:\u001b[0m\n",
            "\u001b[1mstatement\u001b[0m: 51073\n",
            "\u001b[1mstatus\u001b[0m: 7\n",
            "\n",
            "\u001b[1mNumber of null values in each column:\u001b[0m\n",
            " statement    362\n",
            "status         0\n",
            "dtype: int64\n",
            "\n",
            "\u001b[1mNumber of duplicate rows:\u001b[0m  1944\n",
            "\n",
            "\u001b[1mDescriptive statistics of DataFrame:\u001b[0m\n",
            "\n"
          ]
        },
        {
          "data": {
            "text/html": [
              "<div>\n",
              "<style scoped>\n",
              "    .dataframe tbody tr th:only-of-type {\n",
              "        vertical-align: middle;\n",
              "    }\n",
              "\n",
              "    .dataframe tbody tr th {\n",
              "        vertical-align: top;\n",
              "    }\n",
              "\n",
              "    .dataframe thead th {\n",
              "        text-align: right;\n",
              "    }\n",
              "</style>\n",
              "<table border=\"1\" class=\"dataframe\">\n",
              "  <thead>\n",
              "    <tr style=\"text-align: right;\">\n",
              "      <th></th>\n",
              "      <th>count</th>\n",
              "      <th>unique</th>\n",
              "      <th>top</th>\n",
              "      <th>freq</th>\n",
              "    </tr>\n",
              "  </thead>\n",
              "  <tbody>\n",
              "    <tr>\n",
              "      <th>statement</th>\n",
              "      <td>52681</td>\n",
              "      <td>51073</td>\n",
              "      <td>what do you mean?</td>\n",
              "      <td>22</td>\n",
              "    </tr>\n",
              "    <tr>\n",
              "      <th>status</th>\n",
              "      <td>53043</td>\n",
              "      <td>7</td>\n",
              "      <td>Normal</td>\n",
              "      <td>16351</td>\n",
              "    </tr>\n",
              "  </tbody>\n",
              "</table>\n",
              "</div>"
            ],
            "text/plain": [
              "           count unique                top   freq\n",
              "statement  52681  51073  what do you mean?     22\n",
              "status     53043      7             Normal  16351"
            ]
          },
          "execution_count": 22,
          "metadata": {},
          "output_type": "execute_result"
        }
      ],
      "source": [
        "get_df_info(df)"
      ]
    },
    {
      "cell_type": "code",
      "execution_count": 6,
      "metadata": {
        "colab": {
          "base_uri": "https://localhost:8080/",
          "height": 335
        },
        "execution": {
          "iopub.execute_input": "2024-09-27T06:19:15.121121Z",
          "iopub.status.busy": "2024-09-27T06:19:15.120699Z",
          "iopub.status.idle": "2024-09-27T06:19:15.13714Z",
          "shell.execute_reply": "2024-09-27T06:19:15.13456Z",
          "shell.execute_reply.started": "2024-09-27T06:19:15.121052Z"
        },
        "id": "BuIOjUHEfKt1",
        "outputId": "1ef20c6a-8fbc-4484-949b-b921681fe199",
        "trusted": true
      },
      "outputs": [
        {
          "data": {
            "text/plain": [
              "status\n",
              "Normal                  16351\n",
              "Depression              15404\n",
              "Suicidal                10653\n",
              "Anxiety                  3888\n",
              "Bipolar                  2877\n",
              "Stress                   2669\n",
              "Personality disorder     1201\n",
              "Name: count, dtype: int64"
            ]
          },
          "execution_count": 6,
          "metadata": {},
          "output_type": "execute_result"
        }
      ],
      "source": [
        "df['status'].value_counts()"
      ]
    },
    {
      "cell_type": "code",
      "execution_count": 24,
      "metadata": {
        "colab": {
          "base_uri": "https://localhost:8080/",
          "height": 210
        },
        "id": "LgYTDXd0TW5E",
        "outputId": "a2f27d14-71c7-4ce6-c817-9c04bbe5039a"
      },
      "outputs": [
        {
          "data": {
            "text/plain": [
              "status\n",
              "Normal     16351\n",
              "Anxiety     3888\n",
              "Stress      2669\n",
              "Name: count, dtype: int64"
            ]
          },
          "execution_count": 24,
          "metadata": {},
          "output_type": "execute_result"
        }
      ],
      "source": [
        "# Keep only stress-like categories\n",
        "df = df[df['status'].isin(['Stress','Anxiety','Normal'])]\n",
        "df['status'].value_counts()"
      ]
    },
    {
      "cell_type": "code",
      "execution_count": 25,
      "metadata": {
        "execution": {
          "iopub.execute_input": "2024-09-27T06:19:20.64828Z",
          "iopub.status.busy": "2024-09-27T06:19:20.647896Z",
          "iopub.status.idle": "2024-09-27T06:19:20.679175Z",
          "shell.execute_reply": "2024-09-27T06:19:20.678366Z",
          "shell.execute_reply.started": "2024-09-27T06:19:20.648237Z"
        },
        "id": "spLQRJ-IfKt2",
        "trusted": true
      },
      "outputs": [],
      "source": [
        "df.dropna(inplace=True)"
      ]
    },
    {
      "cell_type": "code",
      "execution_count": null,
      "metadata": {
        "execution": {
          "iopub.execute_input": "2024-09-27T06:19:20.680751Z",
          "iopub.status.busy": "2024-09-27T06:19:20.680453Z",
          "iopub.status.idle": "2024-09-27T06:19:20.694568Z",
          "shell.execute_reply": "2024-09-27T06:19:20.693812Z",
          "shell.execute_reply.started": "2024-09-27T06:19:20.680719Z"
        },
        "id": "3P9dulJIfKt3",
        "trusted": true
      },
      "outputs": [
        {
          "data": {
            "text/plain": [
              "np.int64(0)"
            ]
          },
          "execution_count": 49,
          "metadata": {},
          "output_type": "execute_result"
        }
      ],
      "source": [
        "# Map string labels to integers\n",
        "label_mapping = {label: i for i, label in enumerate(df['status'].unique())}\n",
        "\n",
        "df['label'] = df['status'].map(label_mapping)\n"
      ]
    },
    {
      "cell_type": "code",
      "execution_count": 49,
      "metadata": {
        "execution": {
          "iopub.execute_input": "2024-09-27T06:19:20.695907Z",
          "iopub.status.busy": "2024-09-27T06:19:20.695601Z",
          "iopub.status.idle": "2024-09-27T06:19:20.707372Z",
          "shell.execute_reply": "2024-09-27T06:19:20.706458Z",
          "shell.execute_reply.started": "2024-09-27T06:19:20.695858Z"
        },
        "id": "EIE-f8FwfKt3",
        "trusted": true
      },
      "outputs": [],
      "source": [
        "# Split data into training and validation sets\n",
        "train_text, val_text, train_labels, val_labels = train_test_split(df['statement'], df['status'], random_state=42, test_size=0.2)\n"
      ]
    },
    {
      "cell_type": "code",
      "execution_count": 50,
      "metadata": {
        "execution": {
          "iopub.execute_input": "2024-09-27T06:19:20.713547Z",
          "iopub.status.busy": "2024-09-27T06:19:20.713205Z",
          "iopub.status.idle": "2024-09-27T06:19:20.718883Z",
          "shell.execute_reply": "2024-09-27T06:19:20.717824Z",
          "shell.execute_reply.started": "2024-09-27T06:19:20.713515Z"
        },
        "id": "zxSVMIt6fKt3",
        "trusted": true
      },
      "outputs": [],
      "source": [
        "# Convert train_labels and val_labels to lists\n",
        "train_labels = train_labels.tolist()\n",
        "val_labels = val_labels.tolist()"
      ]
    },
    {
      "cell_type": "code",
      "execution_count": 51,
      "metadata": {
        "execution": {
          "iopub.execute_input": "2024-09-27T06:19:20.720253Z",
          "iopub.status.busy": "2024-09-27T06:19:20.719929Z",
          "iopub.status.idle": "2024-09-27T06:19:20.728103Z",
          "shell.execute_reply": "2024-09-27T06:19:20.72733Z",
          "shell.execute_reply.started": "2024-09-27T06:19:20.72022Z"
        },
        "id": "w12uidkQfKt4",
        "trusted": true
      },
      "outputs": [],
      "source": [
        "# Create a custom dataset class\n",
        "class MentalHealthDataset(Dataset):\n",
        "    def __init__(self, encodings, labels):\n",
        "        self.encodings = encodings\n",
        "        self.labels = labels\n",
        "\n",
        "    def __getitem__(self, idx):\n",
        "        item = {key: torch.tensor(val[idx]) for key, val in self.encodings.items()}\n",
        "        item['labels'] = torch.tensor(self.labels[idx])\n",
        "        return item\n",
        "\n",
        "    def __len__(self):\n",
        "        return len(self.labels)\n"
      ]
    },
    {
      "cell_type": "code",
      "execution_count": 14,
      "metadata": {
        "colab": {
          "base_uri": "https://localhost:8080/"
        },
        "execution": {
          "iopub.execute_input": "2024-09-27T06:19:20.729398Z",
          "iopub.status.busy": "2024-09-27T06:19:20.729111Z",
          "iopub.status.idle": "2024-09-27T06:19:26.436383Z",
          "shell.execute_reply": "2024-09-27T06:19:26.435293Z",
          "shell.execute_reply.started": "2024-09-27T06:19:20.729368Z"
        },
        "id": "RBPI-jJHfKt4",
        "outputId": "65cfdfc1-8052-4929-bc77-0ec0dbe03d7f",
        "trusted": true
      },
      "outputs": [
        {
          "name": "stderr",
          "output_type": "stream",
          "text": [
            "Some weights of BertForSequenceClassification were not initialized from the model checkpoint at bert-base-uncased and are newly initialized: ['classifier.bias', 'classifier.weight']\n",
            "You should probably TRAIN this model on a down-stream task to be able to use it for predictions and inference.\n"
          ]
        }
      ],
      "source": [
        "# Load tokenizer and model with revised configuration\n",
        "tokenizer = AutoTokenizer.from_pretrained('bert-base-uncased', clean_up_tokenization_spaces=True)\n",
        "model = AutoModelForSequenceClassification.from_pretrained('bert-base-uncased', num_labels=7)"
      ]
    },
    {
      "cell_type": "code",
      "execution_count": 53,
      "metadata": {
        "execution": {
          "iopub.execute_input": "2024-09-27T06:19:26.438913Z",
          "iopub.status.busy": "2024-09-27T06:19:26.438261Z",
          "iopub.status.idle": "2024-09-27T06:19:41.24393Z",
          "shell.execute_reply": "2024-09-27T06:19:41.243143Z",
          "shell.execute_reply.started": "2024-09-27T06:19:26.438865Z"
        },
        "id": "cW1gs0l3fKt4",
        "trusted": true
      },
      "outputs": [],
      "source": [
        "# Tokenize text\n",
        "train_encodings = tokenizer(list(train_text), truncation=True, padding=True)\n",
        "val_encodings = tokenizer(list(val_text), truncation=True, padding=True)"
      ]
    },
    {
      "cell_type": "code",
      "execution_count": 54,
      "metadata": {
        "execution": {
          "iopub.execute_input": "2024-09-27T06:19:41.245673Z",
          "iopub.status.busy": "2024-09-27T06:19:41.245386Z",
          "iopub.status.idle": "2024-09-27T06:19:41.249869Z",
          "shell.execute_reply": "2024-09-27T06:19:41.248866Z",
          "shell.execute_reply.started": "2024-09-27T06:19:41.245642Z"
        },
        "id": "p2BlNT3EfKt4",
        "trusted": true
      },
      "outputs": [],
      "source": [
        "# Create dataset instances\n",
        "train_dataset = MentalHealthDataset(train_encodings, train_labels)\n",
        "val_dataset = MentalHealthDataset(val_encodings, val_labels)"
      ]
    },
    {
      "cell_type": "code",
      "execution_count": 55,
      "metadata": {
        "execution": {
          "iopub.execute_input": "2024-09-27T06:19:41.251281Z",
          "iopub.status.busy": "2024-09-27T06:19:41.250929Z",
          "iopub.status.idle": "2024-09-27T06:19:41.266788Z",
          "shell.execute_reply": "2024-09-27T06:19:41.26598Z",
          "shell.execute_reply.started": "2024-09-27T06:19:41.251248Z"
        },
        "id": "FaANXc2sfKt5",
        "trusted": true
      },
      "outputs": [],
      "source": [
        "# Create data loaders\n",
        "train_loader = DataLoader(train_dataset, batch_size=16, shuffle=True)\n",
        "val_loader = DataLoader(val_dataset, batch_size=16, shuffle=False)"
      ]
    },
    {
      "cell_type": "code",
      "execution_count": 15,
      "metadata": {
        "colab": {
          "base_uri": "https://localhost:8080/"
        },
        "execution": {
          "iopub.execute_input": "2024-09-27T06:19:41.268105Z",
          "iopub.status.busy": "2024-09-27T06:19:41.267795Z",
          "iopub.status.idle": "2024-09-27T06:19:41.6727Z",
          "shell.execute_reply": "2024-09-27T06:19:41.671658Z",
          "shell.execute_reply.started": "2024-09-27T06:19:41.26804Z"
        },
        "id": "TcvaV-oGfKt5",
        "outputId": "99f66bd9-dbe1-4539-934c-3ac45b4a6ecd",
        "trusted": true
      },
      "outputs": [
        {
          "data": {
            "text/plain": [
              "BertForSequenceClassification(\n",
              "  (bert): BertModel(\n",
              "    (embeddings): BertEmbeddings(\n",
              "      (word_embeddings): Embedding(30522, 768, padding_idx=0)\n",
              "      (position_embeddings): Embedding(512, 768)\n",
              "      (token_type_embeddings): Embedding(2, 768)\n",
              "      (LayerNorm): LayerNorm((768,), eps=1e-12, elementwise_affine=True)\n",
              "      (dropout): Dropout(p=0.1, inplace=False)\n",
              "    )\n",
              "    (encoder): BertEncoder(\n",
              "      (layer): ModuleList(\n",
              "        (0-11): 12 x BertLayer(\n",
              "          (attention): BertAttention(\n",
              "            (self): BertSdpaSelfAttention(\n",
              "              (query): Linear(in_features=768, out_features=768, bias=True)\n",
              "              (key): Linear(in_features=768, out_features=768, bias=True)\n",
              "              (value): Linear(in_features=768, out_features=768, bias=True)\n",
              "              (dropout): Dropout(p=0.1, inplace=False)\n",
              "            )\n",
              "            (output): BertSelfOutput(\n",
              "              (dense): Linear(in_features=768, out_features=768, bias=True)\n",
              "              (LayerNorm): LayerNorm((768,), eps=1e-12, elementwise_affine=True)\n",
              "              (dropout): Dropout(p=0.1, inplace=False)\n",
              "            )\n",
              "          )\n",
              "          (intermediate): BertIntermediate(\n",
              "            (dense): Linear(in_features=768, out_features=3072, bias=True)\n",
              "            (intermediate_act_fn): GELUActivation()\n",
              "          )\n",
              "          (output): BertOutput(\n",
              "            (dense): Linear(in_features=3072, out_features=768, bias=True)\n",
              "            (LayerNorm): LayerNorm((768,), eps=1e-12, elementwise_affine=True)\n",
              "            (dropout): Dropout(p=0.1, inplace=False)\n",
              "          )\n",
              "        )\n",
              "      )\n",
              "    )\n",
              "    (pooler): BertPooler(\n",
              "      (dense): Linear(in_features=768, out_features=768, bias=True)\n",
              "      (activation): Tanh()\n",
              "    )\n",
              "  )\n",
              "  (dropout): Dropout(p=0.1, inplace=False)\n",
              "  (classifier): Linear(in_features=768, out_features=7, bias=True)\n",
              ")"
            ]
          },
          "execution_count": 15,
          "metadata": {},
          "output_type": "execute_result"
        }
      ],
      "source": [
        "# Define device (GPU or CPU)\n",
        "device = torch.device('cuda' if torch.cuda.is_available() else 'cpu')\n",
        "model.to(device)"
      ]
    },
    {
      "cell_type": "code",
      "execution_count": 16,
      "metadata": {
        "execution": {
          "iopub.execute_input": "2024-09-27T06:19:41.674287Z",
          "iopub.status.busy": "2024-09-27T06:19:41.673917Z",
          "iopub.status.idle": "2024-09-27T06:19:42.174598Z",
          "shell.execute_reply": "2024-09-27T06:19:42.17383Z",
          "shell.execute_reply.started": "2024-09-27T06:19:41.67425Z"
        },
        "id": "OLXtIEEVfKt5",
        "trusted": true
      },
      "outputs": [],
      "source": [
        "# Define optimizer and loss function\n",
        "optimizer = torch.optim.Adam(model.parameters(), lr=1e-5)\n",
        "loss_fn = nn.CrossEntropyLoss()"
      ]
    },
    {
      "cell_type": "code",
      "execution_count": 59,
      "metadata": {
        "colab": {
          "base_uri": "https://localhost:8080/"
        },
        "execution": {
          "iopub.execute_input": "2024-09-27T06:19:42.184775Z",
          "iopub.status.busy": "2024-09-27T06:19:42.184457Z"
        },
        "id": "5WCSr0xtfKt5",
        "outputId": "707f276c-bc36-45c8-9abc-25f2436f7ce9",
        "trusted": true
      },
      "outputs": [
        {
          "name": "stdout",
          "output_type": "stream",
          "text": [
            "Epoch 1, Train Loss: 0.2892, Val Loss: 0.1759\n",
            "Train Accuracy: 0.9465, Val Accuracy: 0.9306\n",
            "Epoch 2, Train Loss: 0.1219, Val Loss: 0.1230\n",
            "Train Accuracy: 0.9849, Val Accuracy: 0.9574\n",
            "Epoch 3, Train Loss: 0.0700, Val Loss: 0.1362\n",
            "Train Accuracy: 0.9930, Val Accuracy: 0.9559\n",
            "Epoch 4, Train Loss: 0.0350, Val Loss: 0.1772\n",
            "Train Accuracy: 0.9959, Val Accuracy: 0.9493\n",
            "Epoch 5, Train Loss: 0.0218, Val Loss: 0.1737\n",
            "Train Accuracy: 0.9980, Val Accuracy: 0.9568\n"
          ]
        }
      ],
      "source": [
        "# Evaluate model\n",
        "def evaluate_model(model, loader, device):\n",
        "    model.eval()\n",
        "    with torch.no_grad():\n",
        "        total_correct = 0\n",
        "        total_loss = 0\n",
        "        count = 0\n",
        "        for batch in loader:\n",
        "            input_ids = batch['input_ids'].to(device)\n",
        "            attention_mask = batch['attention_mask'].to(device)\n",
        "            labels = batch['labels'].to(device)\n",
        "\n",
        "            outputs = model(input_ids, attention_mask=attention_mask, labels=labels)\n",
        "            loss = outputs.loss\n",
        "            total_loss += loss.item()\n",
        "            count += 1\n",
        "\n",
        "            _, predicted = torch.max(outputs.logits, dim=1)\n",
        "            total_correct += (predicted == labels).sum().item()\n",
        "        accuracy = total_correct / len(loader.dataset)\n",
        "        average_loss = total_loss / count\n",
        "        return accuracy, average_loss\n",
        "\n",
        "\n",
        "# Train model\n",
        "train_losses = []\n",
        "val_losses = []\n",
        "train_accuracies = []\n",
        "val_accuracies = []\n",
        "\n",
        "for epoch in range(5):\n",
        "    model.train()\n",
        "    total_loss = 0\n",
        "    for batch in train_loader:\n",
        "        input_ids = batch['input_ids'].to(device)\n",
        "        attention_mask = batch['attention_mask'].to(device)\n",
        "        labels = batch['labels'].to(device)\n",
        "\n",
        "        optimizer.zero_grad()\n",
        "\n",
        "        outputs = model(input_ids, attention_mask=attention_mask, labels=labels)\n",
        "        loss = outputs.loss\n",
        "\n",
        "        loss.backward()\n",
        "        optimizer.step()\n",
        "\n",
        "        total_loss += loss.item()\n",
        "    train_losses.append(total_loss / len(train_loader))\n",
        "    train_accuracy, _ = evaluate_model(model, train_loader, device)\n",
        "    train_accuracies.append(train_accuracy)\n",
        "\n",
        "    model.eval()\n",
        "    val_accuracy, val_loss = evaluate_model(model, val_loader, device)\n",
        "    val_losses.append(val_loss)\n",
        "    val_accuracies.append(val_accuracy)\n",
        "\n",
        "    print(f'Epoch {epoch+1}, Train Loss: {train_losses[-1]:.4f}, Val Loss: {val_losses[-1]:.4f}')\n",
        "    print(f'Train Accuracy: {train_accuracies[-1]:.4f}, Val Accuracy: {val_accuracies[-1]:.4f}')"
      ]
    },
    {
      "cell_type": "code",
      "execution_count": 60,
      "metadata": {
        "colab": {
          "base_uri": "https://localhost:8080/",
          "height": 564
        },
        "id": "JvL30b02fKt5",
        "outputId": "8e5118ce-849c-41e5-86c0-6723d4648310",
        "trusted": true
      },
      "outputs": [
        {
          "data": {
            "image/png": "[encoded data removed]",
            "text/plain": [
              "<Figure size 1200x600 with 2 Axes>"
            ]
          },
          "metadata": {},
          "output_type": "display_data"
        }
      ],
      "source": [
        "# Plot training and validation accuracy and losses\n",
        "import matplotlib.pyplot as plt\n",
        "\n",
        "plt.figure(figsize=(12, 6))\n",
        "\n",
        "plt.subplot(1, 2, 1)\n",
        "plt.plot(train_accuracies, label='Training Accuracy')\n",
        "plt.plot(val_accuracies, label='Validation Accuracy')\n",
        "plt.legend()\n",
        "plt.title('Training and Validation Accuracy')\n",
        "plt.xlabel('Epoch')\n",
        "plt.ylabel('Accuracy')\n",
        "\n",
        "plt.subplot(1, 2, 2)\n",
        "plt.plot(train_losses, label='Training Loss')\n",
        "plt.plot(val_losses, label='Validation Loss')\n",
        "plt.legend()\n",
        "plt.title('Training and Validation Loss')\n",
        "plt.xlabel('Epoch')\n",
        "plt.ylabel('Loss')\n",
        "\n",
        "plt.show()"
      ]
    },
    {
      "cell_type": "code",
      "execution_count": 61,
      "metadata": {
        "colab": {
          "base_uri": "https://localhost:8080/"
        },
        "id": "1JVQP09afKt6",
        "outputId": "414219ac-ce87-4f89-d7ce-37bcf18c29c4",
        "trusted": true
      },
      "outputs": [
        {
          "name": "stdout",
          "output_type": "stream",
          "text": [
            "              precision    recall  f1-score   support\n",
            "\n",
            "           0       0.94      0.95      0.95       752\n",
            "           1       0.99      0.97      0.98      3320\n",
            "           2       0.79      0.90      0.84       483\n",
            "\n",
            "    accuracy                           0.96      4555\n",
            "   macro avg       0.91      0.94      0.92      4555\n",
            "weighted avg       0.96      0.96      0.96      4555\n",
            "\n",
            "[[ 716   12   24]\n",
            " [  21 3208   91]\n",
            " [  26   23  434]]\n"
          ]
        }
      ],
      "source": [
        "# Classification report and Confusion matrix\n",
        "from sklearn.metrics import classification_report, confusion_matrix\n",
        "\n",
        "model.eval()\n",
        "with torch.no_grad():\n",
        "    predictions = []\n",
        "    labels = []\n",
        "    for batch in val_loader:\n",
        "        input_ids = batch['input_ids'].to(device)\n",
        "        attention_mask = batch['attention_mask'].to(device)\n",
        "        batch_labels = batch['labels'].to(device)\n",
        "\n",
        "        outputs = model(input_ids, attention_mask=attention_mask)\n",
        "        _, predicted = torch.max(outputs.logits, dim=1)\n",
        "        predictions.extend(predicted.cpu().numpy())\n",
        "        labels.extend(batch_labels.cpu().numpy())\n",
        "\n",
        "print(classification_report(labels, predictions))\n",
        "print(confusion_matrix(labels, predictions))"
      ]
    },
    {
      "cell_type": "code",
      "execution_count": null,
      "metadata": {},
      "outputs": [],
      "source": [
        "#Save model\n",
        "model.save_pretrained('/home/kristina/code/g0zzy/stress_sense/models/dlbert')\n",
        "tokenizer.save_pretrained('/home/kristina/code/g0zzy/stress_sense/models/dlbert')\n"
      ]
    },
    {
      "cell_type": "code",
      "execution_count": 5,
      "metadata": {
        "id": "1cdaHMFofKt6",
        "trusted": true
      },
      "outputs": [],
      "source": [
        "# Create a function to get predictions from the model\n",
        "def get_prediction(text, model, tokenizer, device):\n",
        "    inputs = tokenizer(text, return_tensors='pt', truncation=True, padding=True)\n",
        "    inputs = {k: v.to(device) for k, v in inputs.items()}\n",
        "    outputs = model(**inputs)\n",
        "    _, predicted = torch.max(outputs.logits, dim=1)\n",
        "    return predicted.item()"
      ]
    },
    {
      "cell_type": "code",
      "execution_count": 6,
      "metadata": {
        "id": "IWhKMYgIfKt6",
        "trusted": true
      },
      "outputs": [],
      "source": [
        "test_texts = [\n",
        "    \"I've been feeling overwhelmed with work lately, but I'm trying to stay positive.\",\n",
        "    \"Sometimes I wonder if life is worth living, but I don't know what's holding me back.\",\n",
        "    \"I'm exhausted from pretending to be okay, but I'm scared of what others might think.\",\n",
        "    \"I've been experiencing mood swings, and I don't know how to control them.\",\n",
        "    \"I feel like I'm losing grip on reality, but I'm trying to hold on.\",\n",
        "    \"I'm struggling to concentrate, and my mind keeps racing.\",\n",
        "    \"I've been having trouble sleeping, and I feel anxious all the time.\",\n",
        "    \"I feel like I'm stuck in a rut, and I don't know how to get out.\",\n",
        "    \"Sometimes I feel like I'm two different people, and I don't know which one is real.\",\n",
        "    \"I've been experiencing flashbacks, and I don't know how to make them stop.\"\n",
        "]"
      ]
    },
    {
      "cell_type": "code",
      "execution_count": 7,
      "metadata": {
        "id": "-af56_uZfKt6",
        "trusted": true
      },
      "outputs": [],
      "source": [
        "class_labels = {\n",
        "    0: 'Anxiety',\n",
        "    1: 'Normal',\n",
        "    2: 'Stress',\n",
        "}"
      ]
    },
    {
      "cell_type": "code",
      "execution_count": null,
      "metadata": {
        "colab": {
          "base_uri": "https://localhost:8080/"
        },
        "id": "Lcz7kRMIfKt6",
        "outputId": "aecad1e9-1674-410d-b290-14483797db0b",
        "trusted": true
      },
      "outputs": [],
      "source": [
        "# Get predictions for test texts\n",
        "for text in test_texts:\n",
        "    predicted_class = get_prediction(text, model, tokenizer, device)\n",
        "    print(f'Text: {text}')\n",
        "    print(f'Predicted Class: {class_labels[predicted_class]}')\n",
        "    print(predicted_class)\n",
        "    print('---')"
      ]
    },
    {
      "cell_type": "code",
      "execution_count": 1,
      "metadata": {
        "id": "hnkVrUJbTW5W"
      },
      "outputs": [
        {
          "name": "stderr",
          "output_type": "stream",
          "text": [
            "/home/kristina/.pyenv/versions/3.10.6/envs/stress_sense/lib/python3.10/site-packages/tqdm/auto.py:21: TqdmWarning: IProgress not found. Please update jupyter and ipywidgets. See https://ipywidgets.readthedocs.io/en/stable/user_install.html\n",
            "  from .autonotebook import tqdm as notebook_tqdm\n"
          ]
        }
      ],
      "source": [
        "#Load model\n",
        "from transformers import AutoModelForSequenceClassification, AutoTokenizer\n",
        "\n",
        "#Load the model and tokenizer from the saved paths\n",
        "model_loaded = AutoModelForSequenceClassification.from_pretrained('/home/kristina/code/g0zzy/stress_sense/models/dlbert')\n",
        "tokenizer_loaded = AutoTokenizer.from_pretrained('/home/kristina/code/g0zzy/stress_sense/models/dlbert')\n"
      ]
    },
    {
      "cell_type": "code",
      "execution_count": 17,
      "metadata": {
        "colab": {
          "base_uri": "https://localhost:8080/",
          "height": 400
        },
        "id": "VumJfeQNzYq3",
        "outputId": "f50c85ed-8114-454f-f166-1e639c47477a",
        "trusted": true
      },
      "outputs": [
        {
          "name": "stdout",
          "output_type": "stream",
          "text": [
            "Text: I've been feeling overwhelmed with work lately, but I'm trying to stay positive.\n",
            "Predicted Class: Stress\n",
            "---\n",
            "Text: Sometimes I wonder if life is worth living, but I don't know what's holding me back.\n",
            "Predicted Class: Stress\n",
            "---\n",
            "Text: I'm exhausted from pretending to be okay, but I'm scared of what others might think.\n",
            "Predicted Class: Stress\n",
            "---\n",
            "Text: I've been experiencing mood swings, and I don't know how to control them.\n",
            "Predicted Class: Stress\n",
            "---\n",
            "Text: I feel like I'm losing grip on reality, but I'm trying to hold on.\n",
            "Predicted Class: Stress\n",
            "---\n",
            "Text: I'm struggling to concentrate, and my mind keeps racing.\n",
            "Predicted Class: Stress\n",
            "---\n",
            "Text: I've been having trouble sleeping, and I feel anxious all the time.\n",
            "Predicted Class: Anxiety\n",
            "---\n",
            "Text: I feel like I'm stuck in a rut, and I don't know how to get out.\n",
            "Predicted Class: Stress\n",
            "---\n",
            "Text: Sometimes I feel like I'm two different people, and I don't know which one is real.\n",
            "Predicted Class: Normal\n",
            "---\n",
            "Text: I've been experiencing flashbacks, and I don't know how to make them stop.\n",
            "Predicted Class: Stress\n",
            "---\n"
          ]
        }
      ],
      "source": [
        "# Get predictions for test texts from the loaded model\n",
        "for text in test_texts:\n",
        "    predicted_class = get_prediction(text, model_loaded, tokenizer_loaded, device)\n",
        "    print(f'Text: {text}')\n",
        "    print(f'Predicted Class: {class_labels[predicted_class]}')\n",
        "    print('---')"
      ]
    }
  ],
  "metadata": {
    "accelerator": "GPU",
    "colab": {
      "gpuType": "A100",
      "provenance": [],
      "toc_visible": true
    },
    "kaggle": {
      "accelerator": "nvidiaTeslaT4",
      "dataSources": [
        {
          "datasetId": 5338273,
          "sourceId": 8870083,
          "sourceType": "datasetVersion"
        }
      ],
      "dockerImageVersionId": 30775,
      "isGpuEnabled": true,
      "isInternetEnabled": false,
      "language": "python",
      "sourceType": "notebook"
    },
    "kernelspec": {
      "display_name": "stress_sense",
      "language": "python",
      "name": "python3"
    },
    "language_info": {
      "codemirror_mode": {
        "name": "ipython",
        "version": 3
      },
      "file_extension": ".py",
      "mimetype": "text/x-python",
      "name": "python",
      "nbconvert_exporter": "python",
      "pygments_lexer": "ipython3",
      "version": "3.10.6"
    }
  },
  "nbformat": 4,
  "nbformat_minor": 0
}
