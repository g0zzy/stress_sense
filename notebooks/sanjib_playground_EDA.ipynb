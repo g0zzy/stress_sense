{
 "cells": [
  {
   "cell_type": "code",
   "execution_count": 1,
   "id": "773826f4",
   "metadata": {},
   "outputs": [],
   "source": [
    "import pandas as pd\n",
    "import matplotlib.pyplot as plt\n",
    "import seaborn as sns\n",
    "from wordcloud import WordCloud\n",
    "from collections import Counter\n",
    "import re\n",
    "import numpy as np"
   ]
  },
  {
   "cell_type": "markdown",
   "id": "d2f1c37d",
   "metadata": {},
   "source": [
    "\n",
    "# Data"
   ]
  },
  {
   "cell_type": "code",
   "execution_count": 2,
   "id": "efa4282f",
   "metadata": {},
   "outputs": [
    {
     "data": {
      "application/vnd.microsoft.datawrangler.viewer.v0+json": {
       "columns": [
        {
         "name": "index",
         "rawType": "int64",
         "type": "integer"
        },
        {
         "name": "statement",
         "rawType": "object",
         "type": "string"
        },
        {
         "name": "status",
         "rawType": "object",
         "type": "string"
        }
       ],
       "ref": "59057d52-bba3-481c-baa6-fd8022782886",
       "rows": [
        [
         "0",
         "oh my gosh",
         "Anxiety"
        ],
        [
         "1",
         "trouble sleeping, confused mind, restless heart. All out of tune",
         "Anxiety"
        ],
        [
         "2",
         "All wrong, back off dear, forward doubt. Stay in a restless and restless place",
         "Anxiety"
        ],
        [
         "3",
         "I've shifted my focus to something else but I'm still worried",
         "Anxiety"
        ],
        [
         "4",
         "I'm restless and restless, it's been a month now, boy. What do you mean?",
         "Anxiety"
        ],
        [
         "5",
         "every break, you must be nervous, like something is wrong, but what the heck",
         "Anxiety"
        ],
        [
         "6",
         "I feel scared, anxious, what can I do? And may my family or us be protected :)",
         "Anxiety"
        ],
        [
         "7",
         "Have you ever felt nervous but didn't know why?",
         "Anxiety"
        ],
        [
         "8",
         "I haven't slept well for 2 days, it's like I'm restless. why huh :([].",
         "Anxiety"
        ],
        [
         "9",
         "I'm really worried, I want to cry.",
         "Anxiety"
        ]
       ],
       "shape": {
        "columns": 2,
        "rows": 10
       }
      },
      "text/html": [
       "<div>\n",
       "<style scoped>\n",
       "    .dataframe tbody tr th:only-of-type {\n",
       "        vertical-align: middle;\n",
       "    }\n",
       "\n",
       "    .dataframe tbody tr th {\n",
       "        vertical-align: top;\n",
       "    }\n",
       "\n",
       "    .dataframe thead th {\n",
       "        text-align: right;\n",
       "    }\n",
       "</style>\n",
       "<table border=\"1\" class=\"dataframe\">\n",
       "  <thead>\n",
       "    <tr style=\"text-align: right;\">\n",
       "      <th></th>\n",
       "      <th>statement</th>\n",
       "      <th>status</th>\n",
       "    </tr>\n",
       "  </thead>\n",
       "  <tbody>\n",
       "    <tr>\n",
       "      <th>0</th>\n",
       "      <td>oh my gosh</td>\n",
       "      <td>Anxiety</td>\n",
       "    </tr>\n",
       "    <tr>\n",
       "      <th>1</th>\n",
       "      <td>trouble sleeping, confused mind, restless hear...</td>\n",
       "      <td>Anxiety</td>\n",
       "    </tr>\n",
       "    <tr>\n",
       "      <th>2</th>\n",
       "      <td>All wrong, back off dear, forward doubt. Stay ...</td>\n",
       "      <td>Anxiety</td>\n",
       "    </tr>\n",
       "    <tr>\n",
       "      <th>3</th>\n",
       "      <td>I've shifted my focus to something else but I'...</td>\n",
       "      <td>Anxiety</td>\n",
       "    </tr>\n",
       "    <tr>\n",
       "      <th>4</th>\n",
       "      <td>I'm restless and restless, it's been a month n...</td>\n",
       "      <td>Anxiety</td>\n",
       "    </tr>\n",
       "    <tr>\n",
       "      <th>5</th>\n",
       "      <td>every break, you must be nervous, like somethi...</td>\n",
       "      <td>Anxiety</td>\n",
       "    </tr>\n",
       "    <tr>\n",
       "      <th>6</th>\n",
       "      <td>I feel scared, anxious, what can I do? And may...</td>\n",
       "      <td>Anxiety</td>\n",
       "    </tr>\n",
       "    <tr>\n",
       "      <th>7</th>\n",
       "      <td>Have you ever felt nervous but didn't know why?</td>\n",
       "      <td>Anxiety</td>\n",
       "    </tr>\n",
       "    <tr>\n",
       "      <th>8</th>\n",
       "      <td>I haven't slept well for 2 days, it's like I'm...</td>\n",
       "      <td>Anxiety</td>\n",
       "    </tr>\n",
       "    <tr>\n",
       "      <th>9</th>\n",
       "      <td>I'm really worried, I want to cry.</td>\n",
       "      <td>Anxiety</td>\n",
       "    </tr>\n",
       "  </tbody>\n",
       "</table>\n",
       "</div>"
      ],
      "text/plain": [
       "                                           statement   status\n",
       "0                                         oh my gosh  Anxiety\n",
       "1  trouble sleeping, confused mind, restless hear...  Anxiety\n",
       "2  All wrong, back off dear, forward doubt. Stay ...  Anxiety\n",
       "3  I've shifted my focus to something else but I'...  Anxiety\n",
       "4  I'm restless and restless, it's been a month n...  Anxiety\n",
       "5  every break, you must be nervous, like somethi...  Anxiety\n",
       "6  I feel scared, anxious, what can I do? And may...  Anxiety\n",
       "7    Have you ever felt nervous but didn't know why?  Anxiety\n",
       "8  I haven't slept well for 2 days, it's like I'm...  Anxiety\n",
       "9                 I'm really worried, I want to cry.  Anxiety"
      ]
     },
     "execution_count": 2,
     "metadata": {},
     "output_type": "execute_result"
    }
   ],
   "source": [
    "file = '../raw_data/Combined Data.csv'\n",
    "data_df = pd.read_csv(file,index_col=0)\n",
    "data_df.head(10)"
   ]
  },
  {
   "cell_type": "code",
   "execution_count": 3,
   "id": "2af9d2c1",
   "metadata": {},
   "outputs": [
    {
     "name": "stdout",
     "output_type": "stream",
     "text": [
      "\n",
      "\u001b[1mShape of DataFrame:\u001b[0m  (53043, 2)\n",
      "\n",
      "\u001b[1mColumns in DataFrame:\u001b[0m  ['statement', 'status']\n",
      "\n",
      "\u001b[1mData types of columns:\u001b[0m\n",
      " statement    object\n",
      "status       object\n",
      "dtype: object\n",
      "\n",
      "\u001b[1mInformation about DataFrame:\u001b[0m\n",
      "<class 'pandas.core.frame.DataFrame'>\n",
      "Index: 53043 entries, 0 to 53042\n",
      "Data columns (total 2 columns):\n",
      " #   Column     Non-Null Count  Dtype \n",
      "---  ------     --------------  ----- \n",
      " 0   statement  52681 non-null  object\n",
      " 1   status     53043 non-null  object\n",
      "dtypes: object(2)\n",
      "memory usage: 1.2+ MB\n",
      "\n",
      "\u001b[1mNumber of unique values in each column:\u001b[0m\n",
      "\u001b[1mstatement\u001b[0m: 51073\n",
      "\u001b[1mstatus\u001b[0m: 7\n",
      "\n",
      "\u001b[Memory:\u001b[0m\n",
      " 1.273032 MB\n",
      "\n",
      "\u001b[1mNumber of null values in each column:\u001b[0m\n",
      " statement    362\n",
      "status         0\n",
      "dtype: int64\n",
      "\n",
      "\u001b[1mNumber of duplicate rows:\u001b[0m  1944\n",
      "\n",
      "\u001b[1mDescriptive statistics of DataFrame:\u001b[0m\n",
      "\n"
     ]
    },
    {
     "data": {
      "application/vnd.microsoft.datawrangler.viewer.v0+json": {
       "columns": [
        {
         "name": "index",
         "rawType": "object",
         "type": "string"
        },
        {
         "name": "count",
         "rawType": "object",
         "type": "unknown"
        },
        {
         "name": "unique",
         "rawType": "object",
         "type": "unknown"
        },
        {
         "name": "top",
         "rawType": "object",
         "type": "string"
        },
        {
         "name": "freq",
         "rawType": "object",
         "type": "unknown"
        }
       ],
       "ref": "025dd1ce-eeb7-44ec-ac14-862072a4b09a",
       "rows": [
        [
         "statement",
         "52681",
         "51073",
         "what do you mean?",
         "22"
        ],
        [
         "status",
         "53043",
         "7",
         "Normal",
         "16351"
        ]
       ],
       "shape": {
        "columns": 4,
        "rows": 2
       }
      },
      "text/html": [
       "<div>\n",
       "<style scoped>\n",
       "    .dataframe tbody tr th:only-of-type {\n",
       "        vertical-align: middle;\n",
       "    }\n",
       "\n",
       "    .dataframe tbody tr th {\n",
       "        vertical-align: top;\n",
       "    }\n",
       "\n",
       "    .dataframe thead th {\n",
       "        text-align: right;\n",
       "    }\n",
       "</style>\n",
       "<table border=\"1\" class=\"dataframe\">\n",
       "  <thead>\n",
       "    <tr style=\"text-align: right;\">\n",
       "      <th></th>\n",
       "      <th>count</th>\n",
       "      <th>unique</th>\n",
       "      <th>top</th>\n",
       "      <th>freq</th>\n",
       "    </tr>\n",
       "  </thead>\n",
       "  <tbody>\n",
       "    <tr>\n",
       "      <th>statement</th>\n",
       "      <td>52681</td>\n",
       "      <td>51073</td>\n",
       "      <td>what do you mean?</td>\n",
       "      <td>22</td>\n",
       "    </tr>\n",
       "    <tr>\n",
       "      <th>status</th>\n",
       "      <td>53043</td>\n",
       "      <td>7</td>\n",
       "      <td>Normal</td>\n",
       "      <td>16351</td>\n",
       "    </tr>\n",
       "  </tbody>\n",
       "</table>\n",
       "</div>"
      ],
      "text/plain": [
       "           count unique                top   freq\n",
       "statement  52681  51073  what do you mean?     22\n",
       "status     53043      7             Normal  16351"
      ]
     },
     "execution_count": 3,
     "metadata": {},
     "output_type": "execute_result"
    }
   ],
   "source": [
    "# overview\n",
    "def get_df_info(df):\n",
    "    print(\"\\n\\033[1mShape of DataFrame:\\033[0m \", df.shape)\n",
    "    print(\"\\n\\033[1mColumns in DataFrame:\\033[0m \", df.columns.to_list())\n",
    "    print(\"\\n\\033[1mData types of columns:\\033[0m\\n\", df.dtypes)\n",
    "\n",
    "    print(\"\\n\\033[1mInformation about DataFrame:\\033[0m\")\n",
    "    df.info()\n",
    "\n",
    "    print(\"\\n\\033[1mNumber of unique values in each column:\\033[0m\")\n",
    "    for col in df.columns:\n",
    "        print(f\"\\033[1m{col}\\033[0m: {df[col].nunique()}\")\n",
    "\n",
    "    print(\"\\n\\033[Memory:\\033[0m\\n\", data_df.memory_usage().sum()/1_000_000, 'MB')\n",
    "\n",
    "    print(\"\\n\\033[1mNumber of null values in each column:\\033[0m\\n\", df.isnull().sum())\n",
    "\n",
    "    print(\"\\n\\033[1mNumber of duplicate rows:\\033[0m \", df.duplicated().sum())\n",
    "\n",
    "    print(\"\\n\\033[1mDescriptive statistics of DataFrame:\\033[0m\\n\",)\n",
    "\n",
    "    return df.describe().transpose()\n",
    "\n",
    "get_df_info(data_df)"
   ]
  },
  {
   "cell_type": "code",
   "execution_count": 4,
   "id": "7c8e0240",
   "metadata": {},
   "outputs": [
    {
     "name": "stdout",
     "output_type": "stream",
     "text": [
      "shape of data after deleting null values and duplicates : (51093, 2)\n"
     ]
    }
   ],
   "source": [
    "# cleaning (missing, duplicates)\n",
    "data_df = data_df.dropna(axis=0).reset_index(drop=True)\n",
    "data_df = data_df.drop_duplicates().reset_index(drop=True)\n",
    "print(f'shape of data after deleting null values and duplicates : {data_df.shape}')"
   ]
  },
  {
   "cell_type": "markdown",
   "id": "0a1e2e31",
   "metadata": {},
   "source": [
    "# EDA"
   ]
  },
  {
   "cell_type": "markdown",
   "id": "7d5aaa58",
   "metadata": {},
   "source": [
    "## distribution of labels"
   ]
  },
  {
   "cell_type": "code",
   "execution_count": null,
   "id": "b9488be2",
   "metadata": {},
   "outputs": [],
   "source": [
    "print(f\"\\nUnique labels: {data_df['status'].unique()}\")\n",
    "print(f\"\\nLabel distribution(%):\")\n",
    "print(data_df['status'].value_counts(normalize=True)*100)\n",
    "\n",
    "# # Visualization\n",
    "plt.figure(figsize=(10, 6))\n",
    "data_df['status'].value_counts().plot(kind='bar')\n",
    "plt.xlabel('Mental Health Status')\n",
    "plt.ylabel('Number of Samples')\n",
    "plt.xticks(rotation=45)\n",
    "plt.show()"
   ]
  },
  {
   "cell_type": "markdown",
   "id": "ab66e28a",
   "metadata": {},
   "source": [
    "## Text content"
   ]
  },
  {
   "cell_type": "markdown",
   "id": "5cef1b70",
   "metadata": {},
   "source": [
    "### function definitions"
   ]
  },
  {
   "cell_type": "code",
   "execution_count": null,
   "id": "7c6a8d2c",
   "metadata": {},
   "outputs": [],
   "source": [
    "def create_word_count_distributions(df, statement_col:str, status_col:str, count_col:str, categories:list,x_lim: None|list = None):\n",
    "    \"\"\"Create word count distribution plots for each category\n",
    "\n",
    "    df : dataframe (with raw statements or after cleaned statements)\n",
    "\n",
    "    with column names given by\n",
    "        staement_col : contains statements,\n",
    "        status_col : contains labels like Anxiety, Normal etc.,\n",
    "        count_col : numbers showing counts (may be word count or character count) per row,\n",
    "    categories : categories we are interested in, these categories are also in the status_col\n",
    "    x_limit : none or a list ([min_value, max_value]) to limit the numbers shown in x axis\n",
    "    \"\"\"\n",
    "    # Create subplots\n",
    "    fig, axes = plt.subplots(2, 3, figsize=(18, 12))\n",
    "    axes = axes.flatten()\n",
    "\n",
    "    # Colors for each category\n",
    "    # colors = plt.cm.Set3(np.linspace(0, 1, len(categories)))\n",
    "\n",
    "    for i, category in enumerate(categories):\n",
    "        if i < len(axes):\n",
    "            # Filter data for this category\n",
    "            category_data = df[df[status_col] == category][count_col]\n",
    "\n",
    "            # Create histogram\n",
    "            sns.histplot(category_data,ax=axes[i])\n",
    "            #axes[i].hist(category_data, bins=30, alpha=0.7, color=colors[i], edgecolor='black')\n",
    "            axes[i].set_title(f'{category.title()} - {count_col} Distribution',\n",
    "                            fontsize=14, fontweight='bold')\n",
    "            axes[i].set_xlabel('Number of Words')\n",
    "            axes[i].set_ylabel('Frequency')\n",
    "\n",
    "            #limit x axis range\n",
    "            if x_lim is not None:\n",
    "                axes[i].set_xlim(x_lim)\n",
    "\n",
    "            # Add statistics text\n",
    "            mean_words = category_data.mean()\n",
    "            max_words = category_data.max()\n",
    "            min_words = category_data.min()\n",
    "\n",
    "            stats_text = f'Mean: {mean_words:.1f}\\nMax: {max_words}\\nMin: {min_words}'\n",
    "            axes[i].text(0.7, 0.9, stats_text, transform=axes[i].transAxes,\n",
    "                        bbox=dict(boxstyle=\"round,pad=0.3\", facecolor=\"white\", alpha=0.8),\n",
    "                        verticalalignment='top', fontsize=10)\n",
    "\n",
    "    # Hide unused subplots\n",
    "    for j in range(len(categories), len(axes)):\n",
    "        axes[j].axis('off')\n",
    "\n",
    "    plt.tight_layout()\n",
    "    plt.show()\n",
    "\n",
    "def create_comparative_word_count_boxplot(df, statement_col:str, status_col:str,count_col:str, categories:list):\n",
    "    \"\"\"Create box plots comparing word counts across categories\n",
    "\n",
    "    df : dataframe (with raw statements or after cleaned statements)\n",
    "\n",
    "    with column names given by\n",
    "        staement_col : contains statements,\n",
    "        status_col : contains labels like Anxiety, Normal etc.,\n",
    "        count_col : numbers showing counts (may be word count or character count) per row,\n",
    "    categories : categories we are interested in, these categories are also in the status_col\n",
    "\n",
    "    \"\"\"\n",
    "\n",
    "    # Create the plot\n",
    "    plt.figure(figsize=(14, 8))\n",
    "\n",
    "    # Box plot\n",
    "    sns.boxplot(data=df, x=status_col, y=count_col, palette='Set2')\n",
    "    plt.title('Word Count Distribution Comparison Across Categories',\n",
    "              fontsize=16, fontweight='bold', pad=20)\n",
    "    plt.xlabel('Category', fontsize=12)\n",
    "    plt.ylabel('Number of Words', fontsize=12)\n",
    "    plt.yscale('log')\n",
    "    plt.xticks(rotation=45)\n",
    "\n",
    "    # Add mean markers\n",
    "    means = df.groupby(status_col)[count_col].mean()\n",
    "    for i in categories:\n",
    "        plt.scatter(i, means[i], color='red', s=100, marker='o', zorder=5)\n",
    "\n",
    "    plt.tight_layout()\n",
    "    plt.show()\n",
    "\n",
    "def get_top_words_per_category(df, statement_col:str, status_col:str, categories:list, top_n=20) -> dict:\n",
    "    \"\"\"Extract top N words for each mental health category\n",
    "\n",
    "    df : dataframe (with raw statements or after cleaned statements)\n",
    "\n",
    "    with column names given by\n",
    "        staement_col : contains statements,\n",
    "        status_col : contains labels like Anxiety, Normal etc.,\n",
    "    categories : categories we are interested in, these categories are also in the status_col\n",
    "    top_n : return top n words\n",
    "    \"\"\"\n",
    "\n",
    "\n",
    "    # def clean_text(text):\n",
    "    #     \"\"\"Clean and preprocess text\"\"\"\n",
    "    #     if pd.isna(text):\n",
    "    #         return \"\"\n",
    "    #     # Convert to lowercase\n",
    "    #     text = str(text).lower()\n",
    "    #     # Remove special characters, keep only letters and spaces\n",
    "    #     text = re.sub(r'[^a-zA-Z\\s]', ' ', text)\n",
    "    #     # Remove extra whitespace\n",
    "    #     text = ' '.join(text.split())\n",
    "    #     return text\n",
    "\n",
    "    # categories = df[label_col].unique()\n",
    "    all_category_words = {}\n",
    "\n",
    "    print(\"=\"*80)\n",
    "    print(\"TOP WORDS ANALYSIS BY CATEGORY\")\n",
    "    print(\"=\"*80)\n",
    "\n",
    "    for category in categories:\n",
    "        print(f\"\\n--- TOP {top_n} WORDS FOR {category.upper()} ---\")\n",
    "\n",
    "        # Get texts for this category\n",
    "        category_texts = df[df[status_col] == category][statement_col]\n",
    "\n",
    "        # Combine\n",
    "        all_text = ' '.join(category_texts)\n",
    "\n",
    "        # Split into words and filter\n",
    "        words = [word for word in all_text.split()]\n",
    "\n",
    "        # Count words\n",
    "        word_counts = Counter(words)\n",
    "        top_words = word_counts.most_common(top_n)\n",
    "\n",
    "        # Store results\n",
    "        all_category_words[category] = dict(top_words)\n",
    "\n",
    "        # Display results\n",
    "        for i, (word, count) in enumerate(top_words, 1):\n",
    "            print(f\"{i:2d}. {word:<15} ({count:,} times)\")\n",
    "        # Combine texts\n",
    "        all_text = ' '.join(category_texts)\n",
    "        print(f\"Total unique words in {category}: {len(word_counts):,}\")\n",
    "        print(f\"Total words analyzed: {sum(word_counts.values()):,}\")\n",
    "\n",
    "    return all_category_words\n",
    "\n",
    "def plot_cloud_of_words(df,statement_col:str, status_col:str,category:str):\n",
    "    \"\"\"make a cloud of words plot for a given category\n",
    "\n",
    "    df : dataframe (with raw statements or after cleaned statements)\n",
    "\n",
    "    with column names given by\n",
    "        staement_col : contains statements,\n",
    "        status_col : contains labels like Anxiety, Normal etc.,\n",
    "    category : category we are interested in, these category is also in the status_col\n",
    "    top_n : return top n words\n",
    "    \"\"\"\n",
    "\n",
    "    # Get texts for the category over the whole corpus\n",
    "    category_texts = data_df[data_df[status_col] == category][statement_col]\n",
    "    combined_text = ' '.join(category_texts.astype(str))\n",
    "\n",
    "    cloud_of_words = WordCloud(\n",
    "            width=800,\n",
    "            height=400,\n",
    "            background_color='white',\n",
    "            max_words=100,\n",
    "            colormap='viridis',  # You can change colors: 'plasma', 'inferno', 'magma'\n",
    "            relative_scaling=0.5,\n",
    "            min_font_size=10\n",
    "        ).generate(combined_text)\n",
    "\n",
    "fig, axes = plt.subplots(figsize=(15,8))\n",
    "axes.imshow(cloud_of_words, interpolation='bilinear')\n",
    "# plt.title(f'{category_name.title()} - Most Common Words',\n",
    "#               fontsize=20, fontweight='bold', pad=20)\n",
    "plt.axis('off');"
   ]
  },
  {
   "cell_type": "code",
   "execution_count": null,
   "id": "a920578a",
   "metadata": {},
   "outputs": [],
   "source": [
    "data_df['num_of_charac'] = data_df['statement'].str.len()\n",
    "data_df['num_of_words'] = data_df['statement'].apply(lambda x : len(x.strip().split()))\n",
    "data_df"
   ]
  },
  {
   "cell_type": "code",
   "execution_count": null,
   "id": "8c662c12",
   "metadata": {},
   "outputs": [],
   "source": [
    "data_df.groupby('status')['num_of_words'].agg(['min','max','mean'])"
   ]
  },
  {
   "cell_type": "code",
   "execution_count": null,
   "id": "2f1c7def",
   "metadata": {
    "vscode": {
     "languageId": "r"
    }
   },
   "outputs": [],
   "source": [
    "# calling different functions\n",
    "create_word_count_distributions(data_df, 'statement', 'status','num_of_words', data_df['status'].unique(),[-10,1000])"
   ]
  },
  {
   "cell_type": "code",
   "execution_count": null,
   "id": "5f93fc3c",
   "metadata": {
    "vscode": {
     "languageId": "r"
    }
   },
   "outputs": [],
   "source": [
    "create_comparative_word_count_boxplot(data_df, 'statement', 'status','num_of_words', data_df['status'].unique())\n",
    "top_words_by_category = get_top_words_per_category(data_df, 'statement', 'status', data_df['status'].unique(),5)\n"
   ]
  },
  {
   "cell_type": "code",
   "execution_count": null,
   "id": "9c6af32e",
   "metadata": {
    "vscode": {
     "languageId": "r"
    }
   },
   "outputs": [],
   "source": [
    "plot_cloud_of_words(data_df,'statement', 'status','Anxiety')"
   ]
  },
  {
   "cell_type": "code",
   "execution_count": null,
   "id": "343b21db",
   "metadata": {},
   "outputs": [],
   "source": []
  }
 ],
 "metadata": {
  "kernelspec": {
   "display_name": "Python 3",
   "language": "python",
   "name": "python3"
  },
  "language_info": {
   "codemirror_mode": {
    "name": "ipython",
    "version": 3
   },
   "file_extension": ".py",
   "mimetype": "text/x-python",
   "name": "python",
   "nbconvert_exporter": "python",
   "pygments_lexer": "ipython3",
   "version": "3.10.6"
  }
 },
 "nbformat": 4,
 "nbformat_minor": 5
}
