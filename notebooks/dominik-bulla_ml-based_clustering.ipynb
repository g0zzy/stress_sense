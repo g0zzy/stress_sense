{
 "cells": [
  {
   "cell_type": "markdown",
   "id": "60271846",
   "metadata": {},
   "source": [
    "### Import packages"
   ]
  },
  {
   "cell_type": "code",
   "execution_count": 159,
   "id": "df916ecf",
   "metadata": {},
   "outputs": [],
   "source": [
    "import enchant\n",
    "import matplotlib.pyplot as plt\n",
    "import numpy as np\n",
    "import pandas as pd\n",
    "import re\n",
    "import spacy\n",
    "from sklearn.base import BaseEstimator, TransformerMixin\n",
    "from sklearn.decomposition import LatentDirichletAllocation\n",
    "from sklearn.feature_extraction.text import CountVectorizer, TfidfVectorizer\n",
    "from sklearn.pipeline import Pipeline\n",
    "import sys"
   ]
  },
  {
   "cell_type": "code",
   "execution_count": 151,
   "id": "a6be9286",
   "metadata": {},
   "outputs": [],
   "source": [
    "# Install large model\n",
    "\n",
    "#!{sys.executable} -m pip install \"https://github.com/explosion/spacy-models/releases/download/en_core_web_lg-3.7.1/en_core_web_lg-3.7.1-py3-none-any.whl\"\n",
    "#!{sys.executable} -m spacy validate\n",
    "\n",
    "# Do not use"
   ]
  },
  {
   "cell_type": "code",
   "execution_count": 152,
   "id": "b938ad81",
   "metadata": {},
   "outputs": [],
   "source": [
    "# Install medium model\n",
    "#!{sys.executable} -m pip install \"https://github.com/explosion/spacy-models/releases/download/en_core_web_md-3.7.1/en_core_web_md-3.7.1-py3-none-any.whl\"\n",
    "#!{sys.executable} -m spacy validate"
   ]
  },
  {
   "cell_type": "markdown",
   "id": "8fcf85a2",
   "metadata": {},
   "source": [
    "### Load and subset data"
   ]
  },
  {
   "cell_type": "code",
   "execution_count": 153,
   "id": "ec84c159",
   "metadata": {},
   "outputs": [],
   "source": [
    "df = pd.read_csv(\"/home/domib/code/dominik-bulla/g0zzy/stress_sense/raw_data/Combined Data.csv\", encoding=\"latin1\")"
   ]
  },
  {
   "cell_type": "code",
   "execution_count": 154,
   "id": "6ae1c85d",
   "metadata": {},
   "outputs": [
    {
     "data": {
      "text/plain": [
       "Index(['Unnamed: 0', 'statement', 'status'], dtype='object')"
      ]
     },
     "execution_count": 154,
     "metadata": {},
     "output_type": "execute_result"
    }
   ],
   "source": [
    "df.columns"
   ]
  },
  {
   "cell_type": "code",
   "execution_count": 197,
   "id": "3629ef3d",
   "metadata": {},
   "outputs": [
    {
     "name": "stdout",
     "output_type": "stream",
     "text": [
      "(21961, 3)\n",
      "Index(['Unnamed: 0', 'statement', 'status'], dtype='object')\n",
      "Unnamed: 0     int64\n",
      "statement     object\n",
      "status        object\n",
      "dtype: object\n"
     ]
    },
    {
     "data": {
      "application/vnd.microsoft.datawrangler.viewer.v0+json": {
       "columns": [
        {
         "name": "index",
         "rawType": "int64",
         "type": "integer"
        },
        {
         "name": "Unnamed: 0",
         "rawType": "int64",
         "type": "integer"
        },
        {
         "name": "statement",
         "rawType": "object",
         "type": "string"
        },
        {
         "name": "status",
         "rawType": "object",
         "type": "string"
        }
       ],
       "ref": "55c9e1ff-1850-4e56-8aaf-5a87d9b5b6ce",
       "rows": [
        [
         "0",
         "0",
         "oh my gosh",
         "Anxiety"
        ],
        [
         "1",
         "1",
         "trouble sleeping, confused mind, restless heart. All out of tune",
         "Anxiety"
        ],
        [
         "2",
         "2",
         "All wrong, back off dear, forward doubt. Stay in a restless and restless place",
         "Anxiety"
        ],
        [
         "3",
         "3",
         "I've shifted my focus to something else but I'm still worried",
         "Anxiety"
        ],
        [
         "4",
         "4",
         "I'm restless and restless, it's been a month now, boy. What do you mean?",
         "Anxiety"
        ]
       ],
       "shape": {
        "columns": 3,
        "rows": 5
       }
      },
      "text/html": [
       "<div>\n",
       "<style scoped>\n",
       "    .dataframe tbody tr th:only-of-type {\n",
       "        vertical-align: middle;\n",
       "    }\n",
       "\n",
       "    .dataframe tbody tr th {\n",
       "        vertical-align: top;\n",
       "    }\n",
       "\n",
       "    .dataframe thead th {\n",
       "        text-align: right;\n",
       "    }\n",
       "</style>\n",
       "<table border=\"1\" class=\"dataframe\">\n",
       "  <thead>\n",
       "    <tr style=\"text-align: right;\">\n",
       "      <th></th>\n",
       "      <th>Unnamed: 0</th>\n",
       "      <th>statement</th>\n",
       "      <th>status</th>\n",
       "    </tr>\n",
       "  </thead>\n",
       "  <tbody>\n",
       "    <tr>\n",
       "      <th>0</th>\n",
       "      <td>0</td>\n",
       "      <td>oh my gosh</td>\n",
       "      <td>Anxiety</td>\n",
       "    </tr>\n",
       "    <tr>\n",
       "      <th>1</th>\n",
       "      <td>1</td>\n",
       "      <td>trouble sleeping, confused mind, restless hear...</td>\n",
       "      <td>Anxiety</td>\n",
       "    </tr>\n",
       "    <tr>\n",
       "      <th>2</th>\n",
       "      <td>2</td>\n",
       "      <td>All wrong, back off dear, forward doubt. Stay ...</td>\n",
       "      <td>Anxiety</td>\n",
       "    </tr>\n",
       "    <tr>\n",
       "      <th>3</th>\n",
       "      <td>3</td>\n",
       "      <td>I've shifted my focus to something else but I'...</td>\n",
       "      <td>Anxiety</td>\n",
       "    </tr>\n",
       "    <tr>\n",
       "      <th>4</th>\n",
       "      <td>4</td>\n",
       "      <td>I'm restless and restless, it's been a month n...</td>\n",
       "      <td>Anxiety</td>\n",
       "    </tr>\n",
       "  </tbody>\n",
       "</table>\n",
       "</div>"
      ],
      "text/plain": [
       "   Unnamed: 0                                          statement   status\n",
       "0           0                                         oh my gosh  Anxiety\n",
       "1           1  trouble sleeping, confused mind, restless hear...  Anxiety\n",
       "2           2  All wrong, back off dear, forward doubt. Stay ...  Anxiety\n",
       "3           3  I've shifted my focus to something else but I'...  Anxiety\n",
       "4           4  I'm restless and restless, it's been a month n...  Anxiety"
      ]
     },
     "execution_count": 197,
     "metadata": {},
     "output_type": "execute_result"
    }
   ],
   "source": [
    "stress_posts = df[df['status'].isin(['Stress','Anxiety','Depression'])]\n",
    "#stress_posts = df[df['status'].isin(['Stress','Anxiety'])]\n",
    "print(stress_posts.shape)\n",
    "print(stress_posts.columns)\n",
    "print(stress_posts.dtypes)\n",
    "stress_posts.head()"
   ]
  },
  {
   "cell_type": "markdown",
   "id": "a17a2589",
   "metadata": {},
   "source": [
    "### Text Preprocessing"
   ]
  },
  {
   "cell_type": "code",
   "execution_count": 241,
   "id": "faa3c5d9",
   "metadata": {},
   "outputs": [],
   "source": [
    "### lowercase\n",
    "### dealing with numbers, punctuation, and symbols\n",
    "### splitting\n",
    "### tokenizing\n",
    "### removing \"stopwords\"\n",
    "### lemmatizing\n",
    "\n",
    "nlp = spacy.load(\"en_core_web_md\", disable=[\"ner\", \"parser\", \"textcat\"])\n",
    "\n",
    "class TextPreprocessor(BaseEstimator, TransformerMixin):\n",
    "    def __init__(self, language_model=nlp, min_len=1):\n",
    "        self.nlp = language_model\n",
    "        self.min_len = min_len  # optional length filter\n",
    "\n",
    "    def fit(self, X, y=None):\n",
    "        return self\n",
    "\n",
    "    def transform(self, X):\n",
    "        return [self._preprocess(x) for x in X]\n",
    "\n",
    "    def _preprocess(self, text):\n",
    "        # Missing values\n",
    "        if text is None:\n",
    "            return []\n",
    "        if not isinstance(text, str):\n",
    "            text = str(text)\n",
    "\n",
    "        # lower case\n",
    "        text = text.strip().lower()\n",
    "        if not text:\n",
    "            return []\n",
    "\n",
    "        # dealing with numbers, punctuation, and symbols/stopwords/lemmatizing\n",
    "        doc = self.nlp(text)\n",
    "        tokens = [\n",
    "            tok.lemma_\n",
    "            for tok in doc\n",
    "            if tok.is_alpha and not tok.is_stop\n",
    "        ]\n",
    "\n",
    "        doc = self.nlp(text)\n",
    "        tokens = [\n",
    "            tok.lemma_\n",
    "            for tok in doc\n",
    "            if tok.is_alpha\n",
    "            and not tok.is_stop\n",
    "            and len(tok) > 2         # drop very short leftovers\n",
    "            and tok.lemma_ not in {\"don\", \"t\", \"m\"}  # custom contraction cleanup\n",
    "        ]\n",
    "\n",
    "        # Optional: drop very short results\n",
    "        if len(tokens) < self.min_len:\n",
    "            return []\n",
    "        return tokens\n",
    "\n",
    "text_pipeline = Pipeline([\n",
    "    (\"preprocessor\", TextPreprocessor())\n",
    "])\n"
   ]
  },
  {
   "cell_type": "code",
   "execution_count": 242,
   "id": "c476bf36",
   "metadata": {},
   "outputs": [],
   "source": [
    "processed = text_pipeline.fit_transform(stress_posts[\"statement\"])\n",
    "processed = list(processed)  # in case it's a numpy array\n",
    "stress_posts = stress_posts.copy()\n",
    "stress_posts[\"processed_tokens\"] = pd.Series(processed, index=stress_posts.index, dtype=object)"
   ]
  },
  {
   "cell_type": "markdown",
   "id": "6f214d38",
   "metadata": {},
   "source": [
    "### Text vectorizing"
   ]
  },
  {
   "cell_type": "code",
   "execution_count": 273,
   "id": "bd705e00",
   "metadata": {},
   "outputs": [],
   "source": [
    "tfidf = TfidfVectorizer(\n",
    "    tokenizer=lambda x: x,     # take the list of tokens \"as is\"\n",
    "    preprocessor=lambda x: x,  # don’t lowercase/clean again\n",
    "    lowercase=False,\n",
    "    ngram_range=(2, 2),\n",
    "    max_features=1000,\n",
    "    token_pattern=None\n",
    ")\n",
    "\n",
    "tokens = stress_posts[\"processed_tokens\"].apply(lambda x: x if isinstance(x, list) else [])\n",
    "\n",
    "vectorized_messages = tfidf.fit_transform(tokens)\n",
    "vectorized_messages = pd.DataFrame(\n",
    "    vectorized_messages.toarray(),\n",
    "    columns = tfidf.get_feature_names_out()\n",
    ")"
   ]
  },
  {
   "cell_type": "markdown",
   "id": "542163f3",
   "metadata": {},
   "source": [
    "### Finding best model"
   ]
  },
  {
   "cell_type": "code",
   "execution_count": 274,
   "id": "fa371525",
   "metadata": {},
   "outputs": [],
   "source": [
    "scores = []\n",
    "perplexities = []\n",
    "topics_range = range(3, 21, 3)\n",
    "\n",
    "for k in topics_range:\n",
    "    lda = LatentDirichletAllocation(\n",
    "        n_components=k,\n",
    "        max_iter=20,\n",
    "        random_state=42,\n",
    "        learning_method=\"batch\"\n",
    "    )\n",
    "    lda.fit(vectorized_messages)\n",
    "    scores.append(lda.score(vectorized_messages))\n",
    "    perplexities.append(lda.perplexity(vectorized_messages))"
   ]
  },
  {
   "cell_type": "code",
   "execution_count": 276,
   "id": "20c99e02",
   "metadata": {},
   "outputs": [
    {
     "data": {
      "image/png": "[encoded data removed]",
      "text/plain": [
       "<Figure size 640x480 with 1 Axes>"
      ]
     },
     "metadata": {},
     "output_type": "display_data"
    }
   ],
   "source": [
    "%matplotlib inline\n",
    "\n",
    "plt.plot(topics_range, scores, marker=\"o\", label=\"Log Likelihood\")\n",
    "#plt.plot(topics_range, perplexities, marker=\"x\", label=\"Perplexity\")\n",
    "plt.xlabel(\"Number of Topics\")\n",
    "plt.legend()\n",
    "plt.show()\n"
   ]
  },
  {
   "cell_type": "markdown",
   "id": "2cabcdaa",
   "metadata": {},
   "source": [
    "### Train LDA Model"
   ]
  },
  {
   "cell_type": "code",
   "execution_count": 296,
   "id": "4d678276",
   "metadata": {},
   "outputs": [],
   "source": [
    "n_components = 6\n",
    "lda_model = LatentDirichletAllocation(n_components=n_components, max_iter = 100)\n",
    "lda_model.fit(vectorized_messages)\n",
    "topics_mixture = lda_model.transform(vectorized_messages)"
   ]
  },
  {
   "cell_type": "markdown",
   "id": "d8c575dc",
   "metadata": {},
   "source": [
    "### link back to original dataframe "
   ]
  },
  {
   "cell_type": "code",
   "execution_count": 297,
   "id": "abf539fe",
   "metadata": {},
   "outputs": [],
   "source": [
    "def link_back(topics_mixture, stress_posts):\n",
    "\n",
    "    topic_cols = [f\"topic_{i}\" for i in range(topics_mixture.shape[1])]\n",
    "    topic_df = pd.DataFrame(topics_mixture, index=stress_posts.index, columns=topic_cols)\n",
    "\n",
    "    stress_posts = stress_posts.copy()\n",
    "    stress_posts[\"dominant_topic\"] = topic_df.values.argmax(axis=1)\n",
    "    stress_posts[\"dominant_weight\"] = round(topic_df.max(axis=1),2)\n",
    "    stress_posts[\"solution\"] = np.where(\n",
    "        stress_posts[\"dominant_weight\"] > round(1/6,2), 1, 0\n",
    "    )\n",
    "\n",
    "    return stress_posts"
   ]
  },
  {
   "cell_type": "code",
   "execution_count": 298,
   "id": "bc19839e",
   "metadata": {},
   "outputs": [],
   "source": [
    "stress_posts_6 = link_back(topics_mixture, stress_posts)"
   ]
  },
  {
   "cell_type": "code",
   "execution_count": 299,
   "id": "26fd4f2b",
   "metadata": {},
   "outputs": [
    {
     "name": "stdout",
     "output_type": "stream",
     "text": [
      "85.84\n"
     ]
    }
   ],
   "source": [
    "### proportion of proper solutions\n",
    "print(round(np.multiply(stress_posts_6.solution.value_counts(normalize=True)[1], 100),2))\n"
   ]
  },
  {
   "cell_type": "code",
   "execution_count": 304,
   "id": "355ecb08",
   "metadata": {},
   "outputs": [
    {
     "data": {
      "application/vnd.microsoft.datawrangler.viewer.v0+json": {
       "columns": [
        {
         "name": "dominant_topic",
         "rawType": "int64",
         "type": "integer"
        },
        {
         "name": "count",
         "rawType": "int64",
         "type": "integer"
        }
       ],
       "ref": "d88e9e9a-2376-48f4-9d78-19678241ad70",
       "rows": [
        [
         "1",
         "5127"
        ],
        [
         "2",
         "2834"
        ],
        [
         "4",
         "1866"
        ],
        [
         "0",
         "1481"
        ],
        [
         "5",
         "1317"
        ],
        [
         "3",
         "1018"
        ]
       ],
       "shape": {
        "columns": 1,
        "rows": 6
       }
      },
      "text/plain": [
       "dominant_topic\n",
       "1    5127\n",
       "2    2834\n",
       "4    1866\n",
       "0    1481\n",
       "5    1317\n",
       "3    1018\n",
       "Name: count, dtype: int64"
      ]
     },
     "execution_count": 304,
     "metadata": {},
     "output_type": "execute_result"
    }
   ],
   "source": [
    "stress_posts_6[\n",
    "    (stress_posts_6['status'] == \"Depression\") &\n",
    "    (stress_posts_6['solution'] == 1)\n",
    "][\"dominant_topic\"].value_counts()\n"
   ]
  },
  {
   "cell_type": "code",
   "execution_count": 284,
   "id": "15a3918c",
   "metadata": {},
   "outputs": [],
   "source": [
    "def print_topics(lda_model, vectorizer, top_words):\n",
    "    topic_word_mixture = pd.DataFrame(\n",
    "        lda_model.components_,\n",
    "        columns = tfidf.get_feature_names_out()\n",
    "    )\n",
    "    n_components = topic_word_mixture.shape[0]\n",
    "\n",
    "    for topic in range(n_components):\n",
    "        print(\"-\"*10)\n",
    "        print(f\"For topic {topic}, here are the the top {top_words} words with weights:\")\n",
    "\n",
    "        topic_df = topic_word_mixture.iloc[topic]\\\n",
    "            .sort_values(ascending = False).head(top_words)\n",
    "\n",
    "        print(round(topic_df,3))"
   ]
  },
  {
   "cell_type": "code",
   "execution_count": 285,
   "id": "8c7e5f6d",
   "metadata": {},
   "outputs": [
    {
     "name": "stdout",
     "output_type": "stream",
     "text": [
      "----------\n",
      "For topic 0, here are the the top 10 words with weights:\n",
      "panic attack      235.720\n",
      "health anxiety    222.095\n",
      "week ago           99.570\n",
      "month ago          98.530\n",
      "day ago            76.528\n",
      "go away            74.933\n",
      "go doctor          74.835\n",
      "heart attack       71.993\n",
      "feel like          69.615\n",
      "chest pain         69.335\n",
      "Name: 0, dtype: float64\n",
      "----------\n",
      "For topic 1, here are the the top 10 words with weights:\n",
      "feel like        710.293\n",
      "make feel        120.864\n",
      "look like        107.537\n",
      "feel bad          98.093\n",
      "mental health     91.821\n",
      "feel way          89.577\n",
      "know feel         85.955\n",
      "like go           78.904\n",
      "like feel         76.656\n",
      "time feel         75.843\n",
      "Name: 1, dtype: float64\n",
      "----------\n",
      "For topic 2, here are the the top 10 words with weights:\n",
      "feel like      198.736\n",
      "year old       131.460\n",
      "high school    124.962\n",
      "year ago       101.600\n",
      "good friend     90.616\n",
      "video game      87.266\n",
      "day day         79.060\n",
      "hard time       71.651\n",
      "new job         68.251\n",
      "long time       65.707\n",
      "Name: 2, dtype: float64\n",
      "----------\n",
      "For topic 3, here are the the top 10 words with weights:\n",
      "anxiety depression    95.261\n",
      "feel like             76.646\n",
      "hate life             75.323\n",
      "live life             63.139\n",
      "good thing            59.807\n",
      "get well              58.860\n",
      "thing happen          54.893\n",
      "lymph node            53.802\n",
      "piece shit            53.316\n",
      "hate hate             53.237\n",
      "Name: 3, dtype: float64\n",
      "----------\n",
      "For topic 4, here are the the top 10 words with weights:\n",
      "feel like             238.760\n",
      "depression anxiety    132.194\n",
      "want live              80.313\n",
      "want know              73.645\n",
      "know want              72.874\n",
      "want talk              67.958\n",
      "know know              66.191\n",
      "know anymore           66.077\n",
      "suffer depression      65.803\n",
      "feel well              64.936\n",
      "Name: 4, dtype: float64\n",
      "----------\n",
      "For topic 5, here are the the top 10 words with weights:\n",
      "want die       120.796\n",
      "fall asleep     94.821\n",
      "want kill       75.871\n",
      "want sleep      73.885\n",
      "feel like       65.646\n",
      "want end        59.870\n",
      "want stop       59.122\n",
      "get bad         51.045\n",
      "lie bed         50.468\n",
      "sleep hour      50.457\n",
      "Name: 5, dtype: float64\n"
     ]
    }
   ],
   "source": [
    "print_topics(lda_model, tfidf, 10)"
   ]
  }
 ],
 "metadata": {
  "kernelspec": {
   "display_name": "stress_sense",
   "language": "python",
   "name": "python3"
  },
  "language_info": {
   "codemirror_mode": {
    "name": "ipython",
    "version": 3
   },
   "file_extension": ".py",
   "mimetype": "text/x-python",
   "name": "python",
   "nbconvert_exporter": "python",
   "pygments_lexer": "ipython3",
   "version": "3.10.6"
  }
 },
 "nbformat": 4,
 "nbformat_minor": 5
}
