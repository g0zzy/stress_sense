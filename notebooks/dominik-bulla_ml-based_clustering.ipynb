{
 "cells": [
  {
   "cell_type": "markdown",
   "id": "60271846",
   "metadata": {},
   "source": [
    "### Import packages"
   ]
  },
  {
   "cell_type": "code",
   "execution_count": 10,
   "id": "df916ecf",
   "metadata": {},
   "outputs": [],
   "source": [
    "import enchant\n",
    "import matplotlib.pyplot as plt\n",
    "import numpy as np\n",
    "import pandas as pd\n",
    "import re\n",
    "import spacy\n",
    "from sklearn.base import BaseEstimator, TransformerMixin\n",
    "from sklearn.decomposition import LatentDirichletAllocation\n",
    "from sklearn.feature_extraction.text import CountVectorizer, TfidfVectorizer\n",
    "from sklearn.pipeline import Pipeline\n",
    "import sys"
   ]
  },
  {
   "cell_type": "code",
   "execution_count": 11,
   "id": "a6be9286",
   "metadata": {},
   "outputs": [],
   "source": [
    "# Install large model\n",
    "\n",
    "#!{sys.executable} -m pip install \"https://github.com/explosion/spacy-models/releases/download/en_core_web_lg-3.7.1/en_core_web_lg-3.7.1-py3-none-any.whl\"\n",
    "#!{sys.executable} -m spacy validate\n",
    "\n",
    "# Do not use"
   ]
  },
  {
   "cell_type": "code",
   "execution_count": 12,
   "id": "b938ad81",
   "metadata": {},
   "outputs": [],
   "source": [
    "# Install medium model\n",
    "#!{sys.executable} -m pip install \"https://github.com/explosion/spacy-models/releases/download/en_core_web_md-3.7.1/en_core_web_md-3.7.1-py3-none-any.whl\"\n",
    "#!{sys.executable} -m spacy validate"
   ]
  },
  {
   "cell_type": "markdown",
   "id": "8fcf85a2",
   "metadata": {},
   "source": [
    "### Load and subset data"
   ]
  },
  {
   "cell_type": "code",
   "execution_count": 13,
   "id": "ec84c159",
   "metadata": {},
   "outputs": [],
   "source": [
    "df = pd.read_csv(\"/home/domib/code/dominik-bulla/g0zzy/stress_sense/raw_data/Combined Data.csv\", encoding=\"latin1\")"
   ]
  },
  {
   "cell_type": "code",
   "execution_count": 14,
   "id": "6ae1c85d",
   "metadata": {},
   "outputs": [
    {
     "data": {
      "text/plain": [
       "Index(['Unnamed: 0', 'statement', 'status'], dtype='object')"
      ]
     },
     "execution_count": 14,
     "metadata": {},
     "output_type": "execute_result"
    }
   ],
   "source": [
    "df.columns"
   ]
  },
  {
   "cell_type": "code",
   "execution_count": 38,
   "id": "3629ef3d",
   "metadata": {},
   "outputs": [
    {
     "name": "stdout",
     "output_type": "stream",
     "text": [
      "(21961, 3)\n",
      "Index(['Unnamed: 0', 'statement', 'status'], dtype='object')\n",
      "Unnamed: 0     int64\n",
      "statement     object\n",
      "status        object\n",
      "dtype: object\n"
     ]
    },
    {
     "data": {
      "application/vnd.microsoft.datawrangler.viewer.v0+json": {
       "columns": [
        {
         "name": "index",
         "rawType": "int64",
         "type": "integer"
        },
        {
         "name": "Unnamed: 0",
         "rawType": "int64",
         "type": "integer"
        },
        {
         "name": "statement",
         "rawType": "object",
         "type": "unknown"
        },
        {
         "name": "status",
         "rawType": "object",
         "type": "string"
        }
       ],
       "ref": "a44a9579-157c-4507-97bd-4c2914fee0e4",
       "rows": [
        [
         "52843",
         "52843",
         "Just bought magnesium glycinateâ¦ does it really work like people say it does? So as the title suggests, I bought some magnesium glycinate 400mg per serving. After reading a bunch of posts saying it works wonders with anxiety and sleep, I thought Iâd have to give it a try. I want to hear some of your experiences. Did it work? Negative effects? Or is it just the âplacebo effectâ? Thank you! Gonna take it tonight!",
         "Anxiety"
        ],
        [
         "52844",
         "52844",
         "Can you pass anxiety down to your children? I want children when I'm older but I'm scared I'll  pass my anxiety on to them. And that makes me feel guilty.  Will I pass it down to children?",
         "Anxiety"
        ],
        [
         "52845",
         "52845",
         "Does anyone else hold off reading their messages as long as possible? Do you guys do this too? I understand that its common courtesy to reply to others quickly and instantly, but it's like whenever I get a message, I get... Idk. Scared? Anxious? Nervous to read it? I always feel like skfkglglkgkv\n\nI mean, god knows what the message could be like. And it's not like I don't reply to people at all. Though sometimes I do feel like I'd rather not look at my messages at all forever. Still, I end up mustering the courage to take a peek and reply, but sometimes I do that hours later.",
         "Anxiety"
        ],
        [
         "52846",
         "52846",
         "Daily reminder. This is just a reminder that Caffeine in any form exacerbates anxiety for most people!! Whether it be from Sodas or coffee and teas. I have to repeat this cycle time and time again. When will I learn seriously.",
         "Anxiety"
        ],
        [
         "52847",
         "52847",
         "I live with two people in my family who have schizophrenia and there was a butcher knife placed on a picture of me iâm a 19 year old cc student and i live with my grandma, mom, uncle, aunt, and little sister.\n\nmy mom has a meth addiction and sheâs developed schizophrenia from it and itâs been getting worse as the years go on. my uncle was hit on the head at a young age and im not exactly sure what he struggles since we never talk but i think itâs schizophrenia. my mom doesnât take her meds i think and my grandma is constantly trying to help her with moving in and out of motels and rehabs and all this stuff for the past 8 months or so (realistically sheâs been trying to help her for many many years now but my mom had moved out) recently my mom moved back in like a week ago. my uncle is very strange and i donât know really anything about him. he leaves his room a few times a day and doesnât talk to anyone, sometimes i hear him talk to himself in his room, but he doesnât yell and scream like my mom does, heâs just very quiet and intense. \n\nso earlier tonight i was using my grandmas phone for school since mine was dead, and i got curious to look in her messages between my mom because iâve seen messages between them before where my mom is talking about how  she hears voices talking about someone wanting to kill me and how sheâs constantly was thinking about me and she doesnât think iâm safe. so i looked and my aunt (sheâs mentally well) sent my grandma a picture where she found a big butcher knife placed on top of a picture of me. \n\nthe message said â*uncles name* is acting strange again. i asked *moms name* if she did this and she said she didnât. does *uncles name* know what it means to stab someone? that they will die?â in the photo my aunt sent my grandma, the picture of me was in like a mouse pad that was custom made with a photo of me from 4th grade. the thing is iâm not sure if itâs a coincidence because the mouse pad is on a desk for like where a computer used to be but the desk in like directly connected to the kitchen like almost next to it, so it could be possible that someone had happened to place that knife there so i didnât really freak out. but i talked to some friends and when i kinda said it out loud to them i did kinda realize like damn that does kinda sound bad and they told me that yea itâs probably not safe. \n\ni donât know if it was my uncle or mom either though, if it even was intentional. my uncle used to come home and hit me in the head as a kid a lot, and we would yell and scream at each other (we lived together for like 6 years and this would happen, then we moved, then we moved again and he moved back in with us) but ever since we moved back in again we literally do not talk to each other at all. heâs very awkward around me and everyone tbh and quiet, and i can tell he doesnât like to be in the same room as me even though i do not interact with him at all whatsoever. weâve said hey to each other like less than 10 times over the years and thatâs about it. he does kinda seem like he hates me but i donât think he would want to kill me. on the other hand itâs possible that my mom was lying to my aunt, but from what iâve seen i donât think my mom wants to kill me either. whenever she has talked about me in that way itâs more of a âthis is my son i need to protect him from whoever gonna kill himâ type of way rather than a malicious tone. but again, they are both schizophrenic which i really donât know much about besides they can be unpredictable and so thatâs why iâm asking. \n\ni know itâs weird to ask about this on reddit but i really donât have anyone to talk to about it. iâm not going to directly confront my uncle about it because again we are very distant and heâs a big guy i just donât want to i feel like itâd be worse, and i donât want to ask my mom because i know she would say no even if she did. iâm going to ask my grandma tomorrow since i havenât been able to since sheâs been asleep all night, but sheâs just going to ignore me after i express my concerns, which she always does. i can talk to my aunt about it even though weâre not really too close but yeah. \n\nanother thing is my grandma sent the photo my aunt sent her to my uncle asking if he did it and he kind of just ignored it, didnât deny it so. but yea i cant really move out or anything, i donât have the money for that since i just graduated high school and honestly i donât have a job right now since iâm a full time student and i just donât know where i would go. i donât have any friends that would let me live with them either so thatâs out of the picture . the best thing iâm hoping for is the convince my grandma to have them move out but thatâll probably never happen even though i want it to so bad. i just donât know if this is a coincidence with the knife and i shouldnât be worried or what i should do so yea pls help",
         "Anxiety"
        ],
        [
         "52848",
         "52848",
         "I feel like Iâm dead When I look at my reflection I donât see a person anymore, I just see a corpse. I canât even afford food and I look like a skeleton. Itâs like Iâm just convincing everyone that Iâm a person like them, but I donât fee like one. I have images pop up in my head of me shooting myself and lying dead on the floor (even though I wouldnât actually kill myself). I donât know what to do",
         "Anxiety"
        ],
        [
         "52849",
         "52849",
         "How long does food poisoning take to kick in? Iâm emetophobic and I ate at a restaurant last night. Iâm pretty worried of getting food poisoning. The restaurant wasnât sketchy but this is how I always am when I eat out at restaurants. Anyways, how long does it take for food poisoning to kick in? Iâm about 10 hours post eating at the restaurant",
         "Anxiety"
        ],
        [
         "52850",
         "52850",
         "Anyone here also feels like they'll be Lonely Forever because of Social Anxiety? I think ever since I was bullied in school I always was afraid of people. I missed so many opportunities in my life because no matter how many self help books I was reading, I was just not able to overcome my anxiety. And even if I managed to be \"normal\" around people I still felt lonely. Because I felt like an alien, like I was different to everyone else.\n\nâ A normal relationship with a woman who accepts me for who I am? --&gt; **Not available since I finished school!**\n\nâ Friends with whom I can share my hopes and dreams and who I feel deeply connected with? --&gt; **Not for me!**\n\nâ Just interact with people without feeling completely nervous and socially awkward? --&gt; **Impossible!**\n\nWith 22 I knew that either I have to change something or it will stay like this forever!\n\nIt was a wild journey ever since and despite a lot of set backs, rejections, insecurities and the feeling that I am too unlovable for anyone I can say that **I** **overcame my social anxiety.**\n\nI don't want to brag with this post, the only thing I want is to give you hope in times where you maybe feel no hope.\n\nMaybe this here is the motivation for YOU to take the first step today. To look out of the comfort zone a tiny little bit. To get help when you need help, as it is a sign of strength to ask for help not of weakness. **If this here reaches one person who is struggling today I've done my job.**\n\nBecause no matter how tall the wall seem that you are looking at right now, it is possible to overcome it.\n\n**If you need help or advice, I'll be there for you in the comments! â¬ï¸**",
         "Anxiety"
        ],
        [
         "52851",
         "52851",
         "Iâm really scared and proud Iâve been taking the same adhd pill since I was a very small child and I had to switch on weekends due to a shortage. I have some history with certain pills and their side effects which is why I am so anxious. (Not the average side effects either, the 1% that most people donât get. The side effects were facial and tongue cramping due to a severe allergic reaction, slurred speech, throat swelling, and a tic like thing called Tardive dyskinesia) I am having waves of panic attacks, but I am so fucking proud of myself. I faced my fear, I took the pill. I did it. I faced my anxiety. This is a first as I usually cower to it. My anxiety is still going, but itâs not used to me challenging it.",
         "Anxiety"
        ],
        [
         "52852",
         "52852",
         "What tf us happening to me Every single day I feel the life inside of me just fall down as if it were sand, every day I feel like I can't breathe, I just sit and look around because even though no one sees it, I feel like my lings are vomiting inside me.\n\nEvery single day I want to kill myself while at the same time having a panic attack because I don't want to die.\n\nAnd then I just sit there, not bothering anyone, because no one can look at me and tell me my intestines are silently spinning, no one can look at me and see my heart beating way too fast and know I'm not breathing.\n\nAnd certainly no one knows that every fucking day while I try to live my life I see myself in a grave not feeling any physical sensation at all, its almost as if I can see the future, almost as if old me is sitting in bed slowly rotting away, dead and no one has checked up on me for several hours\n\nWhy tf am I like this, I'm 14, I'm supposed to enjoy life but insead I hate this shit, and I hate living with this terrible anxiety about nothing and everything at the same time, not living because I don't wanna die, which makes me want to kill myself\n\nThe worst part is I'm not even diagnosed with an anxiety disorder because I'm too scared to talk to anyone about it, and so no one will ever know, because I don't know people well enough to tell them this. I guess I don't mind sharing with strangers online tho\n\nHope you have a nice day, and I hope your anxiety gets better because I wish no ine had to suffer like this",
         "Anxiety"
        ],
        [
         "52853",
         "52853",
         "Can anxiety get triggered by nothing? I donât know how to explain it but the last week or two I have been in a constant panic mode. always on edge , I feel sick 24/7, crying etc. But nothing has triggered me ? I just woke up one day and I knew something wasnât right in my brain , I just felt really fuzzy and confused and now two weeks later Iâm in a constant fight or flight mode.",
         "Anxiety"
        ],
        [
         "52854",
         "52854",
         "Crazy how powerful thought diaries &amp; breathing techniques have been for my anxiety  I've been undergoing therapy for anxiety and depression for the past two months. My therapist recommended that I start keeping a \"thought diary\" to write down any worries or concerns that I may have and to practice a breathing technique that involves breathing in for four seconds, holding for two, and then exhaling for four seconds.\n\nInitially, I was skeptical that these simple practices could make a difference in something that has troubled me for years. However, I began to notice that whenever I started to become consumed by anxious or depressive thoughts, jotting them down in my diary helped me immensely. This process allowed me to break down those thoughts and identify that 99% of the time, my worries and depression stem from hypothetical situations.\n\nFor instance, one of my thoughts was, \"What if my friends are judging me behind my back?\" (for context, this was after we went out for drinks). The key phrase in that being 'What if', meaning it's just hypothetical with no real evidence to back up the worry. So, in my thought diary, alongside my worrisome thought, I would write down a 'Helpful thought' where I deconstruct this worry. For the aforementioned thought, my helpful thought was:\n\n\"This is a hypothetical worry, you have no evidence to suggest this will happen. Your friend's opinion of you shouldn't be taken seriously anyway. You don't need to seek approval from your friends.\"\n\nOf course, this may not help everyone, but I wanted to share how thought diaries have helped my mental health, and they can be quite powerful.\n\n TL;DR: My therapist recommended keeping a \"thought diary\" and practicing breathing techniques to help my anxiety and depression. Writing down my thoughts and using the breathing technique has helped me identify that 99% of my worries are hypothetical. I recommend trying it out.",
         "Anxiety"
        ],
        [
         "52855",
         "52855",
         "cant say no to anyone M18 i cant for the life of me say no to anyone, i get extremely anxious and overwhelmed when i think about disagreeing with someone or just saying something else because iâm afraid theyâll disagree back so i agree to make things easier. only person i can truly be me is like my mom but even my gf i just agree with everything like iâm on autopilot and i donât know how to stop it. if i try i stutter and get so much anxiety, really weird",
         "Anxiety"
        ],
        [
         "52856",
         "52856",
         "Iâve been trying to get help for months itâs so frustrating Our healthcare system is so over burdened. The psychiatrist in town has an almost 9 month wait list (but I finally got in). The community/parent support worker I was connected to cancelled our sessions because their department ran out of funding; the program was cut. Iâm waiting until they announce the new budget in April and get more funding. Then Iâll get a worker back\n\nIâm giving every ounce of effort I have to get the supports I need and use them so that I can learn to function on my own. \n\nI have a 4 year old and I hate how im raising him. I feel like an asshole trying to explain to my dr  that even though my house is full of food I struggle to feed him properly because I have no appetite I donât cook for myself and I donât know what to feed him. I look at all the food in my cupboard and I canât make a decision on what to make. But then my son tells me heâs hungry right now so I just microwave a pizza pocket or corn dog for him.  \nIâm just so tired. Iâm failing at everything. Iâve reached out for support and the people in the roles want to help me bc they see me trying. My psychiatrist even has seen me on his days off. Itâs just the system as a whole that is underfunded and broken",
         "Anxiety"
        ],
        [
         "52857",
         "52857",
         "xanax please help hi. this is going to be a bit of a long post. I have suffered from emetophobia for 8 years now. Have been and am still going to therapy, on antidepressants and have been on hydroxyzine. Recently, my doctor prescribed me .5mg of xanax every day. This has spiked my anxiety because I know I can gain a tolerance to it and become addicted. I have never misused it or done anything wrong, but I feel guilty for using it every day and Iâm scared Iâll become addicted and have withdrawals. Can someone give me some insight on this please?",
         "Anxiety"
        ],
        [
         "52858",
         "52858",
         "just some thoughts for you be patient with yourself.\nits okay to say no. YOU are experiencing your life. nobody knows how you feel. your feelings are valid and its okay to set boundaries. its okay if you canât do it today. it takes a lot of energy for you to always fight against your worries and anxiety. so its totally understandable if you need some space and peace. \n\ndont surround yourself with people that drain your energy. its okay to let them go. this gives you more energy to focus on the good people and things in your life.\n\ni hope you have a good day today. but also dont have too much expectations. its totally fine if not everything is going to work out today.",
         "Anxiety"
        ],
        [
         "52859",
         "52859",
         "Others getting their own way.. how to not care long story short... trying to book a trip away and 2 of the 5 keep taking all suggestions and twisting/changing. \nother 3 have got fed up and just let them plan it their way.\nI get so anxious and stressed when planning stuff anyway because I'm a control freak (maybe OCD about it?), and the thought that they get their own way everytime just cause the rest don't want an argument really annoys me but I don't know why? \nany advice or just friendly support welcome!",
         "Anxiety"
        ],
        [
         "52860",
         "52860",
         "Some advice to my people Hello,\n\nI've been suffering with anxiety and panic attacks my whole life, and while I take a ridiculous amount of meds for it including lorazapam, pregablin etc, I was informed about Magnesium and I wanted to share this with you.\n\nSo a lot of us get anxiety attacks triggered by the stress hormone cortisol, magnesium works by by stimulating the production of melatonin and serotonin which boost your mood and help you sleep. Magnesium also reduces the production of cytokines and cortisol, which lead to increased inflammation and stress.\n\nIt's important that you don't over do it as you can poison yourself with magnesium, and you also have to make sure it's aspartate, citrate, lactate, and chloride forms as oxide apparently doesn't absorb as well.\n\nSpeak to your pharmacist or Dr if you're mixing medication, but I have been able to reduce the amount of lorazapam I've needed since starting mag and its helped a lot with sleep. I'm truly impressed.",
         "Anxiety"
        ],
        [
         "52861",
         "52861",
         "need help with SSRI nausea  I was wondering if anybody has had nausea with one SSRI but not with some other one?\n\nI  am taking Zoloft and nausea is pretty bad, even with the one half of 50  mg tablet. I dont know if switching SSRIs would be beneficial or this  side effect would remain the same?\n\nWhat  is interesting is that I have taken Zoloft 15 yeras ago with absolutely  no issues at at all, and now I feel like I am taking a poison. I don't  understand this at all.\n\nThanks!",
         "Anxiety"
        ],
        [
         "52862",
         "52862",
         "Horrible Fear of Food Being Drugged Lately Iâve been having this massively irrational fear of my food being laced with LSD or some other form of psychedelics.  I wonât eat something thatâs been already opened regardless of whether or not itâs mine, which has led to me not only wasting food, but actively avoiding eating unless I make it right there, and even then it takes quite a bit of effort.  This in turn has also led me to having a fear of an undiagnosed mental illness, and I canât quite afford to go to a doctor currently to figure out if that is the case.\n\nIâve only ever been technically âdruggedâ once when the cannabis my friend bought was laced with PCP a few months ago but this fear extends back to when I was around fifteen (twenty three now).  Iâve done acid only twice and while I did enjoy it, itâs not something Iâm likely to do again, and I rarely smoke cannabis or drink, but I did do a lot of both for a few years.\n\n  Obviously nobody is gonna waste good acid on me but the fear is constantly there to the point that I yelled at my brother the other day for jokingly pretending to drop something into my Gatorade on the way to work (heâs unaware of this fear) and threw it away despite it being completely full, and even avoided eating the cookies my mom brought down for Christmas, which made me feel awful as there is absolutely no way my mom would ever do anything like that to me.\n\nIâm iffy on telling anybody close to me about this fear for a few reasons, the main one being the irrationality of it all, but I also do not want to be sent to an inpatient center (again, canât afford it) as I was for depression as a minor.  Sorry for the rambling wall of text but I just need to know if this is signs of a more major illness or at the very least how I can possibly cope with it.",
         "Anxiety"
        ],
        [
         "52863",
         "52863",
         "Hurry sickness is driving me crazy. Does anyone else have this? I have hurry sickness and it's linked to my anxiety and BPD. It causes me so much anxiety because I always feel like I need to do many things at the same time or short period of time.   \nI drink my coffee in about 5 minutes, then I read a book for an hour, then I listen to music and surf the web for a non-specific reason. Everything has to be done very fast, and well-planned, if not, I get impatient, irritable, and anxious.   \nIt's pretty exhausting and I realized it's a problem going on for two years now. I did not pay too much attention to this before, since I didn't even know there was a term for this condition. \n\nDoes anyone else experience something similar? How are you dealing with it?",
         "Anxiety"
        ],
        [
         "52864",
         "52864",
         "Just got done with my first psychiatric evaluation I was prescribed Zoloft 25mgs and a blood pressure medication to take when Iâm in a panic. Iâm nervous but honestly relieved to be put on something. Iâve been struggling so bad and Iâm so tired. I was diagnosed with GAD, social anxiety, and depression. Iâm finally putting myself and my mental health first and working to make myself better.",
         "Anxiety"
        ],
        [
         "52865",
         "52865",
         "Asked my parents (who I don't live with) for an extra 10 or so a week spending money and they've turned it into a big thing I am currently under an intense care plan as an outpatient at a mental health hospital. One of the nurses suggested asking for an extra amount of allowance. 'well off' (but not rich) parents completely fund me while I'm at university as my loan is less than my rent.\n\nI was debating asking for weeks, me and my parents have had a strained relationship in the past to say the least, some definitely their fault, some a mix of both of our faults. Anyway, it's left a gap between us that I haven't been brave enough to cross.\n\nBut last night I asked them, told them I wasn't struggling with the current allowance it would purely be for an extra nice thing a week to help me get by during these times. IMO they've blown it way out of proportion, they wanted a phone call today to log all my spending and now they're wanting to come and visit me TODAY. It's sending my anxiety haywire this is why I don't open up or ask anything from my parents.\n\nWhat do I do? Say no to them visiting all together? I'm 100% fine with keeping the current allowance, I just want a yes or a no to have some closure on this conversation with my parents.\n\nSo, I'll repeat my question: (with your limited knowledge of my life) What do I do??",
         "Anxiety"
        ],
        [
         "52866",
         "52866",
         "Please help! Hey guys, I have an on-site interview after being a complete depressed, socially angst hermit for the last 6 months. When I say I didnât go out of my house more than 4 times in 6 months, best believe itð \nI applied for a job and I have to fly to another state for it. I thought things were getting better with me but my anxiety is through the roof just thinking about the travel, but mostly the interview. Itâs a 2hour session from 10-12pm. \nI usually take 10 mg of propranolol, but I donât think it ll be enough. Do you guys think itâs ok to take 20mg. Before you ask me to ask my doctor, he said I should take 10-20 mg but I have never taken 20 mg before and I am scared I ll pass out or I wonât be able to breath (had asthma when I was younger). \nI was thinking maybe of taking one at 8am and then another at 9.30am-ish. \nWhat do you guys think? Anyone with experience? \nAlso I m a âlittleâ female despite being in my mid 30s . 5 feet and 110lbs",
         "Anxiety"
        ],
        [
         "52867",
         "52867",
         "Coping mechanisms for trigger scenario I've had nightmare neighbors which my housing have ignored for years the ball is finally rolling but I'm freaking out as they are having the housing officer in question and community officer who doesn't speak up about things they said that were incorrect previously to come for this talk, where were going to discuss their failings.\n\nInjustice and lying really trigger my anxiety and emotion regulation so I'm wondering what I could do in this meeting to relax? Right now all I can think of is music in one ear and camomile tea",
         "Anxiety"
        ],
        [
         "52868",
         "52868",
         "Freaking out My fiancÃ©e and i got into a horrible fight this morning. I dont want to get into details but its to the point where she may just want me to leave. Im freaking out. Im an alcoholic but sober 3 years and the anxiety im now experiencing from this is same i had when i drank. Its messing with me but more so this is something i gotta work through. I just want to sleep. Im inconpacitated i feel like. Theres so much to do. But i want to just get past this and move on. We both just flipped out on each other but more so cause i started my day off bad. I don't start my day off bad it doesnt get to this point. Or at least suppress it until the day got better. Im just torn up inside. Feel like i messed everything up. I really did.",
         "Anxiety"
        ],
        [
         "52869",
         "52869",
         "Doctors notes/records Hi just wondering if anybody knows about if doctors think you are drug seeking do they put that on your record? \nI went to doctors yesterday, didnât see my usual GP, it was about spinal pain that radiates up my back, only seems to hurt after physical activity which is weird but concerning to me. The day before appointment I went gym &amp; done some light training on back muscles which really set it off, was painful &amp; felt weird afterwards like weakness in my arms, bit dizzy and just a general weak feeling like really weak and disorientated. She was not helpful at all, basically done a quick opâs check, checked my back briefly &amp; said it seems ok. She said to rest on weekend and see how I go, she said hot water bottle. The more im thinking about my appointment with a her yesterday I get the impression she feels I was drug seeking. I never asked for any drugs but I feel she was misunderstanding me being concerned with trying to get drugs. She said something when I sat down like âyouâre looking to discuss pain managementâ I didnât really take it in as was really anxious and tired so I said yeah about my spine then proceeded to talk about my concerns, but not once did I say anything about wanting medications/drugs. Iâm annoyed now I should of been clear that I would of liked a referral to be checked out or something. Iâm on pregabalin for anxiety (it also just happens to be a nerve pain drug) and she said few times about youâll have review soon with usual GP to see if itâs helping my anxiety and not just about pain management. She also said youâve only upped dosage 10 days ago. I didnât really take it in properly at the time but I feel she thinks I was trying to up my dose or get pain meds? Iâm worried now that it will be on my notes and Iâm also frustrated that I didnât correct her properly. Any advice or help on this would be appreciated im very anxious about this, I feel I was totally misunderstood and I donât like the thought of her putting on notes I was looking for pain management or medication to help that. I also noticed as I was leaving she done a frustrated sigh. This experience has made me feel invalidated, misunderstood and made my anxiety and depression worse. Iâm struggling mentally very very bad to say the least.",
         "Anxiety"
        ],
        [
         "52870",
         "52870",
         null,
         "Anxiety"
        ],
        [
         "52871",
         "52871",
         "C19 I was just wondering if anyone is paranoid about C19?\n\nI am still masking up, trying to keep my distance and washing and anti-baccing my hands like its going out of fashion.",
         "Anxiety"
        ],
        [
         "52872",
         "52872",
         "Struggling. Could use some support. Tldr, been medicating and going to therapy for about 2-3 weeks. Feeling better than where I was, but still struggling, mainly at nights. Have health anxiety and hate feeling [insert sensation/feeling here] and if keeps me from sleeping.\n\nJust really wishing I lived with friends to always be in arms reach of a hug. I need those right now.",
         "Anxiety"
        ],
        [
         "52873",
         "52873",
         "The anxiety seasons have started Itâs gotten hot where I live meaning itâs officially Spring meaning itâs officially anxiety season, wooo! \n\nIt is currently 4:30 AM, itâs too hot for me to sleep, and the heat is giving me anxiety. The air conditioning is *SUPPOSED* to be on, but itâs been broken in this room for like a year and my mom refuses to admit itâs broken, saying that itâs just cause the room is over the garage. Which I KNOW isnât true because Iâd still be able to at least HEAR or FEEL the air conditioning running but it DOESNT. \n\nItâs kinda funny (not really, but if I donât laugh I WILL have a mental breakdown) that Spring and Summer are the worst for my anxiety when almost everyone else (*cough* neurotypicals *cough*) tend to LOVE those seasons. Ass that to the list of im just weird I guess lol",
         "Anxiety"
        ],
        [
         "52874",
         "52874",
         "Work, life, anxiety(f20) Today is actually the day all my worries are transformed in real situations, let's start \nFirst of all, my grandma's sister birthday, I totally forgot about . Than said that I would come, but I forgot about gift and overslept, than was to anxious to go, and called said I'm sick, than I received a message from my coworker like hah where are you the event is starting, I totally forgot about this than I fucked up with my student, rescheduling our lesson like 3-5 times ( because I thought I would maybe go on a birthday)and finally telling that I'm sick to her as well because well at this moment I was already crying because how irresponsible and stupid this situation is, and also it would be so strange to do this lesson with her after not going to the event, and  the event is still going, I probably should get there, but it's to overwhelming at this point, I also will not go to the birthday party for the same reason, to much stress for me already, I want to just disappear, I try so hard to remember everything and it just happenes.. It is so so stupid and I mean I'm completely useless anyway, like who the hell lives with memory troubles at 20 , it feels like some disorder at this point ( I forget a lot of things) \nMy mom is dating an alhogolic  and last couple of weeks were a nightmare. \nI didn't sleep normal for a long time because of this situation and last night was a disaster\nA lot of other troubles financial, with studying\nAnd at the end right now I feel like literally throwing up from the level of anxiety that I experience",
         "Anxiety"
        ],
        [
         "52875",
         "52875",
         "Coffee and antipsychotics Greetings people I hope you're having a good day. First of all how are your experiences with coffee and antipsychotic meds? I've been on Abilify and Alprazolam for years never had been feeling alert on them always either sleepy or have weird feeling in my stomach. Now I've tried everything with these meds be it smoking or alcohol I stopped all of it because it caused very nasty problems with me when I stopped I finally felt myself even through I've read on Wikipedia that coffee can also cause problems when you take these meds it's says even small amounts can cause side effects that's called caffeine induced anxiety.\n\nI'm not really sure how am I supposed to be awake I mean I'm unemployed still in hands of my parents and other family members who take care of me and understand my problems but how did you manage to stay awake without coffee or did coffee really help you without feeling weird all time while on meds? It would be stupid for me to sleep all day and miss some important events or have fun chatting with friends or playing video games or better yet studying different topics like electrical engineering or making homemade circuits. Not electrical engineer just doing something for hobby.",
         "Anxiety"
        ],
        [
         "52876",
         "52876",
         "Question I have a question, so when i am out in public i feel like everyone is looking at me, but then i start feeling like Iâm in a dream, like a lucid dream.  I can but i feel like i cant think thoughts and only focus on doing what Iâm supposed to do. I also feel like my head is fogged up inside too in public lol.  Im not the happiest person to be honest and since maybe half a year ago Iâve stopped caring abt things and when i think of something and it gets a little complicated i just quit thinking abt it, i dont care enough to think about anything for some reason.  Can someone please tell me if its anxiety or is there something wrong with me.",
         "Anxiety"
        ],
        [
         "52877",
         "52877",
         "Being bad at something new gives me anxiety I know itâs contradictory but yeah. Not sure if this has to do with being a perfectionist or if itâs something else. I enjoy the ârushâ of learning new things and knowing things, but when it push comes to shove and I need to practice what Iâm learning, thatâs when I usually find out I still have a long way to go and will have to fail and make mistakes and actually suck at that thing for a while. Itâs like I just want to skip to the âgoodâ part. I feel like the work is only productive/useful when itâs good.\n\nHow do you even deal with the uncomfortable parts of learning and growing? :( \n\nI just keep pushing on but sometimes it feels like Iâm making no progress at all. And I know that âslow progress is still progressâ but then my anxiety kicks in with bullsh*t like âother people are staying up and working their asses off while youâre celebrating a tiny step forward.â",
         "Anxiety"
        ],
        [
         "52878",
         "52878",
         "I used beta blockers for 3 weeks and quitted, now I'm sweating abnormally in my private area, is this normal? I used propranolol for anxiety and stress but I quitted after 3 weeks because I had too much side effects. The day I began too lower my dosage untill stopping I have experienced excessive sweating around my sit area. And by that I mean abnormally much. Is this something related to betablockers and has anyone had a similair experience with this?",
         "Anxiety"
        ],
        [
         "52879",
         "52879",
         "Advice Iâve been dealing with some anxiety issues my whole life. Iâve had lots of trama and was diagnosed with ADHD as a young child. Never being able to focus and always the most loud and distributive( in school). I used to stay up at night as a kid because after watching the slightest scary movie I would be afraid. Anyways the point of the backstory is to give you a sense of who I was. Lately within the past year my anxiety has been through the roof. I find it very hard to focus and have lots of thoughts at once. Even some that just pop into my head. I can hear other peoples tone of voice. Not like big conversation. My anxiety was so high I was getting lots of physical symptoms heart palpitations, chest pain, shortness of breath to which I thought I had a heart problem. So I went to the doctors and got all the tests and didnât believe my heart was fine until I got the results. I thought about this everyday. To which now I think this might had been a delusion. My point is Iâm very worried Iâm developing Schizophrenia. My family does have a history of mental health issues.I know this post is confusing and if Iâm worried about my mental health I should see a doctor. But Iâm just looking for advice.\n\n**Edit**\nI would like to add that for a long time when I went home after a long day I could not relax to fall asleep. My mind would be racing. The only way I could describe it is like a radio. In order to drown it out I would have to put on music to fall asleep.",
         "Anxiety"
        ],
        [
         "52880",
         "52880",
         "I have been taking 20mg citalopram for 9 days now - I am feeling more depressed/dissociative/unmotivated/tired than ever/before - does it get better? Is this normal? I do have a check up appointment with the doctor next week but Iâm nervous maybe itâs not working for me :(",
         "Anxiety"
        ],
        [
         "52881",
         "52881",
         "Anxiety has ruined my life... I need some advice/help (Gonna be a little long, gonna rant a bit)\n\nLittle back story, 20-year-old male, no past history of major anxiety other than flying on planes etc..\n\nLast year from January to April was feeling the best I have ever felt in my life! worked out 6-7 days a week, confidence was high, and not a care in the world. I would say around May, I started getting increasingly fatigued every day. As the days went on, it felt like I was detached from reality. By the end of the year, I felt so detached, fatigued, and had major brain fog. I have a small bump on the back of my head, it doesn't hurt, I got it checked out and the doc said it could be a skull deformity. I dont believe her.  I convinced myself that I had something wrong with me, and I went down the rabbit hole of self-diagnosing by reading google (i know worst idea ever). I could only function to the fraction I could before my snapping point. I felt so depolarized and had no energy at this point. I convinced myself I had a chronic illness that I was going to die from (I still belive this), I got every scan and lab work done. Nothing came of it. I had no idea what was causing all of these symptoms. Fast forward to January, I started a very stressful college class. It is an intensive academy-type class. I thought I had my stress pretty well controlled but in February I had my first panic attack ever. Went to school that day feeling fine, didn't eat breakfast, but drank 180mg of caffeine (I usually have \\~300mg a day). During the afternoon portion of the class, I felt this sense of impending doom, and shortness of breath and it felt like my heart was going to jump out of my chest.  For 2 hours my HR was in the \\~130s. I had no Idea what was going on and felt like I was gonna die. So my teacher wanted me transported to the ER, My EKG came back normal, sinus tachycardia (fast heart rate). They pulled labs and everything was normal except for low magnesium and potassium. They gave me some fluids and discharged me. For the next few days my heart rate was a constant 120 even when resting and my anxiety was through the roof! It sucked! My doctor then prescribed me Lexapro, and man oh man, hats of to anyone that could get through that first phase of Lexapro. It trashed me, constant panic attacks, SOB, tingling, the whole 9 yards. I stopped after 5 days due to the fact that I didn't want to be tied to a pill at such a young age. Since my panic attack, Ive had constant anxiety. Im having anxiety about things Ive never worried about before! it sucks! Its like I have to experience all these things over again (like driving) to tell myself there is nothing to be anxious about. Ill also be sitting in the most comfortable place in my house, not stressed at all, then my heart rate will kick off to the \\~120s for the whole day. Do you guys experience this? I also feel like I'm having heart palpitations. It feels like my heart is in my throat and I can't catch my breath. It sucks! Every time I stand up my heart rate jumps. It takes a long time for me to calm down and convince myself I'm not dying. I know my case is minor to some cases Ive read but damn Im having a hard time with this. Im in constant fear and anxious about having another anxiety attack and passing out. Im trying everything I can before I commit to an antidepressant. Im trying L  theanine, Ashwagandha, and magnesium. I got prescribed adarax but it doesn't seem to help like ativan does. I just want my old life back. Is this normal? Does it get better? will it be like this forever? how did you guys get over your anxiety? tips? medications? Thank you all for taking time and reading my post I really appreciate it. I just really need some help...",
         "Anxiety"
        ],
        [
         "52882",
         "52882",
         "Anxiety dizziness - What does everyone's feel like? This has bee driving me mental for a year now as you can probably tell from my post history.\n\nOnly way I can describe it is I get sudden episodes where I feel sick, like I'm falling, warm rush feeling and tight head then I snap out of it again. \n\nWhen it's really bad I almost feel numb and out of my own body like everything's in slow motion. \n\nCan happen standing sitting laying down. \n\nDrives me absolutely mental because I just cannot reconcile how anxiety could cause this so I constantly worry it's my heart. \n\nAnyone else get this? What helped stop it for good?",
         "Anxiety"
        ],
        [
         "52883",
         "52883",
         "Vitamin c deficiency? Has anyone had vitamin c deficiency, and how long did supplementation take to affect anxiety?",
         "Anxiety"
        ],
        [
         "52884",
         "52884",
         "Terrified of going to the dentist I know I have some cavities because I went to the dentist sometime last year and they scheduled an appointment for fillings but when I showed up, no one was there and they wouldn't answer my calls for months so I gave up. But tonight I was looking at my teeth and I'm pretty sure I see one. I don't see any actual black or decay, just an indent that was hiding behind some tartar, but everyone's always told me that once you can see a cavity it's already too far and the tooth usually needs to be pulled (might not be true, just what I've been told) \n     I'm hopefully going to make an appointment on Monday but I'm so nervous because my teeth are terrible. I don't have any missing or rotting teeth but I can never remember to brush them and I had hg a couple years ago that turned into a 3 year long problem of throwing up multiple times a day. So they're yellow, have a ton of build up, and I'm pretty sure they told me I have gum disease at my last appointment. I'm so worried they're going to judge me and think I'm disgusting. I'm also terrified of getting fillings because the numbing shots never work fully for me so it's always super painful. \n     I checked their website and it says that they offer nitrous, conscious sedation, and iv sedation but I'm not even sure my insurance will pay for \"unnecessary sedation\" since nitrous makes me freak out. And then, how would I ask for it without sounding like a drug seeker?? I'm sorry if this seems like rambling. I'm just freaking out.",
         "Anxiety"
        ],
        [
         "52885",
         "52885",
         "germ anxiety please help I invited my friend over to stay because it was late but I have crippling germophobia and ocd. I feel horrible because I love my friend to bits. but im so triggered rn because I cleaned the toilet and we didn't have gloves and I don't know if she used it yet and now im terrified of having a disease I can't stop spiraling",
         "Anxiety"
        ],
        [
         "52886",
         "52886",
         "I CANT DO THIS ANYMORE ITS SO HARD TO KEEP GOING... I keep panic and telling my parent I need to go to the E.R.I keep having panic attack I use the restroom and i have a panic attack which cause my scalp to feel like it's burning I keep having a little chest pain and think in having a heart attacks. I have had headaches for the past 10 too 11 days and keep thinking I'm having a brain anyersum or stroke any little pain in my head makes me panic and spiral. I've been trying to play through my favorite resident evil games but it just won't distract me anymore im just panicking over and over. I sometimes think it would be better if I wasn't here anymore so I wouldn't bug anyone. Or wouldn't feel this pain all the doctors say im fine but I don't feel fine. I also feel like stress won't end even if I'm not thinking about any pain will cause me to panic.",
         "Anxiety"
        ],
        [
         "52887",
         "52887",
         "What to use What to use when you are stressing a lot\nMaybe some vitamins or minerals?",
         "Anxiety"
        ],
        [
         "52888",
         "52888",
         "Am I weird? My friend came for a sleepover today and we went in my room. He didnt ask or anything and just sat in my bed. After some time he layed in it, had my plushies in his arm, the blanked over him and the pillows under his head and I just wanted to scream. I still feel so uncomfortable. I can't wait him to be gone so I can change my bed sheets and wash everything. He also changed the position of my bedtable And I feel like ripping my skin of, I can't stand the feeling, and goddamn HE HAD SCHOOL CLOTHES ON. And went in. My. Bed. I changed the sheets not a while ago and they were all clean and now not. I  don't even allow myself to lay in my bed with dirty clothes. I need to shower, put on fresh clothes and then I can lay in my bed. I had the problem of people just simply touching anything in my bed since I was little, They always bullyed me and extra jump on it, ect. I always cried because of it and It still didnt change. I'm so sensitive about anyone on my bed, I even feel disgusted if my mom sits on it just a tiny bit. There is no excuse ,everyone I know makes me uncomfortable when beeing on my bed. Does it have to do with my adhd? Is it autism? OCD? PTSD? or am I just weird? I'm slowly going insane, someone help me.",
         "Anxiety"
        ],
        [
         "52889",
         "52889",
         "Paranoia It has been a stressful time for me (just moved countries). I have always seen things out of the corner of my eye but didnât think anything of this. The last few weeks has gotten more noticeable. Last night I kept seeing shadows to the point I could not move of the couch until I forced myself too. All day itâs been happening, thinking I see things like figures and having images that are horror related  come into my head. Every noise I hear Iâm instantly scared. \n\nHas anyone had instances like this? Itâs getting to the point of when my dogs bark I start to cry because Iâm so scared.",
         "Anxiety"
        ],
        [
         "52890",
         "52890",
         "My mom doesn't believe anxiety is real I finally got the courage to talk to a professional today for my anxiety.  I got prescibed medication and I told my mom, expecting she would be glad for me. She was not. \n\nShe got super angry and told me anxiety is not real, and that the medical and drug industries are just a big mafia looking to exploit people for profit. She told me I'm just going to get worse and that the medication will turn me into a lethargic zombie. \n\nAlso she didn't approve that the dr. gave me a 2 week sick leave from work and made me feel bad for \"skipping work\". \n\nI feel so bad  now. Maybe I shouldn't have seeked help after all?",
         "Anxiety"
        ],
        [
         "52891",
         "52891",
         "4 years ago I wasnt showering for months at a time, depressed, anxious and paranoid. At the time I was sober going on 18, 19 years. I was, and am on disability since 09' for schizoaffective bipolar type disorder. \n\nFor the longest time, especially since sobriety, I've been overwhelmed with thinking. Space, time, behavior, tornadoes...whatever. \n\nBut, since my life was an unmanaged train wreck I had no confidence in myself as having any quality. It seems that feeling good about yourself comes from a well managed life.   \n\n\nMy last job was as a janitor on the army base near by roughly 5 years ago. I couldnt handle the pressure. I was so dependant on others for everything I was asking if I was sweeping properly. Very bad mindset. A lady mentioned crying and it made me feel like crying. I didnt understand how that could be. It seemed like witchcraft, so to speak. That was my last day at my last job. It was my 4th attempt to go back to work since my disability badge acquisition! \n\nI've been in therapy for 16 or 17 years ago I got into therapy from a mental health episode. During that visit at the crisis stabilisation unit in Virginia (Fredricksburg) I met a man that changed my life. He went by the name Bose Uncle. He taught me a breathing exercise. 3 in 6 out. You breath in deep for 3 seconds roughly then out for 6 seconds. Also roughly. Dont try to be specific like me and do it exactly 3 and 6. \n\nOn down the road, life and me under pressure and practicing my breathing because sufferage bleep blop bloop, pandemic. Overwhelming, unadulteraded pain in the brain from an anxiety I'd never expierenced before I saw a vision. It seemed to be the exact same thing that happened to Bill Wilson from AA. A wind blew through me. His words. My words on it are, I was no longer a bound up point in time and space holding on to the memories from the stimulation from the moment. I was free from the tension that came about from the fucking utter bullshit that exists. I let it go. The moment. I stopped holding and figuring. \n\n&amp;#x200B;\n\nIt was like my being afraid got wore out. I remember specifiaclly saying to myself at the height of my pain in a ridgid bodily posture laying in my recline, \"bullshit.\" I calle dbullshit on my old beliefs. That old fire and brimstone god. Intstead I chose \"my concept\" of life as my God. My ideas are good to. Changed life.   \n\n\nAbout six months later I nearly died from pancreatitis. When I got home from 6 days in the hospital I shared it on facebook. I received a good number of get well soon messages as expected. I did not get what I thought I would. People coming to visit, bringing me food...all that. I nearly fucking died. I know hundreds of people. What does that mean? My perception is fucked up, my beghhvior is fucked up, I need to change.   \n\n\nI did not think that way at first. At first I thought, \"I fucking hate everyone.\" For a while. \n\nThen 6 months later, I got diagnosed with autism. April 24th 2021.   \n\n\n6 months later after learning to relax, I rested on my heels for the first time in my life. This began the second chapter of my life. The taking my time portion. The I am the most impotant person in my life to me. You all come second. For ever. I no longer run to the kitchen, the bathroom, through the grocery store, drive fast, or move my limbs fast. I have even taken control of my eyes speed of movement.   \n\n\nDid you know that your body can control your mind. If you dont control your body your body will be controlled by your environment throught the mind.   \n\n\nYou receive stimulus simply due to being a sensing being. This moves you. If you are not aware of it. Make yourself aware of this and take control of your body, the way you look, smell, move (behavior speed) amplitude of voice ...total bodily control and you can eliminate a great deal of your own suffering. I havew come off my depression meds and greatfully have finally been more aptly medicated with litium. Now I dont have to force myself into slow mo behavior but I do stay aware I think from a bit of fear.   \n\n\nYou can control your thinking!   \n\n\nYou can control your thinking!!!!!!!!!!!!!!!!!!!!!!!! \n\n&amp;#x200B;\n\nI wish I could impress upon whomever needs it that the pause in conversation is ok. Moving the body oddly slow is not odd. Not speaking is an answer. And, you dont owe a motherfucker a goddamn thing if it stresses you out.\n\n Peace in east!",
         "Anxiety"
        ],
        [
         "52892",
         "52892",
         "I am tired of having anxiety I am physically and mentally very exhausted right now and I tried to fall asleep, but Iâm so nauseous from my anxiety that I really just couldnât and sometimes I just like want to feel normal so bad but I feel like I will never get there. My anxiety sucks so bad. I feel like most days it controls who i am and what i act like for that day. Today i went out with my friends and we had a good time but we ended up being outside a lot longer than we would and i got extremely cold and started panicking. We were far from everyoneâs house and all i wanted was to go home. They came to my house afterwards and it was nice for a while but i was still feeling anxious. When they all left i felt immediately better like this huge weight on my chest being lifted off. itâs not that i donât like my friends but being around people is so exhausting. I hate that im like this i just wanna feel normal so bad. I get anxious so easily and it wonât go away for hours. Then when iâm not feeling anxious i feel depressed. It constantly feels like a never ending storm or something. Like just when it starts to feel bright and the rain might stop it starts again and gets so dark. Iâm constantly fighting just to stay sane and itâs so hard. All i want is to feel normal and okay, and maybe real because iâm constantly dissociating. (I do have a therapist btw)",
         "Anxiety"
        ]
       ],
       "shape": {
        "columns": 3,
        "rows": 200
       }
      },
      "text/html": [
       "<div>\n",
       "<style scoped>\n",
       "    .dataframe tbody tr th:only-of-type {\n",
       "        vertical-align: middle;\n",
       "    }\n",
       "\n",
       "    .dataframe tbody tr th {\n",
       "        vertical-align: top;\n",
       "    }\n",
       "\n",
       "    .dataframe thead th {\n",
       "        text-align: right;\n",
       "    }\n",
       "</style>\n",
       "<table border=\"1\" class=\"dataframe\">\n",
       "  <thead>\n",
       "    <tr style=\"text-align: right;\">\n",
       "      <th></th>\n",
       "      <th>Unnamed: 0</th>\n",
       "      <th>statement</th>\n",
       "      <th>status</th>\n",
       "    </tr>\n",
       "  </thead>\n",
       "  <tbody>\n",
       "    <tr>\n",
       "      <th>52843</th>\n",
       "      <td>52843</td>\n",
       "      <td>Just bought magnesium glycinateâ¦ does it rea...</td>\n",
       "      <td>Anxiety</td>\n",
       "    </tr>\n",
       "    <tr>\n",
       "      <th>52844</th>\n",
       "      <td>52844</td>\n",
       "      <td>Can you pass anxiety down to your children? I ...</td>\n",
       "      <td>Anxiety</td>\n",
       "    </tr>\n",
       "    <tr>\n",
       "      <th>52845</th>\n",
       "      <td>52845</td>\n",
       "      <td>Does anyone else hold off reading their messag...</td>\n",
       "      <td>Anxiety</td>\n",
       "    </tr>\n",
       "    <tr>\n",
       "      <th>52846</th>\n",
       "      <td>52846</td>\n",
       "      <td>Daily reminder. This is just a reminder that C...</td>\n",
       "      <td>Anxiety</td>\n",
       "    </tr>\n",
       "    <tr>\n",
       "      <th>52847</th>\n",
       "      <td>52847</td>\n",
       "      <td>I live with two people in my family who have s...</td>\n",
       "      <td>Anxiety</td>\n",
       "    </tr>\n",
       "    <tr>\n",
       "      <th>...</th>\n",
       "      <td>...</td>\n",
       "      <td>...</td>\n",
       "      <td>...</td>\n",
       "    </tr>\n",
       "    <tr>\n",
       "      <th>53038</th>\n",
       "      <td>53038</td>\n",
       "      <td>Nobody takes me seriously Iâve (24M) dealt w...</td>\n",
       "      <td>Anxiety</td>\n",
       "    </tr>\n",
       "    <tr>\n",
       "      <th>53039</th>\n",
       "      <td>53039</td>\n",
       "      <td>selfishness  \"I don't feel very good, it's lik...</td>\n",
       "      <td>Anxiety</td>\n",
       "    </tr>\n",
       "    <tr>\n",
       "      <th>53040</th>\n",
       "      <td>53040</td>\n",
       "      <td>Is there any way to sleep better? I can't slee...</td>\n",
       "      <td>Anxiety</td>\n",
       "    </tr>\n",
       "    <tr>\n",
       "      <th>53041</th>\n",
       "      <td>53041</td>\n",
       "      <td>Public speaking tips? Hi, all. I have to give ...</td>\n",
       "      <td>Anxiety</td>\n",
       "    </tr>\n",
       "    <tr>\n",
       "      <th>53042</th>\n",
       "      <td>53042</td>\n",
       "      <td>I have really bad door anxiety! It's not about...</td>\n",
       "      <td>Anxiety</td>\n",
       "    </tr>\n",
       "  </tbody>\n",
       "</table>\n",
       "<p>200 rows × 3 columns</p>\n",
       "</div>"
      ],
      "text/plain": [
       "       Unnamed: 0                                          statement   status\n",
       "52843       52843  Just bought magnesium glycinateâ¦ does it rea...  Anxiety\n",
       "52844       52844  Can you pass anxiety down to your children? I ...  Anxiety\n",
       "52845       52845  Does anyone else hold off reading their messag...  Anxiety\n",
       "52846       52846  Daily reminder. This is just a reminder that C...  Anxiety\n",
       "52847       52847  I live with two people in my family who have s...  Anxiety\n",
       "...           ...                                                ...      ...\n",
       "53038       53038  Nobody takes me seriously Iâve (24M) dealt w...  Anxiety\n",
       "53039       53039  selfishness  \"I don't feel very good, it's lik...  Anxiety\n",
       "53040       53040  Is there any way to sleep better? I can't slee...  Anxiety\n",
       "53041       53041  Public speaking tips? Hi, all. I have to give ...  Anxiety\n",
       "53042       53042  I have really bad door anxiety! It's not about...  Anxiety\n",
       "\n",
       "[200 rows x 3 columns]"
      ]
     },
     "execution_count": 38,
     "metadata": {},
     "output_type": "execute_result"
    }
   ],
   "source": [
    "stress_posts = df[df['status'].isin(['Stress','Anxiety','Depression'])]\n",
    "print(stress_posts.shape)\n",
    "print(stress_posts.columns)\n",
    "print(stress_posts.dtypes)\n",
    "stress_posts.tail(200)"
   ]
  },
  {
   "cell_type": "markdown",
   "id": "a17a2589",
   "metadata": {},
   "source": [
    "### Text Preprocessing"
   ]
  },
  {
   "cell_type": "code",
   "execution_count": 16,
   "id": "faa3c5d9",
   "metadata": {},
   "outputs": [],
   "source": [
    "### lowercase\n",
    "### dealing with numbers, punctuation, and symbols\n",
    "### splitting\n",
    "### tokenizing\n",
    "### removing \"stopwords\"\n",
    "### lemmatizing\n",
    "\n",
    "nlp = spacy.load(\"en_core_web_md\", disable=[\"ner\", \"parser\", \"textcat\"])\n",
    "\n",
    "class TextPreprocessor(BaseEstimator, TransformerMixin):\n",
    "    def __init__(self, language_model=nlp, min_len=1):\n",
    "        self.nlp = language_model\n",
    "        self.min_len = min_len  # optional length filter\n",
    "\n",
    "    def fit(self, X, y=None):\n",
    "        return self\n",
    "\n",
    "    def transform(self, X):\n",
    "        return [self._preprocess(x) for x in X]\n",
    "\n",
    "    def _preprocess(self, text):\n",
    "        # Missing values\n",
    "        if text is None:\n",
    "            return []\n",
    "        if not isinstance(text, str):\n",
    "            text = str(text)\n",
    "\n",
    "        # lower case\n",
    "        text = text.strip().lower()\n",
    "        if not text:\n",
    "            return []\n",
    "\n",
    "        # dealing with numbers, punctuation, and symbols/stopwords/lemmatizing\n",
    "        doc = self.nlp(text)\n",
    "        tokens = [\n",
    "            tok.lemma_\n",
    "            for tok in doc\n",
    "            if tok.is_alpha and not tok.is_stop\n",
    "        ]\n",
    "\n",
    "        doc = self.nlp(text)\n",
    "        tokens = [\n",
    "            tok.lemma_\n",
    "            for tok in doc\n",
    "            if tok.is_alpha\n",
    "            and not tok.is_stop\n",
    "            and len(tok) > 2         # drop very short leftovers\n",
    "            and tok.lemma_ not in {\"don\", \"t\", \"m\"}  # custom contraction cleanup\n",
    "        ]\n",
    "\n",
    "        # Optional: drop very short results\n",
    "        if len(tokens) < self.min_len:\n",
    "            return []\n",
    "        return tokens\n",
    "\n",
    "text_pipeline = Pipeline([\n",
    "    (\"preprocessor\", TextPreprocessor())\n",
    "])\n"
   ]
  },
  {
   "cell_type": "code",
   "execution_count": 8,
   "id": "c476bf36",
   "metadata": {},
   "outputs": [],
   "source": [
    "processed = text_pipeline.fit_transform(stress_posts[\"statement\"])\n",
    "processed = list(processed)  # in case it's a numpy array\n",
    "stress_posts = stress_posts.copy()\n",
    "stress_posts[\"processed_tokens\"] = pd.Series(processed, index=stress_posts.index, dtype=object)"
   ]
  },
  {
   "cell_type": "markdown",
   "id": "6f214d38",
   "metadata": {},
   "source": [
    "### Text vectorizing"
   ]
  },
  {
   "cell_type": "code",
   "execution_count": 9,
   "id": "bd705e00",
   "metadata": {},
   "outputs": [],
   "source": [
    "tfidf = TfidfVectorizer(\n",
    "    tokenizer=lambda x: x,     # take the list of tokens \"as is\"\n",
    "    preprocessor=lambda x: x,  # don’t lowercase/clean again\n",
    "    lowercase=False,\n",
    "    ngram_range=(2, 2),\n",
    "    max_features=1000,\n",
    "    token_pattern=None\n",
    ")\n",
    "\n",
    "tokens = stress_posts[\"processed_tokens\"].apply(lambda x: x if isinstance(x, list) else [])\n",
    "\n",
    "vectorized_messages = tfidf.fit_transform(tokens)\n",
    "vectorized_messages = pd.DataFrame(\n",
    "    vectorized_messages.toarray(),\n",
    "    columns = tfidf.get_feature_names_out()\n",
    ")"
   ]
  },
  {
   "cell_type": "markdown",
   "id": "542163f3",
   "metadata": {},
   "source": [
    "### Finding best model"
   ]
  },
  {
   "cell_type": "code",
   "execution_count": 20,
   "id": "fa371525",
   "metadata": {},
   "outputs": [
    {
     "name": "stdout",
     "output_type": "stream",
     "text": [
      "3\n",
      "6\n",
      "9\n",
      "12\n",
      "15\n",
      "18\n"
     ]
    }
   ],
   "source": [
    "scores = []\n",
    "perplexities = []\n",
    "topics_range = range(3, 21, 3)\n",
    "\n",
    "for k in topics_range:\n",
    "    print(k)\n",
    "    lda = LatentDirichletAllocation(\n",
    "        n_components=k,\n",
    "        max_iter=100,\n",
    "        random_state=42,\n",
    "        learning_method=\"batch\"\n",
    "    )\n",
    "    lda.fit(vectorized_messages)\n",
    "    scores.append(lda.score(vectorized_messages))\n",
    "    perplexities.append(lda.perplexity(vectorized_messages))"
   ]
  },
  {
   "cell_type": "code",
   "execution_count": 21,
   "id": "20c99e02",
   "metadata": {},
   "outputs": [
    {
     "data": {
      "image/png": "[encoded data removed]",
      "text/plain": [
       "<Figure size 640x480 with 1 Axes>"
      ]
     },
     "metadata": {},
     "output_type": "display_data"
    }
   ],
   "source": [
    "%matplotlib inline\n",
    "\n",
    "plt.plot(topics_range, scores, marker=\"o\", label=\"Log Likelihood\")\n",
    "#plt.plot(topics_range, perplexities, marker=\"x\", label=\"Perplexity\")\n",
    "plt.xlabel(\"Number of Topics\")\n",
    "plt.legend()\n",
    "plt.show()\n"
   ]
  },
  {
   "cell_type": "markdown",
   "id": "2cabcdaa",
   "metadata": {},
   "source": [
    "### Train LDA Model"
   ]
  },
  {
   "cell_type": "code",
   "execution_count": 22,
   "id": "4d678276",
   "metadata": {},
   "outputs": [],
   "source": [
    "n_components = 6\n",
    "lda_model = LatentDirichletAllocation(\n",
    "    n_components=n_components,\n",
    "    max_iter = 500,\n",
    "    random_state=42)\n",
    "lda_model.fit(vectorized_messages)\n",
    "topics_mixture = lda_model.transform(vectorized_messages)"
   ]
  },
  {
   "cell_type": "markdown",
   "id": "d8c575dc",
   "metadata": {},
   "source": [
    "### link back to original dataframe "
   ]
  },
  {
   "cell_type": "code",
   "execution_count": 23,
   "id": "abf539fe",
   "metadata": {},
   "outputs": [],
   "source": [
    "def link_back(topics_mixture, stress_posts):\n",
    "\n",
    "    topic_cols = [f\"topic_{i}\" for i in range(topics_mixture.shape[1])]\n",
    "    topic_df = pd.DataFrame(topics_mixture, index=stress_posts.index, columns=topic_cols)\n",
    "\n",
    "    stress_posts = stress_posts.copy()\n",
    "    stress_posts[\"dominant_topic\"] = topic_df.values.argmax(axis=1)\n",
    "    stress_posts[\"dominant_weight\"] = round(topic_df.max(axis=1),2)\n",
    "    stress_posts[\"solution\"] = np.where(\n",
    "        stress_posts[\"dominant_weight\"] > round(1/6,2), 1, 0\n",
    "    )\n",
    "\n",
    "    return stress_posts"
   ]
  },
  {
   "cell_type": "code",
   "execution_count": 24,
   "id": "bc19839e",
   "metadata": {},
   "outputs": [],
   "source": [
    "stress_posts_6 = link_back(topics_mixture, stress_posts)"
   ]
  },
  {
   "cell_type": "code",
   "execution_count": 25,
   "id": "26fd4f2b",
   "metadata": {},
   "outputs": [
    {
     "name": "stdout",
     "output_type": "stream",
     "text": [
      "85.84\n"
     ]
    }
   ],
   "source": [
    "### proportion of proper solutions\n",
    "print(round(np.multiply(stress_posts_6.solution.value_counts(normalize=True)[1], 100),2))\n"
   ]
  },
  {
   "cell_type": "code",
   "execution_count": 30,
   "id": "355ecb08",
   "metadata": {},
   "outputs": [
    {
     "data": {
      "application/vnd.microsoft.datawrangler.viewer.v0+json": {
       "columns": [
        {
         "name": "dominant_topic",
         "rawType": "int64",
         "type": "integer"
        },
        {
         "name": "count",
         "rawType": "int64",
         "type": "integer"
        }
       ],
       "ref": "8cb91b0e-8235-4a02-89ef-8d92e3722e67",
       "rows": [
        [
         "2",
         "469"
        ],
        [
         "5",
         "418"
        ],
        [
         "0",
         "369"
        ],
        [
         "1",
         "358"
        ],
        [
         "4",
         "346"
        ],
        [
         "3",
         "205"
        ]
       ],
       "shape": {
        "columns": 1,
        "rows": 6
       }
      },
      "text/plain": [
       "dominant_topic\n",
       "2    469\n",
       "5    418\n",
       "0    369\n",
       "1    358\n",
       "4    346\n",
       "3    205\n",
       "Name: count, dtype: int64"
      ]
     },
     "execution_count": 30,
     "metadata": {},
     "output_type": "execute_result"
    }
   ],
   "source": [
    "stress_posts_6[\n",
    "    (stress_posts_6['status'] == \"Stress\") &\n",
    "    (stress_posts_6['solution'] == 1)\n",
    "][\"dominant_topic\"].value_counts()\n"
   ]
  },
  {
   "cell_type": "code",
   "execution_count": 31,
   "id": "15a3918c",
   "metadata": {},
   "outputs": [],
   "source": [
    "def print_topics(lda_model, vectorizer, top_words):\n",
    "    topic_word_mixture = pd.DataFrame(\n",
    "        lda_model.components_,\n",
    "        columns = tfidf.get_feature_names_out()\n",
    "    )\n",
    "    n_components = topic_word_mixture.shape[0]\n",
    "\n",
    "    for topic in range(n_components):\n",
    "        print(\"-\"*10)\n",
    "        print(f\"For topic {topic}, here are the the top {top_words} words with weights:\")\n",
    "\n",
    "        topic_df = topic_word_mixture.iloc[topic]\\\n",
    "            .sort_values(ascending = False).head(top_words)\n",
    "\n",
    "        print(round(topic_df,3))"
   ]
  },
  {
   "cell_type": "code",
   "execution_count": 32,
   "id": "8c7e5f6d",
   "metadata": {},
   "outputs": [
    {
     "name": "stdout",
     "output_type": "stream",
     "text": [
      "----------\n",
      "For topic 0, here are the the top 10 words with weights:\n",
      "feel like             124.256\n",
      "depression anxiety     91.870\n",
      "day day                78.178\n",
      "new job                68.251\n",
      "year old               66.822\n",
      "need talk              65.108\n",
      "feel good              56.135\n",
      "hour day               55.793\n",
      "start new              55.418\n",
      "lose job               55.349\n",
      "Name: 0, dtype: float64\n",
      "----------\n",
      "For topic 1, here are the the top 10 words with weights:\n",
      "mental health      162.103\n",
      "fall asleep         77.563\n",
      "look like           66.201\n",
      "feel like           64.645\n",
      "health issue        64.250\n",
      "anti depressant     57.411\n",
      "long term           52.659\n",
      "stress anxiety      52.104\n",
      "past month          50.132\n",
      "today feel          49.787\n",
      "Name: 1, dtype: float64\n",
      "----------\n",
      "For topic 2, here are the the top 10 words with weights:\n",
      "feel like    858.177\n",
      "make feel    143.826\n",
      "feel bad     137.240\n",
      "feel way     131.161\n",
      "know feel    111.078\n",
      "feel well    103.813\n",
      "time feel     94.876\n",
      "want feel     92.676\n",
      "like feel     89.483\n",
      "like shit     81.962\n",
      "Name: 2, dtype: float64\n",
      "----------\n",
      "For topic 3, here are the the top 10 words with weights:\n",
      "want die              201.256\n",
      "want live             123.358\n",
      "want kill              88.408\n",
      "want end               78.610\n",
      "feel like              72.938\n",
      "life want              68.022\n",
      "self harm              66.724\n",
      "anxiety depression     66.686\n",
      "want sleep             65.420\n",
      "know want              62.772\n",
      "Name: 3, dtype: float64\n",
      "----------\n",
      "For topic 4, here are the the top 10 words with weights:\n",
      "high school          116.078\n",
      "good friend          112.415\n",
      "feel like             94.385\n",
      "year old              73.907\n",
      "mental health         70.373\n",
      "video game            64.351\n",
      "social medium         59.941\n",
      "year ago              56.199\n",
      "suffer depression     55.934\n",
      "friend family         51.293\n",
      "Name: 4, dtype: float64\n",
      "----------\n",
      "For topic 5, here are the the top 10 words with weights:\n",
      "panic attack      243.371\n",
      "health anxiety    222.096\n",
      "feel like         145.293\n",
      "month ago          99.121\n",
      "week ago           97.712\n",
      "get bad            94.353\n",
      "year ago           76.936\n",
      "go doctor          74.836\n",
      "anxiety attack     73.617\n",
      "heart attack       71.994\n",
      "Name: 5, dtype: float64\n"
     ]
    }
   ],
   "source": [
    "print_topics(lda_model, tfidf, 10)"
   ]
  }
 ],
 "metadata": {
  "kernelspec": {
   "display_name": "stress_sense",
   "language": "python",
   "name": "python3"
  },
  "language_info": {
   "codemirror_mode": {
    "name": "ipython",
    "version": 3
   },
   "file_extension": ".py",
   "mimetype": "text/x-python",
   "name": "python",
   "nbconvert_exporter": "python",
   "pygments_lexer": "ipython3",
   "version": "3.10.6"
  }
 },
 "nbformat": 4,
 "nbformat_minor": 5
}
