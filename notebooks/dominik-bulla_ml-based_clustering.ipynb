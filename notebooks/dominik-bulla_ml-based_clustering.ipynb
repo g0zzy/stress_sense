{
 "cells": [
  {
   "cell_type": "markdown",
   "id": "60271846",
   "metadata": {},
   "source": [
    "### Import packages"
   ]
  },
  {
   "cell_type": "code",
   "execution_count": 159,
   "id": "df916ecf",
   "metadata": {},
   "outputs": [],
   "source": [
    "import enchant\n",
    "import matplotlib.pyplot as plt\n",
    "import numpy as np\n",
    "import pandas as pd\n",
    "import re\n",
    "import spacy\n",
    "from sklearn.base import BaseEstimator, TransformerMixin\n",
    "from sklearn.decomposition import LatentDirichletAllocation\n",
    "from sklearn.feature_extraction.text import CountVectorizer, TfidfVectorizer\n",
    "from sklearn.pipeline import Pipeline\n",
    "import sys"
   ]
  },
  {
   "cell_type": "code",
   "execution_count": 151,
   "id": "a6be9286",
   "metadata": {},
   "outputs": [],
   "source": [
    "# Install large model\n",
    "\n",
    "#!{sys.executable} -m pip install \"https://github.com/explosion/spacy-models/releases/download/en_core_web_lg-3.7.1/en_core_web_lg-3.7.1-py3-none-any.whl\"\n",
    "#!{sys.executable} -m spacy validate\n",
    "\n",
    "# Do not use"
   ]
  },
  {
   "cell_type": "code",
   "execution_count": 152,
   "id": "b938ad81",
   "metadata": {},
   "outputs": [],
   "source": [
    "# Install medium model\n",
    "#!{sys.executable} -m pip install \"https://github.com/explosion/spacy-models/releases/download/en_core_web_md-3.7.1/en_core_web_md-3.7.1-py3-none-any.whl\"\n",
    "#!{sys.executable} -m spacy validate"
   ]
  },
  {
   "cell_type": "markdown",
   "id": "8fcf85a2",
   "metadata": {},
   "source": [
    "### Load and subset data"
   ]
  },
  {
   "cell_type": "code",
   "execution_count": 153,
   "id": "ec84c159",
   "metadata": {},
   "outputs": [],
   "source": [
    "df = pd.read_csv(\"/home/domib/code/dominik-bulla/g0zzy/stress_sense/raw_data/Combined Data.csv\", encoding=\"latin1\")"
   ]
  },
  {
   "cell_type": "code",
   "execution_count": 154,
   "id": "6ae1c85d",
   "metadata": {},
   "outputs": [
    {
     "data": {
      "text/plain": [
       "Index(['Unnamed: 0', 'statement', 'status'], dtype='object')"
      ]
     },
     "execution_count": 154,
     "metadata": {},
     "output_type": "execute_result"
    }
   ],
   "source": [
    "df.columns"
   ]
  },
  {
   "cell_type": "code",
   "execution_count": 197,
   "id": "3629ef3d",
   "metadata": {},
   "outputs": [
    {
     "name": "stdout",
     "output_type": "stream",
     "text": [
      "(21961, 3)\n",
      "Index(['Unnamed: 0', 'statement', 'status'], dtype='object')\n",
      "Unnamed: 0     int64\n",
      "statement     object\n",
      "status        object\n",
      "dtype: object\n"
     ]
    },
    {
     "data": {
      "application/vnd.microsoft.datawrangler.viewer.v0+json": {
       "columns": [
        {
         "name": "index",
         "rawType": "int64",
         "type": "integer"
        },
        {
         "name": "Unnamed: 0",
         "rawType": "int64",
         "type": "integer"
        },
        {
         "name": "statement",
         "rawType": "object",
         "type": "string"
        },
        {
         "name": "status",
         "rawType": "object",
         "type": "string"
        }
       ],
       "ref": "55c9e1ff-1850-4e56-8aaf-5a87d9b5b6ce",
       "rows": [
        [
         "0",
         "0",
         "oh my gosh",
         "Anxiety"
        ],
        [
         "1",
         "1",
         "trouble sleeping, confused mind, restless heart. All out of tune",
         "Anxiety"
        ],
        [
         "2",
         "2",
         "All wrong, back off dear, forward doubt. Stay in a restless and restless place",
         "Anxiety"
        ],
        [
         "3",
         "3",
         "I've shifted my focus to something else but I'm still worried",
         "Anxiety"
        ],
        [
         "4",
         "4",
         "I'm restless and restless, it's been a month now, boy. What do you mean?",
         "Anxiety"
        ]
       ],
       "shape": {
        "columns": 3,
        "rows": 5
       }
      },
      "text/html": [
       "<div>\n",
       "<style scoped>\n",
       "    .dataframe tbody tr th:only-of-type {\n",
       "        vertical-align: middle;\n",
       "    }\n",
       "\n",
       "    .dataframe tbody tr th {\n",
       "        vertical-align: top;\n",
       "    }\n",
       "\n",
       "    .dataframe thead th {\n",
       "        text-align: right;\n",
       "    }\n",
       "</style>\n",
       "<table border=\"1\" class=\"dataframe\">\n",
       "  <thead>\n",
       "    <tr style=\"text-align: right;\">\n",
       "      <th></th>\n",
       "      <th>Unnamed: 0</th>\n",
       "      <th>statement</th>\n",
       "      <th>status</th>\n",
       "    </tr>\n",
       "  </thead>\n",
       "  <tbody>\n",
       "    <tr>\n",
       "      <th>0</th>\n",
       "      <td>0</td>\n",
       "      <td>oh my gosh</td>\n",
       "      <td>Anxiety</td>\n",
       "    </tr>\n",
       "    <tr>\n",
       "      <th>1</th>\n",
       "      <td>1</td>\n",
       "      <td>trouble sleeping, confused mind, restless hear...</td>\n",
       "      <td>Anxiety</td>\n",
       "    </tr>\n",
       "    <tr>\n",
       "      <th>2</th>\n",
       "      <td>2</td>\n",
       "      <td>All wrong, back off dear, forward doubt. Stay ...</td>\n",
       "      <td>Anxiety</td>\n",
       "    </tr>\n",
       "    <tr>\n",
       "      <th>3</th>\n",
       "      <td>3</td>\n",
       "      <td>I've shifted my focus to something else but I'...</td>\n",
       "      <td>Anxiety</td>\n",
       "    </tr>\n",
       "    <tr>\n",
       "      <th>4</th>\n",
       "      <td>4</td>\n",
       "      <td>I'm restless and restless, it's been a month n...</td>\n",
       "      <td>Anxiety</td>\n",
       "    </tr>\n",
       "  </tbody>\n",
       "</table>\n",
       "</div>"
      ],
      "text/plain": [
       "   Unnamed: 0                                          statement   status\n",
       "0           0                                         oh my gosh  Anxiety\n",
       "1           1  trouble sleeping, confused mind, restless hear...  Anxiety\n",
       "2           2  All wrong, back off dear, forward doubt. Stay ...  Anxiety\n",
       "3           3  I've shifted my focus to something else but I'...  Anxiety\n",
       "4           4  I'm restless and restless, it's been a month n...  Anxiety"
      ]
     },
     "execution_count": 197,
     "metadata": {},
     "output_type": "execute_result"
    }
   ],
   "source": [
    "stress_posts = df[df['status'].isin(['Stress','Anxiety','Depression'])]\n",
    "#stress_posts = df[df['status'].isin(['Stress','Anxiety'])]\n",
    "print(stress_posts.shape)\n",
    "print(stress_posts.columns)\n",
    "print(stress_posts.dtypes)\n",
    "stress_posts.head()"
   ]
  },
  {
   "cell_type": "markdown",
   "id": "a17a2589",
   "metadata": {},
   "source": [
    "### Text Preprocessing"
   ]
  },
  {
   "cell_type": "code",
   "execution_count": 241,
   "id": "faa3c5d9",
   "metadata": {},
   "outputs": [],
   "source": [
    "### lowercase\n",
    "### dealing with numbers, punctuation, and symbols\n",
    "### splitting\n",
    "### tokenizing\n",
    "### removing \"stopwords\"\n",
    "### lemmatizing\n",
    "\n",
    "nlp = spacy.load(\"en_core_web_md\", disable=[\"ner\", \"parser\", \"textcat\"])\n",
    "\n",
    "class TextPreprocessor(BaseEstimator, TransformerMixin):\n",
    "    def __init__(self, language_model=nlp, min_len=1):\n",
    "        self.nlp = language_model\n",
    "        self.min_len = min_len  # optional length filter\n",
    "\n",
    "    def fit(self, X, y=None):\n",
    "        return self\n",
    "\n",
    "    def transform(self, X):\n",
    "        return [self._preprocess(x) for x in X]\n",
    "\n",
    "    def _preprocess(self, text):\n",
    "        # Missing values\n",
    "        if text is None:\n",
    "            return []\n",
    "        if not isinstance(text, str):\n",
    "            text = str(text)\n",
    "\n",
    "        # lower case\n",
    "        text = text.strip().lower()\n",
    "        if not text:\n",
    "            return []\n",
    "\n",
    "        # dealing with numbers, punctuation, and symbols/stopwords/lemmatizing\n",
    "        doc = self.nlp(text)\n",
    "        tokens = [\n",
    "            tok.lemma_\n",
    "            for tok in doc\n",
    "            if tok.is_alpha and not tok.is_stop\n",
    "        ]\n",
    "\n",
    "        doc = self.nlp(text)\n",
    "        tokens = [\n",
    "            tok.lemma_\n",
    "            for tok in doc\n",
    "            if tok.is_alpha\n",
    "            and not tok.is_stop\n",
    "            and len(tok) > 2         # drop very short leftovers\n",
    "            and tok.lemma_ not in {\"don\", \"t\", \"m\"}  # custom contraction cleanup\n",
    "        ]\n",
    "\n",
    "        # Optional: drop very short results\n",
    "        if len(tokens) < self.min_len:\n",
    "            return []\n",
    "        return tokens\n",
    "\n",
    "text_pipeline = Pipeline([\n",
    "    (\"preprocessor\", TextPreprocessor())\n",
    "])\n"
   ]
  },
  {
   "cell_type": "code",
   "execution_count": 242,
   "id": "c476bf36",
   "metadata": {},
   "outputs": [],
   "source": [
    "processed = text_pipeline.fit_transform(stress_posts[\"statement\"])\n",
    "processed = list(processed)  # in case it's a numpy array\n",
    "stress_posts = stress_posts.copy()\n",
    "stress_posts[\"processed_tokens\"] = pd.Series(processed, index=stress_posts.index, dtype=object)"
   ]
  },
  {
   "cell_type": "markdown",
   "id": "6f214d38",
   "metadata": {},
   "source": [
    "### Text vectorizing"
   ]
  },
  {
   "cell_type": "code",
   "execution_count": null,
   "id": "bd705e00",
   "metadata": {},
   "outputs": [],
   "source": [
    "tfidf = TfidfVectorizer(\n",
    "    tokenizer=lambda x: x,     # take the list of tokens \"as is\"\n",
    "    preprocessor=lambda x: x,  # don’t lowercase/clean again\n",
    "    lowercase=False,\n",
    "    ngram_range=(2, 2),\n",
    "    max_features=1000,\n",
    "    token_pattern=None\n",
    ")\n",
    "\n",
    "tokens = stress_posts[\"processed_tokens\"].apply(lambda x: x if isinstance(x, list) else [])\n",
    "\n",
    "vectorized_messages = tfidf.fit_transform(tokens)\n",
    "vectorized_messages = pd.DataFrame(\n",
    "    vectorized_messages.toarray(),\n",
    "    columns = tfidf.get_feature_names_out()\n",
    ")"
   ]
  },
  {
   "cell_type": "markdown",
   "id": "542163f3",
   "metadata": {},
   "source": [
    "### Finding best model"
   ]
  },
  {
   "cell_type": "code",
   "execution_count": 255,
   "id": "fa371525",
   "metadata": {},
   "outputs": [],
   "source": [
    "scores = []\n",
    "perplexities = []\n",
    "topics_range = range(3, 21, 3)\n",
    "\n",
    "for k in topics_range:\n",
    "    lda = LatentDirichletAllocation(\n",
    "        n_components=k,\n",
    "        max_iter=20,\n",
    "        random_state=42,\n",
    "        learning_method=\"batch\"\n",
    "    )\n",
    "    lda.fit(vectorized_messages)\n",
    "    scores.append(lda.score(vectorized_messages))\n",
    "    perplexities.append(lda.perplexity(vectorized_messages))"
   ]
  },
  {
   "cell_type": "code",
   "execution_count": 256,
   "id": "20c99e02",
   "metadata": {},
   "outputs": [
    {
     "data": {
      "image/png": "[encoded data removed]",
      "text/plain": [
       "<Figure size 640x480 with 1 Axes>"
      ]
     },
     "metadata": {},
     "output_type": "display_data"
    }
   ],
   "source": [
    "%matplotlib inline\n",
    "\n",
    "plt.plot(topics_range, scores, marker=\"o\", label=\"Log Likelihood\")\n",
    "#plt.plot(topics_range, perplexities, marker=\"x\", label=\"Perplexity\")\n",
    "plt.xlabel(\"Number of Topics\")\n",
    "plt.legend()\n",
    "plt.show()\n"
   ]
  },
  {
   "cell_type": "markdown",
   "id": "2cabcdaa",
   "metadata": {},
   "source": [
    "### Train LDA Model"
   ]
  },
  {
   "cell_type": "code",
   "execution_count": 257,
   "id": "4d678276",
   "metadata": {},
   "outputs": [],
   "source": [
    "n_components = 6\n",
    "lda_model = LatentDirichletAllocation(n_components=n_components, max_iter = 100)\n",
    "lda_model.fit(vectorized_messages)\n",
    "topics_mixture = lda_model.transform(vectorized_messages)"
   ]
  },
  {
   "cell_type": "markdown",
   "id": "d8c575dc",
   "metadata": {},
   "source": [
    "### link back to original dataframe "
   ]
  },
  {
   "cell_type": "code",
   "execution_count": 258,
   "id": "abf539fe",
   "metadata": {},
   "outputs": [],
   "source": [
    "def link_back(topics_mixture, stress_posts):\n",
    "\n",
    "    topic_cols = [f\"topic_{i}\" for i in range(topics_mixture.shape[1])]\n",
    "    topic_df = pd.DataFrame(topics_mixture, index=stress_posts.index, columns=topic_cols)\n",
    "\n",
    "    stress_posts = stress_posts.copy()\n",
    "    stress_posts[\"dominant_topic\"] = topic_df.values.argmax(axis=1)\n",
    "    stress_posts[\"dominant_weight\"] = round(topic_df.max(axis=1),2)\n",
    "    stress_posts[\"solution\"] = np.where(\n",
    "        stress_posts[\"dominant_weight\"] > round(1/6,2), 1, 0\n",
    "    )\n",
    "\n",
    "    return stress_posts"
   ]
  },
  {
   "cell_type": "code",
   "execution_count": 259,
   "id": "bc19839e",
   "metadata": {},
   "outputs": [],
   "source": [
    "stress_posts_6 = link_back(topics_mixture, stress_posts)"
   ]
  },
  {
   "cell_type": "code",
   "execution_count": 260,
   "id": "26fd4f2b",
   "metadata": {},
   "outputs": [
    {
     "name": "stdout",
     "output_type": "stream",
     "text": [
      "99.1\n"
     ]
    }
   ],
   "source": [
    "### proportion of proper solutions\n",
    "print(round(np.multiply(stress_posts_6.solution.value_counts(normalize=True)[1], 100),2))\n"
   ]
  },
  {
   "cell_type": "code",
   "execution_count": null,
   "id": "03c55da8",
   "metadata": {},
   "outputs": [],
   "source": []
  },
  {
   "cell_type": "code",
   "execution_count": 271,
   "id": "355ecb08",
   "metadata": {},
   "outputs": [
    {
     "data": {
      "application/vnd.microsoft.datawrangler.viewer.v0+json": {
       "columns": [
        {
         "name": "dominant_topic",
         "rawType": "int64",
         "type": "integer"
        },
        {
         "name": "count",
         "rawType": "int64",
         "type": "integer"
        }
       ],
       "ref": "6f54e166-135d-4de8-b1fa-0d4b33a8cfb6",
       "rows": [
        [
         "0",
         "4432"
        ],
        [
         "4",
         "4147"
        ],
        [
         "1",
         "4134"
        ],
        [
         "3",
         "956"
        ],
        [
         "5",
         "871"
        ],
        [
         "2",
         "809"
        ]
       ],
       "shape": {
        "columns": 1,
        "rows": 6
       }
      },
      "text/plain": [
       "dominant_topic\n",
       "0    4432\n",
       "4    4147\n",
       "1    4134\n",
       "3     956\n",
       "5     871\n",
       "2     809\n",
       "Name: count, dtype: int64"
      ]
     },
     "execution_count": 271,
     "metadata": {},
     "output_type": "execute_result"
    }
   ],
   "source": [
    "stress_posts_6[\n",
    "    (stress_posts_6['status'] == \"Depression\") &\n",
    "    (stress_posts_6['solution'] == 1)\n",
    "][\"dominant_topic\"].value_counts()\n"
   ]
  },
  {
   "cell_type": "code",
   "execution_count": 264,
   "id": "15a3918c",
   "metadata": {},
   "outputs": [],
   "source": [
    "def print_topics(lda_model, vectorizer, top_words):\n",
    "    topic_word_mixture = pd.DataFrame(\n",
    "        lda_model.components_,\n",
    "        columns = tfidf.get_feature_names_out()\n",
    "    )\n",
    "    n_components = topic_word_mixture.shape[0]\n",
    "\n",
    "    for topic in range(n_components):\n",
    "        print(\"-\"*10)\n",
    "        print(f\"For topic {topic}, here are the the top {top_words} words with weights:\")\n",
    "\n",
    "        topic_df = topic_word_mixture.iloc[topic]\\\n",
    "            .sort_values(ascending = False).head(top_words)\n",
    "\n",
    "        print(round(topic_df,3))"
   ]
  },
  {
   "cell_type": "code",
   "execution_count": 272,
   "id": "8c7e5f6d",
   "metadata": {},
   "outputs": [
    {
     "name": "stdout",
     "output_type": "stream",
     "text": [
      "----------\n",
      "For topic 0, here are the the top 10 words with weights:\n",
      "feel          654.972\n",
      "like          426.981\n",
      "feel like     300.230\n",
      "know          259.928\n",
      "want          244.341\n",
      "thing         218.859\n",
      "time          206.396\n",
      "think         197.512\n",
      "depression    195.706\n",
      "people        194.173\n",
      "Name: 0, dtype: float64\n",
      "----------\n",
      "For topic 1, here are the the top 10 words with weights:\n",
      "job     291.133\n",
      "year    283.489\n",
      "feel    279.960\n",
      "work    278.850\n",
      "like    276.846\n",
      "get     251.851\n",
      "time    246.679\n",
      "life    245.731\n",
      "know    243.070\n",
      "go      242.040\n",
      "Name: 1, dtype: float64\n",
      "----------\n",
      "For topic 2, here are the the top 10 words with weights:\n",
      "depression            370.082\n",
      "anxiety               147.727\n",
      "stress                118.867\n",
      "http                  105.397\n",
      "help                   99.138\n",
      "mental                 76.054\n",
      "depression anxiety     71.474\n",
      "health                 69.097\n",
      "mental health          60.620\n",
      "medication             58.333\n",
      "Name: 2, dtype: float64\n",
      "----------\n",
      "For topic 3, here are the the top 10 words with weights:\n",
      "anxiety    316.638\n",
      "feel       213.574\n",
      "like       178.188\n",
      "go         168.774\n",
      "pain       167.654\n",
      "symptom    166.935\n",
      "attack     162.329\n",
      "panic      158.199\n",
      "get        151.466\n",
      "day        149.944\n",
      "Name: 3, dtype: float64\n",
      "----------\n",
      "For topic 4, here are the the top 10 words with weights:\n",
      "want       419.624\n",
      "life       312.754\n",
      "feel       248.726\n",
      "like       234.372\n",
      "hate       219.877\n",
      "die        218.499\n",
      "know       210.164\n",
      "anymore    188.985\n",
      "people     188.547\n",
      "live       182.689\n",
      "Name: 4, dtype: float64\n",
      "----------\n",
      "For topic 5, here are the the top 10 words with weights:\n",
      "restless      189.300\n",
      "talk          120.178\n",
      "nervous       102.514\n",
      "friend         82.908\n",
      "like           67.131\n",
      "want           62.996\n",
      "people         62.319\n",
      "know           57.585\n",
      "feel           57.419\n",
      "depression     53.499\n",
      "Name: 5, dtype: float64\n"
     ]
    }
   ],
   "source": [
    "print_topics(lda_model, tfidf, 10)"
   ]
  },
  {
   "cell_type": "markdown",
   "id": "20eb5acd",
   "metadata": {},
   "source": [
    "### Evaluate Model"
   ]
  },
  {
   "cell_type": "code",
   "execution_count": null,
   "id": "784c884a",
   "metadata": {},
   "outputs": [],
   "source": []
  },
  {
   "cell_type": "code",
   "execution_count": null,
   "id": "952c3fba",
   "metadata": {},
   "outputs": [],
   "source": []
  },
  {
   "cell_type": "code",
   "execution_count": null,
   "id": "1194c571",
   "metadata": {},
   "outputs": [],
   "source": []
  },
  {
   "cell_type": "markdown",
   "id": "fadd665c",
   "metadata": {},
   "source": [
    "### Interpret Topics"
   ]
  },
  {
   "cell_type": "code",
   "execution_count": null,
   "id": "43b3df4e",
   "metadata": {},
   "outputs": [],
   "source": []
  },
  {
   "cell_type": "code",
   "execution_count": null,
   "id": "74e44e05",
   "metadata": {},
   "outputs": [],
   "source": []
  },
  {
   "cell_type": "markdown",
   "id": "504be9db",
   "metadata": {},
   "source": [
    "### Assign Topics to Documents"
   ]
  },
  {
   "cell_type": "code",
   "execution_count": null,
   "id": "0f78b625",
   "metadata": {},
   "outputs": [],
   "source": []
  },
  {
   "cell_type": "code",
   "execution_count": null,
   "id": "5306ea7c",
   "metadata": {},
   "outputs": [],
   "source": []
  },
  {
   "cell_type": "markdown",
   "id": "42499e95",
   "metadata": {},
   "source": [
    "### Visualize Topics"
   ]
  },
  {
   "cell_type": "code",
   "execution_count": null,
   "id": "60eb06c0",
   "metadata": {},
   "outputs": [],
   "source": []
  },
  {
   "cell_type": "code",
   "execution_count": null,
   "id": "617301cf",
   "metadata": {},
   "outputs": [],
   "source": []
  },
  {
   "cell_type": "code",
   "execution_count": null,
   "id": "1867273b",
   "metadata": {},
   "outputs": [],
   "source": []
  }
 ],
 "metadata": {
  "kernelspec": {
   "display_name": "stress_sense",
   "language": "python",
   "name": "python3"
  },
  "language_info": {
   "codemirror_mode": {
    "name": "ipython",
    "version": 3
   },
   "file_extension": ".py",
   "mimetype": "text/x-python",
   "name": "python",
   "nbconvert_exporter": "python",
   "pygments_lexer": "ipython3",
   "version": "3.10.6"
  }
 },
 "nbformat": 4,
 "nbformat_minor": 5
}
