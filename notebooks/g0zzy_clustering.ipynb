{
 "cells": [
  {
   "cell_type": "code",
   "execution_count": 6,
   "id": "0f062403",
   "metadata": {},
   "outputs": [
    {
     "name": "stderr",
     "output_type": "stream",
     "text": [
      "Device set to use cpu\n"
     ]
    }
   ],
   "source": [
    "from transformers import pipeline\n",
    "\n",
    "labels = [\n",
    "    \"work stress\",\n",
    "    \"relationship issues\",\n",
    "    \"academic pressure\",\n",
    "    \"financial stress\",\n",
    "    \"sleep problems\",\n",
    "    \"family issues\",\n",
    "    \"suicidal thoughts\",\n",
    "    \"traumatic experiences\",\n",
    "    \"general stress\"\n",
    "]\n",
    "\n",
    "clf = pipeline(\"zero-shot-classification\", model=\"facebook/bart-large-mnli\", device=-1)\n"
   ]
  },
  {
   "cell_type": "code",
   "execution_count": null,
   "id": "a777834e",
   "metadata": {},
   "outputs": [],
   "source": [
    "# Returns a list of (theme, confidence level) tuples\n",
    "def cluster_post(text, multi_label=False, threshold=0.35):\n",
    "    res = clf(text, candidate_labels=labels, multi_label=multi_label)\n",
    "    if multi_label:\n",
    "        picked = [(l, s) for l, s in zip(res[\"labels\"], res[\"scores\"]) if s >= threshold]\n",
    "        return picked or [(\"general stress\", 1.0)]\n",
    "    else:\n",
    "        return [(res[\"labels\"][0], res[\"scores\"][0])]"
   ]
  },
  {
   "cell_type": "code",
   "execution_count": null,
   "id": "be0f6e0f",
   "metadata": {},
   "outputs": [
    {
     "name": "stdout",
     "output_type": "stream",
     "text": [
      "[('work stress', 0.9979613423347473), ('general stress', 0.972467839717865), ('sleep problems', 0.9570427536964417), ('traumatic experiences', 0.351264089345932)]\n"
     ]
    }
   ],
   "source": [
    "post = \"My manager keeps piling on tasks and I can't switch off at night.\"\n",
    "print(cluster_post(post, multi_label=True, threshold=0.35))\n",
    "# e.g. [(\"work stress\", 0.86), (\"sleep problems\", 0.41)]"
   ]
  },
  {
   "cell_type": "code",
   "execution_count": null,
   "id": "63800884",
   "metadata": {},
   "outputs": [
    {
     "name": "stdout",
     "output_type": "stream",
     "text": [
      "[('general stress', 0.9637044668197632), ('family issues', 0.5264511108398438), ('financial stress', 0.48439404368400574), ('work stress', 0.4741519093513489), ('relationship issues', 0.4448656439781189), ('academic pressure', 0.36632636189460754)]\n"
     ]
    }
   ],
   "source": [
    "post = \"so much happening right now, i don't even know what i should be doing.\"\n",
    "print(cluster_post(post, multi_label=True, threshold=0.35))\n",
    "# e.g. [(\"work stress\", 0.86), (\"sleep problems\", 0.41)]"
   ]
  },
  {
   "cell_type": "code",
   "execution_count": null,
   "id": "97d611c7",
   "metadata": {},
   "outputs": [
    {
     "name": "stdout",
     "output_type": "stream",
     "text": [
      "[('suicidal thoughts', 0.9952276945114136), ('general stress', 0.9844925999641418), ('traumatic experiences', 0.9761269092559814), ('financial stress', 0.5979093313217163), ('relationship issues', 0.44909828901290894), ('family issues', 0.4357694685459137)]\n"
     ]
    }
   ],
   "source": [
    "post = \"everything is shit i just want to die\"\n",
    "print(cluster_post(post, multi_label=True, threshold=0.35))\n",
    "# e.g. [(\"work stress\", 0.86), (\"sleep problems\", 0.41)]"
   ]
  },
  {
   "cell_type": "code",
   "execution_count": null,
   "id": "d037c61d",
   "metadata": {},
   "outputs": [
    {
     "name": "stdout",
     "output_type": "stream",
     "text": [
      "[('suicidal thoughts', 0.6983516216278076)]\n"
     ]
    }
   ],
   "source": [
    "post_suicidal_from_dataset = \"I am so exhausted of this. Just when I think I can finally rest, just when I think maybe things are starting to settle, another hurdle comes flying at me. This month alone we found out my mum could be dying, my girlfriend left me, my parents revealed that they wanted a divorce, my grandad was hospitalised again and just now my little sister's been rushed to A&amp;E with possible brain damage. If there is a god up there they must fucking hate me. it is like life is trying to get me to kill myself and honestly I think I would be better off dead. I attempted when I was 12 but I was stupid and there was no way I could cut deep enough. Now I am 15 and everything is so much worse than it ever has been and I just cannot hold on much longer -- it is going to take a miracle to get me through this. I feel so alone. I feel like the world hates me and I have no idea what I did wrong to deserve this. I thought I was getting better. I was doing so well and now everything's just come crashing down again. I was thinking about carbon monoxide poisoning but I highly doubt there is any way for me to get that. it is looking like I will overdose but that is unreliable as fuck and surviving sounds like hell so idk. Just got to stick around long enough to make sure my sister's alright. I have already contacted one of my ex's friends to make sure they are looked after when I am gone. I do not think there is long left for me. Sorry. I have posted on this subreddit too many times in the span of a week and that is probably really annoying I just have absolutely no idea what to do anymore. I feel sick. If my sister dies then I really cannot do this anymore. It all hurts. Life is really fucking trying me\"\n",
    "print(cluster_post(post, threshold=0.35)) #multi label off"
   ]
  },
  {
   "cell_type": "code",
   "execution_count": null,
   "id": "8ffc662e",
   "metadata": {},
   "outputs": [
    {
     "name": "stdout",
     "output_type": "stream",
     "text": [
      "[('suicidal thoughts', 0.9952276945114136), ('general stress', 0.9844925999641418), ('traumatic experiences', 0.9761269092559814), ('financial stress', 0.5979093313217163), ('relationship issues', 0.44909828901290894), ('family issues', 0.4357694685459137)]\n"
     ]
    }
   ],
   "source": [
    "post_suicidal_from_dataset = \"I am so exhausted of this. Just when I think I can finally rest, just when I think maybe things are starting to settle, another hurdle comes flying at me. This month alone we found out my mum could be dying, my girlfriend left me, my parents revealed that they wanted a divorce, my grandad was hospitalised again and just now my little sister's been rushed to A&amp;E with possible brain damage. If there is a god up there they must fucking hate me. it is like life is trying to get me to kill myself and honestly I think I would be better off dead. I attempted when I was 12 but I was stupid and there was no way I could cut deep enough. Now I am 15 and everything is so much worse than it ever has been and I just cannot hold on much longer -- it is going to take a miracle to get me through this. I feel so alone. I feel like the world hates me and I have no idea what I did wrong to deserve this. I thought I was getting better. I was doing so well and now everything's just come crashing down again. I was thinking about carbon monoxide poisoning but I highly doubt there is any way for me to get that. it is looking like I will overdose but that is unreliable as fuck and surviving sounds like hell so idk. Just got to stick around long enough to make sure my sister's alright. I have already contacted one of my ex's friends to make sure they are looked after when I am gone. I do not think there is long left for me. Sorry. I have posted on this subreddit too many times in the span of a week and that is probably really annoying I just have absolutely no idea what to do anymore. I feel sick. If my sister dies then I really cannot do this anymore. It all hurts. Life is really fucking trying me\"\n",
    "print(cluster_post(post, multi_label=True, threshold=0.35))"
   ]
  },
  {
   "cell_type": "code",
   "execution_count": null,
   "id": "3f0a18a3",
   "metadata": {},
   "outputs": [],
   "source": [
    "themes = cluster_post(post, multi_label=True, threshold=0.35)"
   ]
  },
  {
   "cell_type": "code",
   "execution_count": 20,
   "id": "e7f47662",
   "metadata": {},
   "outputs": [
    {
     "data": {
      "text/plain": [
       "'suicidal thoughts'"
      ]
     },
     "execution_count": 20,
     "metadata": {},
     "output_type": "execute_result"
    }
   ],
   "source": [
    "theme = themes[0][0]\n",
    "theme"
   ]
  },
  {
   "cell_type": "code",
   "execution_count": 21,
   "id": "98d6331d",
   "metadata": {},
   "outputs": [
    {
     "data": {
      "text/plain": [
       "0.9952276945114136"
      ]
     },
     "execution_count": 21,
     "metadata": {},
     "output_type": "execute_result"
    }
   ],
   "source": [
    "confidence_level = themes[0][1]\n",
    "confidence_level"
   ]
  },
  {
   "cell_type": "code",
   "execution_count": 2,
   "id": "aff74deb",
   "metadata": {},
   "outputs": [
    {
     "name": "stderr",
     "output_type": "stream",
     "text": [
      "Fetching 11 files: 100%|██████████| 11/11 [00:24<00:00,  2.19s/it]\n"
     ]
    },
    {
     "data": {
      "text/plain": [
       "'/Users/gozde/.cache/huggingface/hub/models--facebook--bart-large-mnli/snapshots/d7645e127eaf1aefc7862fd59a17a5aa8558b8ce'"
      ]
     },
     "execution_count": 2,
     "metadata": {},
     "output_type": "execute_result"
    }
   ],
   "source": [
    "from huggingface_hub import snapshot_download\n",
    "\n",
    "snapshot_download(repo_id=\"facebook/bart-large-mnli\", repo_type=\"model\")\n"
   ]
  },
  {
   "cell_type": "code",
   "execution_count": 4,
   "id": "98634359",
   "metadata": {},
   "outputs": [
    {
     "name": "stderr",
     "output_type": "stream",
     "text": [
      "Device set to use cpu\n"
     ]
    }
   ],
   "source": [
    "from transformers import pipeline\n",
    "\n",
    "HF_HUB_OFFLINE=1\n",
    "\n",
    "clf = pipeline(\"zero-shot-classification\", model=\"facebook/bart-large-mnli\", device=-1, local_files_only=True)\n"
   ]
  },
  {
   "cell_type": "code",
   "execution_count": 5,
   "id": "bbf53f1d",
   "metadata": {},
   "outputs": [
    {
     "data": {
      "text/plain": [
       "{'sequence': 'one day I will see the world',\n",
       " 'labels': ['travel', 'dancing', 'cooking'],\n",
       " 'scores': [0.9938650727272034, 0.0032738186419010162, 0.0028610476292669773]}"
      ]
     },
     "execution_count": 5,
     "metadata": {},
     "output_type": "execute_result"
    }
   ],
   "source": [
    "sequence_to_classify = \"one day I will see the world\"\n",
    "candidate_labels = ['travel', 'cooking', 'dancing']\n",
    "clf(sequence_to_classify, candidate_labels)"
   ]
  },
  {
   "cell_type": "code",
   "execution_count": null,
   "id": "86397c35",
   "metadata": {},
   "outputs": [],
   "source": []
  }
 ],
 "metadata": {
  "kernelspec": {
   "display_name": "stress_sense",
   "language": "python",
   "name": "python3"
  },
  "language_info": {
   "codemirror_mode": {
    "name": "ipython",
    "version": 3
   },
   "file_extension": ".py",
   "mimetype": "text/x-python",
   "name": "python",
   "nbconvert_exporter": "python",
   "pygments_lexer": "ipython3",
   "version": "3.10.6"
  }
 },
 "nbformat": 4,
 "nbformat_minor": 5
}
