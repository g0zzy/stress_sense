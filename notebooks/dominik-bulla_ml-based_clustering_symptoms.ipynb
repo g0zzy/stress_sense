{
 "cells": [
  {
   "cell_type": "markdown",
   "id": "73e1d55b",
   "metadata": {},
   "source": [
    "### Import packages"
   ]
  },
  {
   "cell_type": "code",
   "execution_count": 14,
   "id": "f1dc6a50",
   "metadata": {},
   "outputs": [],
   "source": [
    "import enchant\n",
    "import matplotlib.pyplot as plt\n",
    "import numpy as np\n",
    "import pandas as pd\n",
    "import pickle\n",
    "import re\n",
    "import spacy\n",
    "from sklearn.base import BaseEstimator, TransformerMixin\n",
    "from sklearn.decomposition import LatentDirichletAllocation\n",
    "from sklearn.feature_extraction.text import CountVectorizer\n",
    "from sklearn.pipeline import Pipeline\n",
    "import sys"
   ]
  },
  {
   "cell_type": "code",
   "execution_count": 2,
   "id": "55978776",
   "metadata": {},
   "outputs": [],
   "source": [
    "# Install large model\n",
    "\n",
    "#!{sys.executable} -m pip install \"https://github.com/explosion/spacy-models/releases/download/en_core_web_lg-3.7.1/en_core_web_lg-3.7.1-py3-none-any.whl\"\n",
    "#!{sys.executable} -m spacy validate\n",
    "\n",
    "# Do not use"
   ]
  },
  {
   "cell_type": "code",
   "execution_count": 3,
   "id": "ef5f57f9",
   "metadata": {},
   "outputs": [],
   "source": [
    "# Install medium model\n",
    "#!{sys.executable} -m pip install \"https://github.com/explosion/spacy-models/releases/download/en_core_web_md-3.7.1/en_core_web_md-3.7.1-py3-none-any.whl\"\n",
    "#!{sys.executable} -m spacy validate"
   ]
  },
  {
   "cell_type": "markdown",
   "id": "1f6c0f8f",
   "metadata": {},
   "source": [
    "### Load and subset data"
   ]
  },
  {
   "cell_type": "code",
   "execution_count": 4,
   "id": "6187f6c2",
   "metadata": {},
   "outputs": [],
   "source": [
    "df = pd.read_csv(\"/home/domib/code/dominik-bulla/g0zzy/stress_sense/raw_data/Combined Data.csv\", encoding=\"latin1\")"
   ]
  },
  {
   "cell_type": "code",
   "execution_count": 5,
   "id": "91fbd5a9",
   "metadata": {},
   "outputs": [
    {
     "data": {
      "text/plain": [
       "Index(['Unnamed: 0', 'statement', 'status'], dtype='object')"
      ]
     },
     "execution_count": 5,
     "metadata": {},
     "output_type": "execute_result"
    }
   ],
   "source": [
    "df.columns"
   ]
  },
  {
   "cell_type": "code",
   "execution_count": 6,
   "id": "0cf0a931",
   "metadata": {},
   "outputs": [
    {
     "name": "stdout",
     "output_type": "stream",
     "text": [
      "(21961, 3)\n",
      "Index(['Unnamed: 0', 'statement', 'status'], dtype='object')\n",
      "Unnamed: 0     int64\n",
      "statement     object\n",
      "status        object\n",
      "dtype: object\n"
     ]
    },
    {
     "data": {
      "application/vnd.microsoft.datawrangler.viewer.v0+json": {
       "columns": [
        {
         "name": "index",
         "rawType": "int64",
         "type": "integer"
        },
        {
         "name": "Unnamed: 0",
         "rawType": "int64",
         "type": "integer"
        },
        {
         "name": "statement",
         "rawType": "object",
         "type": "string"
        },
        {
         "name": "status",
         "rawType": "object",
         "type": "string"
        }
       ],
       "ref": "e06bd2a9-e2c2-4c60-a47a-e67d6528cfb6",
       "rows": [
        [
         "0",
         "0",
         "oh my gosh",
         "Anxiety"
        ],
        [
         "1",
         "1",
         "trouble sleeping, confused mind, restless heart. All out of tune",
         "Anxiety"
        ],
        [
         "2",
         "2",
         "All wrong, back off dear, forward doubt. Stay in a restless and restless place",
         "Anxiety"
        ],
        [
         "3",
         "3",
         "I've shifted my focus to something else but I'm still worried",
         "Anxiety"
        ],
        [
         "4",
         "4",
         "I'm restless and restless, it's been a month now, boy. What do you mean?",
         "Anxiety"
        ],
        [
         "5",
         "5",
         "every break, you must be nervous, like something is wrong, but what the heck",
         "Anxiety"
        ],
        [
         "6",
         "6",
         "I feel scared, anxious, what can I do? And may my family or us be protected :)",
         "Anxiety"
        ],
        [
         "7",
         "7",
         "Have you ever felt nervous but didn't know why?",
         "Anxiety"
        ],
        [
         "8",
         "8",
         "I haven't slept well for 2 days, it's like I'm restless. why huh :([].",
         "Anxiety"
        ],
        [
         "9",
         "9",
         "I'm really worried, I want to cry.",
         "Anxiety"
        ],
        [
         "10",
         "10",
         "always restless every night, even though I don't know why, what's wrong. strange.",
         "Anxiety"
        ],
        [
         "11",
         "11",
         "I'm confused, I'm not feeling good lately. Every time I want to sleep, I always feel restless",
         "Anxiety"
        ],
        [
         "12",
         "12",
         "sometimes what is needed when there is a problem is to laugh until you forget that there is a problem, when you remember it, you feel restless like that well, it turns out that I still have a sad burden blah blah blah",
         "Anxiety"
        ],
        [
         "13",
         "13",
         "Because this worry is you.",
         "Anxiety"
        ],
        [
         "14",
         "14",
         "Sometimes it's your own thoughts that make you anxious and afraid to close your eyes until you don't sleep",
         "Anxiety"
        ],
        [
         "15",
         "15",
         "Every time I wake up, I'm definitely nervous and excited, until when are you going to try â¢â",
         "Anxiety"
        ],
        [
         "16",
         "16",
         "I can only hope, even though I'm worried if it starts like this....",
         "Anxiety"
        ],
        [
         "17",
         "17",
         "restive = restless, restless",
         "Anxiety"
        ],
        [
         "18",
         "18",
         "\"No regrets or grudges/angry at things that have passed, and not worrying too much about the future, that's true serenity.\"",
         "Anxiety"
        ],
        [
         "19",
         "19",
         "If the guy is sick, the girl actually feels sick indirectly. He must be feeling restless and restless. :')",
         "Anxiety"
        ],
        [
         "20",
         "20",
         "I've been the most anxious person before I became the most sincere person, I've also been the most worried person before it all ended",
         "Anxiety"
        ],
        [
         "21",
         "21",
         "Successfully online at 9am. Even sleeping in a state of restlessness what is wrong with me",
         "Anxiety"
        ],
        [
         "22",
         "22",
         "Can't sleep. Just restless by nature",
         "Anxiety"
        ],
        [
         "23",
         "23",
         "Already worried about picking up the phone",
         "Anxiety"
        ],
        [
         "24",
         "24",
         "a little restless. a little restless. always feel guilty. sorry if i can't be the best as i've been :'",
         "Anxiety"
        ],
        [
         "25",
         "25",
         "I've been so restless since this morning",
         "Anxiety"
        ],
        [
         "26",
         "26",
         "it makes you feel restless",
         "Anxiety"
        ],
        [
         "27",
         "27",
         "Sleepy but restless when you sleep",
         "Anxiety"
        ],
        [
         "28",
         "28",
         "Why is this cave... I'm already in a bad mood and then my heart seems to be beating really fast... I'm really nervous. Is there something wrong???",
         "Anxiety"
        ],
        [
         "29",
         "29",
         "He is very busy, He is restless, geez, what's going on?",
         "Anxiety"
        ],
        [
         "30",
         "30",
         "I'm broken and fragile, I'm hurt, I can't stand the anxiety anymore, I can't stand the love. Until now I was ignored, not seen, even left far away. I'm not like what he wants, so I'll just step back.",
         "Anxiety"
        ],
        [
         "31",
         "31",
         "# Suggest a song that makes you calm, don't know why suddenly this feeling of anger / restlessness appears. Thanks!",
         "Anxiety"
        ],
        [
         "32",
         "32",
         "Terooosss nervous huuuu",
         "Anxiety"
        ],
        [
         "33",
         "33",
         "why today's heart doesn't feel good..jealous?.anxious?.disappointed?.feeling failed?",
         "Anxiety"
        ],
        [
         "34",
         "34",
         "It's a habit from elementary school if I think about something I'll get worried I can't sleep",
         "Anxiety"
        ],
        [
         "35",
         "35",
         "Since yesterday yesterday, I have not been in the mood, very sensitive, feeling restless, always surprised and many surprises every day that almost make my brain explode, everyone is the target of ups and downs in mood. But today I feel very grateful that this lecture drama is over.",
         "Anxiety"
        ],
        [
         "36",
         "36",
         "Tonight he continues to chatter about money, I'm so confused what to do. Once he said don't worry about money, but he kept blabbering about money.",
         "Anxiety"
        ],
        [
         "37",
         "37",
         "Feeling so restless lately.",
         "Anxiety"
        ],
        [
         "38",
         "38",
         "Oh god I'm restless",
         "Anxiety"
        ],
        [
         "39",
         "39",
         "but my heart is still restless even though my mouth is talking",
         "Anxiety"
        ],
        [
         "40",
         "40",
         "waiting for uncertainty, please be anxious",
         "Anxiety"
        ],
        [
         "41",
         "41",
         "been the most anxious person, before becoming the most sincere person",
         "Anxiety"
        ],
        [
         "42",
         "42",
         "Did you ever read it when you read it to RL, I mean the atmosphere, the taste. It's because I'm like this. when I read au, the topic was about mental illness â¢ my days became restless....and now I'm scared.",
         "Anxiety"
        ],
        [
         "43",
         "43",
         "Hi, I want to tell you... Lately I've been feeling restless, have trouble sleeping, I searched on google it says it's a mild symptom of depression, I used to tell my mom a psychologist friend \"don't think too much, it's not important you get depressed easily\" then I frequent irregular breathing.",
         "Anxiety"
        ],
        [
         "44",
         "44",
         "I've been feeling restless for the past few days, now I'm nauseous, like someone...",
         "Anxiety"
        ],
        [
         "45",
         "45",
         "Oh no I'm restless. The time will come. I walk with Jesus. Then my heart is calm.. Every time I sing a song I don't know, tomorrow in this section I always want to cry . Because I sing it but I don't do it . Sorry God I worry too much ï¸",
         "Anxiety"
        ],
        [
         "46",
         "46",
         "Controlling anxiety is not as easy as it sounds.",
         "Anxiety"
        ],
        [
         "47",
         "47",
         "Since the pandemic, I haven't opened my laptop for a day, I feel restless, I have a very heavy life load",
         "Anxiety"
        ],
        [
         "48",
         "48",
         "People who are restless and afraid can be seen from the frequent touching of the face and ringing the fingers.",
         "Anxiety"
        ],
        [
         "49",
         "49",
         "I don't know if my mind breaks down, but I don't want to think about it :( , why do I feel restless?",
         "Anxiety"
        ]
       ],
       "shape": {
        "columns": 3,
        "rows": 200
       }
      },
      "text/html": [
       "<div>\n",
       "<style scoped>\n",
       "    .dataframe tbody tr th:only-of-type {\n",
       "        vertical-align: middle;\n",
       "    }\n",
       "\n",
       "    .dataframe tbody tr th {\n",
       "        vertical-align: top;\n",
       "    }\n",
       "\n",
       "    .dataframe thead th {\n",
       "        text-align: right;\n",
       "    }\n",
       "</style>\n",
       "<table border=\"1\" class=\"dataframe\">\n",
       "  <thead>\n",
       "    <tr style=\"text-align: right;\">\n",
       "      <th></th>\n",
       "      <th>Unnamed: 0</th>\n",
       "      <th>statement</th>\n",
       "      <th>status</th>\n",
       "    </tr>\n",
       "  </thead>\n",
       "  <tbody>\n",
       "    <tr>\n",
       "      <th>0</th>\n",
       "      <td>0</td>\n",
       "      <td>oh my gosh</td>\n",
       "      <td>Anxiety</td>\n",
       "    </tr>\n",
       "    <tr>\n",
       "      <th>1</th>\n",
       "      <td>1</td>\n",
       "      <td>trouble sleeping, confused mind, restless hear...</td>\n",
       "      <td>Anxiety</td>\n",
       "    </tr>\n",
       "    <tr>\n",
       "      <th>2</th>\n",
       "      <td>2</td>\n",
       "      <td>All wrong, back off dear, forward doubt. Stay ...</td>\n",
       "      <td>Anxiety</td>\n",
       "    </tr>\n",
       "    <tr>\n",
       "      <th>3</th>\n",
       "      <td>3</td>\n",
       "      <td>I've shifted my focus to something else but I'...</td>\n",
       "      <td>Anxiety</td>\n",
       "    </tr>\n",
       "    <tr>\n",
       "      <th>4</th>\n",
       "      <td>4</td>\n",
       "      <td>I'm restless and restless, it's been a month n...</td>\n",
       "      <td>Anxiety</td>\n",
       "    </tr>\n",
       "    <tr>\n",
       "      <th>...</th>\n",
       "      <td>...</td>\n",
       "      <td>...</td>\n",
       "      <td>...</td>\n",
       "    </tr>\n",
       "    <tr>\n",
       "      <th>195</th>\n",
       "      <td>195</td>\n",
       "      <td>Do not compare yourself to others. Envy only m...</td>\n",
       "      <td>Anxiety</td>\n",
       "    </tr>\n",
       "    <tr>\n",
       "      <th>196</th>\n",
       "      <td>196</td>\n",
       "      <td>The 5 dream ones were moved to a new unit, so ...</td>\n",
       "      <td>Anxiety</td>\n",
       "    </tr>\n",
       "    <tr>\n",
       "      <th>197</th>\n",
       "      <td>197</td>\n",
       "      <td>finished for the heart's intention to watch th...</td>\n",
       "      <td>Anxiety</td>\n",
       "    </tr>\n",
       "    <tr>\n",
       "      <th>198</th>\n",
       "      <td>198</td>\n",
       "      <td>\"No regrets or grudges/angry at things that ha...</td>\n",
       "      <td>Anxiety</td>\n",
       "    </tr>\n",
       "    <tr>\n",
       "      <th>199</th>\n",
       "      <td>199</td>\n",
       "      <td>Usually, if you're restless for a long time, s...</td>\n",
       "      <td>Anxiety</td>\n",
       "    </tr>\n",
       "  </tbody>\n",
       "</table>\n",
       "<p>200 rows × 3 columns</p>\n",
       "</div>"
      ],
      "text/plain": [
       "     Unnamed: 0                                          statement   status\n",
       "0             0                                         oh my gosh  Anxiety\n",
       "1             1  trouble sleeping, confused mind, restless hear...  Anxiety\n",
       "2             2  All wrong, back off dear, forward doubt. Stay ...  Anxiety\n",
       "3             3  I've shifted my focus to something else but I'...  Anxiety\n",
       "4             4  I'm restless and restless, it's been a month n...  Anxiety\n",
       "..          ...                                                ...      ...\n",
       "195         195  Do not compare yourself to others. Envy only m...  Anxiety\n",
       "196         196  The 5 dream ones were moved to a new unit, so ...  Anxiety\n",
       "197         197  finished for the heart's intention to watch th...  Anxiety\n",
       "198         198  \"No regrets or grudges/angry at things that ha...  Anxiety\n",
       "199         199  Usually, if you're restless for a long time, s...  Anxiety\n",
       "\n",
       "[200 rows x 3 columns]"
      ]
     },
     "execution_count": 6,
     "metadata": {},
     "output_type": "execute_result"
    }
   ],
   "source": [
    "stress_posts = df[df['status'].isin(['Stress','Anxiety','Depression'])]\n",
    "print(stress_posts.shape)\n",
    "print(stress_posts.columns)\n",
    "print(stress_posts.dtypes)\n",
    "stress_posts.head(200)"
   ]
  },
  {
   "cell_type": "markdown",
   "id": "01fc0518",
   "metadata": {},
   "source": [
    "### Text Preprocessing"
   ]
  },
  {
   "cell_type": "code",
   "execution_count": 7,
   "id": "a61abbaa",
   "metadata": {},
   "outputs": [],
   "source": [
    "### lowercase\n",
    "### dealing with numbers, punctuation, and symbols\n",
    "### splitting\n",
    "### tokenizing\n",
    "### removing \"stopwords\"\n",
    "### lemmatizing\n",
    "\n",
    "nlp = spacy.load(\"en_core_web_md\", disable=[\"ner\", \"parser\", \"textcat\"])\n",
    "\n",
    "class TextPreprocessor(BaseEstimator, TransformerMixin):\n",
    "    def __init__(self, language_model=nlp, min_len=1):\n",
    "        self.nlp = language_model\n",
    "        self.min_len = min_len  # optional length filter\n",
    "\n",
    "    def fit(self, X, y=None):\n",
    "        return self\n",
    "\n",
    "    def transform(self, X):\n",
    "        return [self._preprocess(x) for x in X]\n",
    "\n",
    "    def _preprocess(self, text):\n",
    "        # Missing values\n",
    "        if text is None:\n",
    "            return []\n",
    "        if not isinstance(text, str):\n",
    "            text = str(text)\n",
    "\n",
    "        # lower case\n",
    "        text = text.strip().lower()\n",
    "        if not text:\n",
    "            return []\n",
    "\n",
    "        # dealing with numbers, punctuation, and symbols/stopwords/lemmatizing\n",
    "        doc = self.nlp(text)\n",
    "        tokens = [\n",
    "            tok.lemma_\n",
    "            for tok in doc\n",
    "            if tok.is_alpha and not tok.is_stop\n",
    "        ]\n",
    "\n",
    "        doc = self.nlp(text)\n",
    "        tokens = [\n",
    "            tok.lemma_\n",
    "            for tok in doc\n",
    "            if tok.is_alpha\n",
    "            and not tok.is_stop\n",
    "            and len(tok) > 2         # drop very short leftovers\n",
    "            and tok.lemma_ not in {\"don\", \"t\", \"m\", \"feel\", \"like\", \"want\", \"know\", \"go\", \"think\", \"get\"}  # custom contraction cleanup\n",
    "        ]\n",
    "\n",
    "        # Optional: drop very short results\n",
    "        if len(tokens) < self.min_len:\n",
    "            return []\n",
    "        return tokens\n",
    "\n",
    "text_pipeline = Pipeline([\n",
    "    (\"preprocessor\", TextPreprocessor())\n",
    "])\n"
   ]
  },
  {
   "cell_type": "code",
   "execution_count": null,
   "id": "639e6ac8",
   "metadata": {},
   "outputs": [],
   "source": [
    "processed = text_pipeline.fit_transform(stress_posts[\"statement\"])\n",
    "b = list(processed)  # in case it's a numpy array\n",
    "stress_posts = stress_posts.copy()\n",
    "stress_posts[\"processed_tokens\"] = pd.Series(processed, index=stress_posts.index, dtype=object)\n",
    "stress_posts.to_pickle(\"/home/domib/code/dominik-bulla/g0zzy/stress_sense/data/stress_posts.pkl\")"
   ]
  },
  {
   "cell_type": "markdown",
   "id": "aed14b6c",
   "metadata": {},
   "source": [
    "### Text vectorizing"
   ]
  },
  {
   "cell_type": "code",
   "execution_count": 9,
   "id": "64945df6",
   "metadata": {},
   "outputs": [],
   "source": [
    "# use the pretokenized lists directly\n",
    "vectorizer = CountVectorizer(\n",
    "    analyzer=lambda x: x,   # identity analyzer: x is already a list of tokens\n",
    "    lowercase=False,        # you already lowercased\n",
    "    max_features=1000\n",
    ")\n",
    "vectorized_messages = vectorizer.fit_transform(stress_posts[\"processed_tokens\"])"
   ]
  },
  {
   "cell_type": "markdown",
   "id": "24b0d32d",
   "metadata": {},
   "source": [
    "### Finding best model"
   ]
  },
  {
   "cell_type": "code",
   "execution_count": 10,
   "id": "3493edb3",
   "metadata": {},
   "outputs": [
    {
     "name": "stdout",
     "output_type": "stream",
     "text": [
      "3\n",
      "6\n",
      "9\n",
      "12\n",
      "15\n",
      "18\n"
     ]
    }
   ],
   "source": [
    "scores = []\n",
    "perplexities = []\n",
    "topics_range = range(3, 21, 3)\n",
    "\n",
    "for k in topics_range:\n",
    "    print(k)\n",
    "    lda = LatentDirichletAllocation(\n",
    "        n_components=k,\n",
    "        max_iter=100,\n",
    "        random_state=42,\n",
    "        learning_method=\"batch\"\n",
    "    )\n",
    "    lda.fit(vectorized_messages)\n",
    "    scores.append(lda.score(vectorized_messages))\n",
    "    perplexities.append(lda.perplexity(vectorized_messages))"
   ]
  },
  {
   "cell_type": "code",
   "execution_count": 15,
   "id": "68d664f9",
   "metadata": {},
   "outputs": [],
   "source": [
    "with open(\"../data/scores.pkl\", \"wb\") as f:\n",
    "    pickle.dump(scores, f)\n",
    "\n",
    "with open(\"../data/perplexities.pkl\", \"wb\") as f:\n",
    "    pickle.dump(perplexities, f)"
   ]
  },
  {
   "cell_type": "code",
   "execution_count": 16,
   "id": "74262448",
   "metadata": {},
   "outputs": [
    {
     "data": {
      "image/png": "[encoded data removed]",
      "text/plain": [
       "<Figure size 640x480 with 1 Axes>"
      ]
     },
     "metadata": {},
     "output_type": "display_data"
    }
   ],
   "source": [
    "%matplotlib inline\n",
    "\n",
    "plt.plot(topics_range, scores, marker=\"o\", label=\"Log Likelihood\")\n",
    "# plt.plot(topics_range, perplexities, marker=\"x\", label=\"Perplexity\")\n",
    "plt.xlabel(\"Number of Topics\")\n",
    "plt.legend()\n",
    "plt.show()\n"
   ]
  },
  {
   "cell_type": "markdown",
   "id": "2a5511f4",
   "metadata": {},
   "source": [
    "### Train LDA Model"
   ]
  },
  {
   "cell_type": "code",
   "execution_count": 17,
   "id": "db340b8f",
   "metadata": {},
   "outputs": [],
   "source": [
    "n_components = 6\n",
    "lda_model = LatentDirichletAllocation(\n",
    "    n_components=n_components,\n",
    "    max_iter = 500,\n",
    "    random_state=42)\n",
    "lda_model.fit(vectorized_messages)\n",
    "topics_mixture = lda_model.transform(vectorized_messages)"
   ]
  },
  {
   "cell_type": "code",
   "execution_count": 18,
   "id": "46f838a8",
   "metadata": {},
   "outputs": [],
   "source": [
    "with open(\"../data/lda_model.pkl\", \"wb\") as f:\n",
    "    pickle.dump(lda_model, f)"
   ]
  },
  {
   "cell_type": "code",
   "execution_count": 19,
   "id": "0289218d",
   "metadata": {},
   "outputs": [],
   "source": [
    "np.save(\"../data/topics_mixture.npy\", topics_mixture)\n"
   ]
  },
  {
   "cell_type": "markdown",
   "id": "e0c6eaeb",
   "metadata": {},
   "source": [
    "### link back to original dataframe "
   ]
  },
  {
   "cell_type": "code",
   "execution_count": 20,
   "id": "f49255d8",
   "metadata": {},
   "outputs": [],
   "source": [
    "def link_back(topics_mixture, stress_posts):\n",
    "\n",
    "    topic_cols = [f\"topic_{i}\" for i in range(topics_mixture.shape[1])]\n",
    "    topic_df = pd.DataFrame(topics_mixture, index=stress_posts.index, columns=topic_cols)\n",
    "\n",
    "    stress_posts = stress_posts.copy()\n",
    "    stress_posts[\"dominant_topic\"] = topic_df.values.argmax(axis=1)\n",
    "    stress_posts[\"dominant_weight\"] = round(topic_df.max(axis=1),2)\n",
    "    stress_posts[\"solution\"] = np.where(\n",
    "        stress_posts[\"dominant_weight\"] > round(1/6,2), 1, 0\n",
    "    )\n",
    "\n",
    "    return stress_posts"
   ]
  },
  {
   "cell_type": "code",
   "execution_count": 21,
   "id": "48f86bfb",
   "metadata": {},
   "outputs": [],
   "source": [
    "stress_posts = link_back(topics_mixture, stress_posts)"
   ]
  },
  {
   "cell_type": "code",
   "execution_count": 23,
   "id": "949775fe",
   "metadata": {},
   "outputs": [
    {
     "name": "stdout",
     "output_type": "stream",
     "text": [
      "99.08\n"
     ]
    }
   ],
   "source": [
    "### proportion of proper solutions\n",
    "print(round(np.multiply(stress_posts.solution.value_counts(normalize=True)[1], 100),2))\n"
   ]
  },
  {
   "cell_type": "code",
   "execution_count": 24,
   "id": "2152cf78",
   "metadata": {},
   "outputs": [
    {
     "data": {
      "application/vnd.microsoft.datawrangler.viewer.v0+json": {
       "columns": [
        {
         "name": "dominant_topic",
         "rawType": "int64",
         "type": "integer"
        },
        {
         "name": "count",
         "rawType": "int64",
         "type": "integer"
        }
       ],
       "ref": "e990d229-4072-4a22-8a25-f5722f9b884a",
       "rows": [
        [
         "0",
         "561"
        ],
        [
         "2",
         "483"
        ],
        [
         "4",
         "480"
        ],
        [
         "1",
         "458"
        ],
        [
         "3",
         "455"
        ],
        [
         "5",
         "146"
        ]
       ],
       "shape": {
        "columns": 1,
        "rows": 6
       }
      },
      "text/plain": [
       "dominant_topic\n",
       "0    561\n",
       "2    483\n",
       "4    480\n",
       "1    458\n",
       "3    455\n",
       "5    146\n",
       "Name: count, dtype: int64"
      ]
     },
     "execution_count": 24,
     "metadata": {},
     "output_type": "execute_result"
    }
   ],
   "source": [
    "stress_posts[\n",
    "    (stress_posts['status'] == \"Stress\") &\n",
    "    (stress_posts['solution'] == 1)\n",
    "][\"dominant_topic\"].value_counts()\n"
   ]
  },
  {
   "cell_type": "code",
   "execution_count": 25,
   "id": "63a01b57",
   "metadata": {},
   "outputs": [],
   "source": [
    "def print_topics(lda_model, vectorizer, top_words):\n",
    "    topic_word_mixture = pd.DataFrame(\n",
    "        lda_model.components_,\n",
    "        columns = vectorizer.get_feature_names_out()\n",
    "    )\n",
    "    n_components = topic_word_mixture.shape[0]\n",
    "\n",
    "    for topic in range(n_components):\n",
    "        print(\"-\"*10)\n",
    "        print(f\"For topic {topic}, here are the the top {top_words} words with weights:\")\n",
    "\n",
    "        topic_df = topic_word_mixture.iloc[topic]\\\n",
    "            .sort_values(ascending = False).head(top_words)\n",
    "\n",
    "        print(round(topic_df,3))"
   ]
  },
  {
   "cell_type": "code",
   "execution_count": 26,
   "id": "d5cff8a6",
   "metadata": {},
   "outputs": [
    {
     "name": "stdout",
     "output_type": "stream",
     "text": [
      "----------\n",
      "For topic 0, here are the the top 20 words with weights:\n",
      "depression    5567.643\n",
      "help          4091.348\n",
      "anxiety       3035.583\n",
      "stress        1890.396\n",
      "try           1759.515\n",
      "mental        1726.219\n",
      "therapy       1625.593\n",
      "time          1551.503\n",
      "health        1465.464\n",
      "need          1457.554\n",
      "work          1405.451\n",
      "year          1391.307\n",
      "take          1298.127\n",
      "bad           1279.915\n",
      "thing         1263.693\n",
      "experience    1229.125\n",
      "medication    1147.599\n",
      "life          1078.450\n",
      "therapist     1050.423\n",
      "well          1048.960\n",
      "Name: 0, dtype: float64\n",
      "----------\n",
      "For topic 1, here are the the top 20 words with weights:\n",
      "tell      2271.214\n",
      "mom       1987.162\n",
      "year      1950.442\n",
      "family    1595.627\n",
      "parent    1518.385\n",
      "leave     1510.872\n",
      "day       1500.103\n",
      "cry       1421.640\n",
      "time      1296.881\n",
      "say       1246.526\n",
      "dad       1241.162\n",
      "home      1224.074\n",
      "come      1143.551\n",
      "house     1117.086\n",
      "need      1038.339\n",
      "help      1016.711\n",
      "live      1002.854\n",
      "mother     984.161\n",
      "room       936.125\n",
      "night      933.585\n",
      "Name: 1, dtype: float64\n",
      "----------\n",
      "For topic 2, here are the the top 20 words with weights:\n",
      "anxiety    4830.745\n",
      "day        2599.068\n",
      "start      2163.429\n",
      "pain       2134.174\n",
      "time       2069.236\n",
      "week       1883.540\n",
      "bad        1836.704\n",
      "heart      1790.295\n",
      "symptom    1767.075\n",
      "attack     1748.161\n",
      "doctor     1716.326\n",
      "panic      1651.161\n",
      "sleep      1364.058\n",
      "month      1344.205\n",
      "stress     1329.931\n",
      "have       1295.680\n",
      "year       1280.341\n",
      "come       1256.763\n",
      "anxious    1223.694\n",
      "worry      1140.500\n",
      "Name: 2, dtype: float64\n",
      "----------\n",
      "For topic 3, here are the the top 20 words with weights:\n",
      "friend          5697.862\n",
      "people          4942.188\n",
      "talk            4520.587\n",
      "tell            3079.331\n",
      "thing           2835.111\n",
      "time            2782.146\n",
      "say             2290.829\n",
      "good            2157.097\n",
      "try             2116.263\n",
      "person          1781.503\n",
      "love            1759.490\n",
      "ask             1679.966\n",
      "bad             1554.953\n",
      "relationship    1400.540\n",
      "start           1317.064\n",
      "help            1304.110\n",
      "way             1262.602\n",
      "need            1259.844\n",
      "make            1212.529\n",
      "girl            1173.161\n",
      "Name: 3, dtype: float64\n",
      "----------\n",
      "For topic 4, here are the the top 20 words with weights:\n",
      "work       5424.811\n",
      "job        4267.162\n",
      "life       3622.395\n",
      "year       3445.703\n",
      "time       3168.739\n",
      "school     2479.548\n",
      "day        1947.370\n",
      "thing      1691.706\n",
      "start      1567.824\n",
      "good       1499.608\n",
      "live       1362.880\n",
      "money      1328.012\n",
      "college    1313.161\n",
      "lose       1215.962\n",
      "find       1171.242\n",
      "friend     1102.303\n",
      "try        1072.103\n",
      "month      1067.546\n",
      "pay        1011.918\n",
      "end        1006.200\n",
      "Name: 4, dtype: float64\n",
      "----------\n",
      "For topic 5, here are the the top 20 words with weights:\n",
      "life       7637.251\n",
      "hate       3593.099\n",
      "anymore    3479.614\n",
      "people     3159.957\n",
      "live       2854.177\n",
      "thing      2713.135\n",
      "day        2649.605\n",
      "try        2636.760\n",
      "die        2538.800\n",
      "fucking    2438.084\n",
      "tired      2421.892\n",
      "well       2257.876\n",
      "fuck       2132.536\n",
      "happy      2061.149\n",
      "time       2053.495\n",
      "wish       2017.558\n",
      "bad        2011.713\n",
      "care       1951.151\n",
      "love       1950.895\n",
      "kill       1814.512\n",
      "Name: 5, dtype: float64\n"
     ]
    }
   ],
   "source": [
    "print_topics(lda_model, vectorizer, 20)\n"
   ]
  },
  {
   "cell_type": "code",
   "execution_count": null,
   "id": "b20d0e39",
   "metadata": {},
   "outputs": [],
   "source": []
  }
 ],
 "metadata": {
  "kernelspec": {
   "display_name": "stress_sense",
   "language": "python",
   "name": "python3"
  },
  "language_info": {
   "codemirror_mode": {
    "name": "ipython",
    "version": 3
   },
   "file_extension": ".py",
   "mimetype": "text/x-python",
   "name": "python",
   "nbconvert_exporter": "python",
   "pygments_lexer": "ipython3",
   "version": "3.10.6"
  }
 },
 "nbformat": 4,
 "nbformat_minor": 5
}
