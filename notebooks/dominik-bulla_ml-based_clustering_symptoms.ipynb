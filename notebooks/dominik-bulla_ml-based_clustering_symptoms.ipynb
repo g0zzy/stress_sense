{
 "cells": [
  {
   "cell_type": "markdown",
   "id": "73e1d55b",
   "metadata": {},
   "source": [
    "### Import packages"
   ]
  },
  {
   "cell_type": "code",
   "execution_count": null,
   "id": "f1dc6a50",
   "metadata": {},
   "outputs": [],
   "source": [
    "import enchant\n",
    "import matplotlib.pyplot as plt\n",
    "import numpy as np\n",
    "import pandas as pd\n",
    "import re\n",
    "import spacy\n",
    "from sklearn.base import BaseEstimator, TransformerMixin\n",
    "from sklearn.decomposition import LatentDirichletAllocation\n",
    "from sklearn.feature_extraction.text import CountVectorizer\n",
    "from sklearn.pipeline import Pipeline\n",
    "import sys"
   ]
  },
  {
   "cell_type": "code",
   "execution_count": null,
   "id": "55978776",
   "metadata": {},
   "outputs": [],
   "source": [
    "# Install large model\n",
    "\n",
    "#!{sys.executable} -m pip install \"https://github.com/explosion/spacy-models/releases/download/en_core_web_lg-3.7.1/en_core_web_lg-3.7.1-py3-none-any.whl\"\n",
    "#!{sys.executable} -m spacy validate\n",
    "\n",
    "# Do not use"
   ]
  },
  {
   "cell_type": "code",
   "execution_count": null,
   "id": "ef5f57f9",
   "metadata": {},
   "outputs": [],
   "source": [
    "# Install medium model\n",
    "#!{sys.executable} -m pip install \"https://github.com/explosion/spacy-models/releases/download/en_core_web_md-3.7.1/en_core_web_md-3.7.1-py3-none-any.whl\"\n",
    "#!{sys.executable} -m spacy validate"
   ]
  },
  {
   "cell_type": "markdown",
   "id": "1f6c0f8f",
   "metadata": {},
   "source": [
    "### Load and subset data"
   ]
  },
  {
   "cell_type": "code",
   "execution_count": 3,
   "id": "6187f6c2",
   "metadata": {},
   "outputs": [],
   "source": [
    "df = pd.read_csv(\"/home/domib/code/dominik-bulla/g0zzy/stress_sense/raw_data/Combined Data.csv\", encoding=\"latin1\")"
   ]
  },
  {
   "cell_type": "code",
   "execution_count": null,
   "id": "91fbd5a9",
   "metadata": {},
   "outputs": [
    {
     "data": {
      "text/plain": [
       "Index(['Unnamed: 0', 'statement', 'status'], dtype='object')"
      ]
     },
     "metadata": {},
     "output_type": "display_data"
    }
   ],
   "source": [
    "df.columns"
   ]
  },
  {
   "cell_type": "code",
   "execution_count": 4,
   "id": "0cf0a931",
   "metadata": {},
   "outputs": [
    {
     "name": "stdout",
     "output_type": "stream",
     "text": [
      "(21961, 3)\n",
      "Index(['Unnamed: 0', 'statement', 'status'], dtype='object')\n",
      "Unnamed: 0     int64\n",
      "statement     object\n",
      "status        object\n",
      "dtype: object\n"
     ]
    },
    {
     "data": {
      "application/vnd.microsoft.datawrangler.viewer.v0+json": {
       "columns": [
        {
         "name": "index",
         "rawType": "int64",
         "type": "integer"
        },
        {
         "name": "Unnamed: 0",
         "rawType": "int64",
         "type": "integer"
        },
        {
         "name": "statement",
         "rawType": "object",
         "type": "string"
        },
        {
         "name": "status",
         "rawType": "object",
         "type": "string"
        }
       ],
       "ref": "d626e6bf-db53-47ae-a1e2-671ee5fd3009",
       "rows": [
        [
         "0",
         "0",
         "oh my gosh",
         "Anxiety"
        ],
        [
         "1",
         "1",
         "trouble sleeping, confused mind, restless heart. All out of tune",
         "Anxiety"
        ],
        [
         "2",
         "2",
         "All wrong, back off dear, forward doubt. Stay in a restless and restless place",
         "Anxiety"
        ],
        [
         "3",
         "3",
         "I've shifted my focus to something else but I'm still worried",
         "Anxiety"
        ],
        [
         "4",
         "4",
         "I'm restless and restless, it's been a month now, boy. What do you mean?",
         "Anxiety"
        ],
        [
         "5",
         "5",
         "every break, you must be nervous, like something is wrong, but what the heck",
         "Anxiety"
        ],
        [
         "6",
         "6",
         "I feel scared, anxious, what can I do? And may my family or us be protected :)",
         "Anxiety"
        ],
        [
         "7",
         "7",
         "Have you ever felt nervous but didn't know why?",
         "Anxiety"
        ],
        [
         "8",
         "8",
         "I haven't slept well for 2 days, it's like I'm restless. why huh :([].",
         "Anxiety"
        ],
        [
         "9",
         "9",
         "I'm really worried, I want to cry.",
         "Anxiety"
        ],
        [
         "10",
         "10",
         "always restless every night, even though I don't know why, what's wrong. strange.",
         "Anxiety"
        ],
        [
         "11",
         "11",
         "I'm confused, I'm not feeling good lately. Every time I want to sleep, I always feel restless",
         "Anxiety"
        ],
        [
         "12",
         "12",
         "sometimes what is needed when there is a problem is to laugh until you forget that there is a problem, when you remember it, you feel restless like that well, it turns out that I still have a sad burden blah blah blah",
         "Anxiety"
        ],
        [
         "13",
         "13",
         "Because this worry is you.",
         "Anxiety"
        ],
        [
         "14",
         "14",
         "Sometimes it's your own thoughts that make you anxious and afraid to close your eyes until you don't sleep",
         "Anxiety"
        ],
        [
         "15",
         "15",
         "Every time I wake up, I'm definitely nervous and excited, until when are you going to try â¢â",
         "Anxiety"
        ],
        [
         "16",
         "16",
         "I can only hope, even though I'm worried if it starts like this....",
         "Anxiety"
        ],
        [
         "17",
         "17",
         "restive = restless, restless",
         "Anxiety"
        ],
        [
         "18",
         "18",
         "\"No regrets or grudges/angry at things that have passed, and not worrying too much about the future, that's true serenity.\"",
         "Anxiety"
        ],
        [
         "19",
         "19",
         "If the guy is sick, the girl actually feels sick indirectly. He must be feeling restless and restless. :')",
         "Anxiety"
        ],
        [
         "20",
         "20",
         "I've been the most anxious person before I became the most sincere person, I've also been the most worried person before it all ended",
         "Anxiety"
        ],
        [
         "21",
         "21",
         "Successfully online at 9am. Even sleeping in a state of restlessness what is wrong with me",
         "Anxiety"
        ],
        [
         "22",
         "22",
         "Can't sleep. Just restless by nature",
         "Anxiety"
        ],
        [
         "23",
         "23",
         "Already worried about picking up the phone",
         "Anxiety"
        ],
        [
         "24",
         "24",
         "a little restless. a little restless. always feel guilty. sorry if i can't be the best as i've been :'",
         "Anxiety"
        ],
        [
         "25",
         "25",
         "I've been so restless since this morning",
         "Anxiety"
        ],
        [
         "26",
         "26",
         "it makes you feel restless",
         "Anxiety"
        ],
        [
         "27",
         "27",
         "Sleepy but restless when you sleep",
         "Anxiety"
        ],
        [
         "28",
         "28",
         "Why is this cave... I'm already in a bad mood and then my heart seems to be beating really fast... I'm really nervous. Is there something wrong???",
         "Anxiety"
        ],
        [
         "29",
         "29",
         "He is very busy, He is restless, geez, what's going on?",
         "Anxiety"
        ],
        [
         "30",
         "30",
         "I'm broken and fragile, I'm hurt, I can't stand the anxiety anymore, I can't stand the love. Until now I was ignored, not seen, even left far away. I'm not like what he wants, so I'll just step back.",
         "Anxiety"
        ],
        [
         "31",
         "31",
         "# Suggest a song that makes you calm, don't know why suddenly this feeling of anger / restlessness appears. Thanks!",
         "Anxiety"
        ],
        [
         "32",
         "32",
         "Terooosss nervous huuuu",
         "Anxiety"
        ],
        [
         "33",
         "33",
         "why today's heart doesn't feel good..jealous?.anxious?.disappointed?.feeling failed?",
         "Anxiety"
        ],
        [
         "34",
         "34",
         "It's a habit from elementary school if I think about something I'll get worried I can't sleep",
         "Anxiety"
        ],
        [
         "35",
         "35",
         "Since yesterday yesterday, I have not been in the mood, very sensitive, feeling restless, always surprised and many surprises every day that almost make my brain explode, everyone is the target of ups and downs in mood. But today I feel very grateful that this lecture drama is over.",
         "Anxiety"
        ],
        [
         "36",
         "36",
         "Tonight he continues to chatter about money, I'm so confused what to do. Once he said don't worry about money, but he kept blabbering about money.",
         "Anxiety"
        ],
        [
         "37",
         "37",
         "Feeling so restless lately.",
         "Anxiety"
        ],
        [
         "38",
         "38",
         "Oh god I'm restless",
         "Anxiety"
        ],
        [
         "39",
         "39",
         "but my heart is still restless even though my mouth is talking",
         "Anxiety"
        ],
        [
         "40",
         "40",
         "waiting for uncertainty, please be anxious",
         "Anxiety"
        ],
        [
         "41",
         "41",
         "been the most anxious person, before becoming the most sincere person",
         "Anxiety"
        ],
        [
         "42",
         "42",
         "Did you ever read it when you read it to RL, I mean the atmosphere, the taste. It's because I'm like this. when I read au, the topic was about mental illness â¢ my days became restless....and now I'm scared.",
         "Anxiety"
        ],
        [
         "43",
         "43",
         "Hi, I want to tell you... Lately I've been feeling restless, have trouble sleeping, I searched on google it says it's a mild symptom of depression, I used to tell my mom a psychologist friend \"don't think too much, it's not important you get depressed easily\" then I frequent irregular breathing.",
         "Anxiety"
        ],
        [
         "44",
         "44",
         "I've been feeling restless for the past few days, now I'm nauseous, like someone...",
         "Anxiety"
        ],
        [
         "45",
         "45",
         "Oh no I'm restless. The time will come. I walk with Jesus. Then my heart is calm.. Every time I sing a song I don't know, tomorrow in this section I always want to cry . Because I sing it but I don't do it . Sorry God I worry too much ï¸",
         "Anxiety"
        ],
        [
         "46",
         "46",
         "Controlling anxiety is not as easy as it sounds.",
         "Anxiety"
        ],
        [
         "47",
         "47",
         "Since the pandemic, I haven't opened my laptop for a day, I feel restless, I have a very heavy life load",
         "Anxiety"
        ],
        [
         "48",
         "48",
         "People who are restless and afraid can be seen from the frequent touching of the face and ringing the fingers.",
         "Anxiety"
        ],
        [
         "49",
         "49",
         "I don't know if my mind breaks down, but I don't want to think about it :( , why do I feel restless?",
         "Anxiety"
        ]
       ],
       "shape": {
        "columns": 3,
        "rows": 200
       }
      },
      "text/html": [
       "<div>\n",
       "<style scoped>\n",
       "    .dataframe tbody tr th:only-of-type {\n",
       "        vertical-align: middle;\n",
       "    }\n",
       "\n",
       "    .dataframe tbody tr th {\n",
       "        vertical-align: top;\n",
       "    }\n",
       "\n",
       "    .dataframe thead th {\n",
       "        text-align: right;\n",
       "    }\n",
       "</style>\n",
       "<table border=\"1\" class=\"dataframe\">\n",
       "  <thead>\n",
       "    <tr style=\"text-align: right;\">\n",
       "      <th></th>\n",
       "      <th>Unnamed: 0</th>\n",
       "      <th>statement</th>\n",
       "      <th>status</th>\n",
       "    </tr>\n",
       "  </thead>\n",
       "  <tbody>\n",
       "    <tr>\n",
       "      <th>0</th>\n",
       "      <td>0</td>\n",
       "      <td>oh my gosh</td>\n",
       "      <td>Anxiety</td>\n",
       "    </tr>\n",
       "    <tr>\n",
       "      <th>1</th>\n",
       "      <td>1</td>\n",
       "      <td>trouble sleeping, confused mind, restless hear...</td>\n",
       "      <td>Anxiety</td>\n",
       "    </tr>\n",
       "    <tr>\n",
       "      <th>2</th>\n",
       "      <td>2</td>\n",
       "      <td>All wrong, back off dear, forward doubt. Stay ...</td>\n",
       "      <td>Anxiety</td>\n",
       "    </tr>\n",
       "    <tr>\n",
       "      <th>3</th>\n",
       "      <td>3</td>\n",
       "      <td>I've shifted my focus to something else but I'...</td>\n",
       "      <td>Anxiety</td>\n",
       "    </tr>\n",
       "    <tr>\n",
       "      <th>4</th>\n",
       "      <td>4</td>\n",
       "      <td>I'm restless and restless, it's been a month n...</td>\n",
       "      <td>Anxiety</td>\n",
       "    </tr>\n",
       "    <tr>\n",
       "      <th>...</th>\n",
       "      <td>...</td>\n",
       "      <td>...</td>\n",
       "      <td>...</td>\n",
       "    </tr>\n",
       "    <tr>\n",
       "      <th>195</th>\n",
       "      <td>195</td>\n",
       "      <td>Do not compare yourself to others. Envy only m...</td>\n",
       "      <td>Anxiety</td>\n",
       "    </tr>\n",
       "    <tr>\n",
       "      <th>196</th>\n",
       "      <td>196</td>\n",
       "      <td>The 5 dream ones were moved to a new unit, so ...</td>\n",
       "      <td>Anxiety</td>\n",
       "    </tr>\n",
       "    <tr>\n",
       "      <th>197</th>\n",
       "      <td>197</td>\n",
       "      <td>finished for the heart's intention to watch th...</td>\n",
       "      <td>Anxiety</td>\n",
       "    </tr>\n",
       "    <tr>\n",
       "      <th>198</th>\n",
       "      <td>198</td>\n",
       "      <td>\"No regrets or grudges/angry at things that ha...</td>\n",
       "      <td>Anxiety</td>\n",
       "    </tr>\n",
       "    <tr>\n",
       "      <th>199</th>\n",
       "      <td>199</td>\n",
       "      <td>Usually, if you're restless for a long time, s...</td>\n",
       "      <td>Anxiety</td>\n",
       "    </tr>\n",
       "  </tbody>\n",
       "</table>\n",
       "<p>200 rows × 3 columns</p>\n",
       "</div>"
      ],
      "text/plain": [
       "     Unnamed: 0                                          statement   status\n",
       "0             0                                         oh my gosh  Anxiety\n",
       "1             1  trouble sleeping, confused mind, restless hear...  Anxiety\n",
       "2             2  All wrong, back off dear, forward doubt. Stay ...  Anxiety\n",
       "3             3  I've shifted my focus to something else but I'...  Anxiety\n",
       "4             4  I'm restless and restless, it's been a month n...  Anxiety\n",
       "..          ...                                                ...      ...\n",
       "195         195  Do not compare yourself to others. Envy only m...  Anxiety\n",
       "196         196  The 5 dream ones were moved to a new unit, so ...  Anxiety\n",
       "197         197  finished for the heart's intention to watch th...  Anxiety\n",
       "198         198  \"No regrets or grudges/angry at things that ha...  Anxiety\n",
       "199         199  Usually, if you're restless for a long time, s...  Anxiety\n",
       "\n",
       "[200 rows x 3 columns]"
      ]
     },
     "execution_count": 4,
     "metadata": {},
     "output_type": "execute_result"
    }
   ],
   "source": [
    "stress_posts = df[df['status'].isin(['Stress','Anxiety','Depression'])]\n",
    "print(stress_posts.shape)\n",
    "print(stress_posts.columns)\n",
    "print(stress_posts.dtypes)\n",
    "stress_posts.head(200)"
   ]
  },
  {
   "cell_type": "markdown",
   "id": "01fc0518",
   "metadata": {},
   "source": [
    "### Text Preprocessing"
   ]
  },
  {
   "cell_type": "code",
   "execution_count": 5,
   "id": "a61abbaa",
   "metadata": {},
   "outputs": [],
   "source": [
    "### lowercase\n",
    "### dealing with numbers, punctuation, and symbols\n",
    "### splitting\n",
    "### tokenizing\n",
    "### removing \"stopwords\"\n",
    "### lemmatizing\n",
    "\n",
    "nlp = spacy.load(\"en_core_web_md\", disable=[\"ner\", \"parser\", \"textcat\"])\n",
    "\n",
    "class TextPreprocessor(BaseEstimator, TransformerMixin):\n",
    "    def __init__(self, language_model=nlp, min_len=1):\n",
    "        self.nlp = language_model\n",
    "        self.min_len = min_len  # optional length filter\n",
    "\n",
    "    def fit(self, X, y=None):\n",
    "        return self\n",
    "\n",
    "    def transform(self, X):\n",
    "        return [self._preprocess(x) for x in X]\n",
    "\n",
    "    def _preprocess(self, text):\n",
    "        # Missing values\n",
    "        if text is None:\n",
    "            return []\n",
    "        if not isinstance(text, str):\n",
    "            text = str(text)\n",
    "\n",
    "        # lower case\n",
    "        text = text.strip().lower()\n",
    "        if not text:\n",
    "            return []\n",
    "\n",
    "        # dealing with numbers, punctuation, and symbols/stopwords/lemmatizing\n",
    "        doc = self.nlp(text)\n",
    "        tokens = [\n",
    "            tok.lemma_\n",
    "            for tok in doc\n",
    "            if tok.is_alpha and not tok.is_stop\n",
    "        ]\n",
    "\n",
    "        doc = self.nlp(text)\n",
    "        tokens = [\n",
    "            tok.lemma_\n",
    "            for tok in doc\n",
    "            if tok.is_alpha\n",
    "            and not tok.is_stop\n",
    "            and len(tok) > 2         # drop very short leftovers\n",
    "            and tok.lemma_ not in {\"don\", \"t\", \"m\"}  # custom contraction cleanup\n",
    "        ]\n",
    "\n",
    "        # Optional: drop very short results\n",
    "        if len(tokens) < self.min_len:\n",
    "            return []\n",
    "        return tokens\n",
    "\n",
    "text_pipeline = Pipeline([\n",
    "    (\"preprocessor\", TextPreprocessor())\n",
    "])\n"
   ]
  },
  {
   "cell_type": "code",
   "execution_count": null,
   "id": "639e6ac8",
   "metadata": {},
   "outputs": [],
   "source": [
    "processed = text_pipeline.fit_transform(stress_posts[\"statement\"])\n",
    "b = list(processed)  # in case it's a numpy array\n",
    "stress_posts = stress_posts.copy()\n",
    "stress_posts[\"processed_tokens\"] = pd.Series(processed, index=stress_posts.index, dtype=object)"
   ]
  },
  {
   "cell_type": "code",
   "execution_count": null,
   "id": "899686b1",
   "metadata": {},
   "outputs": [],
   "source": [
    "### \"feel\", \"like\", \"want\", \"know\", \"go\", \"think\", \"get\""
   ]
  },
  {
   "cell_type": "markdown",
   "id": "aed14b6c",
   "metadata": {},
   "source": [
    "### Text vectorizing"
   ]
  },
  {
   "cell_type": "code",
   "execution_count": 10,
   "id": "64945df6",
   "metadata": {},
   "outputs": [],
   "source": [
    "# use the pretokenized lists directly\n",
    "vectorizer = CountVectorizer(\n",
    "    analyzer=lambda x: x,   # identity analyzer: x is already a list of tokens\n",
    "    lowercase=False,        # you already lowercased\n",
    "    max_features=1000\n",
    ")\n",
    "vectorized_messages = vectorizer.fit_transform(stress_posts[\"processed_tokens\"])"
   ]
  },
  {
   "cell_type": "markdown",
   "id": "24b0d32d",
   "metadata": {},
   "source": [
    "### Finding best model"
   ]
  },
  {
   "cell_type": "code",
   "execution_count": 11,
   "id": "3493edb3",
   "metadata": {},
   "outputs": [
    {
     "name": "stdout",
     "output_type": "stream",
     "text": [
      "3\n",
      "6\n",
      "9\n",
      "12\n",
      "15\n",
      "18\n"
     ]
    }
   ],
   "source": [
    "scores = []\n",
    "perplexities = []\n",
    "topics_range = range(3, 21, 3)\n",
    "\n",
    "for k in topics_range:\n",
    "    print(k)\n",
    "    lda = LatentDirichletAllocation(\n",
    "        n_components=k,\n",
    "        max_iter=100,\n",
    "        random_state=42,\n",
    "        learning_method=\"batch\"\n",
    "    )\n",
    "    lda.fit(vectorized_messages)\n",
    "    scores.append(lda.score(vectorized_messages))\n",
    "    perplexities.append(lda.perplexity(vectorized_messages))"
   ]
  },
  {
   "cell_type": "code",
   "execution_count": null,
   "id": "74262448",
   "metadata": {},
   "outputs": [
    {
     "data": {
      "image/png": "[encoded data removed]",
      "text/plain": [
       "<Figure size 640x480 with 1 Axes>"
      ]
     },
     "metadata": {},
     "output_type": "display_data"
    }
   ],
   "source": [
    "%matplotlib inline\n",
    "\n",
    "plt.plot(topics_range, scores, marker=\"o\", label=\"Log Likelihood\")\n",
    "# plt.plot(topics_range, perplexities, marker=\"x\", label=\"Perplexity\")\n",
    "plt.xlabel(\"Number of Topics\")\n",
    "plt.legend()\n",
    "plt.show()\n"
   ]
  },
  {
   "cell_type": "markdown",
   "id": "2a5511f4",
   "metadata": {},
   "source": [
    "### Train LDA Model"
   ]
  },
  {
   "cell_type": "code",
   "execution_count": 15,
   "id": "db340b8f",
   "metadata": {},
   "outputs": [],
   "source": [
    "n_components = 9\n",
    "lda_model = LatentDirichletAllocation(\n",
    "    n_components=n_components,\n",
    "    max_iter = 500,\n",
    "    random_state=42)\n",
    "lda_model.fit(vectorized_messages)\n",
    "topics_mixture = lda_model.transform(vectorized_messages)"
   ]
  },
  {
   "cell_type": "markdown",
   "id": "e0c6eaeb",
   "metadata": {},
   "source": [
    "### link back to original dataframe "
   ]
  },
  {
   "cell_type": "code",
   "execution_count": 16,
   "id": "f49255d8",
   "metadata": {},
   "outputs": [],
   "source": [
    "def link_back(topics_mixture, stress_posts):\n",
    "\n",
    "    topic_cols = [f\"topic_{i}\" for i in range(topics_mixture.shape[1])]\n",
    "    topic_df = pd.DataFrame(topics_mixture, index=stress_posts.index, columns=topic_cols)\n",
    "\n",
    "    stress_posts = stress_posts.copy()\n",
    "    stress_posts[\"dominant_topic\"] = topic_df.values.argmax(axis=1)\n",
    "    stress_posts[\"dominant_weight\"] = round(topic_df.max(axis=1),2)\n",
    "    stress_posts[\"solution\"] = np.where(\n",
    "        stress_posts[\"dominant_weight\"] > round(1/6,2), 1, 0\n",
    "    )\n",
    "\n",
    "    return stress_posts"
   ]
  },
  {
   "cell_type": "code",
   "execution_count": 17,
   "id": "48f86bfb",
   "metadata": {},
   "outputs": [],
   "source": [
    "stress_posts_9 = link_back(topics_mixture, stress_posts)"
   ]
  },
  {
   "cell_type": "code",
   "execution_count": 18,
   "id": "949775fe",
   "metadata": {},
   "outputs": [
    {
     "name": "stdout",
     "output_type": "stream",
     "text": [
      "99.12\n"
     ]
    }
   ],
   "source": [
    "### proportion of proper solutions\n",
    "print(round(np.multiply(stress_posts_9.solution.value_counts(normalize=True)[1], 100),2))\n"
   ]
  },
  {
   "cell_type": "code",
   "execution_count": 23,
   "id": "2152cf78",
   "metadata": {},
   "outputs": [
    {
     "data": {
      "application/vnd.microsoft.datawrangler.viewer.v0+json": {
       "columns": [
        {
         "name": "dominant_topic",
         "rawType": "int64",
         "type": "integer"
        },
        {
         "name": "count",
         "rawType": "int64",
         "type": "integer"
        }
       ],
       "ref": "3a98c406-e824-488b-b25d-88192f3212e8",
       "rows": [
        [
         "6",
         "499"
        ],
        [
         "3",
         "499"
        ],
        [
         "7",
         "405"
        ],
        [
         "2",
         "337"
        ],
        [
         "0",
         "316"
        ],
        [
         "8",
         "269"
        ],
        [
         "1",
         "98"
        ],
        [
         "5",
         "81"
        ],
        [
         "4",
         "79"
        ]
       ],
       "shape": {
        "columns": 1,
        "rows": 9
       }
      },
      "text/plain": [
       "dominant_topic\n",
       "6    499\n",
       "3    499\n",
       "7    405\n",
       "2    337\n",
       "0    316\n",
       "8    269\n",
       "1     98\n",
       "5     81\n",
       "4     79\n",
       "Name: count, dtype: int64"
      ]
     },
     "execution_count": 23,
     "metadata": {},
     "output_type": "execute_result"
    }
   ],
   "source": [
    "stress_posts_9[\n",
    "    (stress_posts_9['status'] == \"Stress\") &\n",
    "    (stress_posts_9['solution'] == 1)\n",
    "][\"dominant_topic\"].value_counts()\n"
   ]
  },
  {
   "cell_type": "code",
   "execution_count": 25,
   "id": "63a01b57",
   "metadata": {},
   "outputs": [],
   "source": [
    "def print_topics(lda_model, vectorizer, top_words):\n",
    "    topic_word_mixture = pd.DataFrame(\n",
    "        lda_model.components_,\n",
    "        columns = vectorizer.get_feature_names_out()\n",
    "    )\n",
    "    n_components = topic_word_mixture.shape[0]\n",
    "\n",
    "    for topic in range(n_components):\n",
    "        print(\"-\"*10)\n",
    "        print(f\"For topic {topic}, here are the the top {top_words} words with weights:\")\n",
    "\n",
    "        topic_df = topic_word_mixture.iloc[topic]\\\n",
    "            .sort_values(ascending = False).head(top_words)\n",
    "\n",
    "        print(round(topic_df,3))"
   ]
  },
  {
   "cell_type": "code",
   "execution_count": null,
   "id": "d5cff8a6",
   "metadata": {},
   "outputs": [
    {
     "name": "stdout",
     "output_type": "stream",
     "text": [
      "----------\n",
      "For topic 0, here are the the top 20 words with weights:\n",
      "friend          5288.742\n",
      "like            3891.885\n",
      "people          3757.045\n",
      "talk            2772.853\n",
      "think           2704.376\n",
      "know            2368.491\n",
      "want            2138.702\n",
      "time            2092.988\n",
      "love            1995.372\n",
      "feel            1933.718\n",
      "good            1851.806\n",
      "thing           1748.233\n",
      "year            1617.642\n",
      "relationship    1507.099\n",
      "go              1309.947\n",
      "get             1293.703\n",
      "person          1252.465\n",
      "life            1193.265\n",
      "try             1176.944\n",
      "girl            1173.111\n",
      "Name: 0, dtype: float64\n",
      "----------\n",
      "For topic 1, here are the the top 20 words with weights:\n",
      "day        3693.617\n",
      "sleep      3243.111\n",
      "wake       1845.111\n",
      "night      1740.686\n",
      "eat        1517.927\n",
      "bed        1446.449\n",
      "hour       1261.433\n",
      "morning     858.148\n",
      "today       854.141\n",
      "go          852.861\n",
      "cry         847.879\n",
      "tired       830.076\n",
      "time        796.178\n",
      "work        747.487\n",
      "get         684.978\n",
      "fall        680.958\n",
      "food        636.179\n",
      "sit         598.808\n",
      "room        587.185\n",
      "home        548.674\n",
      "Name: 1, dtype: float64\n",
      "----------\n",
      "For topic 2, here are the the top 20 words with weights:\n",
      "anxiety    4272.898\n",
      "feel       3128.519\n",
      "go         2516.562\n",
      "like       2453.368\n",
      "pain       2153.413\n",
      "get        2018.661\n",
      "think      1918.972\n",
      "symptom    1824.728\n",
      "attack     1748.111\n",
      "heart      1739.114\n",
      "start      1673.901\n",
      "panic      1651.111\n",
      "doctor     1632.682\n",
      "time       1550.077\n",
      "bad        1464.887\n",
      "week       1416.941\n",
      "know       1408.535\n",
      "day        1186.983\n",
      "year       1186.246\n",
      "have       1153.118\n",
      "Name: 2, dtype: float64\n",
      "----------\n",
      "For topic 3, here are the the top 20 words with weights:\n",
      "stress        2290.946\n",
      "help          2252.115\n",
      "anxiety       1806.363\n",
      "depression    1435.997\n",
      "mental        1419.858\n",
      "health        1347.724\n",
      "people        1244.925\n",
      "need           950.275\n",
      "thing          947.597\n",
      "experience     858.227\n",
      "amp            823.111\n",
      "issue          817.687\n",
      "find           817.621\n",
      "way            733.339\n",
      "post           733.126\n",
      "time           730.081\n",
      "try            726.756\n",
      "work           713.031\n",
      "thank          674.571\n",
      "problem        661.751\n",
      "Name: 3, dtype: float64\n",
      "----------\n",
      "For topic 4, here are the the top 20 words with weights:\n",
      "want       6774.555\n",
      "life       6488.240\n",
      "live       3075.345\n",
      "hate       3048.009\n",
      "die        2904.201\n",
      "know       2644.751\n",
      "people     2619.085\n",
      "anymore    2603.588\n",
      "fucking    2453.111\n",
      "fuck       2268.605\n",
      "kill       1876.778\n",
      "think      1751.454\n",
      "love       1684.477\n",
      "care       1617.990\n",
      "wish       1600.711\n",
      "shit       1544.534\n",
      "go         1526.630\n",
      "try        1387.887\n",
      "end        1384.760\n",
      "world      1352.898\n",
      "Name: 4, dtype: float64\n",
      "----------\n",
      "For topic 5, here are the the top 20 words with weights:\n",
      "depression    3969.891\n",
      "year          1917.199\n",
      "anxiety       1787.072\n",
      "help          1727.230\n",
      "take          1366.111\n",
      "month         1363.907\n",
      "get           1352.839\n",
      "start         1327.781\n",
      "day           1294.015\n",
      "bad           1289.095\n",
      "medication    1232.111\n",
      "try           1169.991\n",
      "therapy       1165.528\n",
      "week          1048.691\n",
      "go             997.223\n",
      "work           990.569\n",
      "med            988.111\n",
      "well           986.144\n",
      "time           884.808\n",
      "ago            765.266\n",
      "Name: 5, dtype: float64\n",
      "----------\n",
      "For topic 6, here are the the top 20 words with weights:\n",
      "work       4878.989\n",
      "job        4267.111\n",
      "year       3214.227\n",
      "life       2695.416\n",
      "time       2637.639\n",
      "get        2294.138\n",
      "feel       2293.070\n",
      "school     2200.621\n",
      "go         2082.377\n",
      "like       1862.125\n",
      "live       1524.388\n",
      "start      1367.514\n",
      "money      1347.654\n",
      "college    1313.111\n",
      "home       1202.836\n",
      "month      1162.287\n",
      "good       1142.561\n",
      "day        1135.706\n",
      "thing      1117.808\n",
      "pay        1074.010\n",
      "Name: 6, dtype: float64\n",
      "----------\n",
      "For topic 7, here are the the top 20 words with weights:\n",
      "tell      3903.146\n",
      "know      2741.114\n",
      "say       2583.175\n",
      "want      2176.224\n",
      "mom       1987.111\n",
      "help      1955.897\n",
      "go        1936.395\n",
      "get       1757.700\n",
      "ask       1623.636\n",
      "need      1564.029\n",
      "family    1562.808\n",
      "talk      1396.019\n",
      "parent    1362.127\n",
      "year      1255.586\n",
      "leave     1248.704\n",
      "dad       1241.111\n",
      "think     1215.897\n",
      "time      1151.473\n",
      "try       1129.786\n",
      "mother     984.111\n",
      "Name: 7, dtype: float64\n",
      "----------\n",
      "For topic 8, here are the the top 20 words with weights:\n",
      "feel         21914.714\n",
      "like         13603.352\n",
      "know          4574.545\n",
      "want          3863.913\n",
      "thing         3243.783\n",
      "think         2883.638\n",
      "time          2332.794\n",
      "bad           2303.777\n",
      "feeling       2025.842\n",
      "try           1892.556\n",
      "make          1668.276\n",
      "people        1595.390\n",
      "go            1495.894\n",
      "life          1486.668\n",
      "depressed     1444.230\n",
      "happy         1437.263\n",
      "thought       1429.157\n",
      "way           1386.495\n",
      "well          1344.209\n",
      "hard          1332.916\n",
      "Name: 8, dtype: float64\n"
     ]
    }
   ],
   "source": [
    "print_topics(lda_model, vectorizer, 20)\n"
   ]
  },
  {
   "cell_type": "code",
   "execution_count": null,
   "id": "b20d0e39",
   "metadata": {},
   "outputs": [],
   "source": []
  }
 ],
 "metadata": {
  "kernelspec": {
   "display_name": "stress_sense",
   "language": "python",
   "name": "python3"
  },
  "language_info": {
   "codemirror_mode": {
    "name": "ipython",
    "version": 3
   },
   "file_extension": ".py",
   "mimetype": "text/x-python",
   "name": "python",
   "nbconvert_exporter": "python",
   "pygments_lexer": "ipython3",
   "version": "3.10.6"
  }
 },
 "nbformat": 4,
 "nbformat_minor": 5
}
